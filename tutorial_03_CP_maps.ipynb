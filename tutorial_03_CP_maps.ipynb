{
 "cells": [
  {
   "cell_type": "markdown",
   "id": "2bbde3d9",
   "metadata": {},
   "source": [
    "# Integrating a tensor network over Gaussian tensors.\n",
    "First, et's calculate $\\mathbb E [\\langle \\omega_k |\\operatorname{Tr}_{\\mathbb C^\\ell}[(G \\otimes \\bar G) |\\omega_m \\rangle \\langle \\omega_m|(G^* \\otimes G^T)] |\\omega_k \\rangle]$.\n",
    "Here, $G$ is a $k\\ell \\times m$ complex Gaussian matrix and $ |\\omega_d \\rangle$ is nunormalized maximally entangled vector: $\\sum_{i=1}^d |i \\rangle |i\\rangle$. Next, we learn how to treate it reagarding $G$ as a tensor."
   ]
  },
  {
   "cell_type": "code",
   "execution_count": 1,
   "id": "0cb734db",
   "metadata": {},
   "outputs": [],
   "source": [
    "import rtni2 as rtni\n",
    "from sympy import symbols"
   ]
  },
  {
   "cell_type": "code",
   "execution_count": 2,
   "id": "3f291eda",
   "metadata": {},
   "outputs": [],
   "source": [
    "# Set the dimension.\n",
    "k, l, m = symbols(['k', 'l', 'm'])"
   ]
  },
  {
   "cell_type": "code",
   "execution_count": 3,
   "id": "54062d3f",
   "metadata": {},
   "outputs": [],
   "source": [
    "# Define matrices.\n",
    "g = rtni.matrix(name='g', dims=[[k, l],[m]])\n",
    "g_conjugate = g.clone(); g_conjugate.conjugate()\n",
    "g_adjoint = g.clone(); g_adjoint.adjoint()\n",
    "g_transpose = g.clone(); g_transpose.transpose()"
   ]
  },
  {
   "cell_type": "code",
   "execution_count": 4,
   "id": "2a00935d",
   "metadata": {},
   "outputs": [
    {
     "name": "stdout",
     "output_type": "stream",
     "text": [
      "Connected.\n",
      "Connected.\n",
      "Connected.\n",
      "Connected.\n",
      "Connected.\n",
      "Connected.\n"
     ]
    }
   ],
   "source": [
    "# Connect them.\n",
    "# k-dimensional spaces.\n",
    "g.out(0) * g_conjugate.out(0)\n",
    "g_adjoint.inn(0) * g_transpose.inn(0)\n",
    "\n",
    "# l-dimentional spaces.\n",
    "g.out(1) * g_adjoint.inn(1)\n",
    "g_conjugate.out(1) * g_transpose.inn(1) \n",
    "\n",
    "# m-dimensional spaces. \n",
    "g.inn(0) * g_conjugate.inn(0)\n",
    "g_adjoint.out(0) * g_transpose.out(0)"
   ]
  },
  {
   "cell_type": "code",
   "execution_count": 5,
   "id": "84dbc2cc",
   "metadata": {},
   "outputs": [
    {
     "name": "stdout",
     "output_type": "stream",
     "text": [
      "tensor g clone 0 has been added.\n",
      "tensor g clone 2 has been added.\n",
      "tensor g clone 1 has been added.\n",
      "tensor g clone 3 has been added.\n",
      "Weight:\n"
     ]
    },
    {
     "data": {
      "text/plain": [
       "1"
      ]
     },
     "metadata": {},
     "output_type": "display_data"
    },
    {
     "name": "stdout",
     "output_type": "stream",
     "text": [
      "\n",
      "Edges:\n",
      "{'tensor_name': 'g', 'tensor_id': 0, 'tensor_nickname': 'g_0', 'space_id': 0, 'dim': k, 'is_dangling_end': False, 'side_original': 'out', 'side_space_id': 0}\n",
      "<->\n",
      "{'tensor_name': 'g', 'tensor_id': 1, 'tensor_nickname': 'g_1', 'space_id': 0, 'dim': k, 'is_dangling_end': False, 'side_original': 'out', 'side_space_id': 0}\n",
      "\n",
      "{'tensor_name': 'g', 'tensor_id': 0, 'tensor_nickname': 'g_0', 'space_id': 1, 'dim': l, 'is_dangling_end': False, 'side_original': 'out', 'side_space_id': 1}\n",
      "<->\n",
      "{'tensor_name': 'g', 'tensor_id': 2, 'tensor_nickname': 'g_2', 'space_id': 1, 'dim': l, 'is_dangling_end': False, 'side_original': 'out', 'side_space_id': 1}\n",
      "\n",
      "{'tensor_name': 'g', 'tensor_id': 0, 'tensor_nickname': 'g_0', 'space_id': 2, 'dim': m, 'is_dangling_end': False, 'side_original': 'in', 'side_space_id': 0}\n",
      "<->\n",
      "{'tensor_name': 'g', 'tensor_id': 1, 'tensor_nickname': 'g_1', 'space_id': 2, 'dim': m, 'is_dangling_end': False, 'side_original': 'in', 'side_space_id': 0}\n",
      "\n",
      "{'tensor_name': 'g', 'tensor_id': 2, 'tensor_nickname': 'g_2', 'space_id': 0, 'dim': k, 'is_dangling_end': False, 'side_original': 'out', 'side_space_id': 0}\n",
      "<->\n",
      "{'tensor_name': 'g', 'tensor_id': 3, 'tensor_nickname': 'g_3', 'space_id': 0, 'dim': k, 'is_dangling_end': False, 'side_original': 'out', 'side_space_id': 0}\n",
      "\n",
      "{'tensor_name': 'g', 'tensor_id': 2, 'tensor_nickname': 'g_2', 'space_id': 2, 'dim': m, 'is_dangling_end': False, 'side_original': 'in', 'side_space_id': 0}\n",
      "<->\n",
      "{'tensor_name': 'g', 'tensor_id': 3, 'tensor_nickname': 'g_3', 'space_id': 2, 'dim': m, 'is_dangling_end': False, 'side_original': 'in', 'side_space_id': 0}\n",
      "\n",
      "{'tensor_name': 'g', 'tensor_id': 1, 'tensor_nickname': 'g_1', 'space_id': 1, 'dim': l, 'is_dangling_end': False, 'side_original': 'out', 'side_space_id': 1}\n",
      "<->\n",
      "{'tensor_name': 'g', 'tensor_id': 3, 'tensor_nickname': 'g_3', 'space_id': 1, 'dim': l, 'is_dangling_end': False, 'side_original': 'out', 'side_space_id': 1}\n",
      "\n",
      "\n"
     ]
    }
   ],
   "source": [
    "# Set up the system with $G$ being regarded as a matrix.\n",
    "tensor_networks = rtni.tensornetworks([g, g_adjoint, g_conjugate, g_transpose])\n",
    "tensor_networks.show()"
   ]
  },
  {
   "cell_type": "code",
   "execution_count": 6,
   "id": "ee99f3db",
   "metadata": {},
   "outputs": [
    {
     "name": "stdout",
     "output_type": "stream",
     "text": [
      "Integrated. We now have 2 tensor networks.\n",
      "\n",
      "History of tensor network.\n",
      "[{'random_tensor_name': 'g', 'random_tensor_type': 'complex_gaussian', 'is_complex': True, 'is_group': False, 'dims_tensor': (k, l, m), 'size': 2, 'loops': [{'tensor_name': 'g', 'tensor_id': 0, 'tensor_nickname': 'g_0', 'space_id': 1, 'dim': l, 'is_dangling_end': False, 'side_original': 'out', 'side_space_id': 1}, {'tensor_name': 'g', 'tensor_id': 3, 'tensor_nickname': 'g_3', 'space_id': 0, 'dim': k, 'is_dangling_end': False, 'side_original': 'out', 'side_space_id': 0}, {'tensor_name': 'g', 'tensor_id': 3, 'tensor_nickname': 'g_3', 'space_id': 1, 'dim': l, 'is_dangling_end': False, 'side_original': 'out', 'side_space_id': 1}, {'tensor_name': 'g', 'tensor_id': 3, 'tensor_nickname': 'g_3', 'space_id': 2, 'dim': m, 'is_dangling_end': False, 'side_original': 'in', 'side_space_id': 0}], 'pairs': [(0, 0), (1, 1)], 'yd': None}]\n",
      "\n",
      "Weight:\n"
     ]
    },
    {
     "data": {
      "text/latex": [
       "$\\displaystyle k l^{2} m$"
      ],
      "text/plain": [
       "k*l**2*m"
      ]
     },
     "metadata": {},
     "output_type": "display_data"
    },
    {
     "name": "stdout",
     "output_type": "stream",
     "text": [
      "\n",
      "Edges:\n",
      "\n",
      "History of tensor network.\n",
      "[{'random_tensor_name': 'g', 'random_tensor_type': 'complex_gaussian', 'is_complex': True, 'is_group': False, 'dims_tensor': (k, l, m), 'size': 2, 'loops': [{'tensor_name': 'g', 'tensor_id': 0, 'tensor_nickname': 'g_0', 'space_id': 0, 'dim': k, 'is_dangling_end': False, 'side_original': 'out', 'side_space_id': 0}, {'tensor_name': 'g', 'tensor_id': 0, 'tensor_nickname': 'g_0', 'space_id': 2, 'dim': m, 'is_dangling_end': False, 'side_original': 'in', 'side_space_id': 0}, {'tensor_name': 'g', 'tensor_id': 3, 'tensor_nickname': 'g_3', 'space_id': 0, 'dim': k, 'is_dangling_end': False, 'side_original': 'out', 'side_space_id': 0}, {'tensor_name': 'g', 'tensor_id': 3, 'tensor_nickname': 'g_3', 'space_id': 1, 'dim': l, 'is_dangling_end': False, 'side_original': 'out', 'side_space_id': 1}, {'tensor_name': 'g', 'tensor_id': 3, 'tensor_nickname': 'g_3', 'space_id': 2, 'dim': m, 'is_dangling_end': False, 'side_original': 'in', 'side_space_id': 0}], 'pairs': [(0, 1), (1, 0)], 'yd': None}]\n",
      "\n",
      "Weight:\n"
     ]
    },
    {
     "data": {
      "text/latex": [
       "$\\displaystyle k^{2} l m^{2}$"
      ],
      "text/plain": [
       "k**2*l*m**2"
      ]
     },
     "metadata": {},
     "output_type": "display_data"
    },
    {
     "name": "stdout",
     "output_type": "stream",
     "text": [
      "\n",
      "Edges:\n",
      "\n"
     ]
    }
   ],
   "source": [
    "tensor_networks.integrate('g', 'complex_gaussian')\n",
    "tensor_networks.show(detail=True)"
   ]
  },
  {
   "cell_type": "markdown",
   "id": "8f18d4ee",
   "metadata": {},
   "source": [
    "## Now we will do the same calculation by using tensor input. \n",
    "Assign space numbers 0, 1, 2 to $k$ to $\\ell$, $m$, respectively; it was 1, 2, 3 in the paper. "
   ]
  },
  {
   "cell_type": "code",
   "execution_count": 7,
   "id": "f7f21bea",
   "metadata": {},
   "outputs": [],
   "source": [
    "# Define tensors. Remamber that transpose() and adjoint() are not consistent with tensors. \n",
    "g1 = rtni.tensor(name='g', dims=[k, l, m])\n",
    "g1_conjugate = g1.clone(); g1_conjugate.conjugate()\n",
    "g2 = g1.clone()\n",
    "g2_conjugate = g1.clone(); g2_conjugate.conjugate()"
   ]
  },
  {
   "cell_type": "code",
   "execution_count": 8,
   "id": "2ba25369",
   "metadata": {},
   "outputs": [
    {
     "name": "stdout",
     "output_type": "stream",
     "text": [
      "Connected.\n",
      "Connected.\n",
      "Connected.\n",
      "Connected.\n",
      "Connected.\n",
      "Connected.\n"
     ]
    }
   ],
   "source": [
    "# Connect them.\n",
    "# k-dim spaces.\n",
    "g1(0) * g2_conjugate(0)\n",
    "g1_conjugate(0) * g2(0)\n",
    "\n",
    "# l-dim spaces.\n",
    "g1(1) * g1_conjugate(1)\n",
    "g2_conjugate(1) * g2(1) \n",
    "\n",
    "# m-dim spaces. \n",
    "g1(2) * g2_conjugate(2)\n",
    "g1_conjugate(2) * g2(2)"
   ]
  },
  {
   "cell_type": "code",
   "execution_count": 9,
   "id": "326536a2",
   "metadata": {},
   "outputs": [
    {
     "name": "stdout",
     "output_type": "stream",
     "text": [
      "tensor g clone 0 has been added.\n",
      "tensor g clone 1 has been added.\n",
      "tensor g clone 2 has been added.\n",
      "tensor g clone 3 has been added.\n",
      "Weight:\n"
     ]
    },
    {
     "data": {
      "text/plain": [
       "1"
      ]
     },
     "metadata": {},
     "output_type": "display_data"
    },
    {
     "name": "stdout",
     "output_type": "stream",
     "text": [
      "\n",
      "Edges:\n",
      "{'tensor_name': 'g', 'tensor_id': 0, 'tensor_nickname': 'g_0', 'space_id': 0, 'dim': k, 'is_dangling_end': False}\n",
      "<->\n",
      "{'tensor_name': 'g', 'tensor_id': 3, 'tensor_nickname': 'g_3', 'space_id': 0, 'dim': k, 'is_dangling_end': False}\n",
      "\n",
      "{'tensor_name': 'g', 'tensor_id': 0, 'tensor_nickname': 'g_0', 'space_id': 1, 'dim': l, 'is_dangling_end': False}\n",
      "<->\n",
      "{'tensor_name': 'g', 'tensor_id': 1, 'tensor_nickname': 'g_1', 'space_id': 1, 'dim': l, 'is_dangling_end': False}\n",
      "\n",
      "{'tensor_name': 'g', 'tensor_id': 0, 'tensor_nickname': 'g_0', 'space_id': 2, 'dim': m, 'is_dangling_end': False}\n",
      "<->\n",
      "{'tensor_name': 'g', 'tensor_id': 3, 'tensor_nickname': 'g_3', 'space_id': 2, 'dim': m, 'is_dangling_end': False}\n",
      "\n",
      "{'tensor_name': 'g', 'tensor_id': 1, 'tensor_nickname': 'g_1', 'space_id': 0, 'dim': k, 'is_dangling_end': False}\n",
      "<->\n",
      "{'tensor_name': 'g', 'tensor_id': 2, 'tensor_nickname': 'g_2', 'space_id': 0, 'dim': k, 'is_dangling_end': False}\n",
      "\n",
      "{'tensor_name': 'g', 'tensor_id': 1, 'tensor_nickname': 'g_1', 'space_id': 2, 'dim': m, 'is_dangling_end': False}\n",
      "<->\n",
      "{'tensor_name': 'g', 'tensor_id': 2, 'tensor_nickname': 'g_2', 'space_id': 2, 'dim': m, 'is_dangling_end': False}\n",
      "\n",
      "{'tensor_name': 'g', 'tensor_id': 2, 'tensor_nickname': 'g_2', 'space_id': 1, 'dim': l, 'is_dangling_end': False}\n",
      "<->\n",
      "{'tensor_name': 'g', 'tensor_id': 3, 'tensor_nickname': 'g_3', 'space_id': 1, 'dim': l, 'is_dangling_end': False}\n",
      "\n",
      "\n"
     ]
    }
   ],
   "source": [
    "# Set up the system.\n",
    "tensor_networks = rtni.tensornetworks([g1,g1_conjugate, g2, g2_conjugate])\n",
    "tensor_networks.show()"
   ]
  },
  {
   "cell_type": "code",
   "execution_count": 10,
   "id": "ca8d5b60",
   "metadata": {},
   "outputs": [
    {
     "name": "stdout",
     "output_type": "stream",
     "text": [
      "Integrated. We now have 2 tensor networks.\n",
      "\n",
      "History of tensor network.\n",
      "[{'random_tensor_name': 'g', 'random_tensor_type': 'complex_gaussian', 'is_complex': True, 'is_group': False, 'dims_tensor': (k, l, m), 'size': 2, 'loops': [{'tensor_name': 'g', 'tensor_id': 0, 'tensor_nickname': 'g_0', 'space_id': 1, 'dim': l, 'is_dangling_end': False}, {'tensor_name': 'g', 'tensor_id': 2, 'tensor_nickname': 'g_2', 'space_id': 0, 'dim': k, 'is_dangling_end': False}, {'tensor_name': 'g', 'tensor_id': 2, 'tensor_nickname': 'g_2', 'space_id': 1, 'dim': l, 'is_dangling_end': False}, {'tensor_name': 'g', 'tensor_id': 2, 'tensor_nickname': 'g_2', 'space_id': 2, 'dim': m, 'is_dangling_end': False}], 'pairs': [(0, 0), (1, 1)], 'yd': None}]\n",
      "\n",
      "Weight:\n"
     ]
    },
    {
     "data": {
      "text/latex": [
       "$\\displaystyle k l^{2} m$"
      ],
      "text/plain": [
       "k*l**2*m"
      ]
     },
     "metadata": {},
     "output_type": "display_data"
    },
    {
     "name": "stdout",
     "output_type": "stream",
     "text": [
      "\n",
      "Edges:\n",
      "\n",
      "History of tensor network.\n",
      "[{'random_tensor_name': 'g', 'random_tensor_type': 'complex_gaussian', 'is_complex': True, 'is_group': False, 'dims_tensor': (k, l, m), 'size': 2, 'loops': [{'tensor_name': 'g', 'tensor_id': 0, 'tensor_nickname': 'g_0', 'space_id': 0, 'dim': k, 'is_dangling_end': False}, {'tensor_name': 'g', 'tensor_id': 0, 'tensor_nickname': 'g_0', 'space_id': 2, 'dim': m, 'is_dangling_end': False}, {'tensor_name': 'g', 'tensor_id': 2, 'tensor_nickname': 'g_2', 'space_id': 0, 'dim': k, 'is_dangling_end': False}, {'tensor_name': 'g', 'tensor_id': 2, 'tensor_nickname': 'g_2', 'space_id': 1, 'dim': l, 'is_dangling_end': False}, {'tensor_name': 'g', 'tensor_id': 2, 'tensor_nickname': 'g_2', 'space_id': 2, 'dim': m, 'is_dangling_end': False}], 'pairs': [(0, 1), (1, 0)], 'yd': None}]\n",
      "\n",
      "Weight:\n"
     ]
    },
    {
     "data": {
      "text/latex": [
       "$\\displaystyle k^{2} l m^{2}$"
      ],
      "text/plain": [
       "k**2*l*m**2"
      ]
     },
     "metadata": {},
     "output_type": "display_data"
    },
    {
     "name": "stdout",
     "output_type": "stream",
     "text": [
      "\n",
      "Edges:\n",
      "\n"
     ]
    }
   ],
   "source": [
    "tensor_networks.integrate('g', 'complex_gaussian')\n",
    "tensor_networks.show(detail=True)"
   ]
  },
  {
   "cell_type": "code",
   "execution_count": null,
   "id": "0ed500d8",
   "metadata": {},
   "outputs": [],
   "source": []
  }
 ],
 "metadata": {
  "kernelspec": {
   "display_name": "Python 3 (ipykernel)",
   "language": "python",
   "name": "python3"
  },
  "language_info": {
   "codemirror_mode": {
    "name": "ipython",
    "version": 3
   },
   "file_extension": ".py",
   "mimetype": "text/x-python",
   "name": "python",
   "nbconvert_exporter": "python",
   "pygments_lexer": "ipython3",
   "version": "3.11.5"
  }
 },
 "nbformat": 4,
 "nbformat_minor": 5
}
