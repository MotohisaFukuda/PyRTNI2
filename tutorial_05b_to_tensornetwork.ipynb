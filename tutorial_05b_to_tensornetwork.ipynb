{
 "cells": [
  {
   "cell_type": "markdown",
   "id": "9a9c78bf",
   "metadata": {},
   "source": [
    "# Translating from RTNI2 to TensorNetwork.\n",
    "\n",
    "Let's use the integral $\\mathbb E[MAM^*AMBM^*]$ for $M$ being the $2 \\times 2$ random unitary matrix. For this tutorial [TensorNetwork](https://github.com/google/TensorNetwork) must be installed; during the installation, <code>graphviz</code> should be insalled for visualization. Note that functions starting with <code>tn.</code> are offered by TensorNetwork. "
   ]
  },
  {
   "cell_type": "code",
   "execution_count": 1,
   "id": "0cb734db",
   "metadata": {},
   "outputs": [],
   "source": [
    "import rtni2 as rtni\n",
    "from sympy import symbols\n",
    "import numpy as np\n",
    "\n",
    "# importing functions from TensorNetwork.\n",
    "import tensornetwork as tn"
   ]
  },
  {
   "cell_type": "code",
   "execution_count": 2,
   "id": "3f291eda",
   "metadata": {},
   "outputs": [],
   "source": [
    "# Set the dimension.\n",
    "d = symbols('d')"
   ]
  },
  {
   "cell_type": "code",
   "execution_count": 3,
   "id": "54062d3f",
   "metadata": {},
   "outputs": [],
   "source": [
    "# Define matrices.\n",
    "m1 = rtni.matrix(name='m', dims=[[d],[d]], nickname='munich')\n",
    "m2 = m1.clone(nickname='montreal')\n",
    "ma1 = m1.clone(nickname='milan'); ma1.adjoint()\n",
    "# No nickname. \n",
    "ma2 = m1.clone(); ma2.adjoint()\n",
    "\n",
    "a1 = rtni.matrix(name='a', dims=[[d],[d]], nickname='atlanta')\n",
    "a2 = a1.clone(nickname='amsterdam')\n",
    "# No nickname. \n",
    "b = rtni.matrix(name='b', dims=[[d],[d]])"
   ]
  },
  {
   "cell_type": "code",
   "execution_count": 4,
   "id": "11c72f29",
   "metadata": {},
   "outputs": [
    {
     "name": "stdout",
     "output_type": "stream",
     "text": [
      "Connected.\n",
      "Connected.\n",
      "Connected.\n",
      "Connected.\n",
      "Connected.\n",
      "Connected.\n"
     ]
    }
   ],
   "source": [
    "# Connect them.\n",
    "m1.inn(0) * a1.out(0)\n",
    "a1.inn(0) * ma1.out(0)\n",
    "ma1.inn(0) * a2.out(0)\n",
    "a2.inn(0) * m2.out(0)\n",
    "m2.inn(0) * b.out(0)\n",
    "b.inn(0) * ma2.out(0)"
   ]
  },
  {
   "cell_type": "code",
   "execution_count": 5,
   "id": "2c626bb8",
   "metadata": {},
   "outputs": [
    {
     "name": "stdout",
     "output_type": "stream",
     "text": [
      "tensor a clone 0 has been added.\n",
      "tensor a clone 1 has been added.\n",
      "tensor b clone 0 has been added.\n",
      "tensor m clone 0 has been added.\n",
      "tensor m clone 1 has been added.\n",
      "tensor m clone 2 has been added.\n",
      "tensor m clone 3 has been added.\n"
     ]
    }
   ],
   "source": [
    "# Set the system.\n",
    "tensor_networks = rtni.tensornetworks([a1, a2, b, m1, m2, ma1, ma2])\n",
    "# tensor_networks.show(counting=True)"
   ]
  },
  {
   "cell_type": "code",
   "execution_count": 6,
   "id": "54ed6623",
   "metadata": {},
   "outputs": [
    {
     "name": "stdout",
     "output_type": "stream",
     "text": [
      "Integrated. We now have 4 tensor networks.\n",
      "\n"
     ]
    }
   ],
   "source": [
    "# integrate over the unitary matrix. \n",
    "tensor_networks.integrate('m', 'unitary')\n",
    "# tensor_networks.show()"
   ]
  },
  {
   "cell_type": "markdown",
   "id": "ff5d6b69",
   "metadata": {},
   "source": [
    "## Pick one of the four tensor networks. \n",
    "They are numbered as 0, 1, 2, 3 with Python. "
   ]
  },
  {
   "cell_type": "code",
   "execution_count": 7,
   "id": "d746c887",
   "metadata": {},
   "outputs": [],
   "source": [
    "# make a copy so that one can start from here again. \n",
    "# We pick the second one.\n",
    "import copy\n",
    "tensornetwork = copy.deepcopy(tensor_networks[1])"
   ]
  },
  {
   "cell_type": "markdown",
   "id": "a53ab871",
   "metadata": {},
   "source": [
    "## Calculate the weight, separately."
   ]
  },
  {
   "cell_type": "code",
   "execution_count": 8,
   "id": "b2aae52f",
   "metadata": {},
   "outputs": [
    {
     "data": {
      "text/latex": [
       "$\\displaystyle - \\frac{1}{6}$"
      ],
      "text/plain": [
       "-1/6"
      ]
     },
     "execution_count": 8,
     "metadata": {},
     "output_type": "execute_result"
    }
   ],
   "source": [
    "dim = 2\n",
    "tensornetwork.weight(dim_symbols_dict={d:dim})"
   ]
  },
  {
   "cell_type": "markdown",
   "id": "b635575c",
   "metadata": {},
   "source": [
    "## Translate from RTNI2 to TensorNetwork, and get the relevant dictionary data."
   ]
  },
  {
   "cell_type": "code",
   "execution_count": 9,
   "id": "d1ae0280",
   "metadata": {
    "scrolled": true
   },
   "outputs": [
    {
     "name": "stdout",
     "output_type": "stream",
     "text": [
      "name: a\n"
     ]
    },
    {
     "data": {
      "text/plain": [
       "{0: Node\n",
       " (\n",
       " name : 'a_0',\n",
       " tensor : \n",
       " array([[5.e-324]]),\n",
       " edges : \n",
       " [\n",
       " Edge('a_0'[0] -> 'b_0'[1] )\n",
       " , \n",
       " Edge('a_0'[1] -> 'b_0'[0] )\n",
       " ] \n",
       " ),\n",
       " 1: Node\n",
       " (\n",
       " name : 'a_1',\n",
       " tensor : \n",
       " array([[0.]]),\n",
       " edges : \n",
       " [\n",
       " Edge('a_1'[0] -> 'dg_m_0_0'[0] )\n",
       " , \n",
       " Edge('a_1'[1] -> 'dg_m_3_0'[0] )\n",
       " ] \n",
       " )}"
      ]
     },
     "metadata": {},
     "output_type": "display_data"
    },
    {
     "name": "stdout",
     "output_type": "stream",
     "text": [
      "\n",
      "name: b\n"
     ]
    },
    {
     "data": {
      "text/plain": [
       "{0: Node\n",
       " (\n",
       " name : 'b_0',\n",
       " tensor : \n",
       " array([[4.66729e-310]]),\n",
       " edges : \n",
       " [\n",
       " Edge('a_0'[1] -> 'b_0'[0] )\n",
       " , \n",
       " Edge('a_0'[0] -> 'b_0'[1] )\n",
       " ] \n",
       " )}"
      ]
     },
     "metadata": {},
     "output_type": "display_data"
    },
    {
     "name": "stdout",
     "output_type": "stream",
     "text": [
      "\n",
      "name: dg_m\n"
     ]
    },
    {
     "data": {
      "text/plain": [
       "{0: {0: Node\n",
       "  (\n",
       "  name : 'dg_m_0_0',\n",
       "  tensor : \n",
       "  array([4.66728993e-310]),\n",
       "  edges : \n",
       "  [\n",
       "  Edge('a_1'[0] -> 'dg_m_0_0'[0] )\n",
       "  ] \n",
       "  )},\n",
       " 3: {0: Node\n",
       "  (\n",
       "  name : 'dg_m_3_0',\n",
       "  tensor : \n",
       "  array([4.66728994e-310]),\n",
       "  edges : \n",
       "  [\n",
       "  Edge('a_1'[1] -> 'dg_m_3_0'[0] )\n",
       "  ] \n",
       "  )}}"
      ]
     },
     "metadata": {},
     "output_type": "display_data"
    },
    {
     "name": "stdout",
     "output_type": "stream",
     "text": [
      "\n"
     ]
    }
   ],
   "source": [
    "# Translating from RTNI2 to TensorNetwork.\n",
    "tensornetwork_tn = tensornetwork.to_tn()\n",
    "\n",
    "# Getting the dictionary of nodes of TensorNetwork. \n",
    "nodes_dict = tensornetwork_tn.get_tns()\n",
    "\n",
    "# Data is classified with respect to the names. \n",
    "# At this satge, each node has the edge data while the array is np.empty().\n",
    "for name, data_all in nodes_dict.items():\n",
    "    print('name:', name)\n",
    "    display(data_all)\n",
    "    print()"
   ]
  },
  {
   "cell_type": "markdown",
   "id": "1af52404",
   "metadata": {},
   "source": [
    "## Assign concrete tensors to the nodes by TensorNetwork. "
   ]
  },
  {
   "cell_type": "code",
   "execution_count": 10,
   "id": "0d74ac33",
   "metadata": {},
   "outputs": [],
   "source": [
    "# The assignment can be done via such a dictionary as below. \n",
    "tensornetwork_tn.subs({'a': np.array([[1,2],[3,4]]), 'b': np.array([[11,12],[13,14]])})"
   ]
  },
  {
   "cell_type": "code",
   "execution_count": 11,
   "id": "285f7ad3",
   "metadata": {
    "scrolled": true
   },
   "outputs": [
    {
     "name": "stdout",
     "output_type": "stream",
     "text": [
      "a\n"
     ]
    },
    {
     "data": {
      "text/plain": [
       "{0: Node\n",
       " (\n",
       " name : 'a_0',\n",
       " tensor : \n",
       " array([[1, 2],\n",
       "        [3, 4]]),\n",
       " edges : \n",
       " [\n",
       " Edge('a_0'[0] -> 'b_0'[1] )\n",
       " , \n",
       " Edge('a_0'[1] -> 'b_0'[0] )\n",
       " ] \n",
       " ),\n",
       " 1: Node\n",
       " (\n",
       " name : 'a_1',\n",
       " tensor : \n",
       " array([[1, 2],\n",
       "        [3, 4]]),\n",
       " edges : \n",
       " [\n",
       " Edge('a_1'[0] -> 'dg_m_0_0'[0] )\n",
       " , \n",
       " Edge('a_1'[1] -> 'dg_m_3_0'[0] )\n",
       " ] \n",
       " )}"
      ]
     },
     "metadata": {},
     "output_type": "display_data"
    },
    {
     "name": "stdout",
     "output_type": "stream",
     "text": [
      "\n",
      "b\n"
     ]
    },
    {
     "data": {
      "text/plain": [
       "{0: Node\n",
       " (\n",
       " name : 'b_0',\n",
       " tensor : \n",
       " array([[11, 12],\n",
       "        [13, 14]]),\n",
       " edges : \n",
       " [\n",
       " Edge('a_0'[1] -> 'b_0'[0] )\n",
       " , \n",
       " Edge('a_0'[0] -> 'b_0'[1] )\n",
       " ] \n",
       " )}"
      ]
     },
     "metadata": {},
     "output_type": "display_data"
    },
    {
     "name": "stdout",
     "output_type": "stream",
     "text": [
      "\n",
      "dg_m\n"
     ]
    },
    {
     "data": {
      "text/plain": [
       "{0: {0: Node\n",
       "  (\n",
       "  name : 'dg_m_0_0',\n",
       "  tensor : \n",
       "  array([4.66728993e-310]),\n",
       "  edges : \n",
       "  [\n",
       "  Edge('a_1'[0] -> 'dg_m_0_0'[0] )\n",
       "  ] \n",
       "  )},\n",
       " 3: {0: Node\n",
       "  (\n",
       "  name : 'dg_m_3_0',\n",
       "  tensor : \n",
       "  array([4.66728994e-310]),\n",
       "  edges : \n",
       "  [\n",
       "  Edge('a_1'[1] -> 'dg_m_3_0'[0] )\n",
       "  ] \n",
       "  )}}"
      ]
     },
     "metadata": {},
     "output_type": "display_data"
    },
    {
     "name": "stdout",
     "output_type": "stream",
     "text": [
      "\n"
     ]
    }
   ],
   "source": [
    "# Let's see what are different now. \n",
    "nodes_dict = tensornetwork_tn.get_tns()\n",
    "\n",
    "for name, data_all in nodes_dict.items():\n",
    "    print(name)\n",
    "    display(data_all)\n",
    "    print()"
   ]
  },
  {
   "cell_type": "markdown",
   "id": "af93a9f7",
   "metadata": {},
   "source": [
    "## If graphviz is successfully installed, one can see the tensor network graphically."
   ]
  },
  {
   "cell_type": "code",
   "execution_count": 12,
   "id": "0bfa9c04",
   "metadata": {},
   "outputs": [
    {
     "data": {
      "image/svg+xml": [
       "<?xml version=\"1.0\" encoding=\"UTF-8\" standalone=\"no\"?>\n",
       "<!DOCTYPE svg PUBLIC \"-//W3C//DTD SVG 1.1//EN\"\n",
       " \"http://www.w3.org/Graphics/SVG/1.1/DTD/svg11.dtd\">\n",
       "<!-- Generated by graphviz version 8.1.0 (20230707.2238)\n",
       " -->\n",
       "<!-- Title: G Pages: 1 -->\n",
       "<svg width=\"280pt\" height=\"170pt\"\n",
       " viewBox=\"0.00 0.00 279.85 169.63\" xmlns=\"http://www.w3.org/2000/svg\" xmlns:xlink=\"http://www.w3.org/1999/xlink\">\n",
       "<g id=\"graph0\" class=\"graph\" transform=\"scale(1 1) rotate(0) translate(4 165.63)\">\n",
       "<title>G</title>\n",
       "<polygon fill=\"white\" stroke=\"none\" points=\"-4,4 -4,-165.63 275.85,-165.63 275.85,4 -4,4\"/>\n",
       "<!-- 140697424548304 -->\n",
       "<g id=\"node1\" class=\"node\">\n",
       "<title>140697424548304</title>\n",
       "<ellipse fill=\"none\" stroke=\"black\" cx=\"172.06\" cy=\"-76.64\" rx=\"28.06\" ry=\"18\"/>\n",
       "<text text-anchor=\"middle\" x=\"172.06\" y=\"-71.96\" font-family=\"Times,serif\" font-size=\"14.00\">a_0</text>\n",
       "</g>\n",
       "<!-- 140697425216592 -->\n",
       "<g id=\"node3\" class=\"node\">\n",
       "<title>140697425216592</title>\n",
       "<ellipse fill=\"none\" stroke=\"black\" cx=\"243.27\" cy=\"-66\" rx=\"28.59\" ry=\"18\"/>\n",
       "<text text-anchor=\"middle\" x=\"243.27\" y=\"-61.33\" font-family=\"Times,serif\" font-size=\"14.00\">b_0</text>\n",
       "</g>\n",
       "<!-- 140697424548304&#45;&#45;140697425216592 -->\n",
       "<g id=\"edge1\" class=\"edge\">\n",
       "<title>140697424548304&#45;&#45;140697425216592</title>\n",
       "<path fill=\"none\" stroke=\"black\" d=\"M200.36,-79.07C206.67,-78.38 213.31,-77.35 219.42,-76.1\"/>\n",
       "</g>\n",
       "<!-- 140697424548304&#45;&#45;140697425216592 -->\n",
       "<g id=\"edge2\" class=\"edge\">\n",
       "<title>140697424548304&#45;&#45;140697425216592</title>\n",
       "<path fill=\"none\" stroke=\"black\" d=\"M195.61,-66.6C201.68,-65.35 208.27,-64.31 214.56,-63.61\"/>\n",
       "</g>\n",
       "<!-- 140698599956880 -->\n",
       "<g id=\"node2\" class=\"node\">\n",
       "<title>140698599956880</title>\n",
       "<ellipse fill=\"none\" stroke=\"black\" cx=\"84.11\" cy=\"-86.21\" rx=\"28.06\" ry=\"18\"/>\n",
       "<text text-anchor=\"middle\" x=\"84.11\" y=\"-81.53\" font-family=\"Times,serif\" font-size=\"14.00\">a_1</text>\n",
       "</g>\n",
       "<!-- 140697425217104 -->\n",
       "<g id=\"node4\" class=\"node\">\n",
       "<title>140697425217104</title>\n",
       "<ellipse fill=\"none\" stroke=\"black\" cx=\"128\" cy=\"-143.63\" rx=\"60.15\" ry=\"18\"/>\n",
       "<text text-anchor=\"middle\" x=\"128\" y=\"-138.95\" font-family=\"Times,serif\" font-size=\"14.00\">dg_m_0_0</text>\n",
       "</g>\n",
       "<!-- 140698599956880&#45;&#45;140697425217104 -->\n",
       "<g id=\"edge3\" class=\"edge\">\n",
       "<title>140698599956880&#45;&#45;140697425217104</title>\n",
       "<path fill=\"none\" stroke=\"black\" d=\"M96.57,-102.51C102.15,-109.8 108.73,-118.42 114.43,-125.88\"/>\n",
       "</g>\n",
       "<!-- 140697425217488 -->\n",
       "<g id=\"node5\" class=\"node\">\n",
       "<title>140697425217488</title>\n",
       "<ellipse fill=\"none\" stroke=\"black\" cx=\"60.15\" cy=\"-18\" rx=\"60.15\" ry=\"18\"/>\n",
       "<text text-anchor=\"middle\" x=\"60.15\" y=\"-13.32\" font-family=\"Times,serif\" font-size=\"14.00\">dg_m_3_0</text>\n",
       "</g>\n",
       "<!-- 140698599956880&#45;&#45;140697425217488 -->\n",
       "<g id=\"edge4\" class=\"edge\">\n",
       "<title>140698599956880&#45;&#45;140697425217488</title>\n",
       "<path fill=\"none\" stroke=\"black\" d=\"M77.81,-68.29C74.32,-58.34 69.99,-46 66.49,-36.04\"/>\n",
       "</g>\n",
       "</g>\n",
       "</svg>\n"
      ],
      "text/plain": [
       "<graphviz.graphs.Graph at 0x7ff6f2d73510>"
      ]
     },
     "metadata": {},
     "output_type": "display_data"
    }
   ],
   "source": [
    "nodes_list =tensornetwork_tn.get_tns_list()\n",
    "display(tn.to_graphviz(nodes_list))"
   ]
  },
  {
   "cell_type": "code",
   "execution_count": null,
   "id": "2e69a02d",
   "metadata": {},
   "outputs": [],
   "source": []
  },
  {
   "cell_type": "markdown",
   "id": "af2b6ded",
   "metadata": {},
   "source": [
    "## Re-tranlate it without explicit dangling edges. "
   ]
  },
  {
   "cell_type": "code",
   "execution_count": 13,
   "id": "54e6522a",
   "metadata": {
    "scrolled": true
   },
   "outputs": [
    {
     "name": "stdout",
     "output_type": "stream",
     "text": [
      "a\n"
     ]
    },
    {
     "data": {
      "text/plain": [
       "{0: Node\n",
       " (\n",
       " name : 'a_0',\n",
       " tensor : \n",
       " array([[1, 2],\n",
       "        [3, 4]]),\n",
       " edges : \n",
       " [\n",
       " Edge('a_0'[0] -> 'b_0'[1] )\n",
       " , \n",
       " Edge('a_0'[1] -> 'b_0'[0] )\n",
       " ] \n",
       " ),\n",
       " 1: Node\n",
       " (\n",
       " name : 'a_1',\n",
       " tensor : \n",
       " array([[1, 2],\n",
       "        [3, 4]]),\n",
       " edges : \n",
       " [\n",
       " Edge(Dangling Edge)[0] \n",
       " , \n",
       " Edge(Dangling Edge)[1] \n",
       " ] \n",
       " )}"
      ]
     },
     "metadata": {},
     "output_type": "display_data"
    },
    {
     "name": "stdout",
     "output_type": "stream",
     "text": [
      "\n",
      "b\n"
     ]
    },
    {
     "data": {
      "text/plain": [
       "{0: Node\n",
       " (\n",
       " name : 'b_0',\n",
       " tensor : \n",
       " array([[11, 12],\n",
       "        [13, 14]]),\n",
       " edges : \n",
       " [\n",
       " Edge('a_0'[1] -> 'b_0'[0] )\n",
       " , \n",
       " Edge('a_0'[0] -> 'b_0'[1] )\n",
       " ] \n",
       " )}"
      ]
     },
     "metadata": {},
     "output_type": "display_data"
    },
    {
     "name": "stdout",
     "output_type": "stream",
     "text": [
      "\n"
     ]
    }
   ],
   "source": [
    "tensornetwork_tn = tensornetwork.to_tn(include_danglings=False)\n",
    "tensornetwork_tn.subs({'a': np.array([[1,2],[3,4]]), 'b': np.array([[11,12],[13,14]])})\n",
    "nodes_dict = tensornetwork_tn.get_tns()\n",
    "for name, data_all in nodes_dict.items():\n",
    "    print(name)\n",
    "    display(data_all)\n",
    "    print()"
   ]
  },
  {
   "cell_type": "code",
   "execution_count": 14,
   "id": "4ffa1710",
   "metadata": {},
   "outputs": [
    {
     "data": {
      "image/svg+xml": [
       "<?xml version=\"1.0\" encoding=\"UTF-8\" standalone=\"no\"?>\n",
       "<!DOCTYPE svg PUBLIC \"-//W3C//DTD SVG 1.1//EN\"\n",
       " \"http://www.w3.org/Graphics/SVG/1.1/DTD/svg11.dtd\">\n",
       "<!-- Generated by graphviz version 8.1.0 (20230707.2238)\n",
       " -->\n",
       "<!-- Title: G Pages: 1 -->\n",
       "<svg width=\"248pt\" height=\"170pt\"\n",
       " viewBox=\"0.00 0.00 247.85 169.63\" xmlns=\"http://www.w3.org/2000/svg\" xmlns:xlink=\"http://www.w3.org/1999/xlink\">\n",
       "<g id=\"graph0\" class=\"graph\" transform=\"scale(1 1) rotate(0) translate(4 165.63)\">\n",
       "<title>G</title>\n",
       "<polygon fill=\"white\" stroke=\"none\" points=\"-4,4 -4,-165.63 243.85,-165.63 243.85,4 -4,4\"/>\n",
       "<!-- 140697425248656 -->\n",
       "<g id=\"node1\" class=\"node\">\n",
       "<title>140697425248656</title>\n",
       "<ellipse fill=\"none\" stroke=\"black\" cx=\"140.06\" cy=\"-70.64\" rx=\"28.06\" ry=\"18\"/>\n",
       "<text text-anchor=\"middle\" x=\"140.06\" y=\"-65.96\" font-family=\"Times,serif\" font-size=\"14.00\">a_0</text>\n",
       "</g>\n",
       "<!-- 140697425254480 -->\n",
       "<g id=\"node3\" class=\"node\">\n",
       "<title>140697425254480</title>\n",
       "<ellipse fill=\"none\" stroke=\"black\" cx=\"211.27\" cy=\"-60\" rx=\"28.59\" ry=\"18\"/>\n",
       "<text text-anchor=\"middle\" x=\"211.27\" y=\"-55.33\" font-family=\"Times,serif\" font-size=\"14.00\">b_0</text>\n",
       "</g>\n",
       "<!-- 140697425248656&#45;&#45;140697425254480 -->\n",
       "<g id=\"edge1\" class=\"edge\">\n",
       "<title>140697425248656&#45;&#45;140697425254480</title>\n",
       "<path fill=\"none\" stroke=\"black\" d=\"M168.36,-73.07C174.67,-72.38 181.31,-71.35 187.42,-70.1\"/>\n",
       "</g>\n",
       "<!-- 140697425248656&#45;&#45;140697425254480 -->\n",
       "<g id=\"edge2\" class=\"edge\">\n",
       "<title>140697425248656&#45;&#45;140697425254480</title>\n",
       "<path fill=\"none\" stroke=\"black\" d=\"M163.61,-60.6C169.68,-59.35 176.27,-58.31 182.56,-57.61\"/>\n",
       "</g>\n",
       "<!-- 140697425253776 -->\n",
       "<g id=\"node2\" class=\"node\">\n",
       "<title>140697425253776</title>\n",
       "<ellipse fill=\"none\" stroke=\"black\" cx=\"50.96\" cy=\"-86.21\" rx=\"28.06\" ry=\"18\"/>\n",
       "<text text-anchor=\"middle\" x=\"50.96\" y=\"-81.53\" font-family=\"Times,serif\" font-size=\"14.00\">a_1</text>\n",
       "</g>\n",
       "<!-- 140697425253776_0 -->\n",
       "<!-- 140697425253776_0&#45;&#45;140697425253776 -->\n",
       "<g id=\"edge3\" class=\"edge\">\n",
       "<title>140697425253776_0&#45;&#45;140697425253776</title>\n",
       "<path fill=\"none\" stroke=\"black\" d=\"M82.39,-127.33C76.51,-119.63 69.51,-110.47 63.6,-102.75\"/>\n",
       "</g>\n",
       "<!-- 140697425253776_1 -->\n",
       "<!-- 140697425253776_1&#45;&#45;140697425253776 -->\n",
       "<g id=\"edge4\" class=\"edge\">\n",
       "<title>140697425253776_1&#45;&#45;140697425253776</title>\n",
       "<path fill=\"none\" stroke=\"black\" d=\"M33.29,-35.92C36.79,-45.87 41.12,-58.2 44.62,-68.17\"/>\n",
       "</g>\n",
       "</g>\n",
       "</svg>\n"
      ],
      "text/plain": [
       "<graphviz.graphs.Graph at 0x7ff6ac0d2790>"
      ]
     },
     "metadata": {},
     "output_type": "display_data"
    }
   ],
   "source": [
    "# Again, if graphviz is successfully installed:\n",
    "nodes_list =tensornetwork_tn.get_tns_list()\n",
    "display(tn.to_graphviz(nodes_list))"
   ]
  },
  {
   "cell_type": "code",
   "execution_count": null,
   "id": "51859d7a",
   "metadata": {},
   "outputs": [],
   "source": []
  },
  {
   "cell_type": "markdown",
   "id": "6be872f8",
   "metadata": {},
   "source": [
    "## Let's contract the connected component with a_0, using TensorNetwork."
   ]
  },
  {
   "cell_type": "code",
   "execution_count": 15,
   "id": "5aef9414",
   "metadata": {},
   "outputs": [
    {
     "data": {
      "text/plain": [
       "Node\n",
       "(\n",
       "name : '__unnamed_node__',\n",
       "tensor : \n",
       "array(129),\n",
       "edges : \n",
       "[] \n",
       ")"
      ]
     },
     "metadata": {},
     "output_type": "display_data"
    }
   ],
   "source": [
    "# We make a copy in this tutorial because the contractoin operation alters tensor networks.\n",
    "nodes_dict_copy = copy.deepcopy(nodes_dict)\n",
    "\n",
    "# The following is a node by TensorNetwork:\n",
    "target_node = nodes_dict_copy['a'][0]\n",
    "target_component = tn.reachable(target_node)\n",
    "result = tn.contractors.optimal(target_component, ignore_edge_order=True)\n",
    "\n",
    "display(result)"
   ]
  },
  {
   "cell_type": "markdown",
   "id": "aceb2ca8",
   "metadata": {},
   "source": [
    "## Let's contract the connected component with b_0 similarly. The result is the same."
   ]
  },
  {
   "cell_type": "code",
   "execution_count": 16,
   "id": "6bad5e2c",
   "metadata": {},
   "outputs": [
    {
     "data": {
      "text/plain": [
       "Node\n",
       "(\n",
       "name : '__unnamed_node__',\n",
       "tensor : \n",
       "array(129),\n",
       "edges : \n",
       "[] \n",
       ")"
      ]
     },
     "metadata": {},
     "output_type": "display_data"
    }
   ],
   "source": [
    "nodes_dict_copy = copy.deepcopy(nodes_dict)\n",
    "\n",
    "# The following is a node by TensorNetwork:\n",
    "target_node = nodes_dict_copy['b'][0]\n",
    "target_component = tn.reachable(target_node)\n",
    "result = tn.contractors.optimal(target_component, ignore_edge_order=True)\n",
    "\n",
    "display(result)"
   ]
  },
  {
   "cell_type": "markdown",
   "id": "109b4648",
   "metadata": {},
   "source": [
    "## Let's contract the connected component with a_1 for completion. "
   ]
  },
  {
   "cell_type": "code",
   "execution_count": 17,
   "id": "0d803445",
   "metadata": {},
   "outputs": [
    {
     "data": {
      "text/plain": [
       "Node\n",
       "(\n",
       "name : 'a_1',\n",
       "tensor : \n",
       "array([[1, 2],\n",
       "       [3, 4]]),\n",
       "edges : \n",
       "[\n",
       "Edge(Dangling Edge)[0] \n",
       ", \n",
       "Edge(Dangling Edge)[1] \n",
       "] \n",
       ")"
      ]
     },
     "metadata": {},
     "output_type": "display_data"
    }
   ],
   "source": [
    "nodes_dict_copy = copy.deepcopy(nodes_dict)\n",
    "\n",
    "# The following is a node by TensorNetwork:\n",
    "target_node = nodes_dict_copy['a'][1]\n",
    "target_component = tn.reachable(target_node)\n",
    "result = tn.contractors.optimal(target_component, ignore_edge_order=True)\n",
    "\n",
    "display(result)"
   ]
  },
  {
   "cell_type": "code",
   "execution_count": null,
   "id": "0b791982",
   "metadata": {},
   "outputs": [],
   "source": []
  },
  {
   "cell_type": "markdown",
   "id": "421803e7",
   "metadata": {},
   "source": [
    "## Next, let's see how to use nicknames in the translation. "
   ]
  },
  {
   "cell_type": "code",
   "execution_count": 18,
   "id": "3dc893a8",
   "metadata": {
    "scrolled": true
   },
   "outputs": [
    {
     "name": "stdout",
     "output_type": "stream",
     "text": [
      "nickname:  atlanta\n"
     ]
    },
    {
     "data": {
      "text/plain": [
       "Node\n",
       "(\n",
       "name : 'atlanta',\n",
       "tensor : \n",
       "array([[5.e-324]]),\n",
       "edges : \n",
       "[\n",
       "Edge('atlanta'[0] -> 'b_0'[1] )\n",
       ", \n",
       "Edge('atlanta'[1] -> 'b_0'[0] )\n",
       "] \n",
       ")"
      ]
     },
     "metadata": {},
     "output_type": "display_data"
    },
    {
     "name": "stdout",
     "output_type": "stream",
     "text": [
      "\n",
      "nickname:  amsterdam\n"
     ]
    },
    {
     "data": {
      "text/plain": [
       "Node\n",
       "(\n",
       "name : 'amsterdam',\n",
       "tensor : \n",
       "array([[6.37e-322]]),\n",
       "edges : \n",
       "[\n",
       "Edge('amsterdam'[0] -> 'dg_munich_0'[0] )\n",
       ", \n",
       "Edge('amsterdam'[1] -> 'dg_m_3_0'[0] )\n",
       "] \n",
       ")"
      ]
     },
     "metadata": {},
     "output_type": "display_data"
    },
    {
     "name": "stdout",
     "output_type": "stream",
     "text": [
      "\n",
      "nickname:  b_0\n"
     ]
    },
    {
     "data": {
      "text/plain": [
       "Node\n",
       "(\n",
       "name : 'b_0',\n",
       "tensor : \n",
       "array([[1.37929726e-312]]),\n",
       "edges : \n",
       "[\n",
       "Edge('atlanta'[1] -> 'b_0'[0] )\n",
       ", \n",
       "Edge('atlanta'[0] -> 'b_0'[1] )\n",
       "] \n",
       ")"
      ]
     },
     "metadata": {},
     "output_type": "display_data"
    },
    {
     "name": "stdout",
     "output_type": "stream",
     "text": [
      "\n",
      "nickname:  dg_munich\n"
     ]
    },
    {
     "data": {
      "text/plain": [
       "{0: Node\n",
       " (\n",
       " name : 'dg_munich_0',\n",
       " tensor : \n",
       " array([1.40051722e-312]),\n",
       " edges : \n",
       " [\n",
       " Edge('amsterdam'[0] -> 'dg_munich_0'[0] )\n",
       " ] \n",
       " )}"
      ]
     },
     "metadata": {},
     "output_type": "display_data"
    },
    {
     "name": "stdout",
     "output_type": "stream",
     "text": [
      "\n",
      "nickname:  dg_m_3\n"
     ]
    },
    {
     "data": {
      "text/plain": [
       "{0: Node\n",
       " (\n",
       " name : 'dg_m_3_0',\n",
       " tensor : \n",
       " array([6.37e-322]),\n",
       " edges : \n",
       " [\n",
       " Edge('amsterdam'[1] -> 'dg_m_3_0'[0] )\n",
       " ] \n",
       " )}"
      ]
     },
     "metadata": {},
     "output_type": "display_data"
    },
    {
     "name": "stdout",
     "output_type": "stream",
     "text": [
      "\n"
     ]
    }
   ],
   "source": [
    "# Translating RTNI2 to TensorNetwork.\n",
    "tensornetwork_tn = tensornetwork.to_tn()\n",
    "\n",
    "# After the translation, replace the names of nodes of TensorNetwork by the nicknames. \n",
    "tensornetwork_tn.to_nickname()\n",
    "\n",
    "# Getting the dictionary of nodes of TensorNetwork. \n",
    "nodes_dict_nickname = tensornetwork_tn.get_tns_nickname()\n",
    "\n",
    "# Data is classified with respect to the names. \n",
    "# At this satge, they carry only the connection data.\n",
    "for nickname, data_all in nodes_dict_nickname.items():\n",
    "    print('nickname: ', nickname)\n",
    "    display(data_all)\n",
    "    print()"
   ]
  },
  {
   "cell_type": "code",
   "execution_count": 19,
   "id": "195971d1",
   "metadata": {},
   "outputs": [
    {
     "data": {
      "image/svg+xml": [
       "<?xml version=\"1.0\" encoding=\"UTF-8\" standalone=\"no\"?>\n",
       "<!DOCTYPE svg PUBLIC \"-//W3C//DTD SVG 1.1//EN\"\n",
       " \"http://www.w3.org/Graphics/SVG/1.1/DTD/svg11.dtd\">\n",
       "<!-- Generated by graphviz version 8.1.0 (20230707.2238)\n",
       " -->\n",
       "<!-- Title: G Pages: 1 -->\n",
       "<svg width=\"341pt\" height=\"170pt\"\n",
       " viewBox=\"0.00 0.00 341.27 169.63\" xmlns=\"http://www.w3.org/2000/svg\" xmlns:xlink=\"http://www.w3.org/1999/xlink\">\n",
       "<g id=\"graph0\" class=\"graph\" transform=\"scale(1 1) rotate(0) translate(4 165.63)\">\n",
       "<title>G</title>\n",
       "<polygon fill=\"white\" stroke=\"none\" points=\"-4,4 -4,-165.63 337.27,-165.63 337.27,4 -4,4\"/>\n",
       "<!-- 140697423221264 -->\n",
       "<g id=\"node1\" class=\"node\">\n",
       "<title>140697423221264</title>\n",
       "<ellipse fill=\"none\" stroke=\"black\" cx=\"233.47\" cy=\"-28.64\" rx=\"46.47\" ry=\"18\"/>\n",
       "<text text-anchor=\"middle\" x=\"233.47\" y=\"-23.96\" font-family=\"Times,serif\" font-size=\"14.00\">atlanta</text>\n",
       "</g>\n",
       "<!-- 140697423223120 -->\n",
       "<g id=\"node3\" class=\"node\">\n",
       "<title>140697423223120</title>\n",
       "<ellipse fill=\"none\" stroke=\"black\" cx=\"304.68\" cy=\"-18\" rx=\"28.59\" ry=\"18\"/>\n",
       "<text text-anchor=\"middle\" x=\"304.68\" y=\"-13.32\" font-family=\"Times,serif\" font-size=\"14.00\">b_0</text>\n",
       "</g>\n",
       "<!-- 140697423221264&#45;&#45;140697423223120 -->\n",
       "<g id=\"edge1\" class=\"edge\">\n",
       "<title>140697423221264&#45;&#45;140697423223120</title>\n",
       "<path fill=\"none\" stroke=\"black\" d=\"M280.34,-28.2C280.44,-28.18 280.55,-28.16 280.66,-28.14\"/>\n",
       "</g>\n",
       "<!-- 140697423221264&#45;&#45;140697423223120 -->\n",
       "<g id=\"edge2\" class=\"edge\">\n",
       "<title>140697423221264&#45;&#45;140697423223120</title>\n",
       "<path fill=\"none\" stroke=\"black\" d=\"M268.92,-16.52C271.24,-16.18 273.57,-15.88 275.86,-15.63\"/>\n",
       "</g>\n",
       "<!-- 140697423222224 -->\n",
       "<g id=\"node2\" class=\"node\">\n",
       "<title>140697423222224</title>\n",
       "<ellipse fill=\"none\" stroke=\"black\" cx=\"84.11\" cy=\"-86.21\" rx=\"68.04\" ry=\"18\"/>\n",
       "<text text-anchor=\"middle\" x=\"84.11\" y=\"-81.53\" font-family=\"Times,serif\" font-size=\"14.00\">amsterdam</text>\n",
       "</g>\n",
       "<!-- 140698606334800 -->\n",
       "<g id=\"node4\" class=\"node\">\n",
       "<title>140698606334800</title>\n",
       "<ellipse fill=\"none\" stroke=\"black\" cx=\"128\" cy=\"-143.63\" rx=\"76.46\" ry=\"18\"/>\n",
       "<text text-anchor=\"middle\" x=\"128\" y=\"-138.95\" font-family=\"Times,serif\" font-size=\"14.00\">dg_munich_0</text>\n",
       "</g>\n",
       "<!-- 140697423222224&#45;&#45;140698606334800 -->\n",
       "<g id=\"edge3\" class=\"edge\">\n",
       "<title>140697423222224&#45;&#45;140698606334800</title>\n",
       "<path fill=\"none\" stroke=\"black\" d=\"M97.76,-104.06C102.99,-110.91 108.97,-118.72 114.21,-125.59\"/>\n",
       "</g>\n",
       "<!-- 140697425085456 -->\n",
       "<g id=\"node5\" class=\"node\">\n",
       "<title>140697425085456</title>\n",
       "<ellipse fill=\"none\" stroke=\"black\" cx=\"60.15\" cy=\"-18\" rx=\"60.15\" ry=\"18\"/>\n",
       "<text text-anchor=\"middle\" x=\"60.15\" y=\"-13.32\" font-family=\"Times,serif\" font-size=\"14.00\">dg_m_3_0</text>\n",
       "</g>\n",
       "<!-- 140697423222224&#45;&#45;140697425085456 -->\n",
       "<g id=\"edge4\" class=\"edge\">\n",
       "<title>140697423222224&#45;&#45;140697425085456</title>\n",
       "<path fill=\"none\" stroke=\"black\" d=\"M77.69,-67.93C74.25,-58.14 70.03,-46.12 66.59,-36.33\"/>\n",
       "</g>\n",
       "</g>\n",
       "</svg>\n"
      ],
      "text/plain": [
       "<graphviz.graphs.Graph at 0x7ff6abee8ed0>"
      ]
     },
     "metadata": {},
     "output_type": "display_data"
    }
   ],
   "source": [
    "# Again we check it graphically. \n",
    "#Note that the matrices which were not given a nickname uses the \"official name\". \n",
    "nodes_list =tensornetwork_tn.get_tns_list()\n",
    "display(tn.to_graphviz(nodes_list))"
   ]
  },
  {
   "cell_type": "code",
   "execution_count": 20,
   "id": "9998b2e5",
   "metadata": {},
   "outputs": [
    {
     "data": {
      "image/svg+xml": [
       "<?xml version=\"1.0\" encoding=\"UTF-8\" standalone=\"no\"?>\n",
       "<!DOCTYPE svg PUBLIC \"-//W3C//DTD SVG 1.1//EN\"\n",
       " \"http://www.w3.org/Graphics/SVG/1.1/DTD/svg11.dtd\">\n",
       "<!-- Generated by graphviz version 8.1.0 (20230707.2238)\n",
       " -->\n",
       "<!-- Title: G Pages: 1 -->\n",
       "<svg width=\"280pt\" height=\"170pt\"\n",
       " viewBox=\"0.00 0.00 279.85 169.63\" xmlns=\"http://www.w3.org/2000/svg\" xmlns:xlink=\"http://www.w3.org/1999/xlink\">\n",
       "<g id=\"graph0\" class=\"graph\" transform=\"scale(1 1) rotate(0) translate(4 165.63)\">\n",
       "<title>G</title>\n",
       "<polygon fill=\"white\" stroke=\"none\" points=\"-4,4 -4,-165.63 275.85,-165.63 275.85,4 -4,4\"/>\n",
       "<!-- 140697423221264 -->\n",
       "<g id=\"node1\" class=\"node\">\n",
       "<title>140697423221264</title>\n",
       "<ellipse fill=\"none\" stroke=\"black\" cx=\"172.06\" cy=\"-76.64\" rx=\"28.06\" ry=\"18\"/>\n",
       "<text text-anchor=\"middle\" x=\"172.06\" y=\"-71.96\" font-family=\"Times,serif\" font-size=\"14.00\">a_0</text>\n",
       "</g>\n",
       "<!-- 140697423223120 -->\n",
       "<g id=\"node3\" class=\"node\">\n",
       "<title>140697423223120</title>\n",
       "<ellipse fill=\"none\" stroke=\"black\" cx=\"243.27\" cy=\"-66\" rx=\"28.59\" ry=\"18\"/>\n",
       "<text text-anchor=\"middle\" x=\"243.27\" y=\"-61.33\" font-family=\"Times,serif\" font-size=\"14.00\">b_0</text>\n",
       "</g>\n",
       "<!-- 140697423221264&#45;&#45;140697423223120 -->\n",
       "<g id=\"edge1\" class=\"edge\">\n",
       "<title>140697423221264&#45;&#45;140697423223120</title>\n",
       "<path fill=\"none\" stroke=\"black\" d=\"M200.36,-79.07C206.67,-78.38 213.31,-77.35 219.42,-76.1\"/>\n",
       "</g>\n",
       "<!-- 140697423221264&#45;&#45;140697423223120 -->\n",
       "<g id=\"edge2\" class=\"edge\">\n",
       "<title>140697423221264&#45;&#45;140697423223120</title>\n",
       "<path fill=\"none\" stroke=\"black\" d=\"M195.61,-66.6C201.68,-65.35 208.27,-64.31 214.56,-63.61\"/>\n",
       "</g>\n",
       "<!-- 140697423222224 -->\n",
       "<g id=\"node2\" class=\"node\">\n",
       "<title>140697423222224</title>\n",
       "<ellipse fill=\"none\" stroke=\"black\" cx=\"84.11\" cy=\"-86.21\" rx=\"28.06\" ry=\"18\"/>\n",
       "<text text-anchor=\"middle\" x=\"84.11\" y=\"-81.53\" font-family=\"Times,serif\" font-size=\"14.00\">a_1</text>\n",
       "</g>\n",
       "<!-- 140698606334800 -->\n",
       "<g id=\"node4\" class=\"node\">\n",
       "<title>140698606334800</title>\n",
       "<ellipse fill=\"none\" stroke=\"black\" cx=\"128\" cy=\"-143.63\" rx=\"60.15\" ry=\"18\"/>\n",
       "<text text-anchor=\"middle\" x=\"128\" y=\"-138.95\" font-family=\"Times,serif\" font-size=\"14.00\">dg_m_0_0</text>\n",
       "</g>\n",
       "<!-- 140697423222224&#45;&#45;140698606334800 -->\n",
       "<g id=\"edge3\" class=\"edge\">\n",
       "<title>140697423222224&#45;&#45;140698606334800</title>\n",
       "<path fill=\"none\" stroke=\"black\" d=\"M96.57,-102.51C102.15,-109.8 108.73,-118.42 114.43,-125.88\"/>\n",
       "</g>\n",
       "<!-- 140697425085456 -->\n",
       "<g id=\"node5\" class=\"node\">\n",
       "<title>140697425085456</title>\n",
       "<ellipse fill=\"none\" stroke=\"black\" cx=\"60.15\" cy=\"-18\" rx=\"60.15\" ry=\"18\"/>\n",
       "<text text-anchor=\"middle\" x=\"60.15\" y=\"-13.32\" font-family=\"Times,serif\" font-size=\"14.00\">dg_m_3_0</text>\n",
       "</g>\n",
       "<!-- 140697423222224&#45;&#45;140697425085456 -->\n",
       "<g id=\"edge4\" class=\"edge\">\n",
       "<title>140697423222224&#45;&#45;140697425085456</title>\n",
       "<path fill=\"none\" stroke=\"black\" d=\"M77.81,-68.29C74.32,-58.34 69.99,-46 66.49,-36.04\"/>\n",
       "</g>\n",
       "</g>\n",
       "</svg>\n"
      ],
      "text/plain": [
       "<graphviz.graphs.Graph at 0x7ff6abee9050>"
      ]
     },
     "metadata": {},
     "output_type": "display_data"
    }
   ],
   "source": [
    "# One can use the \"official names\" again.\n",
    "tensornetwork_tn.from_nickname()\n",
    "nodes_list =tensornetwork_tn.get_tns_list()\n",
    "display(tn.to_graphviz(nodes_list))"
   ]
  },
  {
   "cell_type": "code",
   "execution_count": 21,
   "id": "663ed26f",
   "metadata": {},
   "outputs": [],
   "source": [
    "# Well, we start using the nicknames again. \n",
    "tensornetwork_tn.to_nickname()"
   ]
  },
  {
   "cell_type": "code",
   "execution_count": null,
   "id": "5d3584d9",
   "metadata": {},
   "outputs": [],
   "source": []
  },
  {
   "cell_type": "code",
   "execution_count": 22,
   "id": "11499465",
   "metadata": {
    "scrolled": true
   },
   "outputs": [
    {
     "name": "stdout",
     "output_type": "stream",
     "text": [
      "nickname:  atlanta\n"
     ]
    },
    {
     "data": {
      "text/plain": [
       "Node\n",
       "(\n",
       "name : 'atlanta',\n",
       "tensor : \n",
       "array([[1, 2],\n",
       "       [3, 4]]),\n",
       "edges : \n",
       "[\n",
       "Edge('atlanta'[0] -> 'b_0'[1] )\n",
       ", \n",
       "Edge('atlanta'[1] -> 'b_0'[0] )\n",
       "] \n",
       ")"
      ]
     },
     "metadata": {},
     "output_type": "display_data"
    },
    {
     "name": "stdout",
     "output_type": "stream",
     "text": [
      "\n",
      "nickname:  amsterdam\n"
     ]
    },
    {
     "data": {
      "text/plain": [
       "Node\n",
       "(\n",
       "name : 'amsterdam',\n",
       "tensor : \n",
       "array([[1, 2],\n",
       "       [3, 4]]),\n",
       "edges : \n",
       "[\n",
       "Edge(Dangling Edge)[0] \n",
       ", \n",
       "Edge(Dangling Edge)[1] \n",
       "] \n",
       ")"
      ]
     },
     "metadata": {},
     "output_type": "display_data"
    },
    {
     "name": "stdout",
     "output_type": "stream",
     "text": [
      "\n",
      "nickname:  b_0\n"
     ]
    },
    {
     "data": {
      "text/plain": [
       "Node\n",
       "(\n",
       "name : 'b_0',\n",
       "tensor : \n",
       "array([[11, 12],\n",
       "       [13, 14]]),\n",
       "edges : \n",
       "[\n",
       "Edge('atlanta'[1] -> 'b_0'[0] )\n",
       ", \n",
       "Edge('atlanta'[0] -> 'b_0'[1] )\n",
       "] \n",
       ")"
      ]
     },
     "metadata": {},
     "output_type": "display_data"
    },
    {
     "name": "stdout",
     "output_type": "stream",
     "text": [
      "\n"
     ]
    }
   ],
   "source": [
    "# Without explicit dangling edges.\n",
    "tensornetwork_tn = tensornetwork.to_tn(include_danglings=False)\n",
    "tensornetwork_tn.subs({'a': np.array([[1,2],[3,4]]), 'b': np.array([[11,12],[13,14]])})\n",
    "\n",
    "tensornetwork_tn.to_nickname()\n",
    "\n",
    "# Getting the dictionary of nodes of TensorNetwork. \n",
    "nodes_dict_nickname = tensornetwork_tn.get_tns_nickname()\n",
    "\n",
    "# Data is classified with respect to the names. \n",
    "# At this satge, they carry only the connection data.\n",
    "for nickname, data_all in nodes_dict_nickname.items():\n",
    "    print('nickname: ', nickname)\n",
    "    display(data_all)\n",
    "    print()\n"
   ]
  },
  {
   "cell_type": "code",
   "execution_count": 23,
   "id": "b64b7668",
   "metadata": {},
   "outputs": [
    {
     "data": {
      "image/svg+xml": [
       "<?xml version=\"1.0\" encoding=\"UTF-8\" standalone=\"no\"?>\n",
       "<!DOCTYPE svg PUBLIC \"-//W3C//DTD SVG 1.1//EN\"\n",
       " \"http://www.w3.org/Graphics/SVG/1.1/DTD/svg11.dtd\">\n",
       "<!-- Generated by graphviz version 8.1.0 (20230707.2238)\n",
       " -->\n",
       "<!-- Title: G Pages: 1 -->\n",
       "<svg width=\"259pt\" height=\"170pt\"\n",
       " viewBox=\"0.00 0.00 259.27 169.63\" xmlns=\"http://www.w3.org/2000/svg\" xmlns:xlink=\"http://www.w3.org/1999/xlink\">\n",
       "<g id=\"graph0\" class=\"graph\" transform=\"scale(1 1) rotate(0) translate(4 165.63)\">\n",
       "<title>G</title>\n",
       "<polygon fill=\"white\" stroke=\"none\" points=\"-4,4 -4,-165.63 255.27,-165.63 255.27,4 -4,4\"/>\n",
       "<!-- 140697425228112 -->\n",
       "<g id=\"node1\" class=\"node\">\n",
       "<title>140697425228112</title>\n",
       "<ellipse fill=\"none\" stroke=\"black\" cx=\"151.47\" cy=\"-28.64\" rx=\"46.47\" ry=\"18\"/>\n",
       "<text text-anchor=\"middle\" x=\"151.47\" y=\"-23.96\" font-family=\"Times,serif\" font-size=\"14.00\">atlanta</text>\n",
       "</g>\n",
       "<!-- 140697423232208 -->\n",
       "<g id=\"node3\" class=\"node\">\n",
       "<title>140697423232208</title>\n",
       "<ellipse fill=\"none\" stroke=\"black\" cx=\"222.68\" cy=\"-18\" rx=\"28.59\" ry=\"18\"/>\n",
       "<text text-anchor=\"middle\" x=\"222.68\" y=\"-13.32\" font-family=\"Times,serif\" font-size=\"14.00\">b_0</text>\n",
       "</g>\n",
       "<!-- 140697425228112&#45;&#45;140697423232208 -->\n",
       "<g id=\"edge1\" class=\"edge\">\n",
       "<title>140697425228112&#45;&#45;140697423232208</title>\n",
       "<path fill=\"none\" stroke=\"black\" d=\"M198.34,-28.2C198.44,-28.18 198.55,-28.16 198.66,-28.14\"/>\n",
       "</g>\n",
       "<!-- 140697425228112&#45;&#45;140697423232208 -->\n",
       "<g id=\"edge2\" class=\"edge\">\n",
       "<title>140697425228112&#45;&#45;140697423232208</title>\n",
       "<path fill=\"none\" stroke=\"black\" d=\"M186.92,-16.52C189.24,-16.18 191.57,-15.88 193.86,-15.63\"/>\n",
       "</g>\n",
       "<!-- 140697423230544 -->\n",
       "<g id=\"node2\" class=\"node\">\n",
       "<title>140697423230544</title>\n",
       "<ellipse fill=\"none\" stroke=\"black\" cx=\"68.04\" cy=\"-86.21\" rx=\"68.04\" ry=\"18\"/>\n",
       "<text text-anchor=\"middle\" x=\"68.04\" y=\"-81.53\" font-family=\"Times,serif\" font-size=\"14.00\">amsterdam</text>\n",
       "</g>\n",
       "<!-- 140697423230544_0 -->\n",
       "<!-- 140697423230544_0&#45;&#45;140697423230544 -->\n",
       "<g id=\"edge3\" class=\"edge\">\n",
       "<title>140697423230544_0&#45;&#45;140697423230544</title>\n",
       "<path fill=\"none\" stroke=\"black\" d=\"M99.48,-127.33C93.9,-120.03 87.31,-111.41 81.61,-103.96\"/>\n",
       "</g>\n",
       "<!-- 140697423230544_1 -->\n",
       "<!-- 140697423230544_1&#45;&#45;140697423230544 -->\n",
       "<g id=\"edge4\" class=\"edge\">\n",
       "<title>140697423230544_1&#45;&#45;140697423230544</title>\n",
       "<path fill=\"none\" stroke=\"black\" d=\"M50.38,-35.92C53.87,-45.87 58.21,-58.2 61.71,-68.17\"/>\n",
       "</g>\n",
       "</g>\n",
       "</svg>\n"
      ],
      "text/plain": [
       "<graphviz.graphs.Graph at 0x7ff6abeea690>"
      ]
     },
     "metadata": {},
     "output_type": "display_data"
    }
   ],
   "source": [
    "# Again, if graphviz is installed:\n",
    "nodes_list =tensornetwork_tn.get_tns_list()\n",
    "display(tn.to_graphviz(nodes_list))"
   ]
  },
  {
   "cell_type": "code",
   "execution_count": 24,
   "id": "7a84a4cf",
   "metadata": {},
   "outputs": [
    {
     "data": {
      "text/plain": [
       "Node\n",
       "(\n",
       "name : '__unnamed_node__',\n",
       "tensor : \n",
       "array(129),\n",
       "edges : \n",
       "[] \n",
       ")"
      ]
     },
     "metadata": {},
     "output_type": "display_data"
    }
   ],
   "source": [
    "# We make a copy in this tutorial because the contractoin operation alters tensor networks.\n",
    "nodes_dict_nickname_copy = copy.deepcopy(nodes_dict_nickname)\n",
    "target_node = nodes_dict_nickname_copy['atlanta']\n",
    "target_component = tn.reachable(target_node)\n",
    "result = tn.contractors.optimal(target_component, ignore_edge_order=True)\n",
    "\n",
    "display(result)"
   ]
  },
  {
   "cell_type": "code",
   "execution_count": 25,
   "id": "a2a8998b",
   "metadata": {},
   "outputs": [
    {
     "data": {
      "text/plain": [
       "Node\n",
       "(\n",
       "name : '__unnamed_node__',\n",
       "tensor : \n",
       "array(129),\n",
       "edges : \n",
       "[] \n",
       ")"
      ]
     },
     "metadata": {},
     "output_type": "display_data"
    }
   ],
   "source": [
    "nodes_dict_nickname_copy = copy.deepcopy(nodes_dict_nickname)\n",
    "target_node = nodes_dict_nickname_copy['b_0']\n",
    "target_component = tn.reachable(target_node)\n",
    "result = tn.contractors.optimal(target_component, ignore_edge_order=True)\n",
    "\n",
    "display(result)"
   ]
  },
  {
   "cell_type": "code",
   "execution_count": 26,
   "id": "7c53057a",
   "metadata": {},
   "outputs": [
    {
     "data": {
      "text/plain": [
       "Node\n",
       "(\n",
       "name : 'amsterdam',\n",
       "tensor : \n",
       "array([[1, 2],\n",
       "       [3, 4]]),\n",
       "edges : \n",
       "[\n",
       "Edge(Dangling Edge)[0] \n",
       ", \n",
       "Edge(Dangling Edge)[1] \n",
       "] \n",
       ")"
      ]
     },
     "metadata": {},
     "output_type": "display_data"
    }
   ],
   "source": [
    "nodes_dict_nickname_copy = copy.deepcopy(nodes_dict_nickname)\n",
    "target_node = nodes_dict_nickname_copy['amsterdam']\n",
    "target_component = tn.reachable(target_node)\n",
    "result = tn.contractors.optimal(target_component, ignore_edge_order=True)\n",
    "\n",
    "display(result)"
   ]
  },
  {
   "cell_type": "code",
   "execution_count": null,
   "id": "3ca7262f",
   "metadata": {},
   "outputs": [],
   "source": []
  }
 ],
 "metadata": {
  "kernelspec": {
   "display_name": "Python 3 (ipykernel)",
   "language": "python",
   "name": "python3"
  },
  "language_info": {
   "codemirror_mode": {
    "name": "ipython",
    "version": 3
   },
   "file_extension": ".py",
   "mimetype": "text/x-python",
   "name": "python",
   "nbconvert_exporter": "python",
   "pygments_lexer": "ipython3",
   "version": "3.11.5"
  }
 },
 "nbformat": 4,
 "nbformat_minor": 5
}
