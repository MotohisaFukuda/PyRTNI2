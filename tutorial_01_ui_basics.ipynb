{
 "cells": [
  {
   "cell_type": "markdown",
   "id": "33264058",
   "metadata": {},
   "source": [
    "# Basics of the UI.\n",
    "We go through the basics of how to use RTNI2, throug the calculation of $\\mathbb E \\left[UAU^*\\right]$ for a random unitary matrix $U$."
   ]
  },
  {
   "cell_type": "markdown",
   "id": "e526be4d",
   "metadata": {},
   "source": [
    "## Preparations."
   ]
  },
  {
   "cell_type": "code",
   "execution_count": 1,
   "id": "4fe10244",
   "metadata": {},
   "outputs": [],
   "source": [
    "# To use RTNI2, import it, perhaps as rtni.\n",
    "import rtni2 as rtni\n",
    "\n",
    "# For symbolic calculations.  \n",
    "from sympy import symbols"
   ]
  },
  {
   "cell_type": "code",
   "execution_count": 2,
   "id": "df3c8b3c",
   "metadata": {},
   "outputs": [],
   "source": [
    "# A ymbolic dimension is set.\n",
    "n = symbols('n')"
   ]
  },
  {
   "cell_type": "code",
   "execution_count": null,
   "id": "298202f5-9904-471d-b5a4-aa555b9e727d",
   "metadata": {},
   "outputs": [],
   "source": []
  },
  {
   "cell_type": "markdown",
   "id": "f6ee00de",
   "metadata": {},
   "source": [
    "## Defining the two matrices $U$ and $A$. "
   ]
  },
  {
   "cell_type": "code",
   "execution_count": 3,
   "id": "c13223dc",
   "metadata": {},
   "outputs": [
    {
     "name": "stdout",
     "output_type": "stream",
     "text": [
      "{'tensor_name': 'u', 'tensor_id': 0, 'tensor_nickname': 'uppsala', 'dims': (n, n), 'dims_mat': ((n,), (n,)), 'transpose': False, 'conjugate': False}\n",
      "\n",
      "{'tensor_name': 'a', 'tensor_id': 0, 'tensor_nickname': 'a_0', 'dims': (n, n), 'dims_mat': ((n,), (n,)), 'transpose': False, 'conjugate': False}\n",
      "\n"
     ]
    }
   ],
   "source": [
    "# Create two matrices, specifying the names and dimensions; both are \"originals\" for \"clones\" later. \n",
    "# You can pick a nickname, but do not have to. \n",
    "u = rtni.matrix(name='u', dims=[[n],[n]], nickname='uppsala')\n",
    "a = rtni.matrix(name='a', dims=[[n],[n]])\n",
    "print(u)\n",
    "print(a)"
   ]
  },
  {
   "cell_type": "markdown",
   "id": "f31fa09e",
   "metadata": {},
   "source": [
    "Remark.\n",
    "- <code>name</code> is set for the family (the original and the clones) and <code>nickname</code> for each clone, including the original. \n",
    "- <code>'tensor_id'</code> is assigned automatically within each family. \n",
    "- It is not mandatory to set <code>nickname</code> but it sometimes makes things easier because recognizing a matrix (or a tensor) by <code>'tensor_name'</code> and <code>'tensor_id'</code> may not be easy. The default nickname is <code>'{tensor_name}_{tensor_id}'</code>\n",
    "- <code>dims</code> is set as <code>dims=[[output synbolic dimensions],[input symbolic dimensions]]</code>."
   ]
  },
  {
   "cell_type": "code",
   "execution_count": 4,
   "id": "4624c88e",
   "metadata": {},
   "outputs": [
    {
     "name": "stdout",
     "output_type": "stream",
     "text": [
      "{'tensor_name': 'u', 'tensor_id': 1, 'tensor_nickname': 'ulm', 'dims': (n, n), 'dims_mat': ((n,), (n,)), 'transpose': True, 'conjugate': True}\n",
      "\n"
     ]
    }
   ],
   "source": [
    "# Clone the matrix u and pick a nick name if you like. \n",
    "u_star = u.clone(nickname='ulm')\n",
    "\n",
    "# the clone is made adjoint. \n",
    "u_star.adjoint()\n",
    "\n",
    "print(u_star)"
   ]
  },
  {
   "cell_type": "markdown",
   "id": "aca22a2a",
   "metadata": {},
   "source": [
    "Remark. \n",
    "- It is important to clone u to make u_star, because these two are \"the same matrix\". \n",
    "- <code>adjoint()</code> is just <code>conjugate()</code> and <code>transpose()</code>; \"conjugate\" means complex conjugate. So one can use the two instead. Since <code>transpose()</code> switches the input side and the output side internally, so <code>transpose()</code> and <code>adjoint()</code> must applied before connecting them. \n",
    "- <code>transpose()</code> and <code>adjoint()</code> are not allowed for tensors. \n",
    "- Additionally, a tensor will be created by <code>rtni.tensor(name=, dims=, nickname=)</code>, where <code>dims=[symbolic dimensions]</code>."
   ]
  },
  {
   "cell_type": "code",
   "execution_count": null,
   "id": "56229cf2-1f23-473d-ac29-013cf131a488",
   "metadata": {},
   "outputs": [],
   "source": []
  },
  {
   "cell_type": "markdown",
   "id": "316758d0",
   "metadata": {},
   "source": [
    "## Connecting the matrices. "
   ]
  },
  {
   "cell_type": "code",
   "execution_count": 5,
   "id": "23f76e83",
   "metadata": {},
   "outputs": [
    {
     "name": "stdout",
     "output_type": "stream",
     "text": [
      "Connected.\n"
     ]
    }
   ],
   "source": [
    "# realize the matrix multiplication $uu^*$, for example. \n",
    "u.inn(0) * u_star.out(0)"
   ]
  },
  {
   "cell_type": "markdown",
   "id": "8227f8b9",
   "metadata": {},
   "source": [
    "Remark.\n",
    "- <code>inn</code> and <code>out</code> indicate the input and output sides, respectively. The number, counting from 0, is the space id for each side. In this example, each side has only one space. Note that <code>in</code> is a reserved keyword in Python, so we use <code>inn</code> instead. \n",
    "- <code>matrix</code> gives a wrapper for tensors. One can directly access the tensors and make the same connection by <code>u(1) * u_star(1)</code>. In tensors, the space ids are assigned from the output space to the input space in the original matrix. Now, the first input space of the matrix u is the second space as a tensor, and the first output space of the adjoint matrix is again the second space. This explains two 1's above; Python counts from 0. "
   ]
  },
  {
   "cell_type": "code",
   "execution_count": 6,
   "id": "fd011894",
   "metadata": {},
   "outputs": [
    {
     "ename": "NodeConnectionError",
     "evalue": "The first node has already been connected to some node. Disconnect them, first.",
     "output_type": "error",
     "traceback": [
      "\u001b[0;31m---------------------------------------------------------------------------\u001b[0m",
      "\u001b[0;31mNodeConnectionError\u001b[0m                       Traceback (most recent call last)",
      "Cell \u001b[0;32mIn[6], line 2\u001b[0m\n\u001b[1;32m      1\u001b[0m \u001b[38;5;66;03m# already connected space cannot be connected again, giving an error message. \u001b[39;00m\n\u001b[0;32m----> 2\u001b[0m \u001b[43mu\u001b[49m\u001b[38;5;241;43m.\u001b[39;49m\u001b[43minn\u001b[49m\u001b[43m(\u001b[49m\u001b[38;5;241;43m0\u001b[39;49m\u001b[43m)\u001b[49m\u001b[43m \u001b[49m\u001b[38;5;241;43m*\u001b[39;49m\u001b[43m \u001b[49m\u001b[43ma\u001b[49m\u001b[38;5;241;43m.\u001b[39;49m\u001b[43mout\u001b[49m\u001b[43m(\u001b[49m\u001b[38;5;241;43m0\u001b[39;49m\u001b[43m)\u001b[49m\n",
      "File \u001b[0;32m/mnt/c/Users/M/Desktop/RTNI2/rtni2.py:49\u001b[0m, in \u001b[0;36m_Node.__mul__\u001b[0;34m(self, other)\u001b[0m\n\u001b[1;32m     47\u001b[0m         \u001b[38;5;28;01mraise\u001b[39;00m NodeConnectionError(\u001b[38;5;124m'\u001b[39m\u001b[38;5;124mBoth nodes have already been connected to some nodes. Disconnect them, first.\u001b[39m\u001b[38;5;124m'\u001b[39m)\n\u001b[1;32m     48\u001b[0m     \u001b[38;5;28;01melse\u001b[39;00m:\n\u001b[0;32m---> 49\u001b[0m         \u001b[38;5;28;01mraise\u001b[39;00m NodeConnectionError(\u001b[38;5;124m'\u001b[39m\u001b[38;5;124mThe first node has already been connected to some node. Disconnect them, first.\u001b[39m\u001b[38;5;124m'\u001b[39m)   \n\u001b[1;32m     50\u001b[0m \u001b[38;5;28;01melif\u001b[39;00m other\u001b[38;5;241m.\u001b[39m_connected_to \u001b[38;5;241m!=\u001b[39m \u001b[38;5;28;01mNone\u001b[39;00m:\n\u001b[1;32m     51\u001b[0m     \u001b[38;5;28;01mraise\u001b[39;00m NodeConnectionError(\u001b[38;5;124m'\u001b[39m\u001b[38;5;124mThe second node has already been connected to some node. Disconnect them, first.\u001b[39m\u001b[38;5;124m'\u001b[39m)\n",
      "\u001b[0;31mNodeConnectionError\u001b[0m: The first node has already been connected to some node. Disconnect them, first."
     ]
    }
   ],
   "source": [
    "# already connected space cannot be connected again, giving an error message. \n",
    "u.inn(0) * a.out(0)"
   ]
  },
  {
   "cell_type": "markdown",
   "id": "0c915423-d1da-438f-8edd-6a0c4fc6dde7",
   "metadata": {},
   "source": [
    "Remark.\n",
    "- An already connected space of tensors or matrices cannot be connected before disconnecting them by <code>~</code> or <code>/</code>."
   ]
  },
  {
   "cell_type": "code",
   "execution_count": 7,
   "id": "1af15cb9",
   "metadata": {},
   "outputs": [
    {
     "name": "stdout",
     "output_type": "stream",
     "text": [
      "Disconnecting from {'tensor_name': 'u', 'tensor_id': 1, 'tensor_nickname': 'ulm', 'space_id': 1, 'dim': n, 'is_dangling_end': False, 'side_original': 'in', 'side_space_id': 0}.\n",
      "Disconnected.\n",
      "Connected.\n"
     ]
    }
   ],
   "source": [
    "# Disconnect u.inn(0) from a.out(0).\n",
    "~u.inn(0) \n",
    "# or  \n",
    "# u.inn(0) / a.out(0)\n",
    "\n",
    "# and try it again to make a multiplication $UA$. \n",
    "u.inn(0) * a.out(0)"
   ]
  },
  {
   "cell_type": "code",
   "execution_count": 8,
   "id": "a39eeabb",
   "metadata": {},
   "outputs": [
    {
     "name": "stdout",
     "output_type": "stream",
     "text": [
      "Disconnected.\n",
      "Connected.\n"
     ]
    }
   ],
   "source": [
    "u.inn(0) / a.out(0)\n",
    "u.inn(0) * a.out(0)"
   ]
  },
  {
   "cell_type": "code",
   "execution_count": 9,
   "id": "faededc7",
   "metadata": {},
   "outputs": [
    {
     "name": "stdout",
     "output_type": "stream",
     "text": [
      "Connected.\n"
     ]
    }
   ],
   "source": [
    "# Let us complete the tensor network diagram by realizing $AU^*$\n",
    "a.inn(0) * u_star.out(0)"
   ]
  },
  {
   "cell_type": "code",
   "execution_count": null,
   "id": "21458eec-c637-4890-9e53-32adad55db37",
   "metadata": {},
   "outputs": [],
   "source": []
  },
  {
   "cell_type": "markdown",
   "id": "d44a93d7",
   "metadata": {},
   "source": [
    "## Create a system and place all relevant matrices into it. "
   ]
  },
  {
   "cell_type": "code",
   "execution_count": 10,
   "id": "9b9caf68",
   "metadata": {},
   "outputs": [
    {
     "name": "stdout",
     "output_type": "stream",
     "text": [
      "tensor a clone 0 has been added.\n",
      "tensor u clone 0 has been added.\n",
      "tensor u clone 1 has been added.\n"
     ]
    }
   ],
   "source": [
    "# create the whole system with the relevant matrices. \n",
    "tensornetworks = rtni.tensornetworks([a, u, u_star])"
   ]
  },
  {
   "cell_type": "markdown",
   "id": "2b02b207",
   "metadata": {},
   "source": [
    "Remark.\n",
    "- You do not have to use all tensors and matrices created or cloned. \n",
    "- One can add them separately as below. "
   ]
  },
  {
   "cell_type": "code",
   "execution_count": 11,
   "id": "640587ec",
   "metadata": {},
   "outputs": [
    {
     "name": "stdout",
     "output_type": "stream",
     "text": [
      "tensor u clone 1 has been added.\n",
      "tensor u clone 0 has been added.\n",
      "tensor a clone 0 has been added.\n"
     ]
    }
   ],
   "source": [
    "tensornetworks = rtni.tensornetworks()\n",
    "tensornetworks.add([u_star])\n",
    "tensornetworks.add([u, a])"
   ]
  },
  {
   "cell_type": "code",
   "execution_count": 12,
   "id": "0728856e",
   "metadata": {},
   "outputs": [
    {
     "name": "stdout",
     "output_type": "stream",
     "text": [
      "Weight:\n"
     ]
    },
    {
     "data": {
      "text/plain": [
       "1"
      ]
     },
     "metadata": {},
     "output_type": "display_data"
    },
    {
     "name": "stdout",
     "output_type": "stream",
     "text": [
      "\n",
      "Edges:\n",
      "{'tensor_name': 'a', 'tensor_id': 0, 'tensor_nickname': 'a_0', 'space_id': 1, 'dim': n, 'is_dangling_end': False, 'side_original': 'in', 'side_space_id': 0}\n",
      "<->\n",
      "{'tensor_name': 'u', 'tensor_id': 1, 'tensor_nickname': 'ulm', 'space_id': 1, 'dim': n, 'is_dangling_end': False, 'side_original': 'in', 'side_space_id': 0}\n",
      "\n",
      "{'tensor_name': 'a', 'tensor_id': 0, 'tensor_nickname': 'a_0', 'space_id': 0, 'dim': n, 'is_dangling_end': False, 'side_original': 'out', 'side_space_id': 0}\n",
      "<->\n",
      "{'tensor_name': 'u', 'tensor_id': 0, 'tensor_nickname': 'uppsala', 'space_id': 1, 'dim': n, 'is_dangling_end': False, 'side_original': 'in', 'side_space_id': 0}\n",
      "\n",
      "\n"
     ]
    }
   ],
   "source": [
    "# See what our system is. \n",
    "tensornetworks.show()"
   ]
  },
  {
   "cell_type": "markdown",
   "id": "eb755bf5",
   "metadata": {},
   "source": [
    "Remark.\n",
    "- \"Weight\" will be updated by multiplying Weingarten functions and the weights of loops made through the integration. \n",
    "- \"Edges\" shows the connections."
   ]
  },
  {
   "cell_type": "code",
   "execution_count": null,
   "id": "fcde4686-c8ed-4d66-91e4-a066632687d0",
   "metadata": {},
   "outputs": [],
   "source": []
  },
  {
   "cell_type": "markdown",
   "id": "c26ec03e",
   "metadata": {},
   "source": [
    "## Integrating over Haar-distributed unitary matrices. "
   ]
  },
  {
   "cell_type": "code",
   "execution_count": 13,
   "id": "2cf7b2f7",
   "metadata": {},
   "outputs": [],
   "source": [
    "# Make a copy so that one can start from here again. This step is not necessary.\n",
    "import copy\n",
    "tensornetworks_u = copy.deepcopy(tensornetworks)"
   ]
  },
  {
   "cell_type": "code",
   "execution_count": 14,
   "id": "715b83b7",
   "metadata": {},
   "outputs": [
    {
     "name": "stdout",
     "output_type": "stream",
     "text": [
      "Integrated. We now have 1 tensor networks.\n",
      "\n",
      "Weight:\n"
     ]
    },
    {
     "data": {
      "text/latex": [
       "$\\displaystyle \\frac{1}{n}$"
      ],
      "text/plain": [
       "1/n"
      ]
     },
     "metadata": {},
     "output_type": "display_data"
    },
    {
     "name": "stdout",
     "output_type": "stream",
     "text": [
      "\n",
      "Edges:\n",
      "{'tensor_name': 'a', 'tensor_id': 0, 'tensor_nickname': 'a_0', 'space_id': 0, 'dim': n, 'is_dangling_end': False, 'side_original': 'out', 'side_space_id': 0}\n",
      "<->\n",
      "{'tensor_name': 'a', 'tensor_id': 0, 'tensor_nickname': 'a_0', 'space_id': 1, 'dim': n, 'is_dangling_end': False, 'side_original': 'in', 'side_space_id': 0}\n",
      "\n",
      "{'tensor_name': 'dg_u', 'tensor_id': 0, 'tensor_nickname': 'dg_uppsala', 'space_id': 0, 'dim': n, 'is_dangling_end': True, 'side_original': 'out', 'side_space_id': 0, 'tensor_name_origonal': 'u'}\n",
      "<->\n",
      "{'tensor_name': 'dg_u', 'tensor_id': 1, 'tensor_nickname': 'dg_ulm', 'space_id': 0, 'dim': n, 'is_dangling_end': True, 'side_original': 'out', 'side_space_id': 0, 'tensor_name_origonal': 'u'}\n",
      "\n",
      "\n"
     ]
    }
   ],
   "source": [
    "# Set \"u\" to be a unitary matrix and integrate the system over it. \n",
    "tensornetworks_u.integrate('u', 'unitary')\n",
    "\n",
    "# Check the result. \n",
    "tensornetworks_u.show()"
   ]
  },
  {
   "cell_type": "markdown",
   "id": "964c0f36",
   "metadata": {},
   "source": [
    "Remark.\n",
    "- The \"Weight\" was updated by the Weingarten function. \n",
    "- The first edge represents $\\operatorname{Tr}A$. \n",
    "- The second edge contains tensors whose names start with \"dg_\", which stands for \"dangling\". Since the output side of u and the input side of u_star are \"dangling edges\", RTNI2 added a formal tensor carrying that information. Hence, this is an edge, linking the following two spaces: after reordering the info, \n",
    "    1. <code>{'tensor_name_origonal': 'u', 'tensor_id': 0, 'tensor_nickname': 'uppsala',\n",
    "     'space_id': 0, 'original_side': 'out', 'side_space_id': 0}</code> \n",
    "    2. <code>{'tensor_name_origonal': 'u', 'tensor_id': 1, 'tensor_nickname': 'ueno',\n",
    "     'space_id': 0, 'original_side': 'out', 'side_space_id': 0}</code>.\n",
    "    \n",
    "The former is <code>u</code> and the latter is <code>u_star</code> judging from the id numbers or the nicknames. All things considered, this edge represents the identity map from the (first) input space of <code>u_star</code> to the (first) output space of <code>u</code>."
   ]
  },
  {
   "cell_type": "code",
   "execution_count": 15,
   "id": "68f1f8d0",
   "metadata": {},
   "outputs": [
    {
     "ename": "TriviallyZero",
     "evalue": "The numbers of random tensors and their complex conjugates must match.",
     "output_type": "error",
     "traceback": [
      "\u001b[0;31m---------------------------------------------------------------------------\u001b[0m",
      "\u001b[0;31mTriviallyZero\u001b[0m                             Traceback (most recent call last)",
      "Cell \u001b[0;32mIn[15], line 3\u001b[0m\n\u001b[1;32m      1\u001b[0m \u001b[38;5;66;03m# Improper settings will result in errors. \u001b[39;00m\n\u001b[1;32m      2\u001b[0m tensornetworks_a \u001b[38;5;241m=\u001b[39m copy\u001b[38;5;241m.\u001b[39mdeepcopy(tensornetworks)\n\u001b[0;32m----> 3\u001b[0m \u001b[43mtensornetworks_a\u001b[49m\u001b[38;5;241;43m.\u001b[39;49m\u001b[43mintegrate\u001b[49m\u001b[43m(\u001b[49m\u001b[38;5;124;43m'\u001b[39;49m\u001b[38;5;124;43ma\u001b[39;49m\u001b[38;5;124;43m'\u001b[39;49m\u001b[43m,\u001b[49m\u001b[43m \u001b[49m\u001b[38;5;124;43m'\u001b[39;49m\u001b[38;5;124;43munitary\u001b[39;49m\u001b[38;5;124;43m'\u001b[39;49m\u001b[43m)\u001b[49m\n",
      "File \u001b[0;32m/mnt/c/Users/M/Desktop/RTNI2/rtni2.py:528\u001b[0m, in \u001b[0;36mTensorNetworks.integrate\u001b[0;34m(self, random_tensor_name, random_tensor_type)\u001b[0m\n\u001b[1;32m    523\u001b[0m \u001b[38;5;28;01mdef\u001b[39;00m \u001b[38;5;21mintegrate\u001b[39m(\u001b[38;5;28mself\u001b[39m, random_tensor_name, random_tensor_type):\n\u001b[1;32m    524\u001b[0m     \n\u001b[1;32m    525\u001b[0m     \u001b[38;5;66;03m# make sure that the system has not been integrated over the nominated. \u001b[39;00m\n\u001b[1;32m    526\u001b[0m     \u001b[38;5;28;01mif\u001b[39;00m random_tensor_name \u001b[38;5;129;01mnot\u001b[39;00m \u001b[38;5;129;01min\u001b[39;00m \u001b[38;5;28mself\u001b[39m\u001b[38;5;241m.\u001b[39m_info_removed:\n\u001b[1;32m    527\u001b[0m         \u001b[38;5;66;03m# make the dict of the necessary info for integration. \u001b[39;00m\n\u001b[0;32m--> 528\u001b[0m         integration_dict \u001b[38;5;241m=\u001b[39m \u001b[38;5;28;43mself\u001b[39;49m\u001b[38;5;241;43m.\u001b[39;49m\u001b[43m_make_integration_dict\u001b[49m\u001b[43m(\u001b[49m\u001b[43mrandom_tensor_name\u001b[49m\u001b[43m,\u001b[49m\u001b[43m \u001b[49m\u001b[43mrandom_tensor_type\u001b[49m\u001b[43m)\u001b[49m\n\u001b[1;32m    529\u001b[0m         \u001b[38;5;66;03m# record that the integration is done; not yet though. \u001b[39;00m\n\u001b[1;32m    530\u001b[0m         \u001b[38;5;28mself\u001b[39m\u001b[38;5;241m.\u001b[39m_info_removed[random_tensor_name] \u001b[38;5;241m=\u001b[39m integration_dict\n",
      "File \u001b[0;32m/mnt/c/Users/M/Desktop/RTNI2/rtni2.py:510\u001b[0m, in \u001b[0;36mTensorNetworks._make_integration_dict\u001b[0;34m(self, random_tensor_name, random_tensor_type)\u001b[0m\n\u001b[1;32m    508\u001b[0m     num_conjugate \u001b[38;5;241m=\u001b[39m \u001b[38;5;28msum\u001b[39m(\u001b[38;5;241m1\u001b[39m \u001b[38;5;28;01mfor\u001b[39;00m t \u001b[38;5;129;01min\u001b[39;00m rts_sample \u001b[38;5;28;01mif\u001b[39;00m t\u001b[38;5;241m.\u001b[39m_conjugate \u001b[38;5;241m==\u001b[39m \u001b[38;5;28;01mTrue\u001b[39;00m)\n\u001b[1;32m    509\u001b[0m     \u001b[38;5;28;01mif\u001b[39;00m num_vanilla \u001b[38;5;241m!=\u001b[39m num_conjugate:\n\u001b[0;32m--> 510\u001b[0m         \u001b[38;5;28;01mraise\u001b[39;00m TriviallyZero(\u001b[38;5;124m'\u001b[39m\u001b[38;5;124mThe numbers of random tensors and their complex conjugates must match.\u001b[39m\u001b[38;5;124m'\u001b[39m) \n\u001b[1;32m    511\u001b[0m     integration_dict[\u001b[38;5;124m'\u001b[39m\u001b[38;5;124msize\u001b[39m\u001b[38;5;124m'\u001b[39m] \u001b[38;5;241m=\u001b[39m num_vanilla\n\u001b[1;32m    513\u001b[0m \u001b[38;5;28;01melse\u001b[39;00m:\n",
      "\u001b[0;31mTriviallyZero\u001b[0m: The numbers of random tensors and their complex conjugates must match."
     ]
    }
   ],
   "source": [
    "# Improper settings will result in errors. \n",
    "tensornetworks_a = copy.deepcopy(tensornetworks)\n",
    "tensornetworks_a.integrate('a', 'unitary')"
   ]
  },
  {
   "cell_type": "markdown",
   "id": "ccd5b653-1cbe-4a30-9902-4e24fc859d23",
   "metadata": {},
   "source": [
    "Remark.\n",
    "- The error comes from the fact that the number of copies of a is one. "
   ]
  },
  {
   "cell_type": "code",
   "execution_count": null,
   "id": "b2bc4d47-65a6-4127-8d36-3a3b72d56499",
   "metadata": {},
   "outputs": [],
   "source": []
  },
  {
   "cell_type": "markdown",
   "id": "fe01d768",
   "metadata": {},
   "source": [
    "## Access each tensor network.\n",
    "Some may want to use the results for further calculations with their own programs. So, here is how to extract the data. "
   ]
  },
  {
   "cell_type": "code",
   "execution_count": 16,
   "id": "c86200e7",
   "metadata": {},
   "outputs": [],
   "source": [
    "# In this example, we have only one tensor network. So, to take it out, going back to tensornetworks_u which was integrated:\n",
    "tensor_network0 = tensornetworks_u[0]"
   ]
  },
  {
   "cell_type": "code",
   "execution_count": 17,
   "id": "969e19af",
   "metadata": {},
   "outputs": [
    {
     "data": {
      "text/latex": [
       "$\\displaystyle \\frac{1}{n}$"
      ],
      "text/plain": [
       "1/n"
      ]
     },
     "execution_count": 17,
     "metadata": {},
     "output_type": "execute_result"
    }
   ],
   "source": [
    "# Get the weight. By default, the dimension of the output side will be chosen. \n",
    "weight = tensor_network0.weight(side='out')\n",
    "weight"
   ]
  },
  {
   "cell_type": "code",
   "execution_count": 18,
   "id": "b58581c3",
   "metadata": {},
   "outputs": [
    {
     "data": {
      "text/plain": [
       "[{'tensor_name': 'a',\n",
       "  'tensor_id': 0,\n",
       "  'tensor_nickname': 'a_0',\n",
       "  'space_id': 0,\n",
       "  'dim': n,\n",
       "  'is_dangling_end': False,\n",
       "  'side_original': 'out',\n",
       "  'side_space_id': 0},\n",
       " {'tensor_name': 'a',\n",
       "  'tensor_id': 0,\n",
       "  'tensor_nickname': 'a_0',\n",
       "  'space_id': 1,\n",
       "  'dim': n,\n",
       "  'is_dangling_end': False,\n",
       "  'side_original': 'in',\n",
       "  'side_space_id': 0}]"
      ]
     },
     "metadata": {},
     "output_type": "display_data"
    },
    {
     "data": {
      "text/plain": [
       "[{'tensor_name': 'dg_u',\n",
       "  'tensor_id': 0,\n",
       "  'tensor_nickname': 'dg_uppsala',\n",
       "  'space_id': 0,\n",
       "  'dim': n,\n",
       "  'is_dangling_end': True,\n",
       "  'side_original': 'out',\n",
       "  'side_space_id': 0,\n",
       "  'tensor_name_origonal': 'u'},\n",
       " {'tensor_name': 'dg_u',\n",
       "  'tensor_id': 1,\n",
       "  'tensor_nickname': 'dg_ulm',\n",
       "  'space_id': 0,\n",
       "  'dim': n,\n",
       "  'is_dangling_end': True,\n",
       "  'side_original': 'out',\n",
       "  'side_space_id': 0,\n",
       "  'tensor_name_origonal': 'u'}]"
      ]
     },
     "metadata": {},
     "output_type": "display_data"
    }
   ],
   "source": [
    "# Get the edges. \n",
    "for edge in tensor_network0._get_edges():\n",
    "    display(edge)"
   ]
  },
  {
   "cell_type": "markdown",
   "id": "3833f4ff",
   "metadata": {},
   "source": [
    "Remark. \n",
    "- Each edge is a list of two elements. Each element exlpains which space it corresponds to, in the form of <code>dict</code>. "
   ]
  },
  {
   "cell_type": "code",
   "execution_count": null,
   "id": "d2b936d1",
   "metadata": {},
   "outputs": [],
   "source": []
  }
 ],
 "metadata": {
  "kernelspec": {
   "display_name": "Python 3 (ipykernel)",
   "language": "python",
   "name": "python3"
  },
  "language_info": {
   "codemirror_mode": {
    "name": "ipython",
    "version": 3
   },
   "file_extension": ".py",
   "mimetype": "text/x-python",
   "name": "python",
   "nbconvert_exporter": "python",
   "pygments_lexer": "ipython3",
   "version": "3.11.5"
  }
 },
 "nbformat": 4,
 "nbformat_minor": 5
}
