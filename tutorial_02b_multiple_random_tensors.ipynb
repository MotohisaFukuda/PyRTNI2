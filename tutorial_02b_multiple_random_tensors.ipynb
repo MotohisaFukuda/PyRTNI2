{
 "cells": [
  {
   "cell_type": "markdown",
   "id": "be282e2a",
   "metadata": {},
   "source": [
    "# Integrating a tensor network w.r.t. several of the four random matrices. \n",
    "Let's calculate $\\mathbb E\\operatorname{Tr} [MA\\bar MBMC \\bar M NAN^TBNCN^T]$, where $M$ is unitary and $N$ orthogonal. In principle, one can integrate tensor networks over as many (kinds of) random tensors and matrices as you like as long as the computational resource allows."
   ]
  },
  {
   "cell_type": "code",
   "execution_count": 1,
   "id": "510a8b70",
   "metadata": {},
   "outputs": [],
   "source": [
    "import rtni2 as rtni\n",
    "from sympy import symbols"
   ]
  },
  {
   "cell_type": "code",
   "execution_count": 2,
   "id": "9cc61e84",
   "metadata": {},
   "outputs": [],
   "source": [
    "# Set the dimension.\n",
    "d = symbols('d')"
   ]
  },
  {
   "cell_type": "markdown",
   "id": "516d2684",
   "metadata": {},
   "source": [
    "## Set up matrices as before and connect them."
   ]
  },
  {
   "cell_type": "code",
   "execution_count": 3,
   "id": "386b9a8f",
   "metadata": {},
   "outputs": [],
   "source": [
    "# Set up matrices. \n",
    "m1 = rtni.matrix(name='m', dims=[[d],[d]])\n",
    "m2 = m1.clone()\n",
    "mc1 = m2.clone(); mc1.conjugate()\n",
    "mc2 = mc1.clone(); mc2.conjugate()\n",
    "\n",
    "a1 = rtni.matrix(name='a', dims=[[d],[d]])\n",
    "b1 = rtni.matrix(name='b', dims=[[d],[d]])\n",
    "c1 = rtni.matrix(name='c', dims=[[d],[d]])\n",
    "\n",
    "n1 = rtni.matrix(name='n', dims=[[d],[d]])\n",
    "n2 = n1.clone()\n",
    "nt1 = n2.clone(); nt1.transpose()\n",
    "nt2 = nt1.clone(); nt2.transpose()\n",
    "\n",
    "a2 = a1.clone()\n",
    "b2 = b1.clone()\n",
    "c2 = c1.clone()"
   ]
  },
  {
   "cell_type": "code",
   "execution_count": 4,
   "id": "25e82484",
   "metadata": {},
   "outputs": [
    {
     "name": "stdout",
     "output_type": "stream",
     "text": [
      "Connected.\n",
      "Connected.\n",
      "Connected.\n",
      "Connected.\n",
      "Connected.\n",
      "Connected.\n",
      "Connected.\n",
      "Connected.\n",
      "Connected.\n",
      "Connected.\n",
      "Connected.\n",
      "Connected.\n",
      "Connected.\n",
      "Connected.\n"
     ]
    }
   ],
   "source": [
    "# Connect them.\n",
    "\n",
    "m1.inn(0) * a1.out(0)\n",
    "a1.inn(0) * mc1.out(0)\n",
    "mc1.inn(0) * b1.out(0)\n",
    "b1.inn(0) * m2.out(0)\n",
    "m2.inn(0) * c1.out(0)\n",
    "c1.inn(0) * mc2.out(0)\n",
    "\n",
    "n1.inn(0) * a2.out(0)\n",
    "a2.inn(0) * nt1.out(0)\n",
    "nt1.inn(0) * b2.out(0)\n",
    "b2.inn(0) * n2.out(0)\n",
    "n2.inn(0) * c2.out(0)\n",
    "c2.inn(0) * nt2.out(0)\n",
    "\n",
    "mc2.inn(0) * n1.out(0)\n",
    "nt2.inn(0) * m1.out(0)"
   ]
  },
  {
   "cell_type": "code",
   "execution_count": 5,
   "id": "6b4c8476",
   "metadata": {},
   "outputs": [
    {
     "name": "stdout",
     "output_type": "stream",
     "text": [
      "tensor a clone 0 has been added.\n",
      "tensor b clone 0 has been added.\n",
      "tensor c clone 0 has been added.\n",
      "tensor m clone 0 has been added.\n",
      "tensor m clone 1 has been added.\n",
      "tensor m clone 2 has been added.\n",
      "tensor m clone 3 has been added.\n",
      "tensor a clone 1 has been added.\n",
      "tensor b clone 1 has been added.\n",
      "tensor c clone 1 has been added.\n",
      "tensor n clone 0 has been added.\n",
      "tensor n clone 1 has been added.\n",
      "tensor n clone 2 has been added.\n",
      "tensor n clone 3 has been added.\n"
     ]
    }
   ],
   "source": [
    "# Set up the system.\n",
    "tensor_networks = rtni.tensornetworks([a1, b1, c1, m1, m2, mc1, mc2, a2, b2, c2, n1, n2, nt1, nt2])"
   ]
  },
  {
   "cell_type": "markdown",
   "id": "a6a9ad76",
   "metadata": {},
   "source": [
    "## The follwoing is the initial tensor network with no history; only one tensor network."
   ]
  },
  {
   "cell_type": "code",
   "execution_count": 6,
   "id": "3bf34c47",
   "metadata": {
    "scrolled": true
   },
   "outputs": [
    {
     "name": "stdout",
     "output_type": "stream",
     "text": [
      "History of tensor network.\n",
      "[]\n",
      "\n",
      "Weight:\n"
     ]
    },
    {
     "data": {
      "text/plain": [
       "1"
      ]
     },
     "metadata": {},
     "output_type": "display_data"
    },
    {
     "name": "stdout",
     "output_type": "stream",
     "text": [
      "\n",
      "Edges:\n",
      "{'tensor_name': 'a', 'tensor_id': 0, 'tensor_nickname': 'a_0', 'space_id': 0, 'dim': d, 'is_dangling_end': False, 'side_original': 'out', 'side_space_id': 0}\n",
      "<->\n",
      "{'tensor_name': 'm', 'tensor_id': 0, 'tensor_nickname': 'm_0', 'space_id': 1, 'dim': d, 'is_dangling_end': False, 'side_original': 'in', 'side_space_id': 0}\n",
      "\n",
      "{'tensor_name': 'a', 'tensor_id': 0, 'tensor_nickname': 'a_0', 'space_id': 1, 'dim': d, 'is_dangling_end': False, 'side_original': 'in', 'side_space_id': 0}\n",
      "<->\n",
      "{'tensor_name': 'm', 'tensor_id': 2, 'tensor_nickname': 'm_2', 'space_id': 0, 'dim': d, 'is_dangling_end': False, 'side_original': 'out', 'side_space_id': 0}\n",
      "\n",
      "{'tensor_name': 'b', 'tensor_id': 0, 'tensor_nickname': 'b_0', 'space_id': 0, 'dim': d, 'is_dangling_end': False, 'side_original': 'out', 'side_space_id': 0}\n",
      "<->\n",
      "{'tensor_name': 'm', 'tensor_id': 2, 'tensor_nickname': 'm_2', 'space_id': 1, 'dim': d, 'is_dangling_end': False, 'side_original': 'in', 'side_space_id': 0}\n",
      "\n",
      "{'tensor_name': 'b', 'tensor_id': 0, 'tensor_nickname': 'b_0', 'space_id': 1, 'dim': d, 'is_dangling_end': False, 'side_original': 'in', 'side_space_id': 0}\n",
      "<->\n",
      "{'tensor_name': 'm', 'tensor_id': 1, 'tensor_nickname': 'm_1', 'space_id': 0, 'dim': d, 'is_dangling_end': False, 'side_original': 'out', 'side_space_id': 0}\n",
      "\n",
      "{'tensor_name': 'c', 'tensor_id': 0, 'tensor_nickname': 'c_0', 'space_id': 0, 'dim': d, 'is_dangling_end': False, 'side_original': 'out', 'side_space_id': 0}\n",
      "<->\n",
      "{'tensor_name': 'm', 'tensor_id': 1, 'tensor_nickname': 'm_1', 'space_id': 1, 'dim': d, 'is_dangling_end': False, 'side_original': 'in', 'side_space_id': 0}\n",
      "\n",
      "{'tensor_name': 'c', 'tensor_id': 0, 'tensor_nickname': 'c_0', 'space_id': 1, 'dim': d, 'is_dangling_end': False, 'side_original': 'in', 'side_space_id': 0}\n",
      "<->\n",
      "{'tensor_name': 'm', 'tensor_id': 3, 'tensor_nickname': 'm_3', 'space_id': 0, 'dim': d, 'is_dangling_end': False, 'side_original': 'out', 'side_space_id': 0}\n",
      "\n",
      "{'tensor_name': 'm', 'tensor_id': 0, 'tensor_nickname': 'm_0', 'space_id': 0, 'dim': d, 'is_dangling_end': False, 'side_original': 'out', 'side_space_id': 0}\n",
      "<->\n",
      "{'tensor_name': 'n', 'tensor_id': 3, 'tensor_nickname': 'n_3', 'space_id': 0, 'dim': d, 'is_dangling_end': False, 'side_original': 'out', 'side_space_id': 0}\n",
      "\n",
      "{'tensor_name': 'm', 'tensor_id': 3, 'tensor_nickname': 'm_3', 'space_id': 1, 'dim': d, 'is_dangling_end': False, 'side_original': 'in', 'side_space_id': 0}\n",
      "<->\n",
      "{'tensor_name': 'n', 'tensor_id': 0, 'tensor_nickname': 'n_0', 'space_id': 0, 'dim': d, 'is_dangling_end': False, 'side_original': 'out', 'side_space_id': 0}\n",
      "\n",
      "{'tensor_name': 'a', 'tensor_id': 1, 'tensor_nickname': 'a_1', 'space_id': 0, 'dim': d, 'is_dangling_end': False, 'side_original': 'out', 'side_space_id': 0}\n",
      "<->\n",
      "{'tensor_name': 'n', 'tensor_id': 0, 'tensor_nickname': 'n_0', 'space_id': 1, 'dim': d, 'is_dangling_end': False, 'side_original': 'in', 'side_space_id': 0}\n",
      "\n",
      "{'tensor_name': 'a', 'tensor_id': 1, 'tensor_nickname': 'a_1', 'space_id': 1, 'dim': d, 'is_dangling_end': False, 'side_original': 'in', 'side_space_id': 0}\n",
      "<->\n",
      "{'tensor_name': 'n', 'tensor_id': 2, 'tensor_nickname': 'n_2', 'space_id': 1, 'dim': d, 'is_dangling_end': False, 'side_original': 'in', 'side_space_id': 0}\n",
      "\n",
      "{'tensor_name': 'b', 'tensor_id': 1, 'tensor_nickname': 'b_1', 'space_id': 0, 'dim': d, 'is_dangling_end': False, 'side_original': 'out', 'side_space_id': 0}\n",
      "<->\n",
      "{'tensor_name': 'n', 'tensor_id': 2, 'tensor_nickname': 'n_2', 'space_id': 0, 'dim': d, 'is_dangling_end': False, 'side_original': 'out', 'side_space_id': 0}\n",
      "\n",
      "{'tensor_name': 'b', 'tensor_id': 1, 'tensor_nickname': 'b_1', 'space_id': 1, 'dim': d, 'is_dangling_end': False, 'side_original': 'in', 'side_space_id': 0}\n",
      "<->\n",
      "{'tensor_name': 'n', 'tensor_id': 1, 'tensor_nickname': 'n_1', 'space_id': 0, 'dim': d, 'is_dangling_end': False, 'side_original': 'out', 'side_space_id': 0}\n",
      "\n",
      "{'tensor_name': 'c', 'tensor_id': 1, 'tensor_nickname': 'c_1', 'space_id': 0, 'dim': d, 'is_dangling_end': False, 'side_original': 'out', 'side_space_id': 0}\n",
      "<->\n",
      "{'tensor_name': 'n', 'tensor_id': 1, 'tensor_nickname': 'n_1', 'space_id': 1, 'dim': d, 'is_dangling_end': False, 'side_original': 'in', 'side_space_id': 0}\n",
      "\n",
      "{'tensor_name': 'c', 'tensor_id': 1, 'tensor_nickname': 'c_1', 'space_id': 1, 'dim': d, 'is_dangling_end': False, 'side_original': 'in', 'side_space_id': 0}\n",
      "<->\n",
      "{'tensor_name': 'n', 'tensor_id': 3, 'tensor_nickname': 'n_3', 'space_id': 1, 'dim': d, 'is_dangling_end': False, 'side_original': 'in', 'side_space_id': 0}\n",
      "\n",
      "\n"
     ]
    }
   ],
   "source": [
    "tensor_networks.show(detail=True)"
   ]
  },
  {
   "cell_type": "markdown",
   "id": "ad79cd0b",
   "metadata": {},
   "source": [
    "## The first integration gives $4$ tensor networks with individual histories. "
   ]
  },
  {
   "cell_type": "code",
   "execution_count": 7,
   "id": "81465162",
   "metadata": {},
   "outputs": [
    {
     "name": "stdout",
     "output_type": "stream",
     "text": [
      "Integrated. We now have 4 tensor networks.\n",
      "\n",
      "History of tensor network.\n",
      "[{'random_tensor_name': 'm', 'random_tensor_type': 'unitary', 'is_complex': True, 'is_group': True, 'dims_mat': ((d,), (d,)), 'dims_tensor': (d, d), 'size': 2, 'loops': [], 'pairs': ([(0, 0), (1, 1)], [(0, 0), (1, 1)]), 'yd': (1, 1)}]\n",
      "\n",
      "Weight:\n"
     ]
    },
    {
     "data": {
      "text/latex": [
       "$\\displaystyle \\frac{1}{\\left(d - 1\\right) \\left(d + 1\\right)}$"
      ],
      "text/plain": [
       "1/((d - 1)*(d + 1))"
      ]
     },
     "metadata": {},
     "output_type": "display_data"
    },
    {
     "name": "stdout",
     "output_type": "stream",
     "text": [
      "\n",
      "Edges:\n",
      "{'tensor_name': 'a', 'tensor_id': 0, 'tensor_nickname': 'a_0', 'space_id': 0, 'dim': d, 'is_dangling_end': False, 'side_original': 'out', 'side_space_id': 0}\n",
      "<->\n",
      "{'tensor_name': 'b', 'tensor_id': 0, 'tensor_nickname': 'b_0', 'space_id': 0, 'dim': d, 'is_dangling_end': False, 'side_original': 'out', 'side_space_id': 0}\n",
      "\n",
      "{'tensor_name': 'a', 'tensor_id': 0, 'tensor_nickname': 'a_0', 'space_id': 1, 'dim': d, 'is_dangling_end': False, 'side_original': 'in', 'side_space_id': 0}\n",
      "<->\n",
      "{'tensor_name': 'n', 'tensor_id': 3, 'tensor_nickname': 'n_3', 'space_id': 0, 'dim': d, 'is_dangling_end': False, 'side_original': 'out', 'side_space_id': 0}\n",
      "\n",
      "{'tensor_name': 'b', 'tensor_id': 0, 'tensor_nickname': 'b_0', 'space_id': 1, 'dim': d, 'is_dangling_end': False, 'side_original': 'in', 'side_space_id': 0}\n",
      "<->\n",
      "{'tensor_name': 'c', 'tensor_id': 0, 'tensor_nickname': 'c_0', 'space_id': 1, 'dim': d, 'is_dangling_end': False, 'side_original': 'in', 'side_space_id': 0}\n",
      "\n",
      "{'tensor_name': 'c', 'tensor_id': 0, 'tensor_nickname': 'c_0', 'space_id': 0, 'dim': d, 'is_dangling_end': False, 'side_original': 'out', 'side_space_id': 0}\n",
      "<->\n",
      "{'tensor_name': 'n', 'tensor_id': 0, 'tensor_nickname': 'n_0', 'space_id': 0, 'dim': d, 'is_dangling_end': False, 'side_original': 'out', 'side_space_id': 0}\n",
      "\n",
      "{'tensor_name': 'a', 'tensor_id': 1, 'tensor_nickname': 'a_1', 'space_id': 0, 'dim': d, 'is_dangling_end': False, 'side_original': 'out', 'side_space_id': 0}\n",
      "<->\n",
      "{'tensor_name': 'n', 'tensor_id': 0, 'tensor_nickname': 'n_0', 'space_id': 1, 'dim': d, 'is_dangling_end': False, 'side_original': 'in', 'side_space_id': 0}\n",
      "\n",
      "{'tensor_name': 'a', 'tensor_id': 1, 'tensor_nickname': 'a_1', 'space_id': 1, 'dim': d, 'is_dangling_end': False, 'side_original': 'in', 'side_space_id': 0}\n",
      "<->\n",
      "{'tensor_name': 'n', 'tensor_id': 2, 'tensor_nickname': 'n_2', 'space_id': 1, 'dim': d, 'is_dangling_end': False, 'side_original': 'in', 'side_space_id': 0}\n",
      "\n",
      "{'tensor_name': 'b', 'tensor_id': 1, 'tensor_nickname': 'b_1', 'space_id': 0, 'dim': d, 'is_dangling_end': False, 'side_original': 'out', 'side_space_id': 0}\n",
      "<->\n",
      "{'tensor_name': 'n', 'tensor_id': 2, 'tensor_nickname': 'n_2', 'space_id': 0, 'dim': d, 'is_dangling_end': False, 'side_original': 'out', 'side_space_id': 0}\n",
      "\n",
      "{'tensor_name': 'b', 'tensor_id': 1, 'tensor_nickname': 'b_1', 'space_id': 1, 'dim': d, 'is_dangling_end': False, 'side_original': 'in', 'side_space_id': 0}\n",
      "<->\n",
      "{'tensor_name': 'n', 'tensor_id': 1, 'tensor_nickname': 'n_1', 'space_id': 0, 'dim': d, 'is_dangling_end': False, 'side_original': 'out', 'side_space_id': 0}\n",
      "\n",
      "{'tensor_name': 'c', 'tensor_id': 1, 'tensor_nickname': 'c_1', 'space_id': 0, 'dim': d, 'is_dangling_end': False, 'side_original': 'out', 'side_space_id': 0}\n",
      "<->\n",
      "{'tensor_name': 'n', 'tensor_id': 1, 'tensor_nickname': 'n_1', 'space_id': 1, 'dim': d, 'is_dangling_end': False, 'side_original': 'in', 'side_space_id': 0}\n",
      "\n",
      "{'tensor_name': 'c', 'tensor_id': 1, 'tensor_nickname': 'c_1', 'space_id': 1, 'dim': d, 'is_dangling_end': False, 'side_original': 'in', 'side_space_id': 0}\n",
      "<->\n",
      "{'tensor_name': 'n', 'tensor_id': 3, 'tensor_nickname': 'n_3', 'space_id': 1, 'dim': d, 'is_dangling_end': False, 'side_original': 'in', 'side_space_id': 0}\n",
      "\n",
      "\n",
      "History of tensor network.\n",
      "[{'random_tensor_name': 'm', 'random_tensor_type': 'unitary', 'is_complex': True, 'is_group': True, 'dims_mat': ((d,), (d,)), 'dims_tensor': (d, d), 'size': 2, 'loops': [], 'pairs': ([(0, 0), (1, 1)], [(0, 1), (1, 0)]), 'yd': (2,)}]\n",
      "\n",
      "Weight:\n"
     ]
    },
    {
     "data": {
      "text/latex": [
       "$\\displaystyle - \\frac{1}{d \\left(d - 1\\right) \\left(d + 1\\right)}$"
      ],
      "text/plain": [
       "-1/(d*(d - 1)*(d + 1))"
      ]
     },
     "metadata": {},
     "output_type": "display_data"
    },
    {
     "name": "stdout",
     "output_type": "stream",
     "text": [
      "\n",
      "Edges:\n",
      "{'tensor_name': 'a', 'tensor_id': 0, 'tensor_nickname': 'a_0', 'space_id': 0, 'dim': d, 'is_dangling_end': False, 'side_original': 'out', 'side_space_id': 0}\n",
      "<->\n",
      "{'tensor_name': 'n', 'tensor_id': 0, 'tensor_nickname': 'n_0', 'space_id': 0, 'dim': d, 'is_dangling_end': False, 'side_original': 'out', 'side_space_id': 0}\n",
      "\n",
      "{'tensor_name': 'a', 'tensor_id': 0, 'tensor_nickname': 'a_0', 'space_id': 1, 'dim': d, 'is_dangling_end': False, 'side_original': 'in', 'side_space_id': 0}\n",
      "<->\n",
      "{'tensor_name': 'n', 'tensor_id': 3, 'tensor_nickname': 'n_3', 'space_id': 0, 'dim': d, 'is_dangling_end': False, 'side_original': 'out', 'side_space_id': 0}\n",
      "\n",
      "{'tensor_name': 'b', 'tensor_id': 0, 'tensor_nickname': 'b_0', 'space_id': 0, 'dim': d, 'is_dangling_end': False, 'side_original': 'out', 'side_space_id': 0}\n",
      "<->\n",
      "{'tensor_name': 'c', 'tensor_id': 0, 'tensor_nickname': 'c_0', 'space_id': 0, 'dim': d, 'is_dangling_end': False, 'side_original': 'out', 'side_space_id': 0}\n",
      "\n",
      "{'tensor_name': 'b', 'tensor_id': 0, 'tensor_nickname': 'b_0', 'space_id': 1, 'dim': d, 'is_dangling_end': False, 'side_original': 'in', 'side_space_id': 0}\n",
      "<->\n",
      "{'tensor_name': 'c', 'tensor_id': 0, 'tensor_nickname': 'c_0', 'space_id': 1, 'dim': d, 'is_dangling_end': False, 'side_original': 'in', 'side_space_id': 0}\n",
      "\n",
      "{'tensor_name': 'a', 'tensor_id': 1, 'tensor_nickname': 'a_1', 'space_id': 0, 'dim': d, 'is_dangling_end': False, 'side_original': 'out', 'side_space_id': 0}\n",
      "<->\n",
      "{'tensor_name': 'n', 'tensor_id': 0, 'tensor_nickname': 'n_0', 'space_id': 1, 'dim': d, 'is_dangling_end': False, 'side_original': 'in', 'side_space_id': 0}\n",
      "\n",
      "{'tensor_name': 'a', 'tensor_id': 1, 'tensor_nickname': 'a_1', 'space_id': 1, 'dim': d, 'is_dangling_end': False, 'side_original': 'in', 'side_space_id': 0}\n",
      "<->\n",
      "{'tensor_name': 'n', 'tensor_id': 2, 'tensor_nickname': 'n_2', 'space_id': 1, 'dim': d, 'is_dangling_end': False, 'side_original': 'in', 'side_space_id': 0}\n",
      "\n",
      "{'tensor_name': 'b', 'tensor_id': 1, 'tensor_nickname': 'b_1', 'space_id': 0, 'dim': d, 'is_dangling_end': False, 'side_original': 'out', 'side_space_id': 0}\n",
      "<->\n",
      "{'tensor_name': 'n', 'tensor_id': 2, 'tensor_nickname': 'n_2', 'space_id': 0, 'dim': d, 'is_dangling_end': False, 'side_original': 'out', 'side_space_id': 0}\n",
      "\n",
      "{'tensor_name': 'b', 'tensor_id': 1, 'tensor_nickname': 'b_1', 'space_id': 1, 'dim': d, 'is_dangling_end': False, 'side_original': 'in', 'side_space_id': 0}\n",
      "<->\n",
      "{'tensor_name': 'n', 'tensor_id': 1, 'tensor_nickname': 'n_1', 'space_id': 0, 'dim': d, 'is_dangling_end': False, 'side_original': 'out', 'side_space_id': 0}\n",
      "\n",
      "{'tensor_name': 'c', 'tensor_id': 1, 'tensor_nickname': 'c_1', 'space_id': 0, 'dim': d, 'is_dangling_end': False, 'side_original': 'out', 'side_space_id': 0}\n",
      "<->\n",
      "{'tensor_name': 'n', 'tensor_id': 1, 'tensor_nickname': 'n_1', 'space_id': 1, 'dim': d, 'is_dangling_end': False, 'side_original': 'in', 'side_space_id': 0}\n",
      "\n",
      "{'tensor_name': 'c', 'tensor_id': 1, 'tensor_nickname': 'c_1', 'space_id': 1, 'dim': d, 'is_dangling_end': False, 'side_original': 'in', 'side_space_id': 0}\n",
      "<->\n",
      "{'tensor_name': 'n', 'tensor_id': 3, 'tensor_nickname': 'n_3', 'space_id': 1, 'dim': d, 'is_dangling_end': False, 'side_original': 'in', 'side_space_id': 0}\n",
      "\n",
      "\n",
      "History of tensor network.\n",
      "[{'random_tensor_name': 'm', 'random_tensor_type': 'unitary', 'is_complex': True, 'is_group': True, 'dims_mat': ((d,), (d,)), 'dims_tensor': (d, d), 'size': 2, 'loops': [], 'pairs': ([(0, 1), (1, 0)], [(0, 0), (1, 1)]), 'yd': (2,)}]\n",
      "\n",
      "Weight:\n"
     ]
    },
    {
     "data": {
      "text/latex": [
       "$\\displaystyle - \\frac{1}{d \\left(d - 1\\right) \\left(d + 1\\right)}$"
      ],
      "text/plain": [
       "-1/(d*(d - 1)*(d + 1))"
      ]
     },
     "metadata": {},
     "output_type": "display_data"
    },
    {
     "name": "stdout",
     "output_type": "stream",
     "text": [
      "\n",
      "Edges:\n",
      "{'tensor_name': 'a', 'tensor_id': 0, 'tensor_nickname': 'a_0', 'space_id': 0, 'dim': d, 'is_dangling_end': False, 'side_original': 'out', 'side_space_id': 0}\n",
      "<->\n",
      "{'tensor_name': 'b', 'tensor_id': 0, 'tensor_nickname': 'b_0', 'space_id': 0, 'dim': d, 'is_dangling_end': False, 'side_original': 'out', 'side_space_id': 0}\n",
      "\n",
      "{'tensor_name': 'a', 'tensor_id': 0, 'tensor_nickname': 'a_0', 'space_id': 1, 'dim': d, 'is_dangling_end': False, 'side_original': 'in', 'side_space_id': 0}\n",
      "<->\n",
      "{'tensor_name': 'b', 'tensor_id': 0, 'tensor_nickname': 'b_0', 'space_id': 1, 'dim': d, 'is_dangling_end': False, 'side_original': 'in', 'side_space_id': 0}\n",
      "\n",
      "{'tensor_name': 'c', 'tensor_id': 0, 'tensor_nickname': 'c_0', 'space_id': 0, 'dim': d, 'is_dangling_end': False, 'side_original': 'out', 'side_space_id': 0}\n",
      "<->\n",
      "{'tensor_name': 'n', 'tensor_id': 0, 'tensor_nickname': 'n_0', 'space_id': 0, 'dim': d, 'is_dangling_end': False, 'side_original': 'out', 'side_space_id': 0}\n",
      "\n",
      "{'tensor_name': 'c', 'tensor_id': 0, 'tensor_nickname': 'c_0', 'space_id': 1, 'dim': d, 'is_dangling_end': False, 'side_original': 'in', 'side_space_id': 0}\n",
      "<->\n",
      "{'tensor_name': 'n', 'tensor_id': 3, 'tensor_nickname': 'n_3', 'space_id': 0, 'dim': d, 'is_dangling_end': False, 'side_original': 'out', 'side_space_id': 0}\n",
      "\n",
      "{'tensor_name': 'a', 'tensor_id': 1, 'tensor_nickname': 'a_1', 'space_id': 0, 'dim': d, 'is_dangling_end': False, 'side_original': 'out', 'side_space_id': 0}\n",
      "<->\n",
      "{'tensor_name': 'n', 'tensor_id': 0, 'tensor_nickname': 'n_0', 'space_id': 1, 'dim': d, 'is_dangling_end': False, 'side_original': 'in', 'side_space_id': 0}\n",
      "\n",
      "{'tensor_name': 'a', 'tensor_id': 1, 'tensor_nickname': 'a_1', 'space_id': 1, 'dim': d, 'is_dangling_end': False, 'side_original': 'in', 'side_space_id': 0}\n",
      "<->\n",
      "{'tensor_name': 'n', 'tensor_id': 2, 'tensor_nickname': 'n_2', 'space_id': 1, 'dim': d, 'is_dangling_end': False, 'side_original': 'in', 'side_space_id': 0}\n",
      "\n",
      "{'tensor_name': 'b', 'tensor_id': 1, 'tensor_nickname': 'b_1', 'space_id': 0, 'dim': d, 'is_dangling_end': False, 'side_original': 'out', 'side_space_id': 0}\n",
      "<->\n",
      "{'tensor_name': 'n', 'tensor_id': 2, 'tensor_nickname': 'n_2', 'space_id': 0, 'dim': d, 'is_dangling_end': False, 'side_original': 'out', 'side_space_id': 0}\n",
      "\n",
      "{'tensor_name': 'b', 'tensor_id': 1, 'tensor_nickname': 'b_1', 'space_id': 1, 'dim': d, 'is_dangling_end': False, 'side_original': 'in', 'side_space_id': 0}\n",
      "<->\n",
      "{'tensor_name': 'n', 'tensor_id': 1, 'tensor_nickname': 'n_1', 'space_id': 0, 'dim': d, 'is_dangling_end': False, 'side_original': 'out', 'side_space_id': 0}\n",
      "\n",
      "{'tensor_name': 'c', 'tensor_id': 1, 'tensor_nickname': 'c_1', 'space_id': 0, 'dim': d, 'is_dangling_end': False, 'side_original': 'out', 'side_space_id': 0}\n",
      "<->\n",
      "{'tensor_name': 'n', 'tensor_id': 1, 'tensor_nickname': 'n_1', 'space_id': 1, 'dim': d, 'is_dangling_end': False, 'side_original': 'in', 'side_space_id': 0}\n",
      "\n",
      "{'tensor_name': 'c', 'tensor_id': 1, 'tensor_nickname': 'c_1', 'space_id': 1, 'dim': d, 'is_dangling_end': False, 'side_original': 'in', 'side_space_id': 0}\n",
      "<->\n",
      "{'tensor_name': 'n', 'tensor_id': 3, 'tensor_nickname': 'n_3', 'space_id': 1, 'dim': d, 'is_dangling_end': False, 'side_original': 'in', 'side_space_id': 0}\n",
      "\n",
      "\n",
      "History of tensor network.\n",
      "[{'random_tensor_name': 'm', 'random_tensor_type': 'unitary', 'is_complex': True, 'is_group': True, 'dims_mat': ((d,), (d,)), 'dims_tensor': (d, d), 'size': 2, 'loops': [], 'pairs': ([(0, 1), (1, 0)], [(0, 1), (1, 0)]), 'yd': (1, 1)}]\n",
      "\n",
      "Weight:\n"
     ]
    },
    {
     "data": {
      "text/latex": [
       "$\\displaystyle \\frac{1}{\\left(d - 1\\right) \\left(d + 1\\right)}$"
      ],
      "text/plain": [
       "1/((d - 1)*(d + 1))"
      ]
     },
     "metadata": {},
     "output_type": "display_data"
    },
    {
     "name": "stdout",
     "output_type": "stream",
     "text": [
      "\n",
      "Edges:\n",
      "{'tensor_name': 'a', 'tensor_id': 0, 'tensor_nickname': 'a_0', 'space_id': 0, 'dim': d, 'is_dangling_end': False, 'side_original': 'out', 'side_space_id': 0}\n",
      "<->\n",
      "{'tensor_name': 'n', 'tensor_id': 0, 'tensor_nickname': 'n_0', 'space_id': 0, 'dim': d, 'is_dangling_end': False, 'side_original': 'out', 'side_space_id': 0}\n",
      "\n",
      "{'tensor_name': 'a', 'tensor_id': 0, 'tensor_nickname': 'a_0', 'space_id': 1, 'dim': d, 'is_dangling_end': False, 'side_original': 'in', 'side_space_id': 0}\n",
      "<->\n",
      "{'tensor_name': 'b', 'tensor_id': 0, 'tensor_nickname': 'b_0', 'space_id': 1, 'dim': d, 'is_dangling_end': False, 'side_original': 'in', 'side_space_id': 0}\n",
      "\n",
      "{'tensor_name': 'b', 'tensor_id': 0, 'tensor_nickname': 'b_0', 'space_id': 0, 'dim': d, 'is_dangling_end': False, 'side_original': 'out', 'side_space_id': 0}\n",
      "<->\n",
      "{'tensor_name': 'c', 'tensor_id': 0, 'tensor_nickname': 'c_0', 'space_id': 0, 'dim': d, 'is_dangling_end': False, 'side_original': 'out', 'side_space_id': 0}\n",
      "\n",
      "{'tensor_name': 'c', 'tensor_id': 0, 'tensor_nickname': 'c_0', 'space_id': 1, 'dim': d, 'is_dangling_end': False, 'side_original': 'in', 'side_space_id': 0}\n",
      "<->\n",
      "{'tensor_name': 'n', 'tensor_id': 3, 'tensor_nickname': 'n_3', 'space_id': 0, 'dim': d, 'is_dangling_end': False, 'side_original': 'out', 'side_space_id': 0}\n",
      "\n",
      "{'tensor_name': 'a', 'tensor_id': 1, 'tensor_nickname': 'a_1', 'space_id': 0, 'dim': d, 'is_dangling_end': False, 'side_original': 'out', 'side_space_id': 0}\n",
      "<->\n",
      "{'tensor_name': 'n', 'tensor_id': 0, 'tensor_nickname': 'n_0', 'space_id': 1, 'dim': d, 'is_dangling_end': False, 'side_original': 'in', 'side_space_id': 0}\n",
      "\n",
      "{'tensor_name': 'a', 'tensor_id': 1, 'tensor_nickname': 'a_1', 'space_id': 1, 'dim': d, 'is_dangling_end': False, 'side_original': 'in', 'side_space_id': 0}\n",
      "<->\n",
      "{'tensor_name': 'n', 'tensor_id': 2, 'tensor_nickname': 'n_2', 'space_id': 1, 'dim': d, 'is_dangling_end': False, 'side_original': 'in', 'side_space_id': 0}\n",
      "\n",
      "{'tensor_name': 'b', 'tensor_id': 1, 'tensor_nickname': 'b_1', 'space_id': 0, 'dim': d, 'is_dangling_end': False, 'side_original': 'out', 'side_space_id': 0}\n",
      "<->\n",
      "{'tensor_name': 'n', 'tensor_id': 2, 'tensor_nickname': 'n_2', 'space_id': 0, 'dim': d, 'is_dangling_end': False, 'side_original': 'out', 'side_space_id': 0}\n",
      "\n",
      "{'tensor_name': 'b', 'tensor_id': 1, 'tensor_nickname': 'b_1', 'space_id': 1, 'dim': d, 'is_dangling_end': False, 'side_original': 'in', 'side_space_id': 0}\n",
      "<->\n",
      "{'tensor_name': 'n', 'tensor_id': 1, 'tensor_nickname': 'n_1', 'space_id': 0, 'dim': d, 'is_dangling_end': False, 'side_original': 'out', 'side_space_id': 0}\n",
      "\n",
      "{'tensor_name': 'c', 'tensor_id': 1, 'tensor_nickname': 'c_1', 'space_id': 0, 'dim': d, 'is_dangling_end': False, 'side_original': 'out', 'side_space_id': 0}\n",
      "<->\n",
      "{'tensor_name': 'n', 'tensor_id': 1, 'tensor_nickname': 'n_1', 'space_id': 1, 'dim': d, 'is_dangling_end': False, 'side_original': 'in', 'side_space_id': 0}\n",
      "\n",
      "{'tensor_name': 'c', 'tensor_id': 1, 'tensor_nickname': 'c_1', 'space_id': 1, 'dim': d, 'is_dangling_end': False, 'side_original': 'in', 'side_space_id': 0}\n",
      "<->\n",
      "{'tensor_name': 'n', 'tensor_id': 3, 'tensor_nickname': 'n_3', 'space_id': 1, 'dim': d, 'is_dangling_end': False, 'side_original': 'in', 'side_space_id': 0}\n",
      "\n",
      "\n"
     ]
    }
   ],
   "source": [
    "tensor_networks.integrate('m', 'unitary')\n",
    "tensor_networks.show(detail=True)"
   ]
  },
  {
   "cell_type": "markdown",
   "id": "39310931",
   "metadata": {},
   "source": [
    "## The second integration results in $4\\times 9$ tensor networks."
   ]
  },
  {
   "cell_type": "code",
   "execution_count": 8,
   "id": "babc6e32",
   "metadata": {},
   "outputs": [
    {
     "name": "stdout",
     "output_type": "stream",
     "text": [
      "Integrated. We now have 36 tensor networks.\n",
      "\n",
      "History of tensor network.\n",
      "[{'random_tensor_name': 'm', 'random_tensor_type': 'unitary', 'is_complex': True, 'is_group': True, 'dims_mat': ((d,), (d,)), 'dims_tensor': (d, d), 'size': 2, 'loops': [], 'pairs': ([(0, 0), (1, 1)], [(0, 0), (1, 1)]), 'yd': (1, 1)}, {'random_tensor_name': 'n', 'random_tensor_type': 'orthogonal', 'is_complex': False, 'is_group': True, 'dims_mat': ((d,), (d,)), 'dims_tensor': (d, d), 'size': 2, 'loops': [], 'pairs': ([(0, 1), (2, 3)], [(0, 1), (2, 3)]), 'yd': (1, 1)}]\n",
      "\n",
      "Weight:\n"
     ]
    },
    {
     "data": {
      "text/latex": [
       "$\\displaystyle \\frac{1}{d \\left(d - 1\\right)^{2} \\left(d + 2\\right)}$"
      ],
      "text/plain": [
       "1/(d*(d - 1)**2*(d + 2))"
      ]
     },
     "metadata": {},
     "output_type": "display_data"
    },
    {
     "name": "stdout",
     "output_type": "stream",
     "text": [
      "\n",
      "Edges:\n",
      "{'tensor_name': 'a', 'tensor_id': 0, 'tensor_nickname': 'a_0', 'space_id': 0, 'dim': d, 'is_dangling_end': False, 'side_original': 'out', 'side_space_id': 0}\n",
      "<->\n",
      "{'tensor_name': 'b', 'tensor_id': 0, 'tensor_nickname': 'b_0', 'space_id': 0, 'dim': d, 'is_dangling_end': False, 'side_original': 'out', 'side_space_id': 0}\n",
      "\n",
      "{'tensor_name': 'a', 'tensor_id': 0, 'tensor_nickname': 'a_0', 'space_id': 1, 'dim': d, 'is_dangling_end': False, 'side_original': 'in', 'side_space_id': 0}\n",
      "<->\n",
      "{'tensor_name': 'b', 'tensor_id': 1, 'tensor_nickname': 'b_1', 'space_id': 0, 'dim': d, 'is_dangling_end': False, 'side_original': 'out', 'side_space_id': 0}\n",
      "\n",
      "{'tensor_name': 'b', 'tensor_id': 0, 'tensor_nickname': 'b_0', 'space_id': 1, 'dim': d, 'is_dangling_end': False, 'side_original': 'in', 'side_space_id': 0}\n",
      "<->\n",
      "{'tensor_name': 'c', 'tensor_id': 0, 'tensor_nickname': 'c_0', 'space_id': 1, 'dim': d, 'is_dangling_end': False, 'side_original': 'in', 'side_space_id': 0}\n",
      "\n",
      "{'tensor_name': 'b', 'tensor_id': 1, 'tensor_nickname': 'b_1', 'space_id': 1, 'dim': d, 'is_dangling_end': False, 'side_original': 'in', 'side_space_id': 0}\n",
      "<->\n",
      "{'tensor_name': 'c', 'tensor_id': 0, 'tensor_nickname': 'c_0', 'space_id': 0, 'dim': d, 'is_dangling_end': False, 'side_original': 'out', 'side_space_id': 0}\n",
      "\n",
      "{'tensor_name': 'a', 'tensor_id': 1, 'tensor_nickname': 'a_1', 'space_id': 0, 'dim': d, 'is_dangling_end': False, 'side_original': 'out', 'side_space_id': 0}\n",
      "<->\n",
      "{'tensor_name': 'c', 'tensor_id': 1, 'tensor_nickname': 'c_1', 'space_id': 0, 'dim': d, 'is_dangling_end': False, 'side_original': 'out', 'side_space_id': 0}\n",
      "\n",
      "{'tensor_name': 'a', 'tensor_id': 1, 'tensor_nickname': 'a_1', 'space_id': 1, 'dim': d, 'is_dangling_end': False, 'side_original': 'in', 'side_space_id': 0}\n",
      "<->\n",
      "{'tensor_name': 'c', 'tensor_id': 1, 'tensor_nickname': 'c_1', 'space_id': 1, 'dim': d, 'is_dangling_end': False, 'side_original': 'in', 'side_space_id': 0}\n",
      "\n",
      "\n",
      "History of tensor network.\n",
      "[{'random_tensor_name': 'm', 'random_tensor_type': 'unitary', 'is_complex': True, 'is_group': True, 'dims_mat': ((d,), (d,)), 'dims_tensor': (d, d), 'size': 2, 'loops': [], 'pairs': ([(0, 0), (1, 1)], [(0, 0), (1, 1)]), 'yd': (1, 1)}, {'random_tensor_name': 'n', 'random_tensor_type': 'orthogonal', 'is_complex': False, 'is_group': True, 'dims_mat': ((d,), (d,)), 'dims_tensor': (d, d), 'size': 2, 'loops': [], 'pairs': ([(0, 1), (2, 3)], [(0, 2), (1, 3)]), 'yd': (2,)}]\n",
      "\n",
      "Weight:\n"
     ]
    },
    {
     "data": {
      "text/latex": [
       "$\\displaystyle - \\frac{1}{d \\left(d - 1\\right)^{2} \\left(d + 1\\right) \\left(d + 2\\right)}$"
      ],
      "text/plain": [
       "-1/(d*(d - 1)**2*(d + 1)*(d + 2))"
      ]
     },
     "metadata": {},
     "output_type": "display_data"
    },
    {
     "name": "stdout",
     "output_type": "stream",
     "text": [
      "\n",
      "Edges:\n",
      "{'tensor_name': 'a', 'tensor_id': 0, 'tensor_nickname': 'a_0', 'space_id': 0, 'dim': d, 'is_dangling_end': False, 'side_original': 'out', 'side_space_id': 0}\n",
      "<->\n",
      "{'tensor_name': 'b', 'tensor_id': 0, 'tensor_nickname': 'b_0', 'space_id': 0, 'dim': d, 'is_dangling_end': False, 'side_original': 'out', 'side_space_id': 0}\n",
      "\n",
      "{'tensor_name': 'a', 'tensor_id': 0, 'tensor_nickname': 'a_0', 'space_id': 1, 'dim': d, 'is_dangling_end': False, 'side_original': 'in', 'side_space_id': 0}\n",
      "<->\n",
      "{'tensor_name': 'b', 'tensor_id': 1, 'tensor_nickname': 'b_1', 'space_id': 0, 'dim': d, 'is_dangling_end': False, 'side_original': 'out', 'side_space_id': 0}\n",
      "\n",
      "{'tensor_name': 'b', 'tensor_id': 0, 'tensor_nickname': 'b_0', 'space_id': 1, 'dim': d, 'is_dangling_end': False, 'side_original': 'in', 'side_space_id': 0}\n",
      "<->\n",
      "{'tensor_name': 'c', 'tensor_id': 0, 'tensor_nickname': 'c_0', 'space_id': 1, 'dim': d, 'is_dangling_end': False, 'side_original': 'in', 'side_space_id': 0}\n",
      "\n",
      "{'tensor_name': 'b', 'tensor_id': 1, 'tensor_nickname': 'b_1', 'space_id': 1, 'dim': d, 'is_dangling_end': False, 'side_original': 'in', 'side_space_id': 0}\n",
      "<->\n",
      "{'tensor_name': 'c', 'tensor_id': 0, 'tensor_nickname': 'c_0', 'space_id': 0, 'dim': d, 'is_dangling_end': False, 'side_original': 'out', 'side_space_id': 0}\n",
      "\n",
      "{'tensor_name': 'a', 'tensor_id': 1, 'tensor_nickname': 'a_1', 'space_id': 0, 'dim': d, 'is_dangling_end': False, 'side_original': 'out', 'side_space_id': 0}\n",
      "<->\n",
      "{'tensor_name': 'a', 'tensor_id': 1, 'tensor_nickname': 'a_1', 'space_id': 1, 'dim': d, 'is_dangling_end': False, 'side_original': 'in', 'side_space_id': 0}\n",
      "\n",
      "{'tensor_name': 'c', 'tensor_id': 1, 'tensor_nickname': 'c_1', 'space_id': 0, 'dim': d, 'is_dangling_end': False, 'side_original': 'out', 'side_space_id': 0}\n",
      "<->\n",
      "{'tensor_name': 'c', 'tensor_id': 1, 'tensor_nickname': 'c_1', 'space_id': 1, 'dim': d, 'is_dangling_end': False, 'side_original': 'in', 'side_space_id': 0}\n",
      "\n",
      "\n",
      "History of tensor network.\n",
      "[{'random_tensor_name': 'm', 'random_tensor_type': 'unitary', 'is_complex': True, 'is_group': True, 'dims_mat': ((d,), (d,)), 'dims_tensor': (d, d), 'size': 2, 'loops': [], 'pairs': ([(0, 0), (1, 1)], [(0, 0), (1, 1)]), 'yd': (1, 1)}, {'random_tensor_name': 'n', 'random_tensor_type': 'orthogonal', 'is_complex': False, 'is_group': True, 'dims_mat': ((d,), (d,)), 'dims_tensor': (d, d), 'size': 2, 'loops': [], 'pairs': ([(0, 1), (2, 3)], [(0, 3), (1, 2)]), 'yd': (2,)}]\n",
      "\n",
      "Weight:\n"
     ]
    },
    {
     "data": {
      "text/latex": [
       "$\\displaystyle - \\frac{1}{d \\left(d - 1\\right)^{2} \\left(d + 1\\right) \\left(d + 2\\right)}$"
      ],
      "text/plain": [
       "-1/(d*(d - 1)**2*(d + 1)*(d + 2))"
      ]
     },
     "metadata": {},
     "output_type": "display_data"
    },
    {
     "name": "stdout",
     "output_type": "stream",
     "text": [
      "\n",
      "Edges:\n",
      "{'tensor_name': 'a', 'tensor_id': 0, 'tensor_nickname': 'a_0', 'space_id': 0, 'dim': d, 'is_dangling_end': False, 'side_original': 'out', 'side_space_id': 0}\n",
      "<->\n",
      "{'tensor_name': 'b', 'tensor_id': 0, 'tensor_nickname': 'b_0', 'space_id': 0, 'dim': d, 'is_dangling_end': False, 'side_original': 'out', 'side_space_id': 0}\n",
      "\n",
      "{'tensor_name': 'a', 'tensor_id': 0, 'tensor_nickname': 'a_0', 'space_id': 1, 'dim': d, 'is_dangling_end': False, 'side_original': 'in', 'side_space_id': 0}\n",
      "<->\n",
      "{'tensor_name': 'b', 'tensor_id': 1, 'tensor_nickname': 'b_1', 'space_id': 0, 'dim': d, 'is_dangling_end': False, 'side_original': 'out', 'side_space_id': 0}\n",
      "\n",
      "{'tensor_name': 'b', 'tensor_id': 0, 'tensor_nickname': 'b_0', 'space_id': 1, 'dim': d, 'is_dangling_end': False, 'side_original': 'in', 'side_space_id': 0}\n",
      "<->\n",
      "{'tensor_name': 'c', 'tensor_id': 0, 'tensor_nickname': 'c_0', 'space_id': 1, 'dim': d, 'is_dangling_end': False, 'side_original': 'in', 'side_space_id': 0}\n",
      "\n",
      "{'tensor_name': 'b', 'tensor_id': 1, 'tensor_nickname': 'b_1', 'space_id': 1, 'dim': d, 'is_dangling_end': False, 'side_original': 'in', 'side_space_id': 0}\n",
      "<->\n",
      "{'tensor_name': 'c', 'tensor_id': 0, 'tensor_nickname': 'c_0', 'space_id': 0, 'dim': d, 'is_dangling_end': False, 'side_original': 'out', 'side_space_id': 0}\n",
      "\n",
      "{'tensor_name': 'a', 'tensor_id': 1, 'tensor_nickname': 'a_1', 'space_id': 0, 'dim': d, 'is_dangling_end': False, 'side_original': 'out', 'side_space_id': 0}\n",
      "<->\n",
      "{'tensor_name': 'c', 'tensor_id': 1, 'tensor_nickname': 'c_1', 'space_id': 1, 'dim': d, 'is_dangling_end': False, 'side_original': 'in', 'side_space_id': 0}\n",
      "\n",
      "{'tensor_name': 'a', 'tensor_id': 1, 'tensor_nickname': 'a_1', 'space_id': 1, 'dim': d, 'is_dangling_end': False, 'side_original': 'in', 'side_space_id': 0}\n",
      "<->\n",
      "{'tensor_name': 'c', 'tensor_id': 1, 'tensor_nickname': 'c_1', 'space_id': 0, 'dim': d, 'is_dangling_end': False, 'side_original': 'out', 'side_space_id': 0}\n",
      "\n",
      "\n",
      "History of tensor network.\n",
      "[{'random_tensor_name': 'm', 'random_tensor_type': 'unitary', 'is_complex': True, 'is_group': True, 'dims_mat': ((d,), (d,)), 'dims_tensor': (d, d), 'size': 2, 'loops': [], 'pairs': ([(0, 0), (1, 1)], [(0, 0), (1, 1)]), 'yd': (1, 1)}, {'random_tensor_name': 'n', 'random_tensor_type': 'orthogonal', 'is_complex': False, 'is_group': True, 'dims_mat': ((d,), (d,)), 'dims_tensor': (d, d), 'size': 2, 'loops': [], 'pairs': ([(0, 2), (1, 3)], [(0, 1), (2, 3)]), 'yd': (2,)}]\n",
      "\n",
      "Weight:\n"
     ]
    },
    {
     "data": {
      "text/latex": [
       "$\\displaystyle - \\frac{1}{d \\left(d - 1\\right)^{2} \\left(d + 1\\right) \\left(d + 2\\right)}$"
      ],
      "text/plain": [
       "-1/(d*(d - 1)**2*(d + 1)*(d + 2))"
      ]
     },
     "metadata": {},
     "output_type": "display_data"
    },
    {
     "name": "stdout",
     "output_type": "stream",
     "text": [
      "\n",
      "Edges:\n",
      "{'tensor_name': 'a', 'tensor_id': 0, 'tensor_nickname': 'a_0', 'space_id': 0, 'dim': d, 'is_dangling_end': False, 'side_original': 'out', 'side_space_id': 0}\n",
      "<->\n",
      "{'tensor_name': 'b', 'tensor_id': 0, 'tensor_nickname': 'b_0', 'space_id': 0, 'dim': d, 'is_dangling_end': False, 'side_original': 'out', 'side_space_id': 0}\n",
      "\n",
      "{'tensor_name': 'a', 'tensor_id': 0, 'tensor_nickname': 'a_0', 'space_id': 1, 'dim': d, 'is_dangling_end': False, 'side_original': 'in', 'side_space_id': 0}\n",
      "<->\n",
      "{'tensor_name': 'b', 'tensor_id': 1, 'tensor_nickname': 'b_1', 'space_id': 1, 'dim': d, 'is_dangling_end': False, 'side_original': 'in', 'side_space_id': 0}\n",
      "\n",
      "{'tensor_name': 'b', 'tensor_id': 0, 'tensor_nickname': 'b_0', 'space_id': 1, 'dim': d, 'is_dangling_end': False, 'side_original': 'in', 'side_space_id': 0}\n",
      "<->\n",
      "{'tensor_name': 'c', 'tensor_id': 0, 'tensor_nickname': 'c_0', 'space_id': 1, 'dim': d, 'is_dangling_end': False, 'side_original': 'in', 'side_space_id': 0}\n",
      "\n",
      "{'tensor_name': 'b', 'tensor_id': 1, 'tensor_nickname': 'b_1', 'space_id': 0, 'dim': d, 'is_dangling_end': False, 'side_original': 'out', 'side_space_id': 0}\n",
      "<->\n",
      "{'tensor_name': 'c', 'tensor_id': 0, 'tensor_nickname': 'c_0', 'space_id': 0, 'dim': d, 'is_dangling_end': False, 'side_original': 'out', 'side_space_id': 0}\n",
      "\n",
      "{'tensor_name': 'a', 'tensor_id': 1, 'tensor_nickname': 'a_1', 'space_id': 0, 'dim': d, 'is_dangling_end': False, 'side_original': 'out', 'side_space_id': 0}\n",
      "<->\n",
      "{'tensor_name': 'c', 'tensor_id': 1, 'tensor_nickname': 'c_1', 'space_id': 0, 'dim': d, 'is_dangling_end': False, 'side_original': 'out', 'side_space_id': 0}\n",
      "\n",
      "{'tensor_name': 'a', 'tensor_id': 1, 'tensor_nickname': 'a_1', 'space_id': 1, 'dim': d, 'is_dangling_end': False, 'side_original': 'in', 'side_space_id': 0}\n",
      "<->\n",
      "{'tensor_name': 'c', 'tensor_id': 1, 'tensor_nickname': 'c_1', 'space_id': 1, 'dim': d, 'is_dangling_end': False, 'side_original': 'in', 'side_space_id': 0}\n",
      "\n",
      "\n",
      "History of tensor network.\n",
      "[{'random_tensor_name': 'm', 'random_tensor_type': 'unitary', 'is_complex': True, 'is_group': True, 'dims_mat': ((d,), (d,)), 'dims_tensor': (d, d), 'size': 2, 'loops': [], 'pairs': ([(0, 0), (1, 1)], [(0, 0), (1, 1)]), 'yd': (1, 1)}, {'random_tensor_name': 'n', 'random_tensor_type': 'orthogonal', 'is_complex': False, 'is_group': True, 'dims_mat': ((d,), (d,)), 'dims_tensor': (d, d), 'size': 2, 'loops': [], 'pairs': ([(0, 2), (1, 3)], [(0, 2), (1, 3)]), 'yd': (1, 1)}]\n",
      "\n",
      "Weight:\n"
     ]
    },
    {
     "data": {
      "text/latex": [
       "$\\displaystyle \\frac{1}{d \\left(d - 1\\right)^{2} \\left(d + 2\\right)}$"
      ],
      "text/plain": [
       "1/(d*(d - 1)**2*(d + 2))"
      ]
     },
     "metadata": {},
     "output_type": "display_data"
    },
    {
     "name": "stdout",
     "output_type": "stream",
     "text": [
      "\n",
      "Edges:\n",
      "{'tensor_name': 'a', 'tensor_id': 0, 'tensor_nickname': 'a_0', 'space_id': 0, 'dim': d, 'is_dangling_end': False, 'side_original': 'out', 'side_space_id': 0}\n",
      "<->\n",
      "{'tensor_name': 'b', 'tensor_id': 0, 'tensor_nickname': 'b_0', 'space_id': 0, 'dim': d, 'is_dangling_end': False, 'side_original': 'out', 'side_space_id': 0}\n",
      "\n",
      "{'tensor_name': 'a', 'tensor_id': 0, 'tensor_nickname': 'a_0', 'space_id': 1, 'dim': d, 'is_dangling_end': False, 'side_original': 'in', 'side_space_id': 0}\n",
      "<->\n",
      "{'tensor_name': 'b', 'tensor_id': 1, 'tensor_nickname': 'b_1', 'space_id': 1, 'dim': d, 'is_dangling_end': False, 'side_original': 'in', 'side_space_id': 0}\n",
      "\n",
      "{'tensor_name': 'b', 'tensor_id': 0, 'tensor_nickname': 'b_0', 'space_id': 1, 'dim': d, 'is_dangling_end': False, 'side_original': 'in', 'side_space_id': 0}\n",
      "<->\n",
      "{'tensor_name': 'c', 'tensor_id': 0, 'tensor_nickname': 'c_0', 'space_id': 1, 'dim': d, 'is_dangling_end': False, 'side_original': 'in', 'side_space_id': 0}\n",
      "\n",
      "{'tensor_name': 'b', 'tensor_id': 1, 'tensor_nickname': 'b_1', 'space_id': 0, 'dim': d, 'is_dangling_end': False, 'side_original': 'out', 'side_space_id': 0}\n",
      "<->\n",
      "{'tensor_name': 'c', 'tensor_id': 0, 'tensor_nickname': 'c_0', 'space_id': 0, 'dim': d, 'is_dangling_end': False, 'side_original': 'out', 'side_space_id': 0}\n",
      "\n",
      "{'tensor_name': 'a', 'tensor_id': 1, 'tensor_nickname': 'a_1', 'space_id': 0, 'dim': d, 'is_dangling_end': False, 'side_original': 'out', 'side_space_id': 0}\n",
      "<->\n",
      "{'tensor_name': 'a', 'tensor_id': 1, 'tensor_nickname': 'a_1', 'space_id': 1, 'dim': d, 'is_dangling_end': False, 'side_original': 'in', 'side_space_id': 0}\n",
      "\n",
      "{'tensor_name': 'c', 'tensor_id': 1, 'tensor_nickname': 'c_1', 'space_id': 0, 'dim': d, 'is_dangling_end': False, 'side_original': 'out', 'side_space_id': 0}\n",
      "<->\n",
      "{'tensor_name': 'c', 'tensor_id': 1, 'tensor_nickname': 'c_1', 'space_id': 1, 'dim': d, 'is_dangling_end': False, 'side_original': 'in', 'side_space_id': 0}\n",
      "\n",
      "\n",
      "History of tensor network.\n",
      "[{'random_tensor_name': 'm', 'random_tensor_type': 'unitary', 'is_complex': True, 'is_group': True, 'dims_mat': ((d,), (d,)), 'dims_tensor': (d, d), 'size': 2, 'loops': [], 'pairs': ([(0, 0), (1, 1)], [(0, 0), (1, 1)]), 'yd': (1, 1)}, {'random_tensor_name': 'n', 'random_tensor_type': 'orthogonal', 'is_complex': False, 'is_group': True, 'dims_mat': ((d,), (d,)), 'dims_tensor': (d, d), 'size': 2, 'loops': [], 'pairs': ([(0, 2), (1, 3)], [(0, 3), (1, 2)]), 'yd': (2,)}]\n",
      "\n",
      "Weight:\n"
     ]
    },
    {
     "data": {
      "text/latex": [
       "$\\displaystyle - \\frac{1}{d \\left(d - 1\\right)^{2} \\left(d + 1\\right) \\left(d + 2\\right)}$"
      ],
      "text/plain": [
       "-1/(d*(d - 1)**2*(d + 1)*(d + 2))"
      ]
     },
     "metadata": {},
     "output_type": "display_data"
    },
    {
     "name": "stdout",
     "output_type": "stream",
     "text": [
      "\n",
      "Edges:\n",
      "{'tensor_name': 'a', 'tensor_id': 0, 'tensor_nickname': 'a_0', 'space_id': 0, 'dim': d, 'is_dangling_end': False, 'side_original': 'out', 'side_space_id': 0}\n",
      "<->\n",
      "{'tensor_name': 'b', 'tensor_id': 0, 'tensor_nickname': 'b_0', 'space_id': 0, 'dim': d, 'is_dangling_end': False, 'side_original': 'out', 'side_space_id': 0}\n",
      "\n",
      "{'tensor_name': 'a', 'tensor_id': 0, 'tensor_nickname': 'a_0', 'space_id': 1, 'dim': d, 'is_dangling_end': False, 'side_original': 'in', 'side_space_id': 0}\n",
      "<->\n",
      "{'tensor_name': 'b', 'tensor_id': 1, 'tensor_nickname': 'b_1', 'space_id': 1, 'dim': d, 'is_dangling_end': False, 'side_original': 'in', 'side_space_id': 0}\n",
      "\n",
      "{'tensor_name': 'b', 'tensor_id': 0, 'tensor_nickname': 'b_0', 'space_id': 1, 'dim': d, 'is_dangling_end': False, 'side_original': 'in', 'side_space_id': 0}\n",
      "<->\n",
      "{'tensor_name': 'c', 'tensor_id': 0, 'tensor_nickname': 'c_0', 'space_id': 1, 'dim': d, 'is_dangling_end': False, 'side_original': 'in', 'side_space_id': 0}\n",
      "\n",
      "{'tensor_name': 'b', 'tensor_id': 1, 'tensor_nickname': 'b_1', 'space_id': 0, 'dim': d, 'is_dangling_end': False, 'side_original': 'out', 'side_space_id': 0}\n",
      "<->\n",
      "{'tensor_name': 'c', 'tensor_id': 0, 'tensor_nickname': 'c_0', 'space_id': 0, 'dim': d, 'is_dangling_end': False, 'side_original': 'out', 'side_space_id': 0}\n",
      "\n",
      "{'tensor_name': 'a', 'tensor_id': 1, 'tensor_nickname': 'a_1', 'space_id': 0, 'dim': d, 'is_dangling_end': False, 'side_original': 'out', 'side_space_id': 0}\n",
      "<->\n",
      "{'tensor_name': 'c', 'tensor_id': 1, 'tensor_nickname': 'c_1', 'space_id': 1, 'dim': d, 'is_dangling_end': False, 'side_original': 'in', 'side_space_id': 0}\n",
      "\n",
      "{'tensor_name': 'a', 'tensor_id': 1, 'tensor_nickname': 'a_1', 'space_id': 1, 'dim': d, 'is_dangling_end': False, 'side_original': 'in', 'side_space_id': 0}\n",
      "<->\n",
      "{'tensor_name': 'c', 'tensor_id': 1, 'tensor_nickname': 'c_1', 'space_id': 0, 'dim': d, 'is_dangling_end': False, 'side_original': 'out', 'side_space_id': 0}\n",
      "\n",
      "\n",
      "History of tensor network.\n",
      "[{'random_tensor_name': 'm', 'random_tensor_type': 'unitary', 'is_complex': True, 'is_group': True, 'dims_mat': ((d,), (d,)), 'dims_tensor': (d, d), 'size': 2, 'loops': [], 'pairs': ([(0, 0), (1, 1)], [(0, 0), (1, 1)]), 'yd': (1, 1)}, {'random_tensor_name': 'n', 'random_tensor_type': 'orthogonal', 'is_complex': False, 'is_group': True, 'dims_mat': ((d,), (d,)), 'dims_tensor': (d, d), 'size': 2, 'loops': [], 'pairs': ([(0, 3), (1, 2)], [(0, 1), (2, 3)]), 'yd': (2,)}]\n",
      "\n",
      "Weight:\n"
     ]
    },
    {
     "data": {
      "text/latex": [
       "$\\displaystyle - \\frac{1}{d \\left(d - 1\\right)^{2} \\left(d + 1\\right) \\left(d + 2\\right)}$"
      ],
      "text/plain": [
       "-1/(d*(d - 1)**2*(d + 1)*(d + 2))"
      ]
     },
     "metadata": {},
     "output_type": "display_data"
    },
    {
     "name": "stdout",
     "output_type": "stream",
     "text": [
      "\n",
      "Edges:\n",
      "{'tensor_name': 'a', 'tensor_id': 0, 'tensor_nickname': 'a_0', 'space_id': 0, 'dim': d, 'is_dangling_end': False, 'side_original': 'out', 'side_space_id': 0}\n",
      "<->\n",
      "{'tensor_name': 'b', 'tensor_id': 0, 'tensor_nickname': 'b_0', 'space_id': 0, 'dim': d, 'is_dangling_end': False, 'side_original': 'out', 'side_space_id': 0}\n",
      "\n",
      "{'tensor_name': 'a', 'tensor_id': 0, 'tensor_nickname': 'a_0', 'space_id': 1, 'dim': d, 'is_dangling_end': False, 'side_original': 'in', 'side_space_id': 0}\n",
      "<->\n",
      "{'tensor_name': 'c', 'tensor_id': 0, 'tensor_nickname': 'c_0', 'space_id': 0, 'dim': d, 'is_dangling_end': False, 'side_original': 'out', 'side_space_id': 0}\n",
      "\n",
      "{'tensor_name': 'b', 'tensor_id': 0, 'tensor_nickname': 'b_0', 'space_id': 1, 'dim': d, 'is_dangling_end': False, 'side_original': 'in', 'side_space_id': 0}\n",
      "<->\n",
      "{'tensor_name': 'c', 'tensor_id': 0, 'tensor_nickname': 'c_0', 'space_id': 1, 'dim': d, 'is_dangling_end': False, 'side_original': 'in', 'side_space_id': 0}\n",
      "\n",
      "{'tensor_name': 'a', 'tensor_id': 1, 'tensor_nickname': 'a_1', 'space_id': 0, 'dim': d, 'is_dangling_end': False, 'side_original': 'out', 'side_space_id': 0}\n",
      "<->\n",
      "{'tensor_name': 'c', 'tensor_id': 1, 'tensor_nickname': 'c_1', 'space_id': 0, 'dim': d, 'is_dangling_end': False, 'side_original': 'out', 'side_space_id': 0}\n",
      "\n",
      "{'tensor_name': 'a', 'tensor_id': 1, 'tensor_nickname': 'a_1', 'space_id': 1, 'dim': d, 'is_dangling_end': False, 'side_original': 'in', 'side_space_id': 0}\n",
      "<->\n",
      "{'tensor_name': 'c', 'tensor_id': 1, 'tensor_nickname': 'c_1', 'space_id': 1, 'dim': d, 'is_dangling_end': False, 'side_original': 'in', 'side_space_id': 0}\n",
      "\n",
      "{'tensor_name': 'b', 'tensor_id': 1, 'tensor_nickname': 'b_1', 'space_id': 0, 'dim': d, 'is_dangling_end': False, 'side_original': 'out', 'side_space_id': 0}\n",
      "<->\n",
      "{'tensor_name': 'b', 'tensor_id': 1, 'tensor_nickname': 'b_1', 'space_id': 1, 'dim': d, 'is_dangling_end': False, 'side_original': 'in', 'side_space_id': 0}\n",
      "\n",
      "\n",
      "History of tensor network.\n",
      "[{'random_tensor_name': 'm', 'random_tensor_type': 'unitary', 'is_complex': True, 'is_group': True, 'dims_mat': ((d,), (d,)), 'dims_tensor': (d, d), 'size': 2, 'loops': [], 'pairs': ([(0, 0), (1, 1)], [(0, 0), (1, 1)]), 'yd': (1, 1)}, {'random_tensor_name': 'n', 'random_tensor_type': 'orthogonal', 'is_complex': False, 'is_group': True, 'dims_mat': ((d,), (d,)), 'dims_tensor': (d, d), 'size': 2, 'loops': [], 'pairs': ([(0, 3), (1, 2)], [(0, 2), (1, 3)]), 'yd': (2,)}]\n",
      "\n",
      "Weight:\n"
     ]
    },
    {
     "data": {
      "text/latex": [
       "$\\displaystyle - \\frac{1}{d \\left(d - 1\\right)^{2} \\left(d + 1\\right) \\left(d + 2\\right)}$"
      ],
      "text/plain": [
       "-1/(d*(d - 1)**2*(d + 1)*(d + 2))"
      ]
     },
     "metadata": {},
     "output_type": "display_data"
    },
    {
     "name": "stdout",
     "output_type": "stream",
     "text": [
      "\n",
      "Edges:\n",
      "{'tensor_name': 'a', 'tensor_id': 0, 'tensor_nickname': 'a_0', 'space_id': 0, 'dim': d, 'is_dangling_end': False, 'side_original': 'out', 'side_space_id': 0}\n",
      "<->\n",
      "{'tensor_name': 'b', 'tensor_id': 0, 'tensor_nickname': 'b_0', 'space_id': 0, 'dim': d, 'is_dangling_end': False, 'side_original': 'out', 'side_space_id': 0}\n",
      "\n",
      "{'tensor_name': 'a', 'tensor_id': 0, 'tensor_nickname': 'a_0', 'space_id': 1, 'dim': d, 'is_dangling_end': False, 'side_original': 'in', 'side_space_id': 0}\n",
      "<->\n",
      "{'tensor_name': 'c', 'tensor_id': 0, 'tensor_nickname': 'c_0', 'space_id': 0, 'dim': d, 'is_dangling_end': False, 'side_original': 'out', 'side_space_id': 0}\n",
      "\n",
      "{'tensor_name': 'b', 'tensor_id': 0, 'tensor_nickname': 'b_0', 'space_id': 1, 'dim': d, 'is_dangling_end': False, 'side_original': 'in', 'side_space_id': 0}\n",
      "<->\n",
      "{'tensor_name': 'c', 'tensor_id': 0, 'tensor_nickname': 'c_0', 'space_id': 1, 'dim': d, 'is_dangling_end': False, 'side_original': 'in', 'side_space_id': 0}\n",
      "\n",
      "{'tensor_name': 'a', 'tensor_id': 1, 'tensor_nickname': 'a_1', 'space_id': 0, 'dim': d, 'is_dangling_end': False, 'side_original': 'out', 'side_space_id': 0}\n",
      "<->\n",
      "{'tensor_name': 'a', 'tensor_id': 1, 'tensor_nickname': 'a_1', 'space_id': 1, 'dim': d, 'is_dangling_end': False, 'side_original': 'in', 'side_space_id': 0}\n",
      "\n",
      "{'tensor_name': 'b', 'tensor_id': 1, 'tensor_nickname': 'b_1', 'space_id': 0, 'dim': d, 'is_dangling_end': False, 'side_original': 'out', 'side_space_id': 0}\n",
      "<->\n",
      "{'tensor_name': 'b', 'tensor_id': 1, 'tensor_nickname': 'b_1', 'space_id': 1, 'dim': d, 'is_dangling_end': False, 'side_original': 'in', 'side_space_id': 0}\n",
      "\n",
      "{'tensor_name': 'c', 'tensor_id': 1, 'tensor_nickname': 'c_1', 'space_id': 0, 'dim': d, 'is_dangling_end': False, 'side_original': 'out', 'side_space_id': 0}\n",
      "<->\n",
      "{'tensor_name': 'c', 'tensor_id': 1, 'tensor_nickname': 'c_1', 'space_id': 1, 'dim': d, 'is_dangling_end': False, 'side_original': 'in', 'side_space_id': 0}\n",
      "\n",
      "\n",
      "History of tensor network.\n",
      "[{'random_tensor_name': 'm', 'random_tensor_type': 'unitary', 'is_complex': True, 'is_group': True, 'dims_mat': ((d,), (d,)), 'dims_tensor': (d, d), 'size': 2, 'loops': [], 'pairs': ([(0, 0), (1, 1)], [(0, 0), (1, 1)]), 'yd': (1, 1)}, {'random_tensor_name': 'n', 'random_tensor_type': 'orthogonal', 'is_complex': False, 'is_group': True, 'dims_mat': ((d,), (d,)), 'dims_tensor': (d, d), 'size': 2, 'loops': [], 'pairs': ([(0, 3), (1, 2)], [(0, 3), (1, 2)]), 'yd': (1, 1)}]\n",
      "\n",
      "Weight:\n"
     ]
    },
    {
     "data": {
      "text/latex": [
       "$\\displaystyle \\frac{1}{d \\left(d - 1\\right)^{2} \\left(d + 2\\right)}$"
      ],
      "text/plain": [
       "1/(d*(d - 1)**2*(d + 2))"
      ]
     },
     "metadata": {},
     "output_type": "display_data"
    },
    {
     "name": "stdout",
     "output_type": "stream",
     "text": [
      "\n",
      "Edges:\n",
      "{'tensor_name': 'a', 'tensor_id': 0, 'tensor_nickname': 'a_0', 'space_id': 0, 'dim': d, 'is_dangling_end': False, 'side_original': 'out', 'side_space_id': 0}\n",
      "<->\n",
      "{'tensor_name': 'b', 'tensor_id': 0, 'tensor_nickname': 'b_0', 'space_id': 0, 'dim': d, 'is_dangling_end': False, 'side_original': 'out', 'side_space_id': 0}\n",
      "\n",
      "{'tensor_name': 'a', 'tensor_id': 0, 'tensor_nickname': 'a_0', 'space_id': 1, 'dim': d, 'is_dangling_end': False, 'side_original': 'in', 'side_space_id': 0}\n",
      "<->\n",
      "{'tensor_name': 'c', 'tensor_id': 0, 'tensor_nickname': 'c_0', 'space_id': 0, 'dim': d, 'is_dangling_end': False, 'side_original': 'out', 'side_space_id': 0}\n",
      "\n",
      "{'tensor_name': 'b', 'tensor_id': 0, 'tensor_nickname': 'b_0', 'space_id': 1, 'dim': d, 'is_dangling_end': False, 'side_original': 'in', 'side_space_id': 0}\n",
      "<->\n",
      "{'tensor_name': 'c', 'tensor_id': 0, 'tensor_nickname': 'c_0', 'space_id': 1, 'dim': d, 'is_dangling_end': False, 'side_original': 'in', 'side_space_id': 0}\n",
      "\n",
      "{'tensor_name': 'a', 'tensor_id': 1, 'tensor_nickname': 'a_1', 'space_id': 0, 'dim': d, 'is_dangling_end': False, 'side_original': 'out', 'side_space_id': 0}\n",
      "<->\n",
      "{'tensor_name': 'c', 'tensor_id': 1, 'tensor_nickname': 'c_1', 'space_id': 1, 'dim': d, 'is_dangling_end': False, 'side_original': 'in', 'side_space_id': 0}\n",
      "\n",
      "{'tensor_name': 'a', 'tensor_id': 1, 'tensor_nickname': 'a_1', 'space_id': 1, 'dim': d, 'is_dangling_end': False, 'side_original': 'in', 'side_space_id': 0}\n",
      "<->\n",
      "{'tensor_name': 'c', 'tensor_id': 1, 'tensor_nickname': 'c_1', 'space_id': 0, 'dim': d, 'is_dangling_end': False, 'side_original': 'out', 'side_space_id': 0}\n",
      "\n",
      "{'tensor_name': 'b', 'tensor_id': 1, 'tensor_nickname': 'b_1', 'space_id': 0, 'dim': d, 'is_dangling_end': False, 'side_original': 'out', 'side_space_id': 0}\n",
      "<->\n",
      "{'tensor_name': 'b', 'tensor_id': 1, 'tensor_nickname': 'b_1', 'space_id': 1, 'dim': d, 'is_dangling_end': False, 'side_original': 'in', 'side_space_id': 0}\n",
      "\n",
      "\n",
      "History of tensor network.\n",
      "[{'random_tensor_name': 'm', 'random_tensor_type': 'unitary', 'is_complex': True, 'is_group': True, 'dims_mat': ((d,), (d,)), 'dims_tensor': (d, d), 'size': 2, 'loops': [], 'pairs': ([(0, 0), (1, 1)], [(0, 1), (1, 0)]), 'yd': (2,)}, {'random_tensor_name': 'n', 'random_tensor_type': 'orthogonal', 'is_complex': False, 'is_group': True, 'dims_mat': ((d,), (d,)), 'dims_tensor': (d, d), 'size': 2, 'loops': [], 'pairs': ([(0, 1), (2, 3)], [(0, 1), (2, 3)]), 'yd': (1, 1)}]\n",
      "\n",
      "Weight:\n"
     ]
    },
    {
     "data": {
      "text/latex": [
       "$\\displaystyle - \\frac{1}{d^{2} \\left(d - 1\\right)^{2} \\left(d + 2\\right)}$"
      ],
      "text/plain": [
       "-1/(d**2*(d - 1)**2*(d + 2))"
      ]
     },
     "metadata": {},
     "output_type": "display_data"
    },
    {
     "name": "stdout",
     "output_type": "stream",
     "text": [
      "\n",
      "Edges:\n",
      "{'tensor_name': 'a', 'tensor_id': 0, 'tensor_nickname': 'a_0', 'space_id': 0, 'dim': d, 'is_dangling_end': False, 'side_original': 'out', 'side_space_id': 0}\n",
      "<->\n",
      "{'tensor_name': 'b', 'tensor_id': 1, 'tensor_nickname': 'b_1', 'space_id': 1, 'dim': d, 'is_dangling_end': False, 'side_original': 'in', 'side_space_id': 0}\n",
      "\n",
      "{'tensor_name': 'a', 'tensor_id': 0, 'tensor_nickname': 'a_0', 'space_id': 1, 'dim': d, 'is_dangling_end': False, 'side_original': 'in', 'side_space_id': 0}\n",
      "<->\n",
      "{'tensor_name': 'b', 'tensor_id': 1, 'tensor_nickname': 'b_1', 'space_id': 0, 'dim': d, 'is_dangling_end': False, 'side_original': 'out', 'side_space_id': 0}\n",
      "\n",
      "{'tensor_name': 'b', 'tensor_id': 0, 'tensor_nickname': 'b_0', 'space_id': 0, 'dim': d, 'is_dangling_end': False, 'side_original': 'out', 'side_space_id': 0}\n",
      "<->\n",
      "{'tensor_name': 'c', 'tensor_id': 0, 'tensor_nickname': 'c_0', 'space_id': 0, 'dim': d, 'is_dangling_end': False, 'side_original': 'out', 'side_space_id': 0}\n",
      "\n",
      "{'tensor_name': 'b', 'tensor_id': 0, 'tensor_nickname': 'b_0', 'space_id': 1, 'dim': d, 'is_dangling_end': False, 'side_original': 'in', 'side_space_id': 0}\n",
      "<->\n",
      "{'tensor_name': 'c', 'tensor_id': 0, 'tensor_nickname': 'c_0', 'space_id': 1, 'dim': d, 'is_dangling_end': False, 'side_original': 'in', 'side_space_id': 0}\n",
      "\n",
      "{'tensor_name': 'a', 'tensor_id': 1, 'tensor_nickname': 'a_1', 'space_id': 0, 'dim': d, 'is_dangling_end': False, 'side_original': 'out', 'side_space_id': 0}\n",
      "<->\n",
      "{'tensor_name': 'c', 'tensor_id': 1, 'tensor_nickname': 'c_1', 'space_id': 0, 'dim': d, 'is_dangling_end': False, 'side_original': 'out', 'side_space_id': 0}\n",
      "\n",
      "{'tensor_name': 'a', 'tensor_id': 1, 'tensor_nickname': 'a_1', 'space_id': 1, 'dim': d, 'is_dangling_end': False, 'side_original': 'in', 'side_space_id': 0}\n",
      "<->\n",
      "{'tensor_name': 'c', 'tensor_id': 1, 'tensor_nickname': 'c_1', 'space_id': 1, 'dim': d, 'is_dangling_end': False, 'side_original': 'in', 'side_space_id': 0}\n",
      "\n",
      "\n",
      "History of tensor network.\n",
      "[{'random_tensor_name': 'm', 'random_tensor_type': 'unitary', 'is_complex': True, 'is_group': True, 'dims_mat': ((d,), (d,)), 'dims_tensor': (d, d), 'size': 2, 'loops': [], 'pairs': ([(0, 0), (1, 1)], [(0, 1), (1, 0)]), 'yd': (2,)}, {'random_tensor_name': 'n', 'random_tensor_type': 'orthogonal', 'is_complex': False, 'is_group': True, 'dims_mat': ((d,), (d,)), 'dims_tensor': (d, d), 'size': 2, 'loops': [], 'pairs': ([(0, 1), (2, 3)], [(0, 2), (1, 3)]), 'yd': (2,)}]\n",
      "\n",
      "Weight:\n"
     ]
    },
    {
     "data": {
      "text/latex": [
       "$\\displaystyle \\frac{1}{d^{2} \\left(d - 1\\right)^{2} \\left(d + 1\\right) \\left(d + 2\\right)}$"
      ],
      "text/plain": [
       "1/(d**2*(d - 1)**2*(d + 1)*(d + 2))"
      ]
     },
     "metadata": {},
     "output_type": "display_data"
    },
    {
     "name": "stdout",
     "output_type": "stream",
     "text": [
      "\n",
      "Edges:\n",
      "{'tensor_name': 'a', 'tensor_id': 0, 'tensor_nickname': 'a_0', 'space_id': 0, 'dim': d, 'is_dangling_end': False, 'side_original': 'out', 'side_space_id': 0}\n",
      "<->\n",
      "{'tensor_name': 'b', 'tensor_id': 1, 'tensor_nickname': 'b_1', 'space_id': 1, 'dim': d, 'is_dangling_end': False, 'side_original': 'in', 'side_space_id': 0}\n",
      "\n",
      "{'tensor_name': 'a', 'tensor_id': 0, 'tensor_nickname': 'a_0', 'space_id': 1, 'dim': d, 'is_dangling_end': False, 'side_original': 'in', 'side_space_id': 0}\n",
      "<->\n",
      "{'tensor_name': 'b', 'tensor_id': 1, 'tensor_nickname': 'b_1', 'space_id': 0, 'dim': d, 'is_dangling_end': False, 'side_original': 'out', 'side_space_id': 0}\n",
      "\n",
      "{'tensor_name': 'b', 'tensor_id': 0, 'tensor_nickname': 'b_0', 'space_id': 0, 'dim': d, 'is_dangling_end': False, 'side_original': 'out', 'side_space_id': 0}\n",
      "<->\n",
      "{'tensor_name': 'c', 'tensor_id': 0, 'tensor_nickname': 'c_0', 'space_id': 0, 'dim': d, 'is_dangling_end': False, 'side_original': 'out', 'side_space_id': 0}\n",
      "\n",
      "{'tensor_name': 'b', 'tensor_id': 0, 'tensor_nickname': 'b_0', 'space_id': 1, 'dim': d, 'is_dangling_end': False, 'side_original': 'in', 'side_space_id': 0}\n",
      "<->\n",
      "{'tensor_name': 'c', 'tensor_id': 0, 'tensor_nickname': 'c_0', 'space_id': 1, 'dim': d, 'is_dangling_end': False, 'side_original': 'in', 'side_space_id': 0}\n",
      "\n",
      "{'tensor_name': 'a', 'tensor_id': 1, 'tensor_nickname': 'a_1', 'space_id': 0, 'dim': d, 'is_dangling_end': False, 'side_original': 'out', 'side_space_id': 0}\n",
      "<->\n",
      "{'tensor_name': 'a', 'tensor_id': 1, 'tensor_nickname': 'a_1', 'space_id': 1, 'dim': d, 'is_dangling_end': False, 'side_original': 'in', 'side_space_id': 0}\n",
      "\n",
      "{'tensor_name': 'c', 'tensor_id': 1, 'tensor_nickname': 'c_1', 'space_id': 0, 'dim': d, 'is_dangling_end': False, 'side_original': 'out', 'side_space_id': 0}\n",
      "<->\n",
      "{'tensor_name': 'c', 'tensor_id': 1, 'tensor_nickname': 'c_1', 'space_id': 1, 'dim': d, 'is_dangling_end': False, 'side_original': 'in', 'side_space_id': 0}\n",
      "\n",
      "\n",
      "History of tensor network.\n",
      "[{'random_tensor_name': 'm', 'random_tensor_type': 'unitary', 'is_complex': True, 'is_group': True, 'dims_mat': ((d,), (d,)), 'dims_tensor': (d, d), 'size': 2, 'loops': [], 'pairs': ([(0, 0), (1, 1)], [(0, 1), (1, 0)]), 'yd': (2,)}, {'random_tensor_name': 'n', 'random_tensor_type': 'orthogonal', 'is_complex': False, 'is_group': True, 'dims_mat': ((d,), (d,)), 'dims_tensor': (d, d), 'size': 2, 'loops': [], 'pairs': ([(0, 1), (2, 3)], [(0, 3), (1, 2)]), 'yd': (2,)}]\n",
      "\n",
      "Weight:\n"
     ]
    },
    {
     "data": {
      "text/latex": [
       "$\\displaystyle \\frac{1}{d^{2} \\left(d - 1\\right)^{2} \\left(d + 1\\right) \\left(d + 2\\right)}$"
      ],
      "text/plain": [
       "1/(d**2*(d - 1)**2*(d + 1)*(d + 2))"
      ]
     },
     "metadata": {},
     "output_type": "display_data"
    },
    {
     "name": "stdout",
     "output_type": "stream",
     "text": [
      "\n",
      "Edges:\n",
      "{'tensor_name': 'a', 'tensor_id': 0, 'tensor_nickname': 'a_0', 'space_id': 0, 'dim': d, 'is_dangling_end': False, 'side_original': 'out', 'side_space_id': 0}\n",
      "<->\n",
      "{'tensor_name': 'b', 'tensor_id': 1, 'tensor_nickname': 'b_1', 'space_id': 1, 'dim': d, 'is_dangling_end': False, 'side_original': 'in', 'side_space_id': 0}\n",
      "\n",
      "{'tensor_name': 'a', 'tensor_id': 0, 'tensor_nickname': 'a_0', 'space_id': 1, 'dim': d, 'is_dangling_end': False, 'side_original': 'in', 'side_space_id': 0}\n",
      "<->\n",
      "{'tensor_name': 'b', 'tensor_id': 1, 'tensor_nickname': 'b_1', 'space_id': 0, 'dim': d, 'is_dangling_end': False, 'side_original': 'out', 'side_space_id': 0}\n",
      "\n",
      "{'tensor_name': 'b', 'tensor_id': 0, 'tensor_nickname': 'b_0', 'space_id': 0, 'dim': d, 'is_dangling_end': False, 'side_original': 'out', 'side_space_id': 0}\n",
      "<->\n",
      "{'tensor_name': 'c', 'tensor_id': 0, 'tensor_nickname': 'c_0', 'space_id': 0, 'dim': d, 'is_dangling_end': False, 'side_original': 'out', 'side_space_id': 0}\n",
      "\n",
      "{'tensor_name': 'b', 'tensor_id': 0, 'tensor_nickname': 'b_0', 'space_id': 1, 'dim': d, 'is_dangling_end': False, 'side_original': 'in', 'side_space_id': 0}\n",
      "<->\n",
      "{'tensor_name': 'c', 'tensor_id': 0, 'tensor_nickname': 'c_0', 'space_id': 1, 'dim': d, 'is_dangling_end': False, 'side_original': 'in', 'side_space_id': 0}\n",
      "\n",
      "{'tensor_name': 'a', 'tensor_id': 1, 'tensor_nickname': 'a_1', 'space_id': 0, 'dim': d, 'is_dangling_end': False, 'side_original': 'out', 'side_space_id': 0}\n",
      "<->\n",
      "{'tensor_name': 'c', 'tensor_id': 1, 'tensor_nickname': 'c_1', 'space_id': 1, 'dim': d, 'is_dangling_end': False, 'side_original': 'in', 'side_space_id': 0}\n",
      "\n",
      "{'tensor_name': 'a', 'tensor_id': 1, 'tensor_nickname': 'a_1', 'space_id': 1, 'dim': d, 'is_dangling_end': False, 'side_original': 'in', 'side_space_id': 0}\n",
      "<->\n",
      "{'tensor_name': 'c', 'tensor_id': 1, 'tensor_nickname': 'c_1', 'space_id': 0, 'dim': d, 'is_dangling_end': False, 'side_original': 'out', 'side_space_id': 0}\n",
      "\n",
      "\n",
      "History of tensor network.\n",
      "[{'random_tensor_name': 'm', 'random_tensor_type': 'unitary', 'is_complex': True, 'is_group': True, 'dims_mat': ((d,), (d,)), 'dims_tensor': (d, d), 'size': 2, 'loops': [], 'pairs': ([(0, 0), (1, 1)], [(0, 1), (1, 0)]), 'yd': (2,)}, {'random_tensor_name': 'n', 'random_tensor_type': 'orthogonal', 'is_complex': False, 'is_group': True, 'dims_mat': ((d,), (d,)), 'dims_tensor': (d, d), 'size': 2, 'loops': [], 'pairs': ([(0, 2), (1, 3)], [(0, 1), (2, 3)]), 'yd': (2,)}]\n",
      "\n",
      "Weight:\n"
     ]
    },
    {
     "data": {
      "text/latex": [
       "$\\displaystyle \\frac{1}{d^{2} \\left(d - 1\\right)^{2} \\left(d + 1\\right) \\left(d + 2\\right)}$"
      ],
      "text/plain": [
       "1/(d**2*(d - 1)**2*(d + 1)*(d + 2))"
      ]
     },
     "metadata": {},
     "output_type": "display_data"
    },
    {
     "name": "stdout",
     "output_type": "stream",
     "text": [
      "\n",
      "Edges:\n",
      "{'tensor_name': 'a', 'tensor_id': 0, 'tensor_nickname': 'a_0', 'space_id': 0, 'dim': d, 'is_dangling_end': False, 'side_original': 'out', 'side_space_id': 0}\n",
      "<->\n",
      "{'tensor_name': 'b', 'tensor_id': 1, 'tensor_nickname': 'b_1', 'space_id': 0, 'dim': d, 'is_dangling_end': False, 'side_original': 'out', 'side_space_id': 0}\n",
      "\n",
      "{'tensor_name': 'a', 'tensor_id': 0, 'tensor_nickname': 'a_0', 'space_id': 1, 'dim': d, 'is_dangling_end': False, 'side_original': 'in', 'side_space_id': 0}\n",
      "<->\n",
      "{'tensor_name': 'b', 'tensor_id': 1, 'tensor_nickname': 'b_1', 'space_id': 1, 'dim': d, 'is_dangling_end': False, 'side_original': 'in', 'side_space_id': 0}\n",
      "\n",
      "{'tensor_name': 'b', 'tensor_id': 0, 'tensor_nickname': 'b_0', 'space_id': 0, 'dim': d, 'is_dangling_end': False, 'side_original': 'out', 'side_space_id': 0}\n",
      "<->\n",
      "{'tensor_name': 'c', 'tensor_id': 0, 'tensor_nickname': 'c_0', 'space_id': 0, 'dim': d, 'is_dangling_end': False, 'side_original': 'out', 'side_space_id': 0}\n",
      "\n",
      "{'tensor_name': 'b', 'tensor_id': 0, 'tensor_nickname': 'b_0', 'space_id': 1, 'dim': d, 'is_dangling_end': False, 'side_original': 'in', 'side_space_id': 0}\n",
      "<->\n",
      "{'tensor_name': 'c', 'tensor_id': 0, 'tensor_nickname': 'c_0', 'space_id': 1, 'dim': d, 'is_dangling_end': False, 'side_original': 'in', 'side_space_id': 0}\n",
      "\n",
      "{'tensor_name': 'a', 'tensor_id': 1, 'tensor_nickname': 'a_1', 'space_id': 0, 'dim': d, 'is_dangling_end': False, 'side_original': 'out', 'side_space_id': 0}\n",
      "<->\n",
      "{'tensor_name': 'c', 'tensor_id': 1, 'tensor_nickname': 'c_1', 'space_id': 0, 'dim': d, 'is_dangling_end': False, 'side_original': 'out', 'side_space_id': 0}\n",
      "\n",
      "{'tensor_name': 'a', 'tensor_id': 1, 'tensor_nickname': 'a_1', 'space_id': 1, 'dim': d, 'is_dangling_end': False, 'side_original': 'in', 'side_space_id': 0}\n",
      "<->\n",
      "{'tensor_name': 'c', 'tensor_id': 1, 'tensor_nickname': 'c_1', 'space_id': 1, 'dim': d, 'is_dangling_end': False, 'side_original': 'in', 'side_space_id': 0}\n",
      "\n",
      "\n",
      "History of tensor network.\n",
      "[{'random_tensor_name': 'm', 'random_tensor_type': 'unitary', 'is_complex': True, 'is_group': True, 'dims_mat': ((d,), (d,)), 'dims_tensor': (d, d), 'size': 2, 'loops': [], 'pairs': ([(0, 0), (1, 1)], [(0, 1), (1, 0)]), 'yd': (2,)}, {'random_tensor_name': 'n', 'random_tensor_type': 'orthogonal', 'is_complex': False, 'is_group': True, 'dims_mat': ((d,), (d,)), 'dims_tensor': (d, d), 'size': 2, 'loops': [], 'pairs': ([(0, 2), (1, 3)], [(0, 2), (1, 3)]), 'yd': (1, 1)}]\n",
      "\n",
      "Weight:\n"
     ]
    },
    {
     "data": {
      "text/latex": [
       "$\\displaystyle - \\frac{1}{d^{2} \\left(d - 1\\right)^{2} \\left(d + 2\\right)}$"
      ],
      "text/plain": [
       "-1/(d**2*(d - 1)**2*(d + 2))"
      ]
     },
     "metadata": {},
     "output_type": "display_data"
    },
    {
     "name": "stdout",
     "output_type": "stream",
     "text": [
      "\n",
      "Edges:\n",
      "{'tensor_name': 'a', 'tensor_id': 0, 'tensor_nickname': 'a_0', 'space_id': 0, 'dim': d, 'is_dangling_end': False, 'side_original': 'out', 'side_space_id': 0}\n",
      "<->\n",
      "{'tensor_name': 'b', 'tensor_id': 1, 'tensor_nickname': 'b_1', 'space_id': 0, 'dim': d, 'is_dangling_end': False, 'side_original': 'out', 'side_space_id': 0}\n",
      "\n",
      "{'tensor_name': 'a', 'tensor_id': 0, 'tensor_nickname': 'a_0', 'space_id': 1, 'dim': d, 'is_dangling_end': False, 'side_original': 'in', 'side_space_id': 0}\n",
      "<->\n",
      "{'tensor_name': 'b', 'tensor_id': 1, 'tensor_nickname': 'b_1', 'space_id': 1, 'dim': d, 'is_dangling_end': False, 'side_original': 'in', 'side_space_id': 0}\n",
      "\n",
      "{'tensor_name': 'b', 'tensor_id': 0, 'tensor_nickname': 'b_0', 'space_id': 0, 'dim': d, 'is_dangling_end': False, 'side_original': 'out', 'side_space_id': 0}\n",
      "<->\n",
      "{'tensor_name': 'c', 'tensor_id': 0, 'tensor_nickname': 'c_0', 'space_id': 0, 'dim': d, 'is_dangling_end': False, 'side_original': 'out', 'side_space_id': 0}\n",
      "\n",
      "{'tensor_name': 'b', 'tensor_id': 0, 'tensor_nickname': 'b_0', 'space_id': 1, 'dim': d, 'is_dangling_end': False, 'side_original': 'in', 'side_space_id': 0}\n",
      "<->\n",
      "{'tensor_name': 'c', 'tensor_id': 0, 'tensor_nickname': 'c_0', 'space_id': 1, 'dim': d, 'is_dangling_end': False, 'side_original': 'in', 'side_space_id': 0}\n",
      "\n",
      "{'tensor_name': 'a', 'tensor_id': 1, 'tensor_nickname': 'a_1', 'space_id': 0, 'dim': d, 'is_dangling_end': False, 'side_original': 'out', 'side_space_id': 0}\n",
      "<->\n",
      "{'tensor_name': 'a', 'tensor_id': 1, 'tensor_nickname': 'a_1', 'space_id': 1, 'dim': d, 'is_dangling_end': False, 'side_original': 'in', 'side_space_id': 0}\n",
      "\n",
      "{'tensor_name': 'c', 'tensor_id': 1, 'tensor_nickname': 'c_1', 'space_id': 0, 'dim': d, 'is_dangling_end': False, 'side_original': 'out', 'side_space_id': 0}\n",
      "<->\n",
      "{'tensor_name': 'c', 'tensor_id': 1, 'tensor_nickname': 'c_1', 'space_id': 1, 'dim': d, 'is_dangling_end': False, 'side_original': 'in', 'side_space_id': 0}\n",
      "\n",
      "\n",
      "History of tensor network.\n",
      "[{'random_tensor_name': 'm', 'random_tensor_type': 'unitary', 'is_complex': True, 'is_group': True, 'dims_mat': ((d,), (d,)), 'dims_tensor': (d, d), 'size': 2, 'loops': [], 'pairs': ([(0, 0), (1, 1)], [(0, 1), (1, 0)]), 'yd': (2,)}, {'random_tensor_name': 'n', 'random_tensor_type': 'orthogonal', 'is_complex': False, 'is_group': True, 'dims_mat': ((d,), (d,)), 'dims_tensor': (d, d), 'size': 2, 'loops': [], 'pairs': ([(0, 2), (1, 3)], [(0, 3), (1, 2)]), 'yd': (2,)}]\n",
      "\n",
      "Weight:\n"
     ]
    },
    {
     "data": {
      "text/latex": [
       "$\\displaystyle \\frac{1}{d^{2} \\left(d - 1\\right)^{2} \\left(d + 1\\right) \\left(d + 2\\right)}$"
      ],
      "text/plain": [
       "1/(d**2*(d - 1)**2*(d + 1)*(d + 2))"
      ]
     },
     "metadata": {},
     "output_type": "display_data"
    },
    {
     "name": "stdout",
     "output_type": "stream",
     "text": [
      "\n",
      "Edges:\n",
      "{'tensor_name': 'a', 'tensor_id': 0, 'tensor_nickname': 'a_0', 'space_id': 0, 'dim': d, 'is_dangling_end': False, 'side_original': 'out', 'side_space_id': 0}\n",
      "<->\n",
      "{'tensor_name': 'b', 'tensor_id': 1, 'tensor_nickname': 'b_1', 'space_id': 0, 'dim': d, 'is_dangling_end': False, 'side_original': 'out', 'side_space_id': 0}\n",
      "\n",
      "{'tensor_name': 'a', 'tensor_id': 0, 'tensor_nickname': 'a_0', 'space_id': 1, 'dim': d, 'is_dangling_end': False, 'side_original': 'in', 'side_space_id': 0}\n",
      "<->\n",
      "{'tensor_name': 'b', 'tensor_id': 1, 'tensor_nickname': 'b_1', 'space_id': 1, 'dim': d, 'is_dangling_end': False, 'side_original': 'in', 'side_space_id': 0}\n",
      "\n",
      "{'tensor_name': 'b', 'tensor_id': 0, 'tensor_nickname': 'b_0', 'space_id': 0, 'dim': d, 'is_dangling_end': False, 'side_original': 'out', 'side_space_id': 0}\n",
      "<->\n",
      "{'tensor_name': 'c', 'tensor_id': 0, 'tensor_nickname': 'c_0', 'space_id': 0, 'dim': d, 'is_dangling_end': False, 'side_original': 'out', 'side_space_id': 0}\n",
      "\n",
      "{'tensor_name': 'b', 'tensor_id': 0, 'tensor_nickname': 'b_0', 'space_id': 1, 'dim': d, 'is_dangling_end': False, 'side_original': 'in', 'side_space_id': 0}\n",
      "<->\n",
      "{'tensor_name': 'c', 'tensor_id': 0, 'tensor_nickname': 'c_0', 'space_id': 1, 'dim': d, 'is_dangling_end': False, 'side_original': 'in', 'side_space_id': 0}\n",
      "\n",
      "{'tensor_name': 'a', 'tensor_id': 1, 'tensor_nickname': 'a_1', 'space_id': 0, 'dim': d, 'is_dangling_end': False, 'side_original': 'out', 'side_space_id': 0}\n",
      "<->\n",
      "{'tensor_name': 'c', 'tensor_id': 1, 'tensor_nickname': 'c_1', 'space_id': 1, 'dim': d, 'is_dangling_end': False, 'side_original': 'in', 'side_space_id': 0}\n",
      "\n",
      "{'tensor_name': 'a', 'tensor_id': 1, 'tensor_nickname': 'a_1', 'space_id': 1, 'dim': d, 'is_dangling_end': False, 'side_original': 'in', 'side_space_id': 0}\n",
      "<->\n",
      "{'tensor_name': 'c', 'tensor_id': 1, 'tensor_nickname': 'c_1', 'space_id': 0, 'dim': d, 'is_dangling_end': False, 'side_original': 'out', 'side_space_id': 0}\n",
      "\n",
      "\n",
      "History of tensor network.\n",
      "[{'random_tensor_name': 'm', 'random_tensor_type': 'unitary', 'is_complex': True, 'is_group': True, 'dims_mat': ((d,), (d,)), 'dims_tensor': (d, d), 'size': 2, 'loops': [], 'pairs': ([(0, 0), (1, 1)], [(0, 1), (1, 0)]), 'yd': (2,)}, {'random_tensor_name': 'n', 'random_tensor_type': 'orthogonal', 'is_complex': False, 'is_group': True, 'dims_mat': ((d,), (d,)), 'dims_tensor': (d, d), 'size': 2, 'loops': [], 'pairs': ([(0, 3), (1, 2)], [(0, 1), (2, 3)]), 'yd': (2,)}]\n",
      "\n",
      "Weight:\n"
     ]
    },
    {
     "data": {
      "text/latex": [
       "$\\displaystyle \\frac{1}{d^{2} \\left(d - 1\\right)^{2} \\left(d + 1\\right) \\left(d + 2\\right)}$"
      ],
      "text/plain": [
       "1/(d**2*(d - 1)**2*(d + 1)*(d + 2))"
      ]
     },
     "metadata": {},
     "output_type": "display_data"
    },
    {
     "name": "stdout",
     "output_type": "stream",
     "text": [
      "\n",
      "Edges:\n",
      "{'tensor_name': 'a', 'tensor_id': 0, 'tensor_nickname': 'a_0', 'space_id': 0, 'dim': d, 'is_dangling_end': False, 'side_original': 'out', 'side_space_id': 0}\n",
      "<->\n",
      "{'tensor_name': 'a', 'tensor_id': 0, 'tensor_nickname': 'a_0', 'space_id': 1, 'dim': d, 'is_dangling_end': False, 'side_original': 'in', 'side_space_id': 0}\n",
      "\n",
      "{'tensor_name': 'b', 'tensor_id': 0, 'tensor_nickname': 'b_0', 'space_id': 0, 'dim': d, 'is_dangling_end': False, 'side_original': 'out', 'side_space_id': 0}\n",
      "<->\n",
      "{'tensor_name': 'c', 'tensor_id': 0, 'tensor_nickname': 'c_0', 'space_id': 0, 'dim': d, 'is_dangling_end': False, 'side_original': 'out', 'side_space_id': 0}\n",
      "\n",
      "{'tensor_name': 'b', 'tensor_id': 0, 'tensor_nickname': 'b_0', 'space_id': 1, 'dim': d, 'is_dangling_end': False, 'side_original': 'in', 'side_space_id': 0}\n",
      "<->\n",
      "{'tensor_name': 'c', 'tensor_id': 0, 'tensor_nickname': 'c_0', 'space_id': 1, 'dim': d, 'is_dangling_end': False, 'side_original': 'in', 'side_space_id': 0}\n",
      "\n",
      "{'tensor_name': 'a', 'tensor_id': 1, 'tensor_nickname': 'a_1', 'space_id': 0, 'dim': d, 'is_dangling_end': False, 'side_original': 'out', 'side_space_id': 0}\n",
      "<->\n",
      "{'tensor_name': 'c', 'tensor_id': 1, 'tensor_nickname': 'c_1', 'space_id': 0, 'dim': d, 'is_dangling_end': False, 'side_original': 'out', 'side_space_id': 0}\n",
      "\n",
      "{'tensor_name': 'a', 'tensor_id': 1, 'tensor_nickname': 'a_1', 'space_id': 1, 'dim': d, 'is_dangling_end': False, 'side_original': 'in', 'side_space_id': 0}\n",
      "<->\n",
      "{'tensor_name': 'c', 'tensor_id': 1, 'tensor_nickname': 'c_1', 'space_id': 1, 'dim': d, 'is_dangling_end': False, 'side_original': 'in', 'side_space_id': 0}\n",
      "\n",
      "{'tensor_name': 'b', 'tensor_id': 1, 'tensor_nickname': 'b_1', 'space_id': 0, 'dim': d, 'is_dangling_end': False, 'side_original': 'out', 'side_space_id': 0}\n",
      "<->\n",
      "{'tensor_name': 'b', 'tensor_id': 1, 'tensor_nickname': 'b_1', 'space_id': 1, 'dim': d, 'is_dangling_end': False, 'side_original': 'in', 'side_space_id': 0}\n",
      "\n",
      "\n",
      "History of tensor network.\n",
      "[{'random_tensor_name': 'm', 'random_tensor_type': 'unitary', 'is_complex': True, 'is_group': True, 'dims_mat': ((d,), (d,)), 'dims_tensor': (d, d), 'size': 2, 'loops': [], 'pairs': ([(0, 0), (1, 1)], [(0, 1), (1, 0)]), 'yd': (2,)}, {'random_tensor_name': 'n', 'random_tensor_type': 'orthogonal', 'is_complex': False, 'is_group': True, 'dims_mat': ((d,), (d,)), 'dims_tensor': (d, d), 'size': 2, 'loops': [], 'pairs': ([(0, 3), (1, 2)], [(0, 2), (1, 3)]), 'yd': (2,)}]\n",
      "\n",
      "Weight:\n"
     ]
    },
    {
     "data": {
      "text/latex": [
       "$\\displaystyle \\frac{1}{d^{2} \\left(d - 1\\right)^{2} \\left(d + 1\\right) \\left(d + 2\\right)}$"
      ],
      "text/plain": [
       "1/(d**2*(d - 1)**2*(d + 1)*(d + 2))"
      ]
     },
     "metadata": {},
     "output_type": "display_data"
    },
    {
     "name": "stdout",
     "output_type": "stream",
     "text": [
      "\n",
      "Edges:\n",
      "{'tensor_name': 'a', 'tensor_id': 0, 'tensor_nickname': 'a_0', 'space_id': 0, 'dim': d, 'is_dangling_end': False, 'side_original': 'out', 'side_space_id': 0}\n",
      "<->\n",
      "{'tensor_name': 'a', 'tensor_id': 0, 'tensor_nickname': 'a_0', 'space_id': 1, 'dim': d, 'is_dangling_end': False, 'side_original': 'in', 'side_space_id': 0}\n",
      "\n",
      "{'tensor_name': 'b', 'tensor_id': 0, 'tensor_nickname': 'b_0', 'space_id': 0, 'dim': d, 'is_dangling_end': False, 'side_original': 'out', 'side_space_id': 0}\n",
      "<->\n",
      "{'tensor_name': 'c', 'tensor_id': 0, 'tensor_nickname': 'c_0', 'space_id': 0, 'dim': d, 'is_dangling_end': False, 'side_original': 'out', 'side_space_id': 0}\n",
      "\n",
      "{'tensor_name': 'b', 'tensor_id': 0, 'tensor_nickname': 'b_0', 'space_id': 1, 'dim': d, 'is_dangling_end': False, 'side_original': 'in', 'side_space_id': 0}\n",
      "<->\n",
      "{'tensor_name': 'c', 'tensor_id': 0, 'tensor_nickname': 'c_0', 'space_id': 1, 'dim': d, 'is_dangling_end': False, 'side_original': 'in', 'side_space_id': 0}\n",
      "\n",
      "{'tensor_name': 'a', 'tensor_id': 1, 'tensor_nickname': 'a_1', 'space_id': 0, 'dim': d, 'is_dangling_end': False, 'side_original': 'out', 'side_space_id': 0}\n",
      "<->\n",
      "{'tensor_name': 'a', 'tensor_id': 1, 'tensor_nickname': 'a_1', 'space_id': 1, 'dim': d, 'is_dangling_end': False, 'side_original': 'in', 'side_space_id': 0}\n",
      "\n",
      "{'tensor_name': 'b', 'tensor_id': 1, 'tensor_nickname': 'b_1', 'space_id': 0, 'dim': d, 'is_dangling_end': False, 'side_original': 'out', 'side_space_id': 0}\n",
      "<->\n",
      "{'tensor_name': 'b', 'tensor_id': 1, 'tensor_nickname': 'b_1', 'space_id': 1, 'dim': d, 'is_dangling_end': False, 'side_original': 'in', 'side_space_id': 0}\n",
      "\n",
      "{'tensor_name': 'c', 'tensor_id': 1, 'tensor_nickname': 'c_1', 'space_id': 0, 'dim': d, 'is_dangling_end': False, 'side_original': 'out', 'side_space_id': 0}\n",
      "<->\n",
      "{'tensor_name': 'c', 'tensor_id': 1, 'tensor_nickname': 'c_1', 'space_id': 1, 'dim': d, 'is_dangling_end': False, 'side_original': 'in', 'side_space_id': 0}\n",
      "\n",
      "\n",
      "History of tensor network.\n",
      "[{'random_tensor_name': 'm', 'random_tensor_type': 'unitary', 'is_complex': True, 'is_group': True, 'dims_mat': ((d,), (d,)), 'dims_tensor': (d, d), 'size': 2, 'loops': [], 'pairs': ([(0, 0), (1, 1)], [(0, 1), (1, 0)]), 'yd': (2,)}, {'random_tensor_name': 'n', 'random_tensor_type': 'orthogonal', 'is_complex': False, 'is_group': True, 'dims_mat': ((d,), (d,)), 'dims_tensor': (d, d), 'size': 2, 'loops': [], 'pairs': ([(0, 3), (1, 2)], [(0, 3), (1, 2)]), 'yd': (1, 1)}]\n",
      "\n",
      "Weight:\n"
     ]
    },
    {
     "data": {
      "text/latex": [
       "$\\displaystyle - \\frac{1}{d^{2} \\left(d - 1\\right)^{2} \\left(d + 2\\right)}$"
      ],
      "text/plain": [
       "-1/(d**2*(d - 1)**2*(d + 2))"
      ]
     },
     "metadata": {},
     "output_type": "display_data"
    },
    {
     "name": "stdout",
     "output_type": "stream",
     "text": [
      "\n",
      "Edges:\n",
      "{'tensor_name': 'a', 'tensor_id': 0, 'tensor_nickname': 'a_0', 'space_id': 0, 'dim': d, 'is_dangling_end': False, 'side_original': 'out', 'side_space_id': 0}\n",
      "<->\n",
      "{'tensor_name': 'a', 'tensor_id': 0, 'tensor_nickname': 'a_0', 'space_id': 1, 'dim': d, 'is_dangling_end': False, 'side_original': 'in', 'side_space_id': 0}\n",
      "\n",
      "{'tensor_name': 'b', 'tensor_id': 0, 'tensor_nickname': 'b_0', 'space_id': 0, 'dim': d, 'is_dangling_end': False, 'side_original': 'out', 'side_space_id': 0}\n",
      "<->\n",
      "{'tensor_name': 'c', 'tensor_id': 0, 'tensor_nickname': 'c_0', 'space_id': 0, 'dim': d, 'is_dangling_end': False, 'side_original': 'out', 'side_space_id': 0}\n",
      "\n",
      "{'tensor_name': 'b', 'tensor_id': 0, 'tensor_nickname': 'b_0', 'space_id': 1, 'dim': d, 'is_dangling_end': False, 'side_original': 'in', 'side_space_id': 0}\n",
      "<->\n",
      "{'tensor_name': 'c', 'tensor_id': 0, 'tensor_nickname': 'c_0', 'space_id': 1, 'dim': d, 'is_dangling_end': False, 'side_original': 'in', 'side_space_id': 0}\n",
      "\n",
      "{'tensor_name': 'a', 'tensor_id': 1, 'tensor_nickname': 'a_1', 'space_id': 0, 'dim': d, 'is_dangling_end': False, 'side_original': 'out', 'side_space_id': 0}\n",
      "<->\n",
      "{'tensor_name': 'c', 'tensor_id': 1, 'tensor_nickname': 'c_1', 'space_id': 1, 'dim': d, 'is_dangling_end': False, 'side_original': 'in', 'side_space_id': 0}\n",
      "\n",
      "{'tensor_name': 'a', 'tensor_id': 1, 'tensor_nickname': 'a_1', 'space_id': 1, 'dim': d, 'is_dangling_end': False, 'side_original': 'in', 'side_space_id': 0}\n",
      "<->\n",
      "{'tensor_name': 'c', 'tensor_id': 1, 'tensor_nickname': 'c_1', 'space_id': 0, 'dim': d, 'is_dangling_end': False, 'side_original': 'out', 'side_space_id': 0}\n",
      "\n",
      "{'tensor_name': 'b', 'tensor_id': 1, 'tensor_nickname': 'b_1', 'space_id': 0, 'dim': d, 'is_dangling_end': False, 'side_original': 'out', 'side_space_id': 0}\n",
      "<->\n",
      "{'tensor_name': 'b', 'tensor_id': 1, 'tensor_nickname': 'b_1', 'space_id': 1, 'dim': d, 'is_dangling_end': False, 'side_original': 'in', 'side_space_id': 0}\n",
      "\n",
      "\n",
      "History of tensor network.\n",
      "[{'random_tensor_name': 'm', 'random_tensor_type': 'unitary', 'is_complex': True, 'is_group': True, 'dims_mat': ((d,), (d,)), 'dims_tensor': (d, d), 'size': 2, 'loops': [], 'pairs': ([(0, 1), (1, 0)], [(0, 0), (1, 1)]), 'yd': (2,)}, {'random_tensor_name': 'n', 'random_tensor_type': 'orthogonal', 'is_complex': False, 'is_group': True, 'dims_mat': ((d,), (d,)), 'dims_tensor': (d, d), 'size': 2, 'loops': [], 'pairs': ([(0, 1), (2, 3)], [(0, 1), (2, 3)]), 'yd': (1, 1)}]\n",
      "\n",
      "Weight:\n"
     ]
    },
    {
     "data": {
      "text/latex": [
       "$\\displaystyle - \\frac{1}{d^{2} \\left(d - 1\\right)^{2} \\left(d + 2\\right)}$"
      ],
      "text/plain": [
       "-1/(d**2*(d - 1)**2*(d + 2))"
      ]
     },
     "metadata": {},
     "output_type": "display_data"
    },
    {
     "name": "stdout",
     "output_type": "stream",
     "text": [
      "\n",
      "Edges:\n",
      "{'tensor_name': 'a', 'tensor_id': 0, 'tensor_nickname': 'a_0', 'space_id': 0, 'dim': d, 'is_dangling_end': False, 'side_original': 'out', 'side_space_id': 0}\n",
      "<->\n",
      "{'tensor_name': 'b', 'tensor_id': 0, 'tensor_nickname': 'b_0', 'space_id': 0, 'dim': d, 'is_dangling_end': False, 'side_original': 'out', 'side_space_id': 0}\n",
      "\n",
      "{'tensor_name': 'a', 'tensor_id': 0, 'tensor_nickname': 'a_0', 'space_id': 1, 'dim': d, 'is_dangling_end': False, 'side_original': 'in', 'side_space_id': 0}\n",
      "<->\n",
      "{'tensor_name': 'b', 'tensor_id': 0, 'tensor_nickname': 'b_0', 'space_id': 1, 'dim': d, 'is_dangling_end': False, 'side_original': 'in', 'side_space_id': 0}\n",
      "\n",
      "{'tensor_name': 'b', 'tensor_id': 1, 'tensor_nickname': 'b_1', 'space_id': 1, 'dim': d, 'is_dangling_end': False, 'side_original': 'in', 'side_space_id': 0}\n",
      "<->\n",
      "{'tensor_name': 'c', 'tensor_id': 0, 'tensor_nickname': 'c_0', 'space_id': 0, 'dim': d, 'is_dangling_end': False, 'side_original': 'out', 'side_space_id': 0}\n",
      "\n",
      "{'tensor_name': 'b', 'tensor_id': 1, 'tensor_nickname': 'b_1', 'space_id': 0, 'dim': d, 'is_dangling_end': False, 'side_original': 'out', 'side_space_id': 0}\n",
      "<->\n",
      "{'tensor_name': 'c', 'tensor_id': 0, 'tensor_nickname': 'c_0', 'space_id': 1, 'dim': d, 'is_dangling_end': False, 'side_original': 'in', 'side_space_id': 0}\n",
      "\n",
      "{'tensor_name': 'a', 'tensor_id': 1, 'tensor_nickname': 'a_1', 'space_id': 0, 'dim': d, 'is_dangling_end': False, 'side_original': 'out', 'side_space_id': 0}\n",
      "<->\n",
      "{'tensor_name': 'c', 'tensor_id': 1, 'tensor_nickname': 'c_1', 'space_id': 0, 'dim': d, 'is_dangling_end': False, 'side_original': 'out', 'side_space_id': 0}\n",
      "\n",
      "{'tensor_name': 'a', 'tensor_id': 1, 'tensor_nickname': 'a_1', 'space_id': 1, 'dim': d, 'is_dangling_end': False, 'side_original': 'in', 'side_space_id': 0}\n",
      "<->\n",
      "{'tensor_name': 'c', 'tensor_id': 1, 'tensor_nickname': 'c_1', 'space_id': 1, 'dim': d, 'is_dangling_end': False, 'side_original': 'in', 'side_space_id': 0}\n",
      "\n",
      "\n",
      "History of tensor network.\n",
      "[{'random_tensor_name': 'm', 'random_tensor_type': 'unitary', 'is_complex': True, 'is_group': True, 'dims_mat': ((d,), (d,)), 'dims_tensor': (d, d), 'size': 2, 'loops': [], 'pairs': ([(0, 1), (1, 0)], [(0, 0), (1, 1)]), 'yd': (2,)}, {'random_tensor_name': 'n', 'random_tensor_type': 'orthogonal', 'is_complex': False, 'is_group': True, 'dims_mat': ((d,), (d,)), 'dims_tensor': (d, d), 'size': 2, 'loops': [], 'pairs': ([(0, 1), (2, 3)], [(0, 2), (1, 3)]), 'yd': (2,)}]\n",
      "\n",
      "Weight:\n"
     ]
    },
    {
     "data": {
      "text/latex": [
       "$\\displaystyle \\frac{1}{d^{2} \\left(d - 1\\right)^{2} \\left(d + 1\\right) \\left(d + 2\\right)}$"
      ],
      "text/plain": [
       "1/(d**2*(d - 1)**2*(d + 1)*(d + 2))"
      ]
     },
     "metadata": {},
     "output_type": "display_data"
    },
    {
     "name": "stdout",
     "output_type": "stream",
     "text": [
      "\n",
      "Edges:\n",
      "{'tensor_name': 'a', 'tensor_id': 0, 'tensor_nickname': 'a_0', 'space_id': 0, 'dim': d, 'is_dangling_end': False, 'side_original': 'out', 'side_space_id': 0}\n",
      "<->\n",
      "{'tensor_name': 'b', 'tensor_id': 0, 'tensor_nickname': 'b_0', 'space_id': 0, 'dim': d, 'is_dangling_end': False, 'side_original': 'out', 'side_space_id': 0}\n",
      "\n",
      "{'tensor_name': 'a', 'tensor_id': 0, 'tensor_nickname': 'a_0', 'space_id': 1, 'dim': d, 'is_dangling_end': False, 'side_original': 'in', 'side_space_id': 0}\n",
      "<->\n",
      "{'tensor_name': 'b', 'tensor_id': 0, 'tensor_nickname': 'b_0', 'space_id': 1, 'dim': d, 'is_dangling_end': False, 'side_original': 'in', 'side_space_id': 0}\n",
      "\n",
      "{'tensor_name': 'b', 'tensor_id': 1, 'tensor_nickname': 'b_1', 'space_id': 1, 'dim': d, 'is_dangling_end': False, 'side_original': 'in', 'side_space_id': 0}\n",
      "<->\n",
      "{'tensor_name': 'c', 'tensor_id': 0, 'tensor_nickname': 'c_0', 'space_id': 0, 'dim': d, 'is_dangling_end': False, 'side_original': 'out', 'side_space_id': 0}\n",
      "\n",
      "{'tensor_name': 'b', 'tensor_id': 1, 'tensor_nickname': 'b_1', 'space_id': 0, 'dim': d, 'is_dangling_end': False, 'side_original': 'out', 'side_space_id': 0}\n",
      "<->\n",
      "{'tensor_name': 'c', 'tensor_id': 0, 'tensor_nickname': 'c_0', 'space_id': 1, 'dim': d, 'is_dangling_end': False, 'side_original': 'in', 'side_space_id': 0}\n",
      "\n",
      "{'tensor_name': 'a', 'tensor_id': 1, 'tensor_nickname': 'a_1', 'space_id': 0, 'dim': d, 'is_dangling_end': False, 'side_original': 'out', 'side_space_id': 0}\n",
      "<->\n",
      "{'tensor_name': 'a', 'tensor_id': 1, 'tensor_nickname': 'a_1', 'space_id': 1, 'dim': d, 'is_dangling_end': False, 'side_original': 'in', 'side_space_id': 0}\n",
      "\n",
      "{'tensor_name': 'c', 'tensor_id': 1, 'tensor_nickname': 'c_1', 'space_id': 0, 'dim': d, 'is_dangling_end': False, 'side_original': 'out', 'side_space_id': 0}\n",
      "<->\n",
      "{'tensor_name': 'c', 'tensor_id': 1, 'tensor_nickname': 'c_1', 'space_id': 1, 'dim': d, 'is_dangling_end': False, 'side_original': 'in', 'side_space_id': 0}\n",
      "\n",
      "\n",
      "History of tensor network.\n",
      "[{'random_tensor_name': 'm', 'random_tensor_type': 'unitary', 'is_complex': True, 'is_group': True, 'dims_mat': ((d,), (d,)), 'dims_tensor': (d, d), 'size': 2, 'loops': [], 'pairs': ([(0, 1), (1, 0)], [(0, 0), (1, 1)]), 'yd': (2,)}, {'random_tensor_name': 'n', 'random_tensor_type': 'orthogonal', 'is_complex': False, 'is_group': True, 'dims_mat': ((d,), (d,)), 'dims_tensor': (d, d), 'size': 2, 'loops': [], 'pairs': ([(0, 1), (2, 3)], [(0, 3), (1, 2)]), 'yd': (2,)}]\n",
      "\n",
      "Weight:\n"
     ]
    },
    {
     "data": {
      "text/latex": [
       "$\\displaystyle \\frac{1}{d^{2} \\left(d - 1\\right)^{2} \\left(d + 1\\right) \\left(d + 2\\right)}$"
      ],
      "text/plain": [
       "1/(d**2*(d - 1)**2*(d + 1)*(d + 2))"
      ]
     },
     "metadata": {},
     "output_type": "display_data"
    },
    {
     "name": "stdout",
     "output_type": "stream",
     "text": [
      "\n",
      "Edges:\n",
      "{'tensor_name': 'a', 'tensor_id': 0, 'tensor_nickname': 'a_0', 'space_id': 0, 'dim': d, 'is_dangling_end': False, 'side_original': 'out', 'side_space_id': 0}\n",
      "<->\n",
      "{'tensor_name': 'b', 'tensor_id': 0, 'tensor_nickname': 'b_0', 'space_id': 0, 'dim': d, 'is_dangling_end': False, 'side_original': 'out', 'side_space_id': 0}\n",
      "\n",
      "{'tensor_name': 'a', 'tensor_id': 0, 'tensor_nickname': 'a_0', 'space_id': 1, 'dim': d, 'is_dangling_end': False, 'side_original': 'in', 'side_space_id': 0}\n",
      "<->\n",
      "{'tensor_name': 'b', 'tensor_id': 0, 'tensor_nickname': 'b_0', 'space_id': 1, 'dim': d, 'is_dangling_end': False, 'side_original': 'in', 'side_space_id': 0}\n",
      "\n",
      "{'tensor_name': 'b', 'tensor_id': 1, 'tensor_nickname': 'b_1', 'space_id': 1, 'dim': d, 'is_dangling_end': False, 'side_original': 'in', 'side_space_id': 0}\n",
      "<->\n",
      "{'tensor_name': 'c', 'tensor_id': 0, 'tensor_nickname': 'c_0', 'space_id': 0, 'dim': d, 'is_dangling_end': False, 'side_original': 'out', 'side_space_id': 0}\n",
      "\n",
      "{'tensor_name': 'b', 'tensor_id': 1, 'tensor_nickname': 'b_1', 'space_id': 0, 'dim': d, 'is_dangling_end': False, 'side_original': 'out', 'side_space_id': 0}\n",
      "<->\n",
      "{'tensor_name': 'c', 'tensor_id': 0, 'tensor_nickname': 'c_0', 'space_id': 1, 'dim': d, 'is_dangling_end': False, 'side_original': 'in', 'side_space_id': 0}\n",
      "\n",
      "{'tensor_name': 'a', 'tensor_id': 1, 'tensor_nickname': 'a_1', 'space_id': 0, 'dim': d, 'is_dangling_end': False, 'side_original': 'out', 'side_space_id': 0}\n",
      "<->\n",
      "{'tensor_name': 'c', 'tensor_id': 1, 'tensor_nickname': 'c_1', 'space_id': 1, 'dim': d, 'is_dangling_end': False, 'side_original': 'in', 'side_space_id': 0}\n",
      "\n",
      "{'tensor_name': 'a', 'tensor_id': 1, 'tensor_nickname': 'a_1', 'space_id': 1, 'dim': d, 'is_dangling_end': False, 'side_original': 'in', 'side_space_id': 0}\n",
      "<->\n",
      "{'tensor_name': 'c', 'tensor_id': 1, 'tensor_nickname': 'c_1', 'space_id': 0, 'dim': d, 'is_dangling_end': False, 'side_original': 'out', 'side_space_id': 0}\n",
      "\n",
      "\n",
      "History of tensor network.\n",
      "[{'random_tensor_name': 'm', 'random_tensor_type': 'unitary', 'is_complex': True, 'is_group': True, 'dims_mat': ((d,), (d,)), 'dims_tensor': (d, d), 'size': 2, 'loops': [], 'pairs': ([(0, 1), (1, 0)], [(0, 0), (1, 1)]), 'yd': (2,)}, {'random_tensor_name': 'n', 'random_tensor_type': 'orthogonal', 'is_complex': False, 'is_group': True, 'dims_mat': ((d,), (d,)), 'dims_tensor': (d, d), 'size': 2, 'loops': [], 'pairs': ([(0, 2), (1, 3)], [(0, 1), (2, 3)]), 'yd': (2,)}]\n",
      "\n",
      "Weight:\n"
     ]
    },
    {
     "data": {
      "text/latex": [
       "$\\displaystyle \\frac{1}{d^{2} \\left(d - 1\\right)^{2} \\left(d + 1\\right) \\left(d + 2\\right)}$"
      ],
      "text/plain": [
       "1/(d**2*(d - 1)**2*(d + 1)*(d + 2))"
      ]
     },
     "metadata": {},
     "output_type": "display_data"
    },
    {
     "name": "stdout",
     "output_type": "stream",
     "text": [
      "\n",
      "Edges:\n",
      "{'tensor_name': 'a', 'tensor_id': 0, 'tensor_nickname': 'a_0', 'space_id': 0, 'dim': d, 'is_dangling_end': False, 'side_original': 'out', 'side_space_id': 0}\n",
      "<->\n",
      "{'tensor_name': 'b', 'tensor_id': 0, 'tensor_nickname': 'b_0', 'space_id': 0, 'dim': d, 'is_dangling_end': False, 'side_original': 'out', 'side_space_id': 0}\n",
      "\n",
      "{'tensor_name': 'a', 'tensor_id': 0, 'tensor_nickname': 'a_0', 'space_id': 1, 'dim': d, 'is_dangling_end': False, 'side_original': 'in', 'side_space_id': 0}\n",
      "<->\n",
      "{'tensor_name': 'b', 'tensor_id': 0, 'tensor_nickname': 'b_0', 'space_id': 1, 'dim': d, 'is_dangling_end': False, 'side_original': 'in', 'side_space_id': 0}\n",
      "\n",
      "{'tensor_name': 'b', 'tensor_id': 1, 'tensor_nickname': 'b_1', 'space_id': 0, 'dim': d, 'is_dangling_end': False, 'side_original': 'out', 'side_space_id': 0}\n",
      "<->\n",
      "{'tensor_name': 'c', 'tensor_id': 0, 'tensor_nickname': 'c_0', 'space_id': 0, 'dim': d, 'is_dangling_end': False, 'side_original': 'out', 'side_space_id': 0}\n",
      "\n",
      "{'tensor_name': 'b', 'tensor_id': 1, 'tensor_nickname': 'b_1', 'space_id': 1, 'dim': d, 'is_dangling_end': False, 'side_original': 'in', 'side_space_id': 0}\n",
      "<->\n",
      "{'tensor_name': 'c', 'tensor_id': 0, 'tensor_nickname': 'c_0', 'space_id': 1, 'dim': d, 'is_dangling_end': False, 'side_original': 'in', 'side_space_id': 0}\n",
      "\n",
      "{'tensor_name': 'a', 'tensor_id': 1, 'tensor_nickname': 'a_1', 'space_id': 0, 'dim': d, 'is_dangling_end': False, 'side_original': 'out', 'side_space_id': 0}\n",
      "<->\n",
      "{'tensor_name': 'c', 'tensor_id': 1, 'tensor_nickname': 'c_1', 'space_id': 0, 'dim': d, 'is_dangling_end': False, 'side_original': 'out', 'side_space_id': 0}\n",
      "\n",
      "{'tensor_name': 'a', 'tensor_id': 1, 'tensor_nickname': 'a_1', 'space_id': 1, 'dim': d, 'is_dangling_end': False, 'side_original': 'in', 'side_space_id': 0}\n",
      "<->\n",
      "{'tensor_name': 'c', 'tensor_id': 1, 'tensor_nickname': 'c_1', 'space_id': 1, 'dim': d, 'is_dangling_end': False, 'side_original': 'in', 'side_space_id': 0}\n",
      "\n",
      "\n",
      "History of tensor network.\n",
      "[{'random_tensor_name': 'm', 'random_tensor_type': 'unitary', 'is_complex': True, 'is_group': True, 'dims_mat': ((d,), (d,)), 'dims_tensor': (d, d), 'size': 2, 'loops': [], 'pairs': ([(0, 1), (1, 0)], [(0, 0), (1, 1)]), 'yd': (2,)}, {'random_tensor_name': 'n', 'random_tensor_type': 'orthogonal', 'is_complex': False, 'is_group': True, 'dims_mat': ((d,), (d,)), 'dims_tensor': (d, d), 'size': 2, 'loops': [], 'pairs': ([(0, 2), (1, 3)], [(0, 2), (1, 3)]), 'yd': (1, 1)}]\n",
      "\n",
      "Weight:\n"
     ]
    },
    {
     "data": {
      "text/latex": [
       "$\\displaystyle - \\frac{1}{d^{2} \\left(d - 1\\right)^{2} \\left(d + 2\\right)}$"
      ],
      "text/plain": [
       "-1/(d**2*(d - 1)**2*(d + 2))"
      ]
     },
     "metadata": {},
     "output_type": "display_data"
    },
    {
     "name": "stdout",
     "output_type": "stream",
     "text": [
      "\n",
      "Edges:\n",
      "{'tensor_name': 'a', 'tensor_id': 0, 'tensor_nickname': 'a_0', 'space_id': 0, 'dim': d, 'is_dangling_end': False, 'side_original': 'out', 'side_space_id': 0}\n",
      "<->\n",
      "{'tensor_name': 'b', 'tensor_id': 0, 'tensor_nickname': 'b_0', 'space_id': 0, 'dim': d, 'is_dangling_end': False, 'side_original': 'out', 'side_space_id': 0}\n",
      "\n",
      "{'tensor_name': 'a', 'tensor_id': 0, 'tensor_nickname': 'a_0', 'space_id': 1, 'dim': d, 'is_dangling_end': False, 'side_original': 'in', 'side_space_id': 0}\n",
      "<->\n",
      "{'tensor_name': 'b', 'tensor_id': 0, 'tensor_nickname': 'b_0', 'space_id': 1, 'dim': d, 'is_dangling_end': False, 'side_original': 'in', 'side_space_id': 0}\n",
      "\n",
      "{'tensor_name': 'b', 'tensor_id': 1, 'tensor_nickname': 'b_1', 'space_id': 0, 'dim': d, 'is_dangling_end': False, 'side_original': 'out', 'side_space_id': 0}\n",
      "<->\n",
      "{'tensor_name': 'c', 'tensor_id': 0, 'tensor_nickname': 'c_0', 'space_id': 0, 'dim': d, 'is_dangling_end': False, 'side_original': 'out', 'side_space_id': 0}\n",
      "\n",
      "{'tensor_name': 'b', 'tensor_id': 1, 'tensor_nickname': 'b_1', 'space_id': 1, 'dim': d, 'is_dangling_end': False, 'side_original': 'in', 'side_space_id': 0}\n",
      "<->\n",
      "{'tensor_name': 'c', 'tensor_id': 0, 'tensor_nickname': 'c_0', 'space_id': 1, 'dim': d, 'is_dangling_end': False, 'side_original': 'in', 'side_space_id': 0}\n",
      "\n",
      "{'tensor_name': 'a', 'tensor_id': 1, 'tensor_nickname': 'a_1', 'space_id': 0, 'dim': d, 'is_dangling_end': False, 'side_original': 'out', 'side_space_id': 0}\n",
      "<->\n",
      "{'tensor_name': 'a', 'tensor_id': 1, 'tensor_nickname': 'a_1', 'space_id': 1, 'dim': d, 'is_dangling_end': False, 'side_original': 'in', 'side_space_id': 0}\n",
      "\n",
      "{'tensor_name': 'c', 'tensor_id': 1, 'tensor_nickname': 'c_1', 'space_id': 0, 'dim': d, 'is_dangling_end': False, 'side_original': 'out', 'side_space_id': 0}\n",
      "<->\n",
      "{'tensor_name': 'c', 'tensor_id': 1, 'tensor_nickname': 'c_1', 'space_id': 1, 'dim': d, 'is_dangling_end': False, 'side_original': 'in', 'side_space_id': 0}\n",
      "\n",
      "\n",
      "History of tensor network.\n",
      "[{'random_tensor_name': 'm', 'random_tensor_type': 'unitary', 'is_complex': True, 'is_group': True, 'dims_mat': ((d,), (d,)), 'dims_tensor': (d, d), 'size': 2, 'loops': [], 'pairs': ([(0, 1), (1, 0)], [(0, 0), (1, 1)]), 'yd': (2,)}, {'random_tensor_name': 'n', 'random_tensor_type': 'orthogonal', 'is_complex': False, 'is_group': True, 'dims_mat': ((d,), (d,)), 'dims_tensor': (d, d), 'size': 2, 'loops': [], 'pairs': ([(0, 2), (1, 3)], [(0, 3), (1, 2)]), 'yd': (2,)}]\n",
      "\n",
      "Weight:\n"
     ]
    },
    {
     "data": {
      "text/latex": [
       "$\\displaystyle \\frac{1}{d^{2} \\left(d - 1\\right)^{2} \\left(d + 1\\right) \\left(d + 2\\right)}$"
      ],
      "text/plain": [
       "1/(d**2*(d - 1)**2*(d + 1)*(d + 2))"
      ]
     },
     "metadata": {},
     "output_type": "display_data"
    },
    {
     "name": "stdout",
     "output_type": "stream",
     "text": [
      "\n",
      "Edges:\n",
      "{'tensor_name': 'a', 'tensor_id': 0, 'tensor_nickname': 'a_0', 'space_id': 0, 'dim': d, 'is_dangling_end': False, 'side_original': 'out', 'side_space_id': 0}\n",
      "<->\n",
      "{'tensor_name': 'b', 'tensor_id': 0, 'tensor_nickname': 'b_0', 'space_id': 0, 'dim': d, 'is_dangling_end': False, 'side_original': 'out', 'side_space_id': 0}\n",
      "\n",
      "{'tensor_name': 'a', 'tensor_id': 0, 'tensor_nickname': 'a_0', 'space_id': 1, 'dim': d, 'is_dangling_end': False, 'side_original': 'in', 'side_space_id': 0}\n",
      "<->\n",
      "{'tensor_name': 'b', 'tensor_id': 0, 'tensor_nickname': 'b_0', 'space_id': 1, 'dim': d, 'is_dangling_end': False, 'side_original': 'in', 'side_space_id': 0}\n",
      "\n",
      "{'tensor_name': 'b', 'tensor_id': 1, 'tensor_nickname': 'b_1', 'space_id': 0, 'dim': d, 'is_dangling_end': False, 'side_original': 'out', 'side_space_id': 0}\n",
      "<->\n",
      "{'tensor_name': 'c', 'tensor_id': 0, 'tensor_nickname': 'c_0', 'space_id': 0, 'dim': d, 'is_dangling_end': False, 'side_original': 'out', 'side_space_id': 0}\n",
      "\n",
      "{'tensor_name': 'b', 'tensor_id': 1, 'tensor_nickname': 'b_1', 'space_id': 1, 'dim': d, 'is_dangling_end': False, 'side_original': 'in', 'side_space_id': 0}\n",
      "<->\n",
      "{'tensor_name': 'c', 'tensor_id': 0, 'tensor_nickname': 'c_0', 'space_id': 1, 'dim': d, 'is_dangling_end': False, 'side_original': 'in', 'side_space_id': 0}\n",
      "\n",
      "{'tensor_name': 'a', 'tensor_id': 1, 'tensor_nickname': 'a_1', 'space_id': 0, 'dim': d, 'is_dangling_end': False, 'side_original': 'out', 'side_space_id': 0}\n",
      "<->\n",
      "{'tensor_name': 'c', 'tensor_id': 1, 'tensor_nickname': 'c_1', 'space_id': 1, 'dim': d, 'is_dangling_end': False, 'side_original': 'in', 'side_space_id': 0}\n",
      "\n",
      "{'tensor_name': 'a', 'tensor_id': 1, 'tensor_nickname': 'a_1', 'space_id': 1, 'dim': d, 'is_dangling_end': False, 'side_original': 'in', 'side_space_id': 0}\n",
      "<->\n",
      "{'tensor_name': 'c', 'tensor_id': 1, 'tensor_nickname': 'c_1', 'space_id': 0, 'dim': d, 'is_dangling_end': False, 'side_original': 'out', 'side_space_id': 0}\n",
      "\n",
      "\n",
      "History of tensor network.\n",
      "[{'random_tensor_name': 'm', 'random_tensor_type': 'unitary', 'is_complex': True, 'is_group': True, 'dims_mat': ((d,), (d,)), 'dims_tensor': (d, d), 'size': 2, 'loops': [], 'pairs': ([(0, 1), (1, 0)], [(0, 0), (1, 1)]), 'yd': (2,)}, {'random_tensor_name': 'n', 'random_tensor_type': 'orthogonal', 'is_complex': False, 'is_group': True, 'dims_mat': ((d,), (d,)), 'dims_tensor': (d, d), 'size': 2, 'loops': [], 'pairs': ([(0, 3), (1, 2)], [(0, 1), (2, 3)]), 'yd': (2,)}]\n",
      "\n",
      "Weight:\n"
     ]
    },
    {
     "data": {
      "text/latex": [
       "$\\displaystyle \\frac{1}{d^{2} \\left(d - 1\\right)^{2} \\left(d + 1\\right) \\left(d + 2\\right)}$"
      ],
      "text/plain": [
       "1/(d**2*(d - 1)**2*(d + 1)*(d + 2))"
      ]
     },
     "metadata": {},
     "output_type": "display_data"
    },
    {
     "name": "stdout",
     "output_type": "stream",
     "text": [
      "\n",
      "Edges:\n",
      "{'tensor_name': 'a', 'tensor_id': 0, 'tensor_nickname': 'a_0', 'space_id': 0, 'dim': d, 'is_dangling_end': False, 'side_original': 'out', 'side_space_id': 0}\n",
      "<->\n",
      "{'tensor_name': 'b', 'tensor_id': 0, 'tensor_nickname': 'b_0', 'space_id': 0, 'dim': d, 'is_dangling_end': False, 'side_original': 'out', 'side_space_id': 0}\n",
      "\n",
      "{'tensor_name': 'a', 'tensor_id': 0, 'tensor_nickname': 'a_0', 'space_id': 1, 'dim': d, 'is_dangling_end': False, 'side_original': 'in', 'side_space_id': 0}\n",
      "<->\n",
      "{'tensor_name': 'b', 'tensor_id': 0, 'tensor_nickname': 'b_0', 'space_id': 1, 'dim': d, 'is_dangling_end': False, 'side_original': 'in', 'side_space_id': 0}\n",
      "\n",
      "{'tensor_name': 'c', 'tensor_id': 0, 'tensor_nickname': 'c_0', 'space_id': 0, 'dim': d, 'is_dangling_end': False, 'side_original': 'out', 'side_space_id': 0}\n",
      "<->\n",
      "{'tensor_name': 'c', 'tensor_id': 0, 'tensor_nickname': 'c_0', 'space_id': 1, 'dim': d, 'is_dangling_end': False, 'side_original': 'in', 'side_space_id': 0}\n",
      "\n",
      "{'tensor_name': 'a', 'tensor_id': 1, 'tensor_nickname': 'a_1', 'space_id': 0, 'dim': d, 'is_dangling_end': False, 'side_original': 'out', 'side_space_id': 0}\n",
      "<->\n",
      "{'tensor_name': 'c', 'tensor_id': 1, 'tensor_nickname': 'c_1', 'space_id': 0, 'dim': d, 'is_dangling_end': False, 'side_original': 'out', 'side_space_id': 0}\n",
      "\n",
      "{'tensor_name': 'a', 'tensor_id': 1, 'tensor_nickname': 'a_1', 'space_id': 1, 'dim': d, 'is_dangling_end': False, 'side_original': 'in', 'side_space_id': 0}\n",
      "<->\n",
      "{'tensor_name': 'c', 'tensor_id': 1, 'tensor_nickname': 'c_1', 'space_id': 1, 'dim': d, 'is_dangling_end': False, 'side_original': 'in', 'side_space_id': 0}\n",
      "\n",
      "{'tensor_name': 'b', 'tensor_id': 1, 'tensor_nickname': 'b_1', 'space_id': 0, 'dim': d, 'is_dangling_end': False, 'side_original': 'out', 'side_space_id': 0}\n",
      "<->\n",
      "{'tensor_name': 'b', 'tensor_id': 1, 'tensor_nickname': 'b_1', 'space_id': 1, 'dim': d, 'is_dangling_end': False, 'side_original': 'in', 'side_space_id': 0}\n",
      "\n",
      "\n",
      "History of tensor network.\n",
      "[{'random_tensor_name': 'm', 'random_tensor_type': 'unitary', 'is_complex': True, 'is_group': True, 'dims_mat': ((d,), (d,)), 'dims_tensor': (d, d), 'size': 2, 'loops': [], 'pairs': ([(0, 1), (1, 0)], [(0, 0), (1, 1)]), 'yd': (2,)}, {'random_tensor_name': 'n', 'random_tensor_type': 'orthogonal', 'is_complex': False, 'is_group': True, 'dims_mat': ((d,), (d,)), 'dims_tensor': (d, d), 'size': 2, 'loops': [], 'pairs': ([(0, 3), (1, 2)], [(0, 2), (1, 3)]), 'yd': (2,)}]\n",
      "\n",
      "Weight:\n"
     ]
    },
    {
     "data": {
      "text/latex": [
       "$\\displaystyle \\frac{1}{d^{2} \\left(d - 1\\right)^{2} \\left(d + 1\\right) \\left(d + 2\\right)}$"
      ],
      "text/plain": [
       "1/(d**2*(d - 1)**2*(d + 1)*(d + 2))"
      ]
     },
     "metadata": {},
     "output_type": "display_data"
    },
    {
     "name": "stdout",
     "output_type": "stream",
     "text": [
      "\n",
      "Edges:\n",
      "{'tensor_name': 'a', 'tensor_id': 0, 'tensor_nickname': 'a_0', 'space_id': 0, 'dim': d, 'is_dangling_end': False, 'side_original': 'out', 'side_space_id': 0}\n",
      "<->\n",
      "{'tensor_name': 'b', 'tensor_id': 0, 'tensor_nickname': 'b_0', 'space_id': 0, 'dim': d, 'is_dangling_end': False, 'side_original': 'out', 'side_space_id': 0}\n",
      "\n",
      "{'tensor_name': 'a', 'tensor_id': 0, 'tensor_nickname': 'a_0', 'space_id': 1, 'dim': d, 'is_dangling_end': False, 'side_original': 'in', 'side_space_id': 0}\n",
      "<->\n",
      "{'tensor_name': 'b', 'tensor_id': 0, 'tensor_nickname': 'b_0', 'space_id': 1, 'dim': d, 'is_dangling_end': False, 'side_original': 'in', 'side_space_id': 0}\n",
      "\n",
      "{'tensor_name': 'c', 'tensor_id': 0, 'tensor_nickname': 'c_0', 'space_id': 0, 'dim': d, 'is_dangling_end': False, 'side_original': 'out', 'side_space_id': 0}\n",
      "<->\n",
      "{'tensor_name': 'c', 'tensor_id': 0, 'tensor_nickname': 'c_0', 'space_id': 1, 'dim': d, 'is_dangling_end': False, 'side_original': 'in', 'side_space_id': 0}\n",
      "\n",
      "{'tensor_name': 'a', 'tensor_id': 1, 'tensor_nickname': 'a_1', 'space_id': 0, 'dim': d, 'is_dangling_end': False, 'side_original': 'out', 'side_space_id': 0}\n",
      "<->\n",
      "{'tensor_name': 'a', 'tensor_id': 1, 'tensor_nickname': 'a_1', 'space_id': 1, 'dim': d, 'is_dangling_end': False, 'side_original': 'in', 'side_space_id': 0}\n",
      "\n",
      "{'tensor_name': 'b', 'tensor_id': 1, 'tensor_nickname': 'b_1', 'space_id': 0, 'dim': d, 'is_dangling_end': False, 'side_original': 'out', 'side_space_id': 0}\n",
      "<->\n",
      "{'tensor_name': 'b', 'tensor_id': 1, 'tensor_nickname': 'b_1', 'space_id': 1, 'dim': d, 'is_dangling_end': False, 'side_original': 'in', 'side_space_id': 0}\n",
      "\n",
      "{'tensor_name': 'c', 'tensor_id': 1, 'tensor_nickname': 'c_1', 'space_id': 0, 'dim': d, 'is_dangling_end': False, 'side_original': 'out', 'side_space_id': 0}\n",
      "<->\n",
      "{'tensor_name': 'c', 'tensor_id': 1, 'tensor_nickname': 'c_1', 'space_id': 1, 'dim': d, 'is_dangling_end': False, 'side_original': 'in', 'side_space_id': 0}\n",
      "\n",
      "\n",
      "History of tensor network.\n",
      "[{'random_tensor_name': 'm', 'random_tensor_type': 'unitary', 'is_complex': True, 'is_group': True, 'dims_mat': ((d,), (d,)), 'dims_tensor': (d, d), 'size': 2, 'loops': [], 'pairs': ([(0, 1), (1, 0)], [(0, 0), (1, 1)]), 'yd': (2,)}, {'random_tensor_name': 'n', 'random_tensor_type': 'orthogonal', 'is_complex': False, 'is_group': True, 'dims_mat': ((d,), (d,)), 'dims_tensor': (d, d), 'size': 2, 'loops': [], 'pairs': ([(0, 3), (1, 2)], [(0, 3), (1, 2)]), 'yd': (1, 1)}]\n",
      "\n",
      "Weight:\n"
     ]
    },
    {
     "data": {
      "text/latex": [
       "$\\displaystyle - \\frac{1}{d^{2} \\left(d - 1\\right)^{2} \\left(d + 2\\right)}$"
      ],
      "text/plain": [
       "-1/(d**2*(d - 1)**2*(d + 2))"
      ]
     },
     "metadata": {},
     "output_type": "display_data"
    },
    {
     "name": "stdout",
     "output_type": "stream",
     "text": [
      "\n",
      "Edges:\n",
      "{'tensor_name': 'a', 'tensor_id': 0, 'tensor_nickname': 'a_0', 'space_id': 0, 'dim': d, 'is_dangling_end': False, 'side_original': 'out', 'side_space_id': 0}\n",
      "<->\n",
      "{'tensor_name': 'b', 'tensor_id': 0, 'tensor_nickname': 'b_0', 'space_id': 0, 'dim': d, 'is_dangling_end': False, 'side_original': 'out', 'side_space_id': 0}\n",
      "\n",
      "{'tensor_name': 'a', 'tensor_id': 0, 'tensor_nickname': 'a_0', 'space_id': 1, 'dim': d, 'is_dangling_end': False, 'side_original': 'in', 'side_space_id': 0}\n",
      "<->\n",
      "{'tensor_name': 'b', 'tensor_id': 0, 'tensor_nickname': 'b_0', 'space_id': 1, 'dim': d, 'is_dangling_end': False, 'side_original': 'in', 'side_space_id': 0}\n",
      "\n",
      "{'tensor_name': 'c', 'tensor_id': 0, 'tensor_nickname': 'c_0', 'space_id': 0, 'dim': d, 'is_dangling_end': False, 'side_original': 'out', 'side_space_id': 0}\n",
      "<->\n",
      "{'tensor_name': 'c', 'tensor_id': 0, 'tensor_nickname': 'c_0', 'space_id': 1, 'dim': d, 'is_dangling_end': False, 'side_original': 'in', 'side_space_id': 0}\n",
      "\n",
      "{'tensor_name': 'a', 'tensor_id': 1, 'tensor_nickname': 'a_1', 'space_id': 0, 'dim': d, 'is_dangling_end': False, 'side_original': 'out', 'side_space_id': 0}\n",
      "<->\n",
      "{'tensor_name': 'c', 'tensor_id': 1, 'tensor_nickname': 'c_1', 'space_id': 1, 'dim': d, 'is_dangling_end': False, 'side_original': 'in', 'side_space_id': 0}\n",
      "\n",
      "{'tensor_name': 'a', 'tensor_id': 1, 'tensor_nickname': 'a_1', 'space_id': 1, 'dim': d, 'is_dangling_end': False, 'side_original': 'in', 'side_space_id': 0}\n",
      "<->\n",
      "{'tensor_name': 'c', 'tensor_id': 1, 'tensor_nickname': 'c_1', 'space_id': 0, 'dim': d, 'is_dangling_end': False, 'side_original': 'out', 'side_space_id': 0}\n",
      "\n",
      "{'tensor_name': 'b', 'tensor_id': 1, 'tensor_nickname': 'b_1', 'space_id': 0, 'dim': d, 'is_dangling_end': False, 'side_original': 'out', 'side_space_id': 0}\n",
      "<->\n",
      "{'tensor_name': 'b', 'tensor_id': 1, 'tensor_nickname': 'b_1', 'space_id': 1, 'dim': d, 'is_dangling_end': False, 'side_original': 'in', 'side_space_id': 0}\n",
      "\n",
      "\n",
      "History of tensor network.\n",
      "[{'random_tensor_name': 'm', 'random_tensor_type': 'unitary', 'is_complex': True, 'is_group': True, 'dims_mat': ((d,), (d,)), 'dims_tensor': (d, d), 'size': 2, 'loops': [], 'pairs': ([(0, 1), (1, 0)], [(0, 1), (1, 0)]), 'yd': (1, 1)}, {'random_tensor_name': 'n', 'random_tensor_type': 'orthogonal', 'is_complex': False, 'is_group': True, 'dims_mat': ((d,), (d,)), 'dims_tensor': (d, d), 'size': 2, 'loops': [], 'pairs': ([(0, 1), (2, 3)], [(0, 1), (2, 3)]), 'yd': (1, 1)}]\n",
      "\n",
      "Weight:\n"
     ]
    },
    {
     "data": {
      "text/latex": [
       "$\\displaystyle \\frac{1}{d \\left(d - 1\\right)^{2} \\left(d + 2\\right)}$"
      ],
      "text/plain": [
       "1/(d*(d - 1)**2*(d + 2))"
      ]
     },
     "metadata": {},
     "output_type": "display_data"
    },
    {
     "name": "stdout",
     "output_type": "stream",
     "text": [
      "\n",
      "Edges:\n",
      "{'tensor_name': 'a', 'tensor_id': 0, 'tensor_nickname': 'a_0', 'space_id': 0, 'dim': d, 'is_dangling_end': False, 'side_original': 'out', 'side_space_id': 0}\n",
      "<->\n",
      "{'tensor_name': 'b', 'tensor_id': 1, 'tensor_nickname': 'b_1', 'space_id': 1, 'dim': d, 'is_dangling_end': False, 'side_original': 'in', 'side_space_id': 0}\n",
      "\n",
      "{'tensor_name': 'a', 'tensor_id': 0, 'tensor_nickname': 'a_0', 'space_id': 1, 'dim': d, 'is_dangling_end': False, 'side_original': 'in', 'side_space_id': 0}\n",
      "<->\n",
      "{'tensor_name': 'b', 'tensor_id': 0, 'tensor_nickname': 'b_0', 'space_id': 1, 'dim': d, 'is_dangling_end': False, 'side_original': 'in', 'side_space_id': 0}\n",
      "\n",
      "{'tensor_name': 'b', 'tensor_id': 0, 'tensor_nickname': 'b_0', 'space_id': 0, 'dim': d, 'is_dangling_end': False, 'side_original': 'out', 'side_space_id': 0}\n",
      "<->\n",
      "{'tensor_name': 'c', 'tensor_id': 0, 'tensor_nickname': 'c_0', 'space_id': 0, 'dim': d, 'is_dangling_end': False, 'side_original': 'out', 'side_space_id': 0}\n",
      "\n",
      "{'tensor_name': 'b', 'tensor_id': 1, 'tensor_nickname': 'b_1', 'space_id': 0, 'dim': d, 'is_dangling_end': False, 'side_original': 'out', 'side_space_id': 0}\n",
      "<->\n",
      "{'tensor_name': 'c', 'tensor_id': 0, 'tensor_nickname': 'c_0', 'space_id': 1, 'dim': d, 'is_dangling_end': False, 'side_original': 'in', 'side_space_id': 0}\n",
      "\n",
      "{'tensor_name': 'a', 'tensor_id': 1, 'tensor_nickname': 'a_1', 'space_id': 0, 'dim': d, 'is_dangling_end': False, 'side_original': 'out', 'side_space_id': 0}\n",
      "<->\n",
      "{'tensor_name': 'c', 'tensor_id': 1, 'tensor_nickname': 'c_1', 'space_id': 0, 'dim': d, 'is_dangling_end': False, 'side_original': 'out', 'side_space_id': 0}\n",
      "\n",
      "{'tensor_name': 'a', 'tensor_id': 1, 'tensor_nickname': 'a_1', 'space_id': 1, 'dim': d, 'is_dangling_end': False, 'side_original': 'in', 'side_space_id': 0}\n",
      "<->\n",
      "{'tensor_name': 'c', 'tensor_id': 1, 'tensor_nickname': 'c_1', 'space_id': 1, 'dim': d, 'is_dangling_end': False, 'side_original': 'in', 'side_space_id': 0}\n",
      "\n",
      "\n",
      "History of tensor network.\n",
      "[{'random_tensor_name': 'm', 'random_tensor_type': 'unitary', 'is_complex': True, 'is_group': True, 'dims_mat': ((d,), (d,)), 'dims_tensor': (d, d), 'size': 2, 'loops': [], 'pairs': ([(0, 1), (1, 0)], [(0, 1), (1, 0)]), 'yd': (1, 1)}, {'random_tensor_name': 'n', 'random_tensor_type': 'orthogonal', 'is_complex': False, 'is_group': True, 'dims_mat': ((d,), (d,)), 'dims_tensor': (d, d), 'size': 2, 'loops': [], 'pairs': ([(0, 1), (2, 3)], [(0, 2), (1, 3)]), 'yd': (2,)}]\n",
      "\n",
      "Weight:\n"
     ]
    },
    {
     "data": {
      "text/latex": [
       "$\\displaystyle - \\frac{1}{d \\left(d - 1\\right)^{2} \\left(d + 1\\right) \\left(d + 2\\right)}$"
      ],
      "text/plain": [
       "-1/(d*(d - 1)**2*(d + 1)*(d + 2))"
      ]
     },
     "metadata": {},
     "output_type": "display_data"
    },
    {
     "name": "stdout",
     "output_type": "stream",
     "text": [
      "\n",
      "Edges:\n",
      "{'tensor_name': 'a', 'tensor_id': 0, 'tensor_nickname': 'a_0', 'space_id': 0, 'dim': d, 'is_dangling_end': False, 'side_original': 'out', 'side_space_id': 0}\n",
      "<->\n",
      "{'tensor_name': 'b', 'tensor_id': 1, 'tensor_nickname': 'b_1', 'space_id': 1, 'dim': d, 'is_dangling_end': False, 'side_original': 'in', 'side_space_id': 0}\n",
      "\n",
      "{'tensor_name': 'a', 'tensor_id': 0, 'tensor_nickname': 'a_0', 'space_id': 1, 'dim': d, 'is_dangling_end': False, 'side_original': 'in', 'side_space_id': 0}\n",
      "<->\n",
      "{'tensor_name': 'b', 'tensor_id': 0, 'tensor_nickname': 'b_0', 'space_id': 1, 'dim': d, 'is_dangling_end': False, 'side_original': 'in', 'side_space_id': 0}\n",
      "\n",
      "{'tensor_name': 'b', 'tensor_id': 0, 'tensor_nickname': 'b_0', 'space_id': 0, 'dim': d, 'is_dangling_end': False, 'side_original': 'out', 'side_space_id': 0}\n",
      "<->\n",
      "{'tensor_name': 'c', 'tensor_id': 0, 'tensor_nickname': 'c_0', 'space_id': 0, 'dim': d, 'is_dangling_end': False, 'side_original': 'out', 'side_space_id': 0}\n",
      "\n",
      "{'tensor_name': 'b', 'tensor_id': 1, 'tensor_nickname': 'b_1', 'space_id': 0, 'dim': d, 'is_dangling_end': False, 'side_original': 'out', 'side_space_id': 0}\n",
      "<->\n",
      "{'tensor_name': 'c', 'tensor_id': 0, 'tensor_nickname': 'c_0', 'space_id': 1, 'dim': d, 'is_dangling_end': False, 'side_original': 'in', 'side_space_id': 0}\n",
      "\n",
      "{'tensor_name': 'a', 'tensor_id': 1, 'tensor_nickname': 'a_1', 'space_id': 0, 'dim': d, 'is_dangling_end': False, 'side_original': 'out', 'side_space_id': 0}\n",
      "<->\n",
      "{'tensor_name': 'a', 'tensor_id': 1, 'tensor_nickname': 'a_1', 'space_id': 1, 'dim': d, 'is_dangling_end': False, 'side_original': 'in', 'side_space_id': 0}\n",
      "\n",
      "{'tensor_name': 'c', 'tensor_id': 1, 'tensor_nickname': 'c_1', 'space_id': 0, 'dim': d, 'is_dangling_end': False, 'side_original': 'out', 'side_space_id': 0}\n",
      "<->\n",
      "{'tensor_name': 'c', 'tensor_id': 1, 'tensor_nickname': 'c_1', 'space_id': 1, 'dim': d, 'is_dangling_end': False, 'side_original': 'in', 'side_space_id': 0}\n",
      "\n",
      "\n",
      "History of tensor network.\n",
      "[{'random_tensor_name': 'm', 'random_tensor_type': 'unitary', 'is_complex': True, 'is_group': True, 'dims_mat': ((d,), (d,)), 'dims_tensor': (d, d), 'size': 2, 'loops': [], 'pairs': ([(0, 1), (1, 0)], [(0, 1), (1, 0)]), 'yd': (1, 1)}, {'random_tensor_name': 'n', 'random_tensor_type': 'orthogonal', 'is_complex': False, 'is_group': True, 'dims_mat': ((d,), (d,)), 'dims_tensor': (d, d), 'size': 2, 'loops': [], 'pairs': ([(0, 1), (2, 3)], [(0, 3), (1, 2)]), 'yd': (2,)}]\n",
      "\n",
      "Weight:\n"
     ]
    },
    {
     "data": {
      "text/latex": [
       "$\\displaystyle - \\frac{1}{d \\left(d - 1\\right)^{2} \\left(d + 1\\right) \\left(d + 2\\right)}$"
      ],
      "text/plain": [
       "-1/(d*(d - 1)**2*(d + 1)*(d + 2))"
      ]
     },
     "metadata": {},
     "output_type": "display_data"
    },
    {
     "name": "stdout",
     "output_type": "stream",
     "text": [
      "\n",
      "Edges:\n",
      "{'tensor_name': 'a', 'tensor_id': 0, 'tensor_nickname': 'a_0', 'space_id': 0, 'dim': d, 'is_dangling_end': False, 'side_original': 'out', 'side_space_id': 0}\n",
      "<->\n",
      "{'tensor_name': 'b', 'tensor_id': 1, 'tensor_nickname': 'b_1', 'space_id': 1, 'dim': d, 'is_dangling_end': False, 'side_original': 'in', 'side_space_id': 0}\n",
      "\n",
      "{'tensor_name': 'a', 'tensor_id': 0, 'tensor_nickname': 'a_0', 'space_id': 1, 'dim': d, 'is_dangling_end': False, 'side_original': 'in', 'side_space_id': 0}\n",
      "<->\n",
      "{'tensor_name': 'b', 'tensor_id': 0, 'tensor_nickname': 'b_0', 'space_id': 1, 'dim': d, 'is_dangling_end': False, 'side_original': 'in', 'side_space_id': 0}\n",
      "\n",
      "{'tensor_name': 'b', 'tensor_id': 0, 'tensor_nickname': 'b_0', 'space_id': 0, 'dim': d, 'is_dangling_end': False, 'side_original': 'out', 'side_space_id': 0}\n",
      "<->\n",
      "{'tensor_name': 'c', 'tensor_id': 0, 'tensor_nickname': 'c_0', 'space_id': 0, 'dim': d, 'is_dangling_end': False, 'side_original': 'out', 'side_space_id': 0}\n",
      "\n",
      "{'tensor_name': 'b', 'tensor_id': 1, 'tensor_nickname': 'b_1', 'space_id': 0, 'dim': d, 'is_dangling_end': False, 'side_original': 'out', 'side_space_id': 0}\n",
      "<->\n",
      "{'tensor_name': 'c', 'tensor_id': 0, 'tensor_nickname': 'c_0', 'space_id': 1, 'dim': d, 'is_dangling_end': False, 'side_original': 'in', 'side_space_id': 0}\n",
      "\n",
      "{'tensor_name': 'a', 'tensor_id': 1, 'tensor_nickname': 'a_1', 'space_id': 0, 'dim': d, 'is_dangling_end': False, 'side_original': 'out', 'side_space_id': 0}\n",
      "<->\n",
      "{'tensor_name': 'c', 'tensor_id': 1, 'tensor_nickname': 'c_1', 'space_id': 1, 'dim': d, 'is_dangling_end': False, 'side_original': 'in', 'side_space_id': 0}\n",
      "\n",
      "{'tensor_name': 'a', 'tensor_id': 1, 'tensor_nickname': 'a_1', 'space_id': 1, 'dim': d, 'is_dangling_end': False, 'side_original': 'in', 'side_space_id': 0}\n",
      "<->\n",
      "{'tensor_name': 'c', 'tensor_id': 1, 'tensor_nickname': 'c_1', 'space_id': 0, 'dim': d, 'is_dangling_end': False, 'side_original': 'out', 'side_space_id': 0}\n",
      "\n",
      "\n",
      "History of tensor network.\n",
      "[{'random_tensor_name': 'm', 'random_tensor_type': 'unitary', 'is_complex': True, 'is_group': True, 'dims_mat': ((d,), (d,)), 'dims_tensor': (d, d), 'size': 2, 'loops': [], 'pairs': ([(0, 1), (1, 0)], [(0, 1), (1, 0)]), 'yd': (1, 1)}, {'random_tensor_name': 'n', 'random_tensor_type': 'orthogonal', 'is_complex': False, 'is_group': True, 'dims_mat': ((d,), (d,)), 'dims_tensor': (d, d), 'size': 2, 'loops': [], 'pairs': ([(0, 2), (1, 3)], [(0, 1), (2, 3)]), 'yd': (2,)}]\n",
      "\n",
      "Weight:\n"
     ]
    },
    {
     "data": {
      "text/latex": [
       "$\\displaystyle - \\frac{1}{d \\left(d - 1\\right)^{2} \\left(d + 1\\right) \\left(d + 2\\right)}$"
      ],
      "text/plain": [
       "-1/(d*(d - 1)**2*(d + 1)*(d + 2))"
      ]
     },
     "metadata": {},
     "output_type": "display_data"
    },
    {
     "name": "stdout",
     "output_type": "stream",
     "text": [
      "\n",
      "Edges:\n",
      "{'tensor_name': 'a', 'tensor_id': 0, 'tensor_nickname': 'a_0', 'space_id': 0, 'dim': d, 'is_dangling_end': False, 'side_original': 'out', 'side_space_id': 0}\n",
      "<->\n",
      "{'tensor_name': 'b', 'tensor_id': 1, 'tensor_nickname': 'b_1', 'space_id': 0, 'dim': d, 'is_dangling_end': False, 'side_original': 'out', 'side_space_id': 0}\n",
      "\n",
      "{'tensor_name': 'a', 'tensor_id': 0, 'tensor_nickname': 'a_0', 'space_id': 1, 'dim': d, 'is_dangling_end': False, 'side_original': 'in', 'side_space_id': 0}\n",
      "<->\n",
      "{'tensor_name': 'b', 'tensor_id': 0, 'tensor_nickname': 'b_0', 'space_id': 1, 'dim': d, 'is_dangling_end': False, 'side_original': 'in', 'side_space_id': 0}\n",
      "\n",
      "{'tensor_name': 'b', 'tensor_id': 0, 'tensor_nickname': 'b_0', 'space_id': 0, 'dim': d, 'is_dangling_end': False, 'side_original': 'out', 'side_space_id': 0}\n",
      "<->\n",
      "{'tensor_name': 'c', 'tensor_id': 0, 'tensor_nickname': 'c_0', 'space_id': 0, 'dim': d, 'is_dangling_end': False, 'side_original': 'out', 'side_space_id': 0}\n",
      "\n",
      "{'tensor_name': 'b', 'tensor_id': 1, 'tensor_nickname': 'b_1', 'space_id': 1, 'dim': d, 'is_dangling_end': False, 'side_original': 'in', 'side_space_id': 0}\n",
      "<->\n",
      "{'tensor_name': 'c', 'tensor_id': 0, 'tensor_nickname': 'c_0', 'space_id': 1, 'dim': d, 'is_dangling_end': False, 'side_original': 'in', 'side_space_id': 0}\n",
      "\n",
      "{'tensor_name': 'a', 'tensor_id': 1, 'tensor_nickname': 'a_1', 'space_id': 0, 'dim': d, 'is_dangling_end': False, 'side_original': 'out', 'side_space_id': 0}\n",
      "<->\n",
      "{'tensor_name': 'c', 'tensor_id': 1, 'tensor_nickname': 'c_1', 'space_id': 0, 'dim': d, 'is_dangling_end': False, 'side_original': 'out', 'side_space_id': 0}\n",
      "\n",
      "{'tensor_name': 'a', 'tensor_id': 1, 'tensor_nickname': 'a_1', 'space_id': 1, 'dim': d, 'is_dangling_end': False, 'side_original': 'in', 'side_space_id': 0}\n",
      "<->\n",
      "{'tensor_name': 'c', 'tensor_id': 1, 'tensor_nickname': 'c_1', 'space_id': 1, 'dim': d, 'is_dangling_end': False, 'side_original': 'in', 'side_space_id': 0}\n",
      "\n",
      "\n",
      "History of tensor network.\n",
      "[{'random_tensor_name': 'm', 'random_tensor_type': 'unitary', 'is_complex': True, 'is_group': True, 'dims_mat': ((d,), (d,)), 'dims_tensor': (d, d), 'size': 2, 'loops': [], 'pairs': ([(0, 1), (1, 0)], [(0, 1), (1, 0)]), 'yd': (1, 1)}, {'random_tensor_name': 'n', 'random_tensor_type': 'orthogonal', 'is_complex': False, 'is_group': True, 'dims_mat': ((d,), (d,)), 'dims_tensor': (d, d), 'size': 2, 'loops': [], 'pairs': ([(0, 2), (1, 3)], [(0, 2), (1, 3)]), 'yd': (1, 1)}]\n",
      "\n",
      "Weight:\n"
     ]
    },
    {
     "data": {
      "text/latex": [
       "$\\displaystyle \\frac{1}{d \\left(d - 1\\right)^{2} \\left(d + 2\\right)}$"
      ],
      "text/plain": [
       "1/(d*(d - 1)**2*(d + 2))"
      ]
     },
     "metadata": {},
     "output_type": "display_data"
    },
    {
     "name": "stdout",
     "output_type": "stream",
     "text": [
      "\n",
      "Edges:\n",
      "{'tensor_name': 'a', 'tensor_id': 0, 'tensor_nickname': 'a_0', 'space_id': 0, 'dim': d, 'is_dangling_end': False, 'side_original': 'out', 'side_space_id': 0}\n",
      "<->\n",
      "{'tensor_name': 'b', 'tensor_id': 1, 'tensor_nickname': 'b_1', 'space_id': 0, 'dim': d, 'is_dangling_end': False, 'side_original': 'out', 'side_space_id': 0}\n",
      "\n",
      "{'tensor_name': 'a', 'tensor_id': 0, 'tensor_nickname': 'a_0', 'space_id': 1, 'dim': d, 'is_dangling_end': False, 'side_original': 'in', 'side_space_id': 0}\n",
      "<->\n",
      "{'tensor_name': 'b', 'tensor_id': 0, 'tensor_nickname': 'b_0', 'space_id': 1, 'dim': d, 'is_dangling_end': False, 'side_original': 'in', 'side_space_id': 0}\n",
      "\n",
      "{'tensor_name': 'b', 'tensor_id': 0, 'tensor_nickname': 'b_0', 'space_id': 0, 'dim': d, 'is_dangling_end': False, 'side_original': 'out', 'side_space_id': 0}\n",
      "<->\n",
      "{'tensor_name': 'c', 'tensor_id': 0, 'tensor_nickname': 'c_0', 'space_id': 0, 'dim': d, 'is_dangling_end': False, 'side_original': 'out', 'side_space_id': 0}\n",
      "\n",
      "{'tensor_name': 'b', 'tensor_id': 1, 'tensor_nickname': 'b_1', 'space_id': 1, 'dim': d, 'is_dangling_end': False, 'side_original': 'in', 'side_space_id': 0}\n",
      "<->\n",
      "{'tensor_name': 'c', 'tensor_id': 0, 'tensor_nickname': 'c_0', 'space_id': 1, 'dim': d, 'is_dangling_end': False, 'side_original': 'in', 'side_space_id': 0}\n",
      "\n",
      "{'tensor_name': 'a', 'tensor_id': 1, 'tensor_nickname': 'a_1', 'space_id': 0, 'dim': d, 'is_dangling_end': False, 'side_original': 'out', 'side_space_id': 0}\n",
      "<->\n",
      "{'tensor_name': 'a', 'tensor_id': 1, 'tensor_nickname': 'a_1', 'space_id': 1, 'dim': d, 'is_dangling_end': False, 'side_original': 'in', 'side_space_id': 0}\n",
      "\n",
      "{'tensor_name': 'c', 'tensor_id': 1, 'tensor_nickname': 'c_1', 'space_id': 0, 'dim': d, 'is_dangling_end': False, 'side_original': 'out', 'side_space_id': 0}\n",
      "<->\n",
      "{'tensor_name': 'c', 'tensor_id': 1, 'tensor_nickname': 'c_1', 'space_id': 1, 'dim': d, 'is_dangling_end': False, 'side_original': 'in', 'side_space_id': 0}\n",
      "\n",
      "\n",
      "History of tensor network.\n",
      "[{'random_tensor_name': 'm', 'random_tensor_type': 'unitary', 'is_complex': True, 'is_group': True, 'dims_mat': ((d,), (d,)), 'dims_tensor': (d, d), 'size': 2, 'loops': [], 'pairs': ([(0, 1), (1, 0)], [(0, 1), (1, 0)]), 'yd': (1, 1)}, {'random_tensor_name': 'n', 'random_tensor_type': 'orthogonal', 'is_complex': False, 'is_group': True, 'dims_mat': ((d,), (d,)), 'dims_tensor': (d, d), 'size': 2, 'loops': [], 'pairs': ([(0, 2), (1, 3)], [(0, 3), (1, 2)]), 'yd': (2,)}]\n",
      "\n",
      "Weight:\n"
     ]
    },
    {
     "data": {
      "text/latex": [
       "$\\displaystyle - \\frac{1}{d \\left(d - 1\\right)^{2} \\left(d + 1\\right) \\left(d + 2\\right)}$"
      ],
      "text/plain": [
       "-1/(d*(d - 1)**2*(d + 1)*(d + 2))"
      ]
     },
     "metadata": {},
     "output_type": "display_data"
    },
    {
     "name": "stdout",
     "output_type": "stream",
     "text": [
      "\n",
      "Edges:\n",
      "{'tensor_name': 'a', 'tensor_id': 0, 'tensor_nickname': 'a_0', 'space_id': 0, 'dim': d, 'is_dangling_end': False, 'side_original': 'out', 'side_space_id': 0}\n",
      "<->\n",
      "{'tensor_name': 'b', 'tensor_id': 1, 'tensor_nickname': 'b_1', 'space_id': 0, 'dim': d, 'is_dangling_end': False, 'side_original': 'out', 'side_space_id': 0}\n",
      "\n",
      "{'tensor_name': 'a', 'tensor_id': 0, 'tensor_nickname': 'a_0', 'space_id': 1, 'dim': d, 'is_dangling_end': False, 'side_original': 'in', 'side_space_id': 0}\n",
      "<->\n",
      "{'tensor_name': 'b', 'tensor_id': 0, 'tensor_nickname': 'b_0', 'space_id': 1, 'dim': d, 'is_dangling_end': False, 'side_original': 'in', 'side_space_id': 0}\n",
      "\n",
      "{'tensor_name': 'b', 'tensor_id': 0, 'tensor_nickname': 'b_0', 'space_id': 0, 'dim': d, 'is_dangling_end': False, 'side_original': 'out', 'side_space_id': 0}\n",
      "<->\n",
      "{'tensor_name': 'c', 'tensor_id': 0, 'tensor_nickname': 'c_0', 'space_id': 0, 'dim': d, 'is_dangling_end': False, 'side_original': 'out', 'side_space_id': 0}\n",
      "\n",
      "{'tensor_name': 'b', 'tensor_id': 1, 'tensor_nickname': 'b_1', 'space_id': 1, 'dim': d, 'is_dangling_end': False, 'side_original': 'in', 'side_space_id': 0}\n",
      "<->\n",
      "{'tensor_name': 'c', 'tensor_id': 0, 'tensor_nickname': 'c_0', 'space_id': 1, 'dim': d, 'is_dangling_end': False, 'side_original': 'in', 'side_space_id': 0}\n",
      "\n",
      "{'tensor_name': 'a', 'tensor_id': 1, 'tensor_nickname': 'a_1', 'space_id': 0, 'dim': d, 'is_dangling_end': False, 'side_original': 'out', 'side_space_id': 0}\n",
      "<->\n",
      "{'tensor_name': 'c', 'tensor_id': 1, 'tensor_nickname': 'c_1', 'space_id': 1, 'dim': d, 'is_dangling_end': False, 'side_original': 'in', 'side_space_id': 0}\n",
      "\n",
      "{'tensor_name': 'a', 'tensor_id': 1, 'tensor_nickname': 'a_1', 'space_id': 1, 'dim': d, 'is_dangling_end': False, 'side_original': 'in', 'side_space_id': 0}\n",
      "<->\n",
      "{'tensor_name': 'c', 'tensor_id': 1, 'tensor_nickname': 'c_1', 'space_id': 0, 'dim': d, 'is_dangling_end': False, 'side_original': 'out', 'side_space_id': 0}\n",
      "\n",
      "\n",
      "History of tensor network.\n",
      "[{'random_tensor_name': 'm', 'random_tensor_type': 'unitary', 'is_complex': True, 'is_group': True, 'dims_mat': ((d,), (d,)), 'dims_tensor': (d, d), 'size': 2, 'loops': [], 'pairs': ([(0, 1), (1, 0)], [(0, 1), (1, 0)]), 'yd': (1, 1)}, {'random_tensor_name': 'n', 'random_tensor_type': 'orthogonal', 'is_complex': False, 'is_group': True, 'dims_mat': ((d,), (d,)), 'dims_tensor': (d, d), 'size': 2, 'loops': [], 'pairs': ([(0, 3), (1, 2)], [(0, 1), (2, 3)]), 'yd': (2,)}]\n",
      "\n",
      "Weight:\n"
     ]
    },
    {
     "data": {
      "text/latex": [
       "$\\displaystyle - \\frac{1}{d \\left(d - 1\\right)^{2} \\left(d + 1\\right) \\left(d + 2\\right)}$"
      ],
      "text/plain": [
       "-1/(d*(d - 1)**2*(d + 1)*(d + 2))"
      ]
     },
     "metadata": {},
     "output_type": "display_data"
    },
    {
     "name": "stdout",
     "output_type": "stream",
     "text": [
      "\n",
      "Edges:\n",
      "{'tensor_name': 'a', 'tensor_id': 0, 'tensor_nickname': 'a_0', 'space_id': 0, 'dim': d, 'is_dangling_end': False, 'side_original': 'out', 'side_space_id': 0}\n",
      "<->\n",
      "{'tensor_name': 'c', 'tensor_id': 0, 'tensor_nickname': 'c_0', 'space_id': 1, 'dim': d, 'is_dangling_end': False, 'side_original': 'in', 'side_space_id': 0}\n",
      "\n",
      "{'tensor_name': 'a', 'tensor_id': 0, 'tensor_nickname': 'a_0', 'space_id': 1, 'dim': d, 'is_dangling_end': False, 'side_original': 'in', 'side_space_id': 0}\n",
      "<->\n",
      "{'tensor_name': 'b', 'tensor_id': 0, 'tensor_nickname': 'b_0', 'space_id': 1, 'dim': d, 'is_dangling_end': False, 'side_original': 'in', 'side_space_id': 0}\n",
      "\n",
      "{'tensor_name': 'b', 'tensor_id': 0, 'tensor_nickname': 'b_0', 'space_id': 0, 'dim': d, 'is_dangling_end': False, 'side_original': 'out', 'side_space_id': 0}\n",
      "<->\n",
      "{'tensor_name': 'c', 'tensor_id': 0, 'tensor_nickname': 'c_0', 'space_id': 0, 'dim': d, 'is_dangling_end': False, 'side_original': 'out', 'side_space_id': 0}\n",
      "\n",
      "{'tensor_name': 'a', 'tensor_id': 1, 'tensor_nickname': 'a_1', 'space_id': 0, 'dim': d, 'is_dangling_end': False, 'side_original': 'out', 'side_space_id': 0}\n",
      "<->\n",
      "{'tensor_name': 'c', 'tensor_id': 1, 'tensor_nickname': 'c_1', 'space_id': 0, 'dim': d, 'is_dangling_end': False, 'side_original': 'out', 'side_space_id': 0}\n",
      "\n",
      "{'tensor_name': 'a', 'tensor_id': 1, 'tensor_nickname': 'a_1', 'space_id': 1, 'dim': d, 'is_dangling_end': False, 'side_original': 'in', 'side_space_id': 0}\n",
      "<->\n",
      "{'tensor_name': 'c', 'tensor_id': 1, 'tensor_nickname': 'c_1', 'space_id': 1, 'dim': d, 'is_dangling_end': False, 'side_original': 'in', 'side_space_id': 0}\n",
      "\n",
      "{'tensor_name': 'b', 'tensor_id': 1, 'tensor_nickname': 'b_1', 'space_id': 0, 'dim': d, 'is_dangling_end': False, 'side_original': 'out', 'side_space_id': 0}\n",
      "<->\n",
      "{'tensor_name': 'b', 'tensor_id': 1, 'tensor_nickname': 'b_1', 'space_id': 1, 'dim': d, 'is_dangling_end': False, 'side_original': 'in', 'side_space_id': 0}\n",
      "\n",
      "\n",
      "History of tensor network.\n",
      "[{'random_tensor_name': 'm', 'random_tensor_type': 'unitary', 'is_complex': True, 'is_group': True, 'dims_mat': ((d,), (d,)), 'dims_tensor': (d, d), 'size': 2, 'loops': [], 'pairs': ([(0, 1), (1, 0)], [(0, 1), (1, 0)]), 'yd': (1, 1)}, {'random_tensor_name': 'n', 'random_tensor_type': 'orthogonal', 'is_complex': False, 'is_group': True, 'dims_mat': ((d,), (d,)), 'dims_tensor': (d, d), 'size': 2, 'loops': [], 'pairs': ([(0, 3), (1, 2)], [(0, 2), (1, 3)]), 'yd': (2,)}]\n",
      "\n",
      "Weight:\n"
     ]
    },
    {
     "data": {
      "text/latex": [
       "$\\displaystyle - \\frac{1}{d \\left(d - 1\\right)^{2} \\left(d + 1\\right) \\left(d + 2\\right)}$"
      ],
      "text/plain": [
       "-1/(d*(d - 1)**2*(d + 1)*(d + 2))"
      ]
     },
     "metadata": {},
     "output_type": "display_data"
    },
    {
     "name": "stdout",
     "output_type": "stream",
     "text": [
      "\n",
      "Edges:\n",
      "{'tensor_name': 'a', 'tensor_id': 0, 'tensor_nickname': 'a_0', 'space_id': 0, 'dim': d, 'is_dangling_end': False, 'side_original': 'out', 'side_space_id': 0}\n",
      "<->\n",
      "{'tensor_name': 'c', 'tensor_id': 0, 'tensor_nickname': 'c_0', 'space_id': 1, 'dim': d, 'is_dangling_end': False, 'side_original': 'in', 'side_space_id': 0}\n",
      "\n",
      "{'tensor_name': 'a', 'tensor_id': 0, 'tensor_nickname': 'a_0', 'space_id': 1, 'dim': d, 'is_dangling_end': False, 'side_original': 'in', 'side_space_id': 0}\n",
      "<->\n",
      "{'tensor_name': 'b', 'tensor_id': 0, 'tensor_nickname': 'b_0', 'space_id': 1, 'dim': d, 'is_dangling_end': False, 'side_original': 'in', 'side_space_id': 0}\n",
      "\n",
      "{'tensor_name': 'b', 'tensor_id': 0, 'tensor_nickname': 'b_0', 'space_id': 0, 'dim': d, 'is_dangling_end': False, 'side_original': 'out', 'side_space_id': 0}\n",
      "<->\n",
      "{'tensor_name': 'c', 'tensor_id': 0, 'tensor_nickname': 'c_0', 'space_id': 0, 'dim': d, 'is_dangling_end': False, 'side_original': 'out', 'side_space_id': 0}\n",
      "\n",
      "{'tensor_name': 'a', 'tensor_id': 1, 'tensor_nickname': 'a_1', 'space_id': 0, 'dim': d, 'is_dangling_end': False, 'side_original': 'out', 'side_space_id': 0}\n",
      "<->\n",
      "{'tensor_name': 'a', 'tensor_id': 1, 'tensor_nickname': 'a_1', 'space_id': 1, 'dim': d, 'is_dangling_end': False, 'side_original': 'in', 'side_space_id': 0}\n",
      "\n",
      "{'tensor_name': 'b', 'tensor_id': 1, 'tensor_nickname': 'b_1', 'space_id': 0, 'dim': d, 'is_dangling_end': False, 'side_original': 'out', 'side_space_id': 0}\n",
      "<->\n",
      "{'tensor_name': 'b', 'tensor_id': 1, 'tensor_nickname': 'b_1', 'space_id': 1, 'dim': d, 'is_dangling_end': False, 'side_original': 'in', 'side_space_id': 0}\n",
      "\n",
      "{'tensor_name': 'c', 'tensor_id': 1, 'tensor_nickname': 'c_1', 'space_id': 0, 'dim': d, 'is_dangling_end': False, 'side_original': 'out', 'side_space_id': 0}\n",
      "<->\n",
      "{'tensor_name': 'c', 'tensor_id': 1, 'tensor_nickname': 'c_1', 'space_id': 1, 'dim': d, 'is_dangling_end': False, 'side_original': 'in', 'side_space_id': 0}\n",
      "\n",
      "\n",
      "History of tensor network.\n",
      "[{'random_tensor_name': 'm', 'random_tensor_type': 'unitary', 'is_complex': True, 'is_group': True, 'dims_mat': ((d,), (d,)), 'dims_tensor': (d, d), 'size': 2, 'loops': [], 'pairs': ([(0, 1), (1, 0)], [(0, 1), (1, 0)]), 'yd': (1, 1)}, {'random_tensor_name': 'n', 'random_tensor_type': 'orthogonal', 'is_complex': False, 'is_group': True, 'dims_mat': ((d,), (d,)), 'dims_tensor': (d, d), 'size': 2, 'loops': [], 'pairs': ([(0, 3), (1, 2)], [(0, 3), (1, 2)]), 'yd': (1, 1)}]\n",
      "\n",
      "Weight:\n"
     ]
    },
    {
     "data": {
      "text/latex": [
       "$\\displaystyle \\frac{1}{d \\left(d - 1\\right)^{2} \\left(d + 2\\right)}$"
      ],
      "text/plain": [
       "1/(d*(d - 1)**2*(d + 2))"
      ]
     },
     "metadata": {},
     "output_type": "display_data"
    },
    {
     "name": "stdout",
     "output_type": "stream",
     "text": [
      "\n",
      "Edges:\n",
      "{'tensor_name': 'a', 'tensor_id': 0, 'tensor_nickname': 'a_0', 'space_id': 0, 'dim': d, 'is_dangling_end': False, 'side_original': 'out', 'side_space_id': 0}\n",
      "<->\n",
      "{'tensor_name': 'c', 'tensor_id': 0, 'tensor_nickname': 'c_0', 'space_id': 1, 'dim': d, 'is_dangling_end': False, 'side_original': 'in', 'side_space_id': 0}\n",
      "\n",
      "{'tensor_name': 'a', 'tensor_id': 0, 'tensor_nickname': 'a_0', 'space_id': 1, 'dim': d, 'is_dangling_end': False, 'side_original': 'in', 'side_space_id': 0}\n",
      "<->\n",
      "{'tensor_name': 'b', 'tensor_id': 0, 'tensor_nickname': 'b_0', 'space_id': 1, 'dim': d, 'is_dangling_end': False, 'side_original': 'in', 'side_space_id': 0}\n",
      "\n",
      "{'tensor_name': 'b', 'tensor_id': 0, 'tensor_nickname': 'b_0', 'space_id': 0, 'dim': d, 'is_dangling_end': False, 'side_original': 'out', 'side_space_id': 0}\n",
      "<->\n",
      "{'tensor_name': 'c', 'tensor_id': 0, 'tensor_nickname': 'c_0', 'space_id': 0, 'dim': d, 'is_dangling_end': False, 'side_original': 'out', 'side_space_id': 0}\n",
      "\n",
      "{'tensor_name': 'a', 'tensor_id': 1, 'tensor_nickname': 'a_1', 'space_id': 0, 'dim': d, 'is_dangling_end': False, 'side_original': 'out', 'side_space_id': 0}\n",
      "<->\n",
      "{'tensor_name': 'c', 'tensor_id': 1, 'tensor_nickname': 'c_1', 'space_id': 1, 'dim': d, 'is_dangling_end': False, 'side_original': 'in', 'side_space_id': 0}\n",
      "\n",
      "{'tensor_name': 'a', 'tensor_id': 1, 'tensor_nickname': 'a_1', 'space_id': 1, 'dim': d, 'is_dangling_end': False, 'side_original': 'in', 'side_space_id': 0}\n",
      "<->\n",
      "{'tensor_name': 'c', 'tensor_id': 1, 'tensor_nickname': 'c_1', 'space_id': 0, 'dim': d, 'is_dangling_end': False, 'side_original': 'out', 'side_space_id': 0}\n",
      "\n",
      "{'tensor_name': 'b', 'tensor_id': 1, 'tensor_nickname': 'b_1', 'space_id': 0, 'dim': d, 'is_dangling_end': False, 'side_original': 'out', 'side_space_id': 0}\n",
      "<->\n",
      "{'tensor_name': 'b', 'tensor_id': 1, 'tensor_nickname': 'b_1', 'space_id': 1, 'dim': d, 'is_dangling_end': False, 'side_original': 'in', 'side_space_id': 0}\n",
      "\n",
      "\n"
     ]
    }
   ],
   "source": [
    "tensor_networks.integrate('n', 'orthogonal')\n",
    "tensor_networks.show(detail=True)"
   ]
  },
  {
   "cell_type": "code",
   "execution_count": null,
   "id": "2f8f0531",
   "metadata": {},
   "outputs": [],
   "source": []
  }
 ],
 "metadata": {
  "kernelspec": {
   "display_name": "Python 3 (ipykernel)",
   "language": "python",
   "name": "python3"
  },
  "language_info": {
   "codemirror_mode": {
    "name": "ipython",
    "version": 3
   },
   "file_extension": ".py",
   "mimetype": "text/x-python",
   "name": "python",
   "nbconvert_exporter": "python",
   "pygments_lexer": "ipython3",
   "version": "3.11.5"
  }
 },
 "nbformat": 4,
 "nbformat_minor": 5
}
