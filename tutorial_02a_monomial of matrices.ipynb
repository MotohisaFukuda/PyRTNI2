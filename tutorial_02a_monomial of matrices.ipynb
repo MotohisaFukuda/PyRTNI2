{
 "cells": [
  {
   "cell_type": "markdown",
   "id": "73e7e8ac",
   "metadata": {},
   "source": [
    "# Integrating a tensor network w.r.t. each of the four random matrices. \n",
    "Let's integrate $\\mathbb E[MAM^*BMCM^*]$ over $M$, which can be unitary, orthogonal, complex Gaussian or real Gaussian."
   ]
  },
  {
   "cell_type": "code",
   "execution_count": 1,
   "id": "f57114e9",
   "metadata": {},
   "outputs": [],
   "source": [
    "import rtni2 as rtni\n",
    "from sympy import symbols"
   ]
  },
  {
   "cell_type": "code",
   "execution_count": 2,
   "id": "c28b7cec",
   "metadata": {},
   "outputs": [],
   "source": [
    "# Set the dimension.\n",
    "d = symbols('d')"
   ]
  },
  {
   "cell_type": "code",
   "execution_count": 3,
   "id": "9a1d334a",
   "metadata": {},
   "outputs": [],
   "source": [
    "# Define matrices.\n",
    "m1 = rtni.matrix(name='m', dims=[[d],[d]])\n",
    "\n",
    "a = rtni.matrix(name='a', dims=[[d],[d]])\n",
    "b = rtni.matrix(name='b', dims=[[d],[d]])\n",
    "c = rtni.matrix(name='c', dims=[[d],[d]])"
   ]
  },
  {
   "cell_type": "code",
   "execution_count": 4,
   "id": "5561d5ea",
   "metadata": {},
   "outputs": [],
   "source": [
    "# Clone m1.\n",
    "m2 = m1.clone()"
   ]
  },
  {
   "cell_type": "code",
   "execution_count": 5,
   "id": "9608686c",
   "metadata": {},
   "outputs": [],
   "source": [
    "# Clone m1 twice and make them adjoint.  \n",
    "ma1 = m1.clone(); ma1.adjoint()\n",
    "ma2 = m1.clone(); ma2.adjoint()"
   ]
  },
  {
   "cell_type": "code",
   "execution_count": 6,
   "id": "0ec70d86",
   "metadata": {},
   "outputs": [
    {
     "name": "stdout",
     "output_type": "stream",
     "text": [
      "Connected.\n",
      "Connected.\n",
      "Connected.\n",
      "Connected.\n",
      "Connected.\n",
      "Connected.\n"
     ]
    }
   ],
   "source": [
    "# Connect them.\n",
    "m1.inn(0) * a.out(0)\n",
    "a.inn(0) * ma1.out(0)\n",
    "ma1.inn(0) * b.out(0)\n",
    "b.inn(0) * m2.out(0)\n",
    "m2.inn(0) * c.out(0)\n",
    "c.inn(0) * ma2.out(0)"
   ]
  },
  {
   "cell_type": "code",
   "execution_count": 7,
   "id": "100a34d7",
   "metadata": {},
   "outputs": [
    {
     "name": "stdout",
     "output_type": "stream",
     "text": [
      "tensor a clone 0 has been added.\n",
      "tensor b clone 0 has been added.\n",
      "tensor c clone 0 has been added.\n",
      "tensor m clone 0 has been added.\n",
      "tensor m clone 1 has been added.\n",
      "tensor m clone 2 has been added.\n",
      "tensor m clone 3 has been added.\n"
     ]
    }
   ],
   "source": [
    "# Set up the system. \n",
    "tensor_networks = rtni.tensornetworks([a, b, c, m1, m2, ma1, ma2])"
   ]
  },
  {
   "cell_type": "code",
   "execution_count": 8,
   "id": "dc605a10",
   "metadata": {
    "scrolled": true
   },
   "outputs": [
    {
     "name": "stdout",
     "output_type": "stream",
     "text": [
      "Weight:\n"
     ]
    },
    {
     "data": {
      "text/plain": [
       "1"
      ]
     },
     "metadata": {},
     "output_type": "display_data"
    },
    {
     "name": "stdout",
     "output_type": "stream",
     "text": [
      "\n",
      "Edges:\n",
      "1\n",
      "{'tensor_name': 'a', 'tensor_id': 0, 'tensor_nickname': 'a_0', 'space_id': 0, 'dim': d, 'is_dangling_end': False, 'side_original': 'out', 'side_space_id': 0}\n",
      "<->\n",
      "{'tensor_name': 'm', 'tensor_id': 0, 'tensor_nickname': 'm_0', 'space_id': 1, 'dim': d, 'is_dangling_end': False, 'side_original': 'in', 'side_space_id': 0}\n",
      "\n",
      "2\n",
      "{'tensor_name': 'a', 'tensor_id': 0, 'tensor_nickname': 'a_0', 'space_id': 1, 'dim': d, 'is_dangling_end': False, 'side_original': 'in', 'side_space_id': 0}\n",
      "<->\n",
      "{'tensor_name': 'm', 'tensor_id': 2, 'tensor_nickname': 'm_2', 'space_id': 1, 'dim': d, 'is_dangling_end': False, 'side_original': 'in', 'side_space_id': 0}\n",
      "\n",
      "3\n",
      "{'tensor_name': 'b', 'tensor_id': 0, 'tensor_nickname': 'b_0', 'space_id': 0, 'dim': d, 'is_dangling_end': False, 'side_original': 'out', 'side_space_id': 0}\n",
      "<->\n",
      "{'tensor_name': 'm', 'tensor_id': 2, 'tensor_nickname': 'm_2', 'space_id': 0, 'dim': d, 'is_dangling_end': False, 'side_original': 'out', 'side_space_id': 0}\n",
      "\n",
      "4\n",
      "{'tensor_name': 'b', 'tensor_id': 0, 'tensor_nickname': 'b_0', 'space_id': 1, 'dim': d, 'is_dangling_end': False, 'side_original': 'in', 'side_space_id': 0}\n",
      "<->\n",
      "{'tensor_name': 'm', 'tensor_id': 1, 'tensor_nickname': 'm_1', 'space_id': 0, 'dim': d, 'is_dangling_end': False, 'side_original': 'out', 'side_space_id': 0}\n",
      "\n",
      "5\n",
      "{'tensor_name': 'c', 'tensor_id': 0, 'tensor_nickname': 'c_0', 'space_id': 0, 'dim': d, 'is_dangling_end': False, 'side_original': 'out', 'side_space_id': 0}\n",
      "<->\n",
      "{'tensor_name': 'm', 'tensor_id': 1, 'tensor_nickname': 'm_1', 'space_id': 1, 'dim': d, 'is_dangling_end': False, 'side_original': 'in', 'side_space_id': 0}\n",
      "\n",
      "6\n",
      "{'tensor_name': 'c', 'tensor_id': 0, 'tensor_nickname': 'c_0', 'space_id': 1, 'dim': d, 'is_dangling_end': False, 'side_original': 'in', 'side_space_id': 0}\n",
      "<->\n",
      "{'tensor_name': 'm', 'tensor_id': 3, 'tensor_nickname': 'm_3', 'space_id': 1, 'dim': d, 'is_dangling_end': False, 'side_original': 'in', 'side_space_id': 0}\n",
      "\n",
      "\n"
     ]
    }
   ],
   "source": [
    "# the initial tensor network, which is the only one tensor network in the system, \n",
    "tensor_networks.show(counting=True)"
   ]
  },
  {
   "cell_type": "markdown",
   "id": "ba42b95c",
   "metadata": {},
   "source": [
    "## Integrating over complex Gaussian matrices. "
   ]
  },
  {
   "cell_type": "code",
   "execution_count": 9,
   "id": "b520f904",
   "metadata": {
    "scrolled": true
   },
   "outputs": [
    {
     "name": "stdout",
     "output_type": "stream",
     "text": [
      "Integrated. We now have 2 tensor networks.\n",
      "\n",
      "Weight:\n"
     ]
    },
    {
     "data": {
      "text/plain": [
       "1"
      ]
     },
     "metadata": {},
     "output_type": "display_data"
    },
    {
     "name": "stdout",
     "output_type": "stream",
     "text": [
      "\n",
      "Edges:\n",
      "{'tensor_name': 'a', 'tensor_id': 0, 'tensor_nickname': 'a_0', 'space_id': 0, 'dim': d, 'is_dangling_end': False, 'side_original': 'out', 'side_space_id': 0}\n",
      "<->\n",
      "{'tensor_name': 'a', 'tensor_id': 0, 'tensor_nickname': 'a_0', 'space_id': 1, 'dim': d, 'is_dangling_end': False, 'side_original': 'in', 'side_space_id': 0}\n",
      "\n",
      "{'tensor_name': 'b', 'tensor_id': 0, 'tensor_nickname': 'b_0', 'space_id': 0, 'dim': d, 'is_dangling_end': False, 'side_original': 'out', 'side_space_id': 0}\n",
      "<->\n",
      "{'tensor_name': 'dg_m', 'tensor_id': 0, 'tensor_nickname': 'dg_m_0', 'space_id': 0, 'dim': d, 'is_dangling_end': True, 'side_original': 'out', 'side_space_id': 0, 'tensor_name_origonal': 'm'}\n",
      "\n",
      "{'tensor_name': 'b', 'tensor_id': 0, 'tensor_nickname': 'b_0', 'space_id': 1, 'dim': d, 'is_dangling_end': False, 'side_original': 'in', 'side_space_id': 0}\n",
      "<->\n",
      "{'tensor_name': 'dg_m', 'tensor_id': 3, 'tensor_nickname': 'dg_m_3', 'space_id': 0, 'dim': d, 'is_dangling_end': True, 'side_original': 'out', 'side_space_id': 0, 'tensor_name_origonal': 'm'}\n",
      "\n",
      "{'tensor_name': 'c', 'tensor_id': 0, 'tensor_nickname': 'c_0', 'space_id': 0, 'dim': d, 'is_dangling_end': False, 'side_original': 'out', 'side_space_id': 0}\n",
      "<->\n",
      "{'tensor_name': 'c', 'tensor_id': 0, 'tensor_nickname': 'c_0', 'space_id': 1, 'dim': d, 'is_dangling_end': False, 'side_original': 'in', 'side_space_id': 0}\n",
      "\n",
      "\n",
      "Weight:\n"
     ]
    },
    {
     "data": {
      "text/plain": [
       "1"
      ]
     },
     "metadata": {},
     "output_type": "display_data"
    },
    {
     "name": "stdout",
     "output_type": "stream",
     "text": [
      "\n",
      "Edges:\n",
      "{'tensor_name': 'a', 'tensor_id': 0, 'tensor_nickname': 'a_0', 'space_id': 0, 'dim': d, 'is_dangling_end': False, 'side_original': 'out', 'side_space_id': 0}\n",
      "<->\n",
      "{'tensor_name': 'c', 'tensor_id': 0, 'tensor_nickname': 'c_0', 'space_id': 1, 'dim': d, 'is_dangling_end': False, 'side_original': 'in', 'side_space_id': 0}\n",
      "\n",
      "{'tensor_name': 'a', 'tensor_id': 0, 'tensor_nickname': 'a_0', 'space_id': 1, 'dim': d, 'is_dangling_end': False, 'side_original': 'in', 'side_space_id': 0}\n",
      "<->\n",
      "{'tensor_name': 'c', 'tensor_id': 0, 'tensor_nickname': 'c_0', 'space_id': 0, 'dim': d, 'is_dangling_end': False, 'side_original': 'out', 'side_space_id': 0}\n",
      "\n",
      "{'tensor_name': 'b', 'tensor_id': 0, 'tensor_nickname': 'b_0', 'space_id': 0, 'dim': d, 'is_dangling_end': False, 'side_original': 'out', 'side_space_id': 0}\n",
      "<->\n",
      "{'tensor_name': 'b', 'tensor_id': 0, 'tensor_nickname': 'b_0', 'space_id': 1, 'dim': d, 'is_dangling_end': False, 'side_original': 'in', 'side_space_id': 0}\n",
      "\n",
      "{'tensor_name': 'dg_m', 'tensor_id': 0, 'tensor_nickname': 'dg_m_0', 'space_id': 0, 'dim': d, 'is_dangling_end': True, 'side_original': 'out', 'side_space_id': 0, 'tensor_name_origonal': 'm'}\n",
      "<->\n",
      "{'tensor_name': 'dg_m', 'tensor_id': 3, 'tensor_nickname': 'dg_m_3', 'space_id': 0, 'dim': d, 'is_dangling_end': True, 'side_original': 'out', 'side_space_id': 0, 'tensor_name_origonal': 'm'}\n",
      "\n",
      "\n"
     ]
    }
   ],
   "source": [
    "# Make a copy and use the tensor_networks later again. \n",
    "import copy\n",
    "tensor_networks_cg = copy.deepcopy(tensor_networks)\n",
    "\n",
    "\n",
    "tensor_networks_cg.integrate('m', 'complex_gaussian')\n",
    "tensor_networks_cg.show()"
   ]
  },
  {
   "cell_type": "markdown",
   "id": "33ee7641",
   "metadata": {},
   "source": [
    "## Integrating over real Gaussian matrices. "
   ]
  },
  {
   "cell_type": "code",
   "execution_count": 10,
   "id": "0bcfd96f",
   "metadata": {
    "scrolled": true
   },
   "outputs": [
    {
     "name": "stdout",
     "output_type": "stream",
     "text": [
      "Integrated. We now have 3 tensor networks.\n",
      "\n",
      "Weight:\n"
     ]
    },
    {
     "data": {
      "text/plain": [
       "1"
      ]
     },
     "metadata": {},
     "output_type": "display_data"
    },
    {
     "name": "stdout",
     "output_type": "stream",
     "text": [
      "\n",
      "Edges:\n",
      "{'tensor_name': 'a', 'tensor_id': 0, 'tensor_nickname': 'a_0', 'space_id': 0, 'dim': d, 'is_dangling_end': False, 'side_original': 'out', 'side_space_id': 0}\n",
      "<->\n",
      "{'tensor_name': 'c', 'tensor_id': 0, 'tensor_nickname': 'c_0', 'space_id': 0, 'dim': d, 'is_dangling_end': False, 'side_original': 'out', 'side_space_id': 0}\n",
      "\n",
      "{'tensor_name': 'a', 'tensor_id': 0, 'tensor_nickname': 'a_0', 'space_id': 1, 'dim': d, 'is_dangling_end': False, 'side_original': 'in', 'side_space_id': 0}\n",
      "<->\n",
      "{'tensor_name': 'c', 'tensor_id': 0, 'tensor_nickname': 'c_0', 'space_id': 1, 'dim': d, 'is_dangling_end': False, 'side_original': 'in', 'side_space_id': 0}\n",
      "\n",
      "{'tensor_name': 'b', 'tensor_id': 0, 'tensor_nickname': 'b_0', 'space_id': 0, 'dim': d, 'is_dangling_end': False, 'side_original': 'out', 'side_space_id': 0}\n",
      "<->\n",
      "{'tensor_name': 'dg_m', 'tensor_id': 3, 'tensor_nickname': 'dg_m_3', 'space_id': 0, 'dim': d, 'is_dangling_end': True, 'side_original': 'out', 'side_space_id': 0, 'tensor_name_origonal': 'm'}\n",
      "\n",
      "{'tensor_name': 'b', 'tensor_id': 0, 'tensor_nickname': 'b_0', 'space_id': 1, 'dim': d, 'is_dangling_end': False, 'side_original': 'in', 'side_space_id': 0}\n",
      "<->\n",
      "{'tensor_name': 'dg_m', 'tensor_id': 0, 'tensor_nickname': 'dg_m_0', 'space_id': 0, 'dim': d, 'is_dangling_end': True, 'side_original': 'out', 'side_space_id': 0, 'tensor_name_origonal': 'm'}\n",
      "\n",
      "\n",
      "Weight:\n"
     ]
    },
    {
     "data": {
      "text/plain": [
       "1"
      ]
     },
     "metadata": {},
     "output_type": "display_data"
    },
    {
     "name": "stdout",
     "output_type": "stream",
     "text": [
      "\n",
      "Edges:\n",
      "{'tensor_name': 'a', 'tensor_id': 0, 'tensor_nickname': 'a_0', 'space_id': 0, 'dim': d, 'is_dangling_end': False, 'side_original': 'out', 'side_space_id': 0}\n",
      "<->\n",
      "{'tensor_name': 'a', 'tensor_id': 0, 'tensor_nickname': 'a_0', 'space_id': 1, 'dim': d, 'is_dangling_end': False, 'side_original': 'in', 'side_space_id': 0}\n",
      "\n",
      "{'tensor_name': 'b', 'tensor_id': 0, 'tensor_nickname': 'b_0', 'space_id': 0, 'dim': d, 'is_dangling_end': False, 'side_original': 'out', 'side_space_id': 0}\n",
      "<->\n",
      "{'tensor_name': 'dg_m', 'tensor_id': 0, 'tensor_nickname': 'dg_m_0', 'space_id': 0, 'dim': d, 'is_dangling_end': True, 'side_original': 'out', 'side_space_id': 0, 'tensor_name_origonal': 'm'}\n",
      "\n",
      "{'tensor_name': 'b', 'tensor_id': 0, 'tensor_nickname': 'b_0', 'space_id': 1, 'dim': d, 'is_dangling_end': False, 'side_original': 'in', 'side_space_id': 0}\n",
      "<->\n",
      "{'tensor_name': 'dg_m', 'tensor_id': 3, 'tensor_nickname': 'dg_m_3', 'space_id': 0, 'dim': d, 'is_dangling_end': True, 'side_original': 'out', 'side_space_id': 0, 'tensor_name_origonal': 'm'}\n",
      "\n",
      "{'tensor_name': 'c', 'tensor_id': 0, 'tensor_nickname': 'c_0', 'space_id': 0, 'dim': d, 'is_dangling_end': False, 'side_original': 'out', 'side_space_id': 0}\n",
      "<->\n",
      "{'tensor_name': 'c', 'tensor_id': 0, 'tensor_nickname': 'c_0', 'space_id': 1, 'dim': d, 'is_dangling_end': False, 'side_original': 'in', 'side_space_id': 0}\n",
      "\n",
      "\n",
      "Weight:\n"
     ]
    },
    {
     "data": {
      "text/plain": [
       "1"
      ]
     },
     "metadata": {},
     "output_type": "display_data"
    },
    {
     "name": "stdout",
     "output_type": "stream",
     "text": [
      "\n",
      "Edges:\n",
      "{'tensor_name': 'a', 'tensor_id': 0, 'tensor_nickname': 'a_0', 'space_id': 0, 'dim': d, 'is_dangling_end': False, 'side_original': 'out', 'side_space_id': 0}\n",
      "<->\n",
      "{'tensor_name': 'c', 'tensor_id': 0, 'tensor_nickname': 'c_0', 'space_id': 1, 'dim': d, 'is_dangling_end': False, 'side_original': 'in', 'side_space_id': 0}\n",
      "\n",
      "{'tensor_name': 'a', 'tensor_id': 0, 'tensor_nickname': 'a_0', 'space_id': 1, 'dim': d, 'is_dangling_end': False, 'side_original': 'in', 'side_space_id': 0}\n",
      "<->\n",
      "{'tensor_name': 'c', 'tensor_id': 0, 'tensor_nickname': 'c_0', 'space_id': 0, 'dim': d, 'is_dangling_end': False, 'side_original': 'out', 'side_space_id': 0}\n",
      "\n",
      "{'tensor_name': 'b', 'tensor_id': 0, 'tensor_nickname': 'b_0', 'space_id': 0, 'dim': d, 'is_dangling_end': False, 'side_original': 'out', 'side_space_id': 0}\n",
      "<->\n",
      "{'tensor_name': 'b', 'tensor_id': 0, 'tensor_nickname': 'b_0', 'space_id': 1, 'dim': d, 'is_dangling_end': False, 'side_original': 'in', 'side_space_id': 0}\n",
      "\n",
      "{'tensor_name': 'dg_m', 'tensor_id': 0, 'tensor_nickname': 'dg_m_0', 'space_id': 0, 'dim': d, 'is_dangling_end': True, 'side_original': 'out', 'side_space_id': 0, 'tensor_name_origonal': 'm'}\n",
      "<->\n",
      "{'tensor_name': 'dg_m', 'tensor_id': 3, 'tensor_nickname': 'dg_m_3', 'space_id': 0, 'dim': d, 'is_dangling_end': True, 'side_original': 'out', 'side_space_id': 0, 'tensor_name_origonal': 'm'}\n",
      "\n",
      "\n"
     ]
    }
   ],
   "source": [
    "tensor_networks_rg = copy.deepcopy(tensor_networks)\n",
    "tensor_networks_rg.integrate('m', 'real_gaussian')\n",
    "tensor_networks_rg.show()"
   ]
  },
  {
   "cell_type": "markdown",
   "id": "4b7c0a66",
   "metadata": {},
   "source": [
    "## Integrating over unitary matrices. "
   ]
  },
  {
   "cell_type": "code",
   "execution_count": 11,
   "id": "62ccb467",
   "metadata": {},
   "outputs": [
    {
     "name": "stdout",
     "output_type": "stream",
     "text": [
      "Integrated. We now have 4 tensor networks.\n",
      "\n",
      "Weight:\n"
     ]
    },
    {
     "data": {
      "text/latex": [
       "$\\displaystyle \\frac{1}{\\left(d - 1\\right) \\left(d + 1\\right)}$"
      ],
      "text/plain": [
       "1/((d - 1)*(d + 1))"
      ]
     },
     "metadata": {},
     "output_type": "display_data"
    },
    {
     "name": "stdout",
     "output_type": "stream",
     "text": [
      "\n",
      "Edges:\n",
      "{'tensor_name': 'a', 'tensor_id': 0, 'tensor_nickname': 'a_0', 'space_id': 0, 'dim': d, 'is_dangling_end': False, 'side_original': 'out', 'side_space_id': 0}\n",
      "<->\n",
      "{'tensor_name': 'a', 'tensor_id': 0, 'tensor_nickname': 'a_0', 'space_id': 1, 'dim': d, 'is_dangling_end': False, 'side_original': 'in', 'side_space_id': 0}\n",
      "\n",
      "{'tensor_name': 'b', 'tensor_id': 0, 'tensor_nickname': 'b_0', 'space_id': 0, 'dim': d, 'is_dangling_end': False, 'side_original': 'out', 'side_space_id': 0}\n",
      "<->\n",
      "{'tensor_name': 'dg_m', 'tensor_id': 0, 'tensor_nickname': 'dg_m_0', 'space_id': 0, 'dim': d, 'is_dangling_end': True, 'side_original': 'out', 'side_space_id': 0, 'tensor_name_origonal': 'm'}\n",
      "\n",
      "{'tensor_name': 'b', 'tensor_id': 0, 'tensor_nickname': 'b_0', 'space_id': 1, 'dim': d, 'is_dangling_end': False, 'side_original': 'in', 'side_space_id': 0}\n",
      "<->\n",
      "{'tensor_name': 'dg_m', 'tensor_id': 3, 'tensor_nickname': 'dg_m_3', 'space_id': 0, 'dim': d, 'is_dangling_end': True, 'side_original': 'out', 'side_space_id': 0, 'tensor_name_origonal': 'm'}\n",
      "\n",
      "{'tensor_name': 'c', 'tensor_id': 0, 'tensor_nickname': 'c_0', 'space_id': 0, 'dim': d, 'is_dangling_end': False, 'side_original': 'out', 'side_space_id': 0}\n",
      "<->\n",
      "{'tensor_name': 'c', 'tensor_id': 0, 'tensor_nickname': 'c_0', 'space_id': 1, 'dim': d, 'is_dangling_end': False, 'side_original': 'in', 'side_space_id': 0}\n",
      "\n",
      "\n",
      "Weight:\n"
     ]
    },
    {
     "data": {
      "text/latex": [
       "$\\displaystyle - \\frac{1}{d \\left(d - 1\\right) \\left(d + 1\\right)}$"
      ],
      "text/plain": [
       "-1/(d*(d - 1)*(d + 1))"
      ]
     },
     "metadata": {},
     "output_type": "display_data"
    },
    {
     "name": "stdout",
     "output_type": "stream",
     "text": [
      "\n",
      "Edges:\n",
      "{'tensor_name': 'a', 'tensor_id': 0, 'tensor_nickname': 'a_0', 'space_id': 0, 'dim': d, 'is_dangling_end': False, 'side_original': 'out', 'side_space_id': 0}\n",
      "<->\n",
      "{'tensor_name': 'c', 'tensor_id': 0, 'tensor_nickname': 'c_0', 'space_id': 1, 'dim': d, 'is_dangling_end': False, 'side_original': 'in', 'side_space_id': 0}\n",
      "\n",
      "{'tensor_name': 'a', 'tensor_id': 0, 'tensor_nickname': 'a_0', 'space_id': 1, 'dim': d, 'is_dangling_end': False, 'side_original': 'in', 'side_space_id': 0}\n",
      "<->\n",
      "{'tensor_name': 'c', 'tensor_id': 0, 'tensor_nickname': 'c_0', 'space_id': 0, 'dim': d, 'is_dangling_end': False, 'side_original': 'out', 'side_space_id': 0}\n",
      "\n",
      "{'tensor_name': 'b', 'tensor_id': 0, 'tensor_nickname': 'b_0', 'space_id': 0, 'dim': d, 'is_dangling_end': False, 'side_original': 'out', 'side_space_id': 0}\n",
      "<->\n",
      "{'tensor_name': 'dg_m', 'tensor_id': 0, 'tensor_nickname': 'dg_m_0', 'space_id': 0, 'dim': d, 'is_dangling_end': True, 'side_original': 'out', 'side_space_id': 0, 'tensor_name_origonal': 'm'}\n",
      "\n",
      "{'tensor_name': 'b', 'tensor_id': 0, 'tensor_nickname': 'b_0', 'space_id': 1, 'dim': d, 'is_dangling_end': False, 'side_original': 'in', 'side_space_id': 0}\n",
      "<->\n",
      "{'tensor_name': 'dg_m', 'tensor_id': 3, 'tensor_nickname': 'dg_m_3', 'space_id': 0, 'dim': d, 'is_dangling_end': True, 'side_original': 'out', 'side_space_id': 0, 'tensor_name_origonal': 'm'}\n",
      "\n",
      "\n",
      "Weight:\n"
     ]
    },
    {
     "data": {
      "text/latex": [
       "$\\displaystyle - \\frac{1}{d \\left(d - 1\\right) \\left(d + 1\\right)}$"
      ],
      "text/plain": [
       "-1/(d*(d - 1)*(d + 1))"
      ]
     },
     "metadata": {},
     "output_type": "display_data"
    },
    {
     "name": "stdout",
     "output_type": "stream",
     "text": [
      "\n",
      "Edges:\n",
      "{'tensor_name': 'a', 'tensor_id': 0, 'tensor_nickname': 'a_0', 'space_id': 0, 'dim': d, 'is_dangling_end': False, 'side_original': 'out', 'side_space_id': 0}\n",
      "<->\n",
      "{'tensor_name': 'a', 'tensor_id': 0, 'tensor_nickname': 'a_0', 'space_id': 1, 'dim': d, 'is_dangling_end': False, 'side_original': 'in', 'side_space_id': 0}\n",
      "\n",
      "{'tensor_name': 'b', 'tensor_id': 0, 'tensor_nickname': 'b_0', 'space_id': 0, 'dim': d, 'is_dangling_end': False, 'side_original': 'out', 'side_space_id': 0}\n",
      "<->\n",
      "{'tensor_name': 'b', 'tensor_id': 0, 'tensor_nickname': 'b_0', 'space_id': 1, 'dim': d, 'is_dangling_end': False, 'side_original': 'in', 'side_space_id': 0}\n",
      "\n",
      "{'tensor_name': 'c', 'tensor_id': 0, 'tensor_nickname': 'c_0', 'space_id': 0, 'dim': d, 'is_dangling_end': False, 'side_original': 'out', 'side_space_id': 0}\n",
      "<->\n",
      "{'tensor_name': 'c', 'tensor_id': 0, 'tensor_nickname': 'c_0', 'space_id': 1, 'dim': d, 'is_dangling_end': False, 'side_original': 'in', 'side_space_id': 0}\n",
      "\n",
      "{'tensor_name': 'dg_m', 'tensor_id': 0, 'tensor_nickname': 'dg_m_0', 'space_id': 0, 'dim': d, 'is_dangling_end': True, 'side_original': 'out', 'side_space_id': 0, 'tensor_name_origonal': 'm'}\n",
      "<->\n",
      "{'tensor_name': 'dg_m', 'tensor_id': 3, 'tensor_nickname': 'dg_m_3', 'space_id': 0, 'dim': d, 'is_dangling_end': True, 'side_original': 'out', 'side_space_id': 0, 'tensor_name_origonal': 'm'}\n",
      "\n",
      "\n",
      "Weight:\n"
     ]
    },
    {
     "data": {
      "text/latex": [
       "$\\displaystyle \\frac{1}{\\left(d - 1\\right) \\left(d + 1\\right)}$"
      ],
      "text/plain": [
       "1/((d - 1)*(d + 1))"
      ]
     },
     "metadata": {},
     "output_type": "display_data"
    },
    {
     "name": "stdout",
     "output_type": "stream",
     "text": [
      "\n",
      "Edges:\n",
      "{'tensor_name': 'a', 'tensor_id': 0, 'tensor_nickname': 'a_0', 'space_id': 0, 'dim': d, 'is_dangling_end': False, 'side_original': 'out', 'side_space_id': 0}\n",
      "<->\n",
      "{'tensor_name': 'c', 'tensor_id': 0, 'tensor_nickname': 'c_0', 'space_id': 1, 'dim': d, 'is_dangling_end': False, 'side_original': 'in', 'side_space_id': 0}\n",
      "\n",
      "{'tensor_name': 'a', 'tensor_id': 0, 'tensor_nickname': 'a_0', 'space_id': 1, 'dim': d, 'is_dangling_end': False, 'side_original': 'in', 'side_space_id': 0}\n",
      "<->\n",
      "{'tensor_name': 'c', 'tensor_id': 0, 'tensor_nickname': 'c_0', 'space_id': 0, 'dim': d, 'is_dangling_end': False, 'side_original': 'out', 'side_space_id': 0}\n",
      "\n",
      "{'tensor_name': 'b', 'tensor_id': 0, 'tensor_nickname': 'b_0', 'space_id': 0, 'dim': d, 'is_dangling_end': False, 'side_original': 'out', 'side_space_id': 0}\n",
      "<->\n",
      "{'tensor_name': 'b', 'tensor_id': 0, 'tensor_nickname': 'b_0', 'space_id': 1, 'dim': d, 'is_dangling_end': False, 'side_original': 'in', 'side_space_id': 0}\n",
      "\n",
      "{'tensor_name': 'dg_m', 'tensor_id': 0, 'tensor_nickname': 'dg_m_0', 'space_id': 0, 'dim': d, 'is_dangling_end': True, 'side_original': 'out', 'side_space_id': 0, 'tensor_name_origonal': 'm'}\n",
      "<->\n",
      "{'tensor_name': 'dg_m', 'tensor_id': 3, 'tensor_nickname': 'dg_m_3', 'space_id': 0, 'dim': d, 'is_dangling_end': True, 'side_original': 'out', 'side_space_id': 0, 'tensor_name_origonal': 'm'}\n",
      "\n",
      "\n"
     ]
    }
   ],
   "source": [
    "tensor_networks_u = copy.deepcopy(tensor_networks)\n",
    "tensor_networks_u.integrate('m', 'unitary')\n",
    "tensor_networks_u.show()"
   ]
  },
  {
   "cell_type": "code",
   "execution_count": 12,
   "id": "0a0ab5ed",
   "metadata": {},
   "outputs": [
    {
     "name": "stdout",
     "output_type": "stream",
     "text": [
      "Weight:\n"
     ]
    },
    {
     "data": {
      "text/latex": [
       "$\\displaystyle \\frac{1}{\\left(d - 1\\right) \\left(d + 1\\right)}$"
      ],
      "text/plain": [
       "1/((d - 1)*(d + 1))"
      ]
     },
     "metadata": {},
     "output_type": "display_data"
    },
    {
     "name": "stdout",
     "output_type": "stream",
     "text": [
      "\n",
      "Edges:\n",
      "{'tensor_name': 'a', 'tensor_id': 0, 'tensor_nickname': 'a_0', 'space_id': 0, 'dim': d, 'is_dangling_end': False, 'side_original': 'out', 'side_space_id': 0}\n",
      "<->\n",
      "{'tensor_name': 'a', 'tensor_id': 0, 'tensor_nickname': 'a_0', 'space_id': 1, 'dim': d, 'is_dangling_end': False, 'side_original': 'in', 'side_space_id': 0}\n",
      "\n",
      "{'tensor_name': 'b', 'tensor_id': 0, 'tensor_nickname': 'b_0', 'space_id': 0, 'dim': d, 'is_dangling_end': False, 'side_original': 'out', 'side_space_id': 0}\n",
      "<->\n",
      "{'tensor_name': 'dg_m', 'tensor_id': 0, 'tensor_nickname': 'dg_m_0', 'space_id': 0, 'dim': d, 'is_dangling_end': True, 'side_original': 'out', 'side_space_id': 0, 'tensor_name_origonal': 'm'}\n",
      "\n",
      "{'tensor_name': 'b', 'tensor_id': 0, 'tensor_nickname': 'b_0', 'space_id': 1, 'dim': d, 'is_dangling_end': False, 'side_original': 'in', 'side_space_id': 0}\n",
      "<->\n",
      "{'tensor_name': 'dg_m', 'tensor_id': 3, 'tensor_nickname': 'dg_m_3', 'space_id': 0, 'dim': d, 'is_dangling_end': True, 'side_original': 'out', 'side_space_id': 0, 'tensor_name_origonal': 'm'}\n",
      "\n",
      "{'tensor_name': 'c', 'tensor_id': 0, 'tensor_nickname': 'c_0', 'space_id': 0, 'dim': d, 'is_dangling_end': False, 'side_original': 'out', 'side_space_id': 0}\n",
      "<->\n",
      "{'tensor_name': 'c', 'tensor_id': 0, 'tensor_nickname': 'c_0', 'space_id': 1, 'dim': d, 'is_dangling_end': False, 'side_original': 'in', 'side_space_id': 0}\n",
      "\n",
      "\n",
      "Weight:\n"
     ]
    },
    {
     "data": {
      "text/latex": [
       "$\\displaystyle - \\frac{1}{d \\left(d - 1\\right) \\left(d + 1\\right)}$"
      ],
      "text/plain": [
       "-1/(d*(d - 1)*(d + 1))"
      ]
     },
     "metadata": {},
     "output_type": "display_data"
    },
    {
     "name": "stdout",
     "output_type": "stream",
     "text": [
      "\n",
      "Edges:\n",
      "{'tensor_name': 'a', 'tensor_id': 0, 'tensor_nickname': 'a_0', 'space_id': 0, 'dim': d, 'is_dangling_end': False, 'side_original': 'out', 'side_space_id': 0}\n",
      "<->\n",
      "{'tensor_name': 'c', 'tensor_id': 0, 'tensor_nickname': 'c_0', 'space_id': 1, 'dim': d, 'is_dangling_end': False, 'side_original': 'in', 'side_space_id': 0}\n",
      "\n",
      "{'tensor_name': 'a', 'tensor_id': 0, 'tensor_nickname': 'a_0', 'space_id': 1, 'dim': d, 'is_dangling_end': False, 'side_original': 'in', 'side_space_id': 0}\n",
      "<->\n",
      "{'tensor_name': 'c', 'tensor_id': 0, 'tensor_nickname': 'c_0', 'space_id': 0, 'dim': d, 'is_dangling_end': False, 'side_original': 'out', 'side_space_id': 0}\n",
      "\n",
      "{'tensor_name': 'b', 'tensor_id': 0, 'tensor_nickname': 'b_0', 'space_id': 0, 'dim': d, 'is_dangling_end': False, 'side_original': 'out', 'side_space_id': 0}\n",
      "<->\n",
      "{'tensor_name': 'dg_m', 'tensor_id': 0, 'tensor_nickname': 'dg_m_0', 'space_id': 0, 'dim': d, 'is_dangling_end': True, 'side_original': 'out', 'side_space_id': 0, 'tensor_name_origonal': 'm'}\n",
      "\n",
      "{'tensor_name': 'b', 'tensor_id': 0, 'tensor_nickname': 'b_0', 'space_id': 1, 'dim': d, 'is_dangling_end': False, 'side_original': 'in', 'side_space_id': 0}\n",
      "<->\n",
      "{'tensor_name': 'dg_m', 'tensor_id': 3, 'tensor_nickname': 'dg_m_3', 'space_id': 0, 'dim': d, 'is_dangling_end': True, 'side_original': 'out', 'side_space_id': 0, 'tensor_name_origonal': 'm'}\n",
      "\n",
      "\n",
      "Weight:\n"
     ]
    },
    {
     "data": {
      "text/latex": [
       "$\\displaystyle - \\frac{1}{d \\left(d - 1\\right) \\left(d + 1\\right)}$"
      ],
      "text/plain": [
       "-1/(d*(d - 1)*(d + 1))"
      ]
     },
     "metadata": {},
     "output_type": "display_data"
    },
    {
     "name": "stdout",
     "output_type": "stream",
     "text": [
      "\n",
      "Edges:\n",
      "{'tensor_name': 'a', 'tensor_id': 0, 'tensor_nickname': 'a_0', 'space_id': 0, 'dim': d, 'is_dangling_end': False, 'side_original': 'out', 'side_space_id': 0}\n",
      "<->\n",
      "{'tensor_name': 'a', 'tensor_id': 0, 'tensor_nickname': 'a_0', 'space_id': 1, 'dim': d, 'is_dangling_end': False, 'side_original': 'in', 'side_space_id': 0}\n",
      "\n",
      "{'tensor_name': 'b', 'tensor_id': 0, 'tensor_nickname': 'b_0', 'space_id': 0, 'dim': d, 'is_dangling_end': False, 'side_original': 'out', 'side_space_id': 0}\n",
      "<->\n",
      "{'tensor_name': 'b', 'tensor_id': 0, 'tensor_nickname': 'b_0', 'space_id': 1, 'dim': d, 'is_dangling_end': False, 'side_original': 'in', 'side_space_id': 0}\n",
      "\n",
      "{'tensor_name': 'c', 'tensor_id': 0, 'tensor_nickname': 'c_0', 'space_id': 0, 'dim': d, 'is_dangling_end': False, 'side_original': 'out', 'side_space_id': 0}\n",
      "<->\n",
      "{'tensor_name': 'c', 'tensor_id': 0, 'tensor_nickname': 'c_0', 'space_id': 1, 'dim': d, 'is_dangling_end': False, 'side_original': 'in', 'side_space_id': 0}\n",
      "\n",
      "{'tensor_name': 'dg_m', 'tensor_id': 0, 'tensor_nickname': 'dg_m_0', 'space_id': 0, 'dim': d, 'is_dangling_end': True, 'side_original': 'out', 'side_space_id': 0, 'tensor_name_origonal': 'm'}\n",
      "<->\n",
      "{'tensor_name': 'dg_m', 'tensor_id': 3, 'tensor_nickname': 'dg_m_3', 'space_id': 0, 'dim': d, 'is_dangling_end': True, 'side_original': 'out', 'side_space_id': 0, 'tensor_name_origonal': 'm'}\n",
      "\n",
      "\n",
      "Weight:\n"
     ]
    },
    {
     "data": {
      "text/latex": [
       "$\\displaystyle \\frac{1}{\\left(d - 1\\right) \\left(d + 1\\right)}$"
      ],
      "text/plain": [
       "1/((d - 1)*(d + 1))"
      ]
     },
     "metadata": {},
     "output_type": "display_data"
    },
    {
     "name": "stdout",
     "output_type": "stream",
     "text": [
      "\n",
      "Edges:\n",
      "{'tensor_name': 'a', 'tensor_id': 0, 'tensor_nickname': 'a_0', 'space_id': 0, 'dim': d, 'is_dangling_end': False, 'side_original': 'out', 'side_space_id': 0}\n",
      "<->\n",
      "{'tensor_name': 'c', 'tensor_id': 0, 'tensor_nickname': 'c_0', 'space_id': 1, 'dim': d, 'is_dangling_end': False, 'side_original': 'in', 'side_space_id': 0}\n",
      "\n",
      "{'tensor_name': 'a', 'tensor_id': 0, 'tensor_nickname': 'a_0', 'space_id': 1, 'dim': d, 'is_dangling_end': False, 'side_original': 'in', 'side_space_id': 0}\n",
      "<->\n",
      "{'tensor_name': 'c', 'tensor_id': 0, 'tensor_nickname': 'c_0', 'space_id': 0, 'dim': d, 'is_dangling_end': False, 'side_original': 'out', 'side_space_id': 0}\n",
      "\n",
      "{'tensor_name': 'b', 'tensor_id': 0, 'tensor_nickname': 'b_0', 'space_id': 0, 'dim': d, 'is_dangling_end': False, 'side_original': 'out', 'side_space_id': 0}\n",
      "<->\n",
      "{'tensor_name': 'b', 'tensor_id': 0, 'tensor_nickname': 'b_0', 'space_id': 1, 'dim': d, 'is_dangling_end': False, 'side_original': 'in', 'side_space_id': 0}\n",
      "\n",
      "{'tensor_name': 'dg_m', 'tensor_id': 0, 'tensor_nickname': 'dg_m_0', 'space_id': 0, 'dim': d, 'is_dangling_end': True, 'side_original': 'out', 'side_space_id': 0, 'tensor_name_origonal': 'm'}\n",
      "<->\n",
      "{'tensor_name': 'dg_m', 'tensor_id': 3, 'tensor_nickname': 'dg_m_3', 'space_id': 0, 'dim': d, 'is_dangling_end': True, 'side_original': 'out', 'side_space_id': 0, 'tensor_name_origonal': 'm'}\n",
      "\n",
      "\n"
     ]
    }
   ],
   "source": [
    "tensor_networks_u.show()"
   ]
  },
  {
   "cell_type": "markdown",
   "id": "6ab18053",
   "metadata": {},
   "source": [
    "## Integrating over orthogonal matrices. "
   ]
  },
  {
   "cell_type": "code",
   "execution_count": 13,
   "id": "5cdcc099",
   "metadata": {},
   "outputs": [
    {
     "name": "stdout",
     "output_type": "stream",
     "text": [
      "Integrated. We now have 9 tensor networks.\n",
      "\n",
      "Weight:\n"
     ]
    },
    {
     "data": {
      "text/latex": [
       "$\\displaystyle \\frac{d + 1}{d \\left(d - 1\\right) \\left(d + 2\\right)}$"
      ],
      "text/plain": [
       "(d + 1)/(d*(d - 1)*(d + 2))"
      ]
     },
     "metadata": {},
     "output_type": "display_data"
    },
    {
     "name": "stdout",
     "output_type": "stream",
     "text": [
      "\n",
      "Edges:\n",
      "{'tensor_name': 'a', 'tensor_id': 0, 'tensor_nickname': 'a_0', 'space_id': 0, 'dim': d, 'is_dangling_end': False, 'side_original': 'out', 'side_space_id': 0}\n",
      "<->\n",
      "{'tensor_name': 'c', 'tensor_id': 0, 'tensor_nickname': 'c_0', 'space_id': 0, 'dim': d, 'is_dangling_end': False, 'side_original': 'out', 'side_space_id': 0}\n",
      "\n",
      "{'tensor_name': 'a', 'tensor_id': 0, 'tensor_nickname': 'a_0', 'space_id': 1, 'dim': d, 'is_dangling_end': False, 'side_original': 'in', 'side_space_id': 0}\n",
      "<->\n",
      "{'tensor_name': 'c', 'tensor_id': 0, 'tensor_nickname': 'c_0', 'space_id': 1, 'dim': d, 'is_dangling_end': False, 'side_original': 'in', 'side_space_id': 0}\n",
      "\n",
      "{'tensor_name': 'b', 'tensor_id': 0, 'tensor_nickname': 'b_0', 'space_id': 0, 'dim': d, 'is_dangling_end': False, 'side_original': 'out', 'side_space_id': 0}\n",
      "<->\n",
      "{'tensor_name': 'dg_m', 'tensor_id': 3, 'tensor_nickname': 'dg_m_3', 'space_id': 0, 'dim': d, 'is_dangling_end': True, 'side_original': 'out', 'side_space_id': 0, 'tensor_name_origonal': 'm'}\n",
      "\n",
      "{'tensor_name': 'b', 'tensor_id': 0, 'tensor_nickname': 'b_0', 'space_id': 1, 'dim': d, 'is_dangling_end': False, 'side_original': 'in', 'side_space_id': 0}\n",
      "<->\n",
      "{'tensor_name': 'dg_m', 'tensor_id': 0, 'tensor_nickname': 'dg_m_0', 'space_id': 0, 'dim': d, 'is_dangling_end': True, 'side_original': 'out', 'side_space_id': 0, 'tensor_name_origonal': 'm'}\n",
      "\n",
      "\n",
      "Weight:\n"
     ]
    },
    {
     "data": {
      "text/latex": [
       "$\\displaystyle - \\frac{1}{d \\left(d - 1\\right) \\left(d + 2\\right)}$"
      ],
      "text/plain": [
       "-1/(d*(d - 1)*(d + 2))"
      ]
     },
     "metadata": {},
     "output_type": "display_data"
    },
    {
     "name": "stdout",
     "output_type": "stream",
     "text": [
      "\n",
      "Edges:\n",
      "{'tensor_name': 'a', 'tensor_id': 0, 'tensor_nickname': 'a_0', 'space_id': 0, 'dim': d, 'is_dangling_end': False, 'side_original': 'out', 'side_space_id': 0}\n",
      "<->\n",
      "{'tensor_name': 'a', 'tensor_id': 0, 'tensor_nickname': 'a_0', 'space_id': 1, 'dim': d, 'is_dangling_end': False, 'side_original': 'in', 'side_space_id': 0}\n",
      "\n",
      "{'tensor_name': 'b', 'tensor_id': 0, 'tensor_nickname': 'b_0', 'space_id': 0, 'dim': d, 'is_dangling_end': False, 'side_original': 'out', 'side_space_id': 0}\n",
      "<->\n",
      "{'tensor_name': 'dg_m', 'tensor_id': 3, 'tensor_nickname': 'dg_m_3', 'space_id': 0, 'dim': d, 'is_dangling_end': True, 'side_original': 'out', 'side_space_id': 0, 'tensor_name_origonal': 'm'}\n",
      "\n",
      "{'tensor_name': 'b', 'tensor_id': 0, 'tensor_nickname': 'b_0', 'space_id': 1, 'dim': d, 'is_dangling_end': False, 'side_original': 'in', 'side_space_id': 0}\n",
      "<->\n",
      "{'tensor_name': 'dg_m', 'tensor_id': 0, 'tensor_nickname': 'dg_m_0', 'space_id': 0, 'dim': d, 'is_dangling_end': True, 'side_original': 'out', 'side_space_id': 0, 'tensor_name_origonal': 'm'}\n",
      "\n",
      "{'tensor_name': 'c', 'tensor_id': 0, 'tensor_nickname': 'c_0', 'space_id': 0, 'dim': d, 'is_dangling_end': False, 'side_original': 'out', 'side_space_id': 0}\n",
      "<->\n",
      "{'tensor_name': 'c', 'tensor_id': 0, 'tensor_nickname': 'c_0', 'space_id': 1, 'dim': d, 'is_dangling_end': False, 'side_original': 'in', 'side_space_id': 0}\n",
      "\n",
      "\n",
      "Weight:\n"
     ]
    },
    {
     "data": {
      "text/latex": [
       "$\\displaystyle - \\frac{1}{d \\left(d - 1\\right) \\left(d + 2\\right)}$"
      ],
      "text/plain": [
       "-1/(d*(d - 1)*(d + 2))"
      ]
     },
     "metadata": {},
     "output_type": "display_data"
    },
    {
     "name": "stdout",
     "output_type": "stream",
     "text": [
      "\n",
      "Edges:\n",
      "{'tensor_name': 'a', 'tensor_id': 0, 'tensor_nickname': 'a_0', 'space_id': 0, 'dim': d, 'is_dangling_end': False, 'side_original': 'out', 'side_space_id': 0}\n",
      "<->\n",
      "{'tensor_name': 'c', 'tensor_id': 0, 'tensor_nickname': 'c_0', 'space_id': 1, 'dim': d, 'is_dangling_end': False, 'side_original': 'in', 'side_space_id': 0}\n",
      "\n",
      "{'tensor_name': 'a', 'tensor_id': 0, 'tensor_nickname': 'a_0', 'space_id': 1, 'dim': d, 'is_dangling_end': False, 'side_original': 'in', 'side_space_id': 0}\n",
      "<->\n",
      "{'tensor_name': 'c', 'tensor_id': 0, 'tensor_nickname': 'c_0', 'space_id': 0, 'dim': d, 'is_dangling_end': False, 'side_original': 'out', 'side_space_id': 0}\n",
      "\n",
      "{'tensor_name': 'b', 'tensor_id': 0, 'tensor_nickname': 'b_0', 'space_id': 0, 'dim': d, 'is_dangling_end': False, 'side_original': 'out', 'side_space_id': 0}\n",
      "<->\n",
      "{'tensor_name': 'dg_m', 'tensor_id': 3, 'tensor_nickname': 'dg_m_3', 'space_id': 0, 'dim': d, 'is_dangling_end': True, 'side_original': 'out', 'side_space_id': 0, 'tensor_name_origonal': 'm'}\n",
      "\n",
      "{'tensor_name': 'b', 'tensor_id': 0, 'tensor_nickname': 'b_0', 'space_id': 1, 'dim': d, 'is_dangling_end': False, 'side_original': 'in', 'side_space_id': 0}\n",
      "<->\n",
      "{'tensor_name': 'dg_m', 'tensor_id': 0, 'tensor_nickname': 'dg_m_0', 'space_id': 0, 'dim': d, 'is_dangling_end': True, 'side_original': 'out', 'side_space_id': 0, 'tensor_name_origonal': 'm'}\n",
      "\n",
      "\n",
      "Weight:\n"
     ]
    },
    {
     "data": {
      "text/latex": [
       "$\\displaystyle - \\frac{1}{d \\left(d - 1\\right) \\left(d + 2\\right)}$"
      ],
      "text/plain": [
       "-1/(d*(d - 1)*(d + 2))"
      ]
     },
     "metadata": {},
     "output_type": "display_data"
    },
    {
     "name": "stdout",
     "output_type": "stream",
     "text": [
      "\n",
      "Edges:\n",
      "{'tensor_name': 'a', 'tensor_id': 0, 'tensor_nickname': 'a_0', 'space_id': 0, 'dim': d, 'is_dangling_end': False, 'side_original': 'out', 'side_space_id': 0}\n",
      "<->\n",
      "{'tensor_name': 'c', 'tensor_id': 0, 'tensor_nickname': 'c_0', 'space_id': 0, 'dim': d, 'is_dangling_end': False, 'side_original': 'out', 'side_space_id': 0}\n",
      "\n",
      "{'tensor_name': 'a', 'tensor_id': 0, 'tensor_nickname': 'a_0', 'space_id': 1, 'dim': d, 'is_dangling_end': False, 'side_original': 'in', 'side_space_id': 0}\n",
      "<->\n",
      "{'tensor_name': 'c', 'tensor_id': 0, 'tensor_nickname': 'c_0', 'space_id': 1, 'dim': d, 'is_dangling_end': False, 'side_original': 'in', 'side_space_id': 0}\n",
      "\n",
      "{'tensor_name': 'b', 'tensor_id': 0, 'tensor_nickname': 'b_0', 'space_id': 0, 'dim': d, 'is_dangling_end': False, 'side_original': 'out', 'side_space_id': 0}\n",
      "<->\n",
      "{'tensor_name': 'dg_m', 'tensor_id': 0, 'tensor_nickname': 'dg_m_0', 'space_id': 0, 'dim': d, 'is_dangling_end': True, 'side_original': 'out', 'side_space_id': 0, 'tensor_name_origonal': 'm'}\n",
      "\n",
      "{'tensor_name': 'b', 'tensor_id': 0, 'tensor_nickname': 'b_0', 'space_id': 1, 'dim': d, 'is_dangling_end': False, 'side_original': 'in', 'side_space_id': 0}\n",
      "<->\n",
      "{'tensor_name': 'dg_m', 'tensor_id': 3, 'tensor_nickname': 'dg_m_3', 'space_id': 0, 'dim': d, 'is_dangling_end': True, 'side_original': 'out', 'side_space_id': 0, 'tensor_name_origonal': 'm'}\n",
      "\n",
      "\n",
      "Weight:\n"
     ]
    },
    {
     "data": {
      "text/latex": [
       "$\\displaystyle \\frac{d + 1}{d \\left(d - 1\\right) \\left(d + 2\\right)}$"
      ],
      "text/plain": [
       "(d + 1)/(d*(d - 1)*(d + 2))"
      ]
     },
     "metadata": {},
     "output_type": "display_data"
    },
    {
     "name": "stdout",
     "output_type": "stream",
     "text": [
      "\n",
      "Edges:\n",
      "{'tensor_name': 'a', 'tensor_id': 0, 'tensor_nickname': 'a_0', 'space_id': 0, 'dim': d, 'is_dangling_end': False, 'side_original': 'out', 'side_space_id': 0}\n",
      "<->\n",
      "{'tensor_name': 'a', 'tensor_id': 0, 'tensor_nickname': 'a_0', 'space_id': 1, 'dim': d, 'is_dangling_end': False, 'side_original': 'in', 'side_space_id': 0}\n",
      "\n",
      "{'tensor_name': 'b', 'tensor_id': 0, 'tensor_nickname': 'b_0', 'space_id': 0, 'dim': d, 'is_dangling_end': False, 'side_original': 'out', 'side_space_id': 0}\n",
      "<->\n",
      "{'tensor_name': 'dg_m', 'tensor_id': 0, 'tensor_nickname': 'dg_m_0', 'space_id': 0, 'dim': d, 'is_dangling_end': True, 'side_original': 'out', 'side_space_id': 0, 'tensor_name_origonal': 'm'}\n",
      "\n",
      "{'tensor_name': 'b', 'tensor_id': 0, 'tensor_nickname': 'b_0', 'space_id': 1, 'dim': d, 'is_dangling_end': False, 'side_original': 'in', 'side_space_id': 0}\n",
      "<->\n",
      "{'tensor_name': 'dg_m', 'tensor_id': 3, 'tensor_nickname': 'dg_m_3', 'space_id': 0, 'dim': d, 'is_dangling_end': True, 'side_original': 'out', 'side_space_id': 0, 'tensor_name_origonal': 'm'}\n",
      "\n",
      "{'tensor_name': 'c', 'tensor_id': 0, 'tensor_nickname': 'c_0', 'space_id': 0, 'dim': d, 'is_dangling_end': False, 'side_original': 'out', 'side_space_id': 0}\n",
      "<->\n",
      "{'tensor_name': 'c', 'tensor_id': 0, 'tensor_nickname': 'c_0', 'space_id': 1, 'dim': d, 'is_dangling_end': False, 'side_original': 'in', 'side_space_id': 0}\n",
      "\n",
      "\n",
      "Weight:\n"
     ]
    },
    {
     "data": {
      "text/latex": [
       "$\\displaystyle - \\frac{1}{d \\left(d - 1\\right) \\left(d + 2\\right)}$"
      ],
      "text/plain": [
       "-1/(d*(d - 1)*(d + 2))"
      ]
     },
     "metadata": {},
     "output_type": "display_data"
    },
    {
     "name": "stdout",
     "output_type": "stream",
     "text": [
      "\n",
      "Edges:\n",
      "{'tensor_name': 'a', 'tensor_id': 0, 'tensor_nickname': 'a_0', 'space_id': 0, 'dim': d, 'is_dangling_end': False, 'side_original': 'out', 'side_space_id': 0}\n",
      "<->\n",
      "{'tensor_name': 'c', 'tensor_id': 0, 'tensor_nickname': 'c_0', 'space_id': 1, 'dim': d, 'is_dangling_end': False, 'side_original': 'in', 'side_space_id': 0}\n",
      "\n",
      "{'tensor_name': 'a', 'tensor_id': 0, 'tensor_nickname': 'a_0', 'space_id': 1, 'dim': d, 'is_dangling_end': False, 'side_original': 'in', 'side_space_id': 0}\n",
      "<->\n",
      "{'tensor_name': 'c', 'tensor_id': 0, 'tensor_nickname': 'c_0', 'space_id': 0, 'dim': d, 'is_dangling_end': False, 'side_original': 'out', 'side_space_id': 0}\n",
      "\n",
      "{'tensor_name': 'b', 'tensor_id': 0, 'tensor_nickname': 'b_0', 'space_id': 0, 'dim': d, 'is_dangling_end': False, 'side_original': 'out', 'side_space_id': 0}\n",
      "<->\n",
      "{'tensor_name': 'dg_m', 'tensor_id': 0, 'tensor_nickname': 'dg_m_0', 'space_id': 0, 'dim': d, 'is_dangling_end': True, 'side_original': 'out', 'side_space_id': 0, 'tensor_name_origonal': 'm'}\n",
      "\n",
      "{'tensor_name': 'b', 'tensor_id': 0, 'tensor_nickname': 'b_0', 'space_id': 1, 'dim': d, 'is_dangling_end': False, 'side_original': 'in', 'side_space_id': 0}\n",
      "<->\n",
      "{'tensor_name': 'dg_m', 'tensor_id': 3, 'tensor_nickname': 'dg_m_3', 'space_id': 0, 'dim': d, 'is_dangling_end': True, 'side_original': 'out', 'side_space_id': 0, 'tensor_name_origonal': 'm'}\n",
      "\n",
      "\n",
      "Weight:\n"
     ]
    },
    {
     "data": {
      "text/latex": [
       "$\\displaystyle - \\frac{1}{d \\left(d - 1\\right) \\left(d + 2\\right)}$"
      ],
      "text/plain": [
       "-1/(d*(d - 1)*(d + 2))"
      ]
     },
     "metadata": {},
     "output_type": "display_data"
    },
    {
     "name": "stdout",
     "output_type": "stream",
     "text": [
      "\n",
      "Edges:\n",
      "{'tensor_name': 'a', 'tensor_id': 0, 'tensor_nickname': 'a_0', 'space_id': 0, 'dim': d, 'is_dangling_end': False, 'side_original': 'out', 'side_space_id': 0}\n",
      "<->\n",
      "{'tensor_name': 'c', 'tensor_id': 0, 'tensor_nickname': 'c_0', 'space_id': 0, 'dim': d, 'is_dangling_end': False, 'side_original': 'out', 'side_space_id': 0}\n",
      "\n",
      "{'tensor_name': 'a', 'tensor_id': 0, 'tensor_nickname': 'a_0', 'space_id': 1, 'dim': d, 'is_dangling_end': False, 'side_original': 'in', 'side_space_id': 0}\n",
      "<->\n",
      "{'tensor_name': 'c', 'tensor_id': 0, 'tensor_nickname': 'c_0', 'space_id': 1, 'dim': d, 'is_dangling_end': False, 'side_original': 'in', 'side_space_id': 0}\n",
      "\n",
      "{'tensor_name': 'b', 'tensor_id': 0, 'tensor_nickname': 'b_0', 'space_id': 0, 'dim': d, 'is_dangling_end': False, 'side_original': 'out', 'side_space_id': 0}\n",
      "<->\n",
      "{'tensor_name': 'b', 'tensor_id': 0, 'tensor_nickname': 'b_0', 'space_id': 1, 'dim': d, 'is_dangling_end': False, 'side_original': 'in', 'side_space_id': 0}\n",
      "\n",
      "{'tensor_name': 'dg_m', 'tensor_id': 0, 'tensor_nickname': 'dg_m_0', 'space_id': 0, 'dim': d, 'is_dangling_end': True, 'side_original': 'out', 'side_space_id': 0, 'tensor_name_origonal': 'm'}\n",
      "<->\n",
      "{'tensor_name': 'dg_m', 'tensor_id': 3, 'tensor_nickname': 'dg_m_3', 'space_id': 0, 'dim': d, 'is_dangling_end': True, 'side_original': 'out', 'side_space_id': 0, 'tensor_name_origonal': 'm'}\n",
      "\n",
      "\n",
      "Weight:\n"
     ]
    },
    {
     "data": {
      "text/latex": [
       "$\\displaystyle - \\frac{1}{d \\left(d - 1\\right) \\left(d + 2\\right)}$"
      ],
      "text/plain": [
       "-1/(d*(d - 1)*(d + 2))"
      ]
     },
     "metadata": {},
     "output_type": "display_data"
    },
    {
     "name": "stdout",
     "output_type": "stream",
     "text": [
      "\n",
      "Edges:\n",
      "{'tensor_name': 'a', 'tensor_id': 0, 'tensor_nickname': 'a_0', 'space_id': 0, 'dim': d, 'is_dangling_end': False, 'side_original': 'out', 'side_space_id': 0}\n",
      "<->\n",
      "{'tensor_name': 'a', 'tensor_id': 0, 'tensor_nickname': 'a_0', 'space_id': 1, 'dim': d, 'is_dangling_end': False, 'side_original': 'in', 'side_space_id': 0}\n",
      "\n",
      "{'tensor_name': 'b', 'tensor_id': 0, 'tensor_nickname': 'b_0', 'space_id': 0, 'dim': d, 'is_dangling_end': False, 'side_original': 'out', 'side_space_id': 0}\n",
      "<->\n",
      "{'tensor_name': 'b', 'tensor_id': 0, 'tensor_nickname': 'b_0', 'space_id': 1, 'dim': d, 'is_dangling_end': False, 'side_original': 'in', 'side_space_id': 0}\n",
      "\n",
      "{'tensor_name': 'c', 'tensor_id': 0, 'tensor_nickname': 'c_0', 'space_id': 0, 'dim': d, 'is_dangling_end': False, 'side_original': 'out', 'side_space_id': 0}\n",
      "<->\n",
      "{'tensor_name': 'c', 'tensor_id': 0, 'tensor_nickname': 'c_0', 'space_id': 1, 'dim': d, 'is_dangling_end': False, 'side_original': 'in', 'side_space_id': 0}\n",
      "\n",
      "{'tensor_name': 'dg_m', 'tensor_id': 0, 'tensor_nickname': 'dg_m_0', 'space_id': 0, 'dim': d, 'is_dangling_end': True, 'side_original': 'out', 'side_space_id': 0, 'tensor_name_origonal': 'm'}\n",
      "<->\n",
      "{'tensor_name': 'dg_m', 'tensor_id': 3, 'tensor_nickname': 'dg_m_3', 'space_id': 0, 'dim': d, 'is_dangling_end': True, 'side_original': 'out', 'side_space_id': 0, 'tensor_name_origonal': 'm'}\n",
      "\n",
      "\n",
      "Weight:\n"
     ]
    },
    {
     "data": {
      "text/latex": [
       "$\\displaystyle \\frac{d + 1}{d \\left(d - 1\\right) \\left(d + 2\\right)}$"
      ],
      "text/plain": [
       "(d + 1)/(d*(d - 1)*(d + 2))"
      ]
     },
     "metadata": {},
     "output_type": "display_data"
    },
    {
     "name": "stdout",
     "output_type": "stream",
     "text": [
      "\n",
      "Edges:\n",
      "{'tensor_name': 'a', 'tensor_id': 0, 'tensor_nickname': 'a_0', 'space_id': 0, 'dim': d, 'is_dangling_end': False, 'side_original': 'out', 'side_space_id': 0}\n",
      "<->\n",
      "{'tensor_name': 'c', 'tensor_id': 0, 'tensor_nickname': 'c_0', 'space_id': 1, 'dim': d, 'is_dangling_end': False, 'side_original': 'in', 'side_space_id': 0}\n",
      "\n",
      "{'tensor_name': 'a', 'tensor_id': 0, 'tensor_nickname': 'a_0', 'space_id': 1, 'dim': d, 'is_dangling_end': False, 'side_original': 'in', 'side_space_id': 0}\n",
      "<->\n",
      "{'tensor_name': 'c', 'tensor_id': 0, 'tensor_nickname': 'c_0', 'space_id': 0, 'dim': d, 'is_dangling_end': False, 'side_original': 'out', 'side_space_id': 0}\n",
      "\n",
      "{'tensor_name': 'b', 'tensor_id': 0, 'tensor_nickname': 'b_0', 'space_id': 0, 'dim': d, 'is_dangling_end': False, 'side_original': 'out', 'side_space_id': 0}\n",
      "<->\n",
      "{'tensor_name': 'b', 'tensor_id': 0, 'tensor_nickname': 'b_0', 'space_id': 1, 'dim': d, 'is_dangling_end': False, 'side_original': 'in', 'side_space_id': 0}\n",
      "\n",
      "{'tensor_name': 'dg_m', 'tensor_id': 0, 'tensor_nickname': 'dg_m_0', 'space_id': 0, 'dim': d, 'is_dangling_end': True, 'side_original': 'out', 'side_space_id': 0, 'tensor_name_origonal': 'm'}\n",
      "<->\n",
      "{'tensor_name': 'dg_m', 'tensor_id': 3, 'tensor_nickname': 'dg_m_3', 'space_id': 0, 'dim': d, 'is_dangling_end': True, 'side_original': 'out', 'side_space_id': 0, 'tensor_name_origonal': 'm'}\n",
      "\n",
      "\n"
     ]
    }
   ],
   "source": [
    "tensor_networks_o = copy.deepcopy(tensor_networks)\n",
    "tensor_networks_o.integrate('m', 'orthogonal')\n",
    "tensor_networks_o.show()"
   ]
  },
  {
   "cell_type": "code",
   "execution_count": null,
   "id": "540bafb9",
   "metadata": {},
   "outputs": [],
   "source": []
  }
 ],
 "metadata": {
  "kernelspec": {
   "display_name": "Python 3 (ipykernel)",
   "language": "python",
   "name": "python3"
  },
  "language_info": {
   "codemirror_mode": {
    "name": "ipython",
    "version": 3
   },
   "file_extension": ".py",
   "mimetype": "text/x-python",
   "name": "python",
   "nbconvert_exporter": "python",
   "pygments_lexer": "ipython3",
   "version": "3.11.5"
  }
 },
 "nbformat": 4,
 "nbformat_minor": 5
}
