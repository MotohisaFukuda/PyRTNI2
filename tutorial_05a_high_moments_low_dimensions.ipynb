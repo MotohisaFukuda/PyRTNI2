{
 "cells": [
  {
   "cell_type": "markdown",
   "id": "2bbde3d9",
   "metadata": {},
   "source": [
    "# Integrating a tensor network in \"high moment and low dimension\" regime. \n",
    "Let's calculate $\\mathbb E[MAM^*BMCM^*EMFM^*]$ where $M$ is the $2 \\times 2$ random unitary matrix. Here, \"high moment\" means that a tensor network has many copies of the same random tensor(s). In this example, the dimension is $2$, but the number of $M$s (and $M^T$s) and $M^*$s (and $\\bar M$s) are both $3$. "
   ]
  },
  {
   "cell_type": "code",
   "execution_count": 1,
   "id": "0cb734db",
   "metadata": {},
   "outputs": [],
   "source": [
    "import rtni2 as rtni\n",
    "from sympy import symbols"
   ]
  },
  {
   "cell_type": "code",
   "execution_count": 2,
   "id": "3f291eda",
   "metadata": {},
   "outputs": [],
   "source": [
    "# Set the dimension.\n",
    "d = symbols('d')"
   ]
  },
  {
   "cell_type": "code",
   "execution_count": 3,
   "id": "54062d3f",
   "metadata": {},
   "outputs": [],
   "source": [
    "# Define matrices.\n",
    "m1 = rtni.matrix(name='m', dims=[[d],[d]])\n",
    "ma1 = m1.clone(); ma1.adjoint()\n",
    "m2 = m1.clone()\n",
    "ma2 = m1.clone(); ma2.adjoint()\n",
    "m3 = m1.clone()\n",
    "ma3 = m1.clone(); ma3.adjoint()\n",
    "\n",
    "\n",
    "a = rtni.matrix(name='a', dims=[[d],[d]])\n",
    "b = rtni.matrix(name='b', dims=[[d],[d]])\n",
    "c = rtni.matrix(name='c', dims=[[d],[d]])\n",
    "e = rtni.matrix(name='e', dims=[[d],[d]])\n",
    "f = rtni.matrix(name='f', dims=[[d],[d]])"
   ]
  },
  {
   "cell_type": "code",
   "execution_count": 4,
   "id": "e7140e98",
   "metadata": {},
   "outputs": [],
   "source": [
    "# Clone m1 twice and make them adjoint.  \n"
   ]
  },
  {
   "cell_type": "code",
   "execution_count": 5,
   "id": "11c72f29",
   "metadata": {},
   "outputs": [
    {
     "name": "stdout",
     "output_type": "stream",
     "text": [
      "Connected.\n",
      "Connected.\n",
      "Connected.\n",
      "Connected.\n",
      "Connected.\n",
      "Connected.\n",
      "Connected.\n",
      "Connected.\n",
      "Connected.\n",
      "Connected.\n"
     ]
    }
   ],
   "source": [
    "# Connect them.\n",
    "m1.inn(0) * a.out(0)\n",
    "a.inn(0) * ma1.out(0)\n",
    "ma1.inn(0) * b.out(0)\n",
    "b.inn(0) * m2.out(0)\n",
    "m2.inn(0) * c.out(0)\n",
    "c.inn(0) * ma2.out(0)\n",
    "ma2.inn(0) * e.out(0)\n",
    "e.inn(0) * m3.out(0)\n",
    "m3.inn(0) * f.out(0)\n",
    "f.inn(0) * ma3.out(0)"
   ]
  },
  {
   "cell_type": "code",
   "execution_count": 6,
   "id": "2c626bb8",
   "metadata": {},
   "outputs": [
    {
     "name": "stdout",
     "output_type": "stream",
     "text": [
      "tensor a clone 0 has been added.\n",
      "tensor b clone 0 has been added.\n",
      "tensor c clone 0 has been added.\n",
      "tensor e clone 0 has been added.\n",
      "tensor f clone 0 has been added.\n",
      "tensor m clone 0 has been added.\n",
      "tensor m clone 2 has been added.\n",
      "tensor m clone 4 has been added.\n",
      "tensor m clone 1 has been added.\n",
      "tensor m clone 3 has been added.\n",
      "tensor m clone 5 has been added.\n"
     ]
    }
   ],
   "source": [
    "# Set the system. \n",
    "tensor_networks = rtni.tensornetworks([a, b, c, e, f, m1, m2, m3, ma1, ma2, ma3])"
   ]
  },
  {
   "cell_type": "code",
   "execution_count": 7,
   "id": "41bebd75",
   "metadata": {
    "scrolled": true
   },
   "outputs": [
    {
     "name": "stdout",
     "output_type": "stream",
     "text": [
      "Weight:\n"
     ]
    },
    {
     "data": {
      "text/plain": [
       "1"
      ]
     },
     "metadata": {},
     "output_type": "display_data"
    },
    {
     "name": "stdout",
     "output_type": "stream",
     "text": [
      "\n",
      "Edges:\n",
      "1\n",
      "{'tensor_name': 'a', 'tensor_id': 0, 'tensor_nickname': 'a_0', 'space_id': 0, 'dim': d, 'is_dangling_end': False, 'side_original': 'out', 'side_space_id': 0}\n",
      "<->\n",
      "{'tensor_name': 'm', 'tensor_id': 0, 'tensor_nickname': 'm_0', 'space_id': 1, 'dim': d, 'is_dangling_end': False, 'side_original': 'in', 'side_space_id': 0}\n",
      "\n",
      "2\n",
      "{'tensor_name': 'a', 'tensor_id': 0, 'tensor_nickname': 'a_0', 'space_id': 1, 'dim': d, 'is_dangling_end': False, 'side_original': 'in', 'side_space_id': 0}\n",
      "<->\n",
      "{'tensor_name': 'm', 'tensor_id': 1, 'tensor_nickname': 'm_1', 'space_id': 1, 'dim': d, 'is_dangling_end': False, 'side_original': 'in', 'side_space_id': 0}\n",
      "\n",
      "3\n",
      "{'tensor_name': 'b', 'tensor_id': 0, 'tensor_nickname': 'b_0', 'space_id': 0, 'dim': d, 'is_dangling_end': False, 'side_original': 'out', 'side_space_id': 0}\n",
      "<->\n",
      "{'tensor_name': 'm', 'tensor_id': 1, 'tensor_nickname': 'm_1', 'space_id': 0, 'dim': d, 'is_dangling_end': False, 'side_original': 'out', 'side_space_id': 0}\n",
      "\n",
      "4\n",
      "{'tensor_name': 'b', 'tensor_id': 0, 'tensor_nickname': 'b_0', 'space_id': 1, 'dim': d, 'is_dangling_end': False, 'side_original': 'in', 'side_space_id': 0}\n",
      "<->\n",
      "{'tensor_name': 'm', 'tensor_id': 2, 'tensor_nickname': 'm_2', 'space_id': 0, 'dim': d, 'is_dangling_end': False, 'side_original': 'out', 'side_space_id': 0}\n",
      "\n",
      "5\n",
      "{'tensor_name': 'c', 'tensor_id': 0, 'tensor_nickname': 'c_0', 'space_id': 0, 'dim': d, 'is_dangling_end': False, 'side_original': 'out', 'side_space_id': 0}\n",
      "<->\n",
      "{'tensor_name': 'm', 'tensor_id': 2, 'tensor_nickname': 'm_2', 'space_id': 1, 'dim': d, 'is_dangling_end': False, 'side_original': 'in', 'side_space_id': 0}\n",
      "\n",
      "6\n",
      "{'tensor_name': 'c', 'tensor_id': 0, 'tensor_nickname': 'c_0', 'space_id': 1, 'dim': d, 'is_dangling_end': False, 'side_original': 'in', 'side_space_id': 0}\n",
      "<->\n",
      "{'tensor_name': 'm', 'tensor_id': 3, 'tensor_nickname': 'm_3', 'space_id': 1, 'dim': d, 'is_dangling_end': False, 'side_original': 'in', 'side_space_id': 0}\n",
      "\n",
      "7\n",
      "{'tensor_name': 'e', 'tensor_id': 0, 'tensor_nickname': 'e_0', 'space_id': 0, 'dim': d, 'is_dangling_end': False, 'side_original': 'out', 'side_space_id': 0}\n",
      "<->\n",
      "{'tensor_name': 'm', 'tensor_id': 3, 'tensor_nickname': 'm_3', 'space_id': 0, 'dim': d, 'is_dangling_end': False, 'side_original': 'out', 'side_space_id': 0}\n",
      "\n",
      "8\n",
      "{'tensor_name': 'e', 'tensor_id': 0, 'tensor_nickname': 'e_0', 'space_id': 1, 'dim': d, 'is_dangling_end': False, 'side_original': 'in', 'side_space_id': 0}\n",
      "<->\n",
      "{'tensor_name': 'm', 'tensor_id': 4, 'tensor_nickname': 'm_4', 'space_id': 0, 'dim': d, 'is_dangling_end': False, 'side_original': 'out', 'side_space_id': 0}\n",
      "\n",
      "9\n",
      "{'tensor_name': 'f', 'tensor_id': 0, 'tensor_nickname': 'f_0', 'space_id': 0, 'dim': d, 'is_dangling_end': False, 'side_original': 'out', 'side_space_id': 0}\n",
      "<->\n",
      "{'tensor_name': 'm', 'tensor_id': 4, 'tensor_nickname': 'm_4', 'space_id': 1, 'dim': d, 'is_dangling_end': False, 'side_original': 'in', 'side_space_id': 0}\n",
      "\n",
      "10\n",
      "{'tensor_name': 'f', 'tensor_id': 0, 'tensor_nickname': 'f_0', 'space_id': 1, 'dim': d, 'is_dangling_end': False, 'side_original': 'in', 'side_space_id': 0}\n",
      "<->\n",
      "{'tensor_name': 'm', 'tensor_id': 5, 'tensor_nickname': 'm_5', 'space_id': 1, 'dim': d, 'is_dangling_end': False, 'side_original': 'in', 'side_space_id': 0}\n",
      "\n",
      "\n"
     ]
    }
   ],
   "source": [
    "# the initial tensor network, which is the only one tensor network in the system, \n",
    "tensor_networks.show(counting=True)"
   ]
  },
  {
   "cell_type": "markdown",
   "id": "90d418d5",
   "metadata": {},
   "source": [
    "## Integrating over unitary matrices keeping dimensions symbolic, first. \n",
    "Appearently, setting $d=1,2$ will cause problems in calculating the weights. "
   ]
  },
  {
   "cell_type": "code",
   "execution_count": 8,
   "id": "54ed6623",
   "metadata": {
    "scrolled": true
   },
   "outputs": [
    {
     "name": "stdout",
     "output_type": "stream",
     "text": [
      "Integrated. We now have 36 tensor networks.\n",
      "\n",
      "Weight:\n"
     ]
    },
    {
     "data": {
      "text/latex": [
       "$\\displaystyle \\frac{d^{2} - 2}{d \\left(d - 2\\right) \\left(d - 1\\right) \\left(d + 1\\right) \\left(d + 2\\right)}$"
      ],
      "text/plain": [
       "(d**2 - 2)/(d*(d - 2)*(d - 1)*(d + 1)*(d + 2))"
      ]
     },
     "metadata": {},
     "output_type": "display_data"
    },
    {
     "name": "stdout",
     "output_type": "stream",
     "text": [
      "\n",
      "Edges:\n",
      "{'tensor_name': 'a', 'tensor_id': 0, 'tensor_nickname': 'a_0', 'space_id': 0, 'dim': d, 'is_dangling_end': False, 'side_original': 'out', 'side_space_id': 0}\n",
      "<->\n",
      "{'tensor_name': 'a', 'tensor_id': 0, 'tensor_nickname': 'a_0', 'space_id': 1, 'dim': d, 'is_dangling_end': False, 'side_original': 'in', 'side_space_id': 0}\n",
      "\n",
      "{'tensor_name': 'b', 'tensor_id': 0, 'tensor_nickname': 'b_0', 'space_id': 0, 'dim': d, 'is_dangling_end': False, 'side_original': 'out', 'side_space_id': 0}\n",
      "<->\n",
      "{'tensor_name': 'dg_m', 'tensor_id': 0, 'tensor_nickname': 'dg_m_0', 'space_id': 0, 'dim': d, 'is_dangling_end': True, 'side_original': 'out', 'side_space_id': 0, 'tensor_name_origonal': 'm'}\n",
      "\n",
      "{'tensor_name': 'b', 'tensor_id': 0, 'tensor_nickname': 'b_0', 'space_id': 1, 'dim': d, 'is_dangling_end': False, 'side_original': 'in', 'side_space_id': 0}\n",
      "<->\n",
      "{'tensor_name': 'e', 'tensor_id': 0, 'tensor_nickname': 'e_0', 'space_id': 0, 'dim': d, 'is_dangling_end': False, 'side_original': 'out', 'side_space_id': 0}\n",
      "\n",
      "{'tensor_name': 'c', 'tensor_id': 0, 'tensor_nickname': 'c_0', 'space_id': 0, 'dim': d, 'is_dangling_end': False, 'side_original': 'out', 'side_space_id': 0}\n",
      "<->\n",
      "{'tensor_name': 'c', 'tensor_id': 0, 'tensor_nickname': 'c_0', 'space_id': 1, 'dim': d, 'is_dangling_end': False, 'side_original': 'in', 'side_space_id': 0}\n",
      "\n",
      "{'tensor_name': 'dg_m', 'tensor_id': 5, 'tensor_nickname': 'dg_m_5', 'space_id': 0, 'dim': d, 'is_dangling_end': True, 'side_original': 'out', 'side_space_id': 0, 'tensor_name_origonal': 'm'}\n",
      "<->\n",
      "{'tensor_name': 'e', 'tensor_id': 0, 'tensor_nickname': 'e_0', 'space_id': 1, 'dim': d, 'is_dangling_end': False, 'side_original': 'in', 'side_space_id': 0}\n",
      "\n",
      "{'tensor_name': 'f', 'tensor_id': 0, 'tensor_nickname': 'f_0', 'space_id': 0, 'dim': d, 'is_dangling_end': False, 'side_original': 'out', 'side_space_id': 0}\n",
      "<->\n",
      "{'tensor_name': 'f', 'tensor_id': 0, 'tensor_nickname': 'f_0', 'space_id': 1, 'dim': d, 'is_dangling_end': False, 'side_original': 'in', 'side_space_id': 0}\n",
      "\n",
      "\n",
      "Weight:\n"
     ]
    },
    {
     "data": {
      "text/latex": [
       "$\\displaystyle - \\frac{1}{\\left(d - 2\\right) \\left(d - 1\\right) \\left(d + 1\\right) \\left(d + 2\\right)}$"
      ],
      "text/plain": [
       "-1/((d - 2)*(d - 1)*(d + 1)*(d + 2))"
      ]
     },
     "metadata": {},
     "output_type": "display_data"
    },
    {
     "name": "stdout",
     "output_type": "stream",
     "text": [
      "\n",
      "Edges:\n",
      "{'tensor_name': 'a', 'tensor_id': 0, 'tensor_nickname': 'a_0', 'space_id': 0, 'dim': d, 'is_dangling_end': False, 'side_original': 'out', 'side_space_id': 0}\n",
      "<->\n",
      "{'tensor_name': 'a', 'tensor_id': 0, 'tensor_nickname': 'a_0', 'space_id': 1, 'dim': d, 'is_dangling_end': False, 'side_original': 'in', 'side_space_id': 0}\n",
      "\n",
      "{'tensor_name': 'b', 'tensor_id': 0, 'tensor_nickname': 'b_0', 'space_id': 0, 'dim': d, 'is_dangling_end': False, 'side_original': 'out', 'side_space_id': 0}\n",
      "<->\n",
      "{'tensor_name': 'dg_m', 'tensor_id': 0, 'tensor_nickname': 'dg_m_0', 'space_id': 0, 'dim': d, 'is_dangling_end': True, 'side_original': 'out', 'side_space_id': 0, 'tensor_name_origonal': 'm'}\n",
      "\n",
      "{'tensor_name': 'b', 'tensor_id': 0, 'tensor_nickname': 'b_0', 'space_id': 1, 'dim': d, 'is_dangling_end': False, 'side_original': 'in', 'side_space_id': 0}\n",
      "<->\n",
      "{'tensor_name': 'e', 'tensor_id': 0, 'tensor_nickname': 'e_0', 'space_id': 0, 'dim': d, 'is_dangling_end': False, 'side_original': 'out', 'side_space_id': 0}\n",
      "\n",
      "{'tensor_name': 'c', 'tensor_id': 0, 'tensor_nickname': 'c_0', 'space_id': 0, 'dim': d, 'is_dangling_end': False, 'side_original': 'out', 'side_space_id': 0}\n",
      "<->\n",
      "{'tensor_name': 'f', 'tensor_id': 0, 'tensor_nickname': 'f_0', 'space_id': 1, 'dim': d, 'is_dangling_end': False, 'side_original': 'in', 'side_space_id': 0}\n",
      "\n",
      "{'tensor_name': 'c', 'tensor_id': 0, 'tensor_nickname': 'c_0', 'space_id': 1, 'dim': d, 'is_dangling_end': False, 'side_original': 'in', 'side_space_id': 0}\n",
      "<->\n",
      "{'tensor_name': 'f', 'tensor_id': 0, 'tensor_nickname': 'f_0', 'space_id': 0, 'dim': d, 'is_dangling_end': False, 'side_original': 'out', 'side_space_id': 0}\n",
      "\n",
      "{'tensor_name': 'dg_m', 'tensor_id': 5, 'tensor_nickname': 'dg_m_5', 'space_id': 0, 'dim': d, 'is_dangling_end': True, 'side_original': 'out', 'side_space_id': 0, 'tensor_name_origonal': 'm'}\n",
      "<->\n",
      "{'tensor_name': 'e', 'tensor_id': 0, 'tensor_nickname': 'e_0', 'space_id': 1, 'dim': d, 'is_dangling_end': False, 'side_original': 'in', 'side_space_id': 0}\n",
      "\n",
      "\n",
      "Weight:\n"
     ]
    },
    {
     "data": {
      "text/latex": [
       "$\\displaystyle - \\frac{1}{\\left(d - 2\\right) \\left(d - 1\\right) \\left(d + 1\\right) \\left(d + 2\\right)}$"
      ],
      "text/plain": [
       "-1/((d - 2)*(d - 1)*(d + 1)*(d + 2))"
      ]
     },
     "metadata": {},
     "output_type": "display_data"
    },
    {
     "name": "stdout",
     "output_type": "stream",
     "text": [
      "\n",
      "Edges:\n",
      "{'tensor_name': 'a', 'tensor_id': 0, 'tensor_nickname': 'a_0', 'space_id': 0, 'dim': d, 'is_dangling_end': False, 'side_original': 'out', 'side_space_id': 0}\n",
      "<->\n",
      "{'tensor_name': 'c', 'tensor_id': 0, 'tensor_nickname': 'c_0', 'space_id': 1, 'dim': d, 'is_dangling_end': False, 'side_original': 'in', 'side_space_id': 0}\n",
      "\n",
      "{'tensor_name': 'a', 'tensor_id': 0, 'tensor_nickname': 'a_0', 'space_id': 1, 'dim': d, 'is_dangling_end': False, 'side_original': 'in', 'side_space_id': 0}\n",
      "<->\n",
      "{'tensor_name': 'c', 'tensor_id': 0, 'tensor_nickname': 'c_0', 'space_id': 0, 'dim': d, 'is_dangling_end': False, 'side_original': 'out', 'side_space_id': 0}\n",
      "\n",
      "{'tensor_name': 'b', 'tensor_id': 0, 'tensor_nickname': 'b_0', 'space_id': 0, 'dim': d, 'is_dangling_end': False, 'side_original': 'out', 'side_space_id': 0}\n",
      "<->\n",
      "{'tensor_name': 'dg_m', 'tensor_id': 0, 'tensor_nickname': 'dg_m_0', 'space_id': 0, 'dim': d, 'is_dangling_end': True, 'side_original': 'out', 'side_space_id': 0, 'tensor_name_origonal': 'm'}\n",
      "\n",
      "{'tensor_name': 'b', 'tensor_id': 0, 'tensor_nickname': 'b_0', 'space_id': 1, 'dim': d, 'is_dangling_end': False, 'side_original': 'in', 'side_space_id': 0}\n",
      "<->\n",
      "{'tensor_name': 'e', 'tensor_id': 0, 'tensor_nickname': 'e_0', 'space_id': 0, 'dim': d, 'is_dangling_end': False, 'side_original': 'out', 'side_space_id': 0}\n",
      "\n",
      "{'tensor_name': 'dg_m', 'tensor_id': 5, 'tensor_nickname': 'dg_m_5', 'space_id': 0, 'dim': d, 'is_dangling_end': True, 'side_original': 'out', 'side_space_id': 0, 'tensor_name_origonal': 'm'}\n",
      "<->\n",
      "{'tensor_name': 'e', 'tensor_id': 0, 'tensor_nickname': 'e_0', 'space_id': 1, 'dim': d, 'is_dangling_end': False, 'side_original': 'in', 'side_space_id': 0}\n",
      "\n",
      "{'tensor_name': 'f', 'tensor_id': 0, 'tensor_nickname': 'f_0', 'space_id': 0, 'dim': d, 'is_dangling_end': False, 'side_original': 'out', 'side_space_id': 0}\n",
      "<->\n",
      "{'tensor_name': 'f', 'tensor_id': 0, 'tensor_nickname': 'f_0', 'space_id': 1, 'dim': d, 'is_dangling_end': False, 'side_original': 'in', 'side_space_id': 0}\n",
      "\n",
      "\n",
      "Weight:\n"
     ]
    },
    {
     "data": {
      "text/latex": [
       "$\\displaystyle \\frac{2}{d \\left(d - 2\\right) \\left(d - 1\\right) \\left(d + 1\\right) \\left(d + 2\\right)}$"
      ],
      "text/plain": [
       "2/(d*(d - 2)*(d - 1)*(d + 1)*(d + 2))"
      ]
     },
     "metadata": {},
     "output_type": "display_data"
    },
    {
     "name": "stdout",
     "output_type": "stream",
     "text": [
      "\n",
      "Edges:\n",
      "{'tensor_name': 'a', 'tensor_id': 0, 'tensor_nickname': 'a_0', 'space_id': 0, 'dim': d, 'is_dangling_end': False, 'side_original': 'out', 'side_space_id': 0}\n",
      "<->\n",
      "{'tensor_name': 'c', 'tensor_id': 0, 'tensor_nickname': 'c_0', 'space_id': 1, 'dim': d, 'is_dangling_end': False, 'side_original': 'in', 'side_space_id': 0}\n",
      "\n",
      "{'tensor_name': 'a', 'tensor_id': 0, 'tensor_nickname': 'a_0', 'space_id': 1, 'dim': d, 'is_dangling_end': False, 'side_original': 'in', 'side_space_id': 0}\n",
      "<->\n",
      "{'tensor_name': 'f', 'tensor_id': 0, 'tensor_nickname': 'f_0', 'space_id': 0, 'dim': d, 'is_dangling_end': False, 'side_original': 'out', 'side_space_id': 0}\n",
      "\n",
      "{'tensor_name': 'b', 'tensor_id': 0, 'tensor_nickname': 'b_0', 'space_id': 0, 'dim': d, 'is_dangling_end': False, 'side_original': 'out', 'side_space_id': 0}\n",
      "<->\n",
      "{'tensor_name': 'dg_m', 'tensor_id': 0, 'tensor_nickname': 'dg_m_0', 'space_id': 0, 'dim': d, 'is_dangling_end': True, 'side_original': 'out', 'side_space_id': 0, 'tensor_name_origonal': 'm'}\n",
      "\n",
      "{'tensor_name': 'b', 'tensor_id': 0, 'tensor_nickname': 'b_0', 'space_id': 1, 'dim': d, 'is_dangling_end': False, 'side_original': 'in', 'side_space_id': 0}\n",
      "<->\n",
      "{'tensor_name': 'e', 'tensor_id': 0, 'tensor_nickname': 'e_0', 'space_id': 0, 'dim': d, 'is_dangling_end': False, 'side_original': 'out', 'side_space_id': 0}\n",
      "\n",
      "{'tensor_name': 'c', 'tensor_id': 0, 'tensor_nickname': 'c_0', 'space_id': 0, 'dim': d, 'is_dangling_end': False, 'side_original': 'out', 'side_space_id': 0}\n",
      "<->\n",
      "{'tensor_name': 'f', 'tensor_id': 0, 'tensor_nickname': 'f_0', 'space_id': 1, 'dim': d, 'is_dangling_end': False, 'side_original': 'in', 'side_space_id': 0}\n",
      "\n",
      "{'tensor_name': 'dg_m', 'tensor_id': 5, 'tensor_nickname': 'dg_m_5', 'space_id': 0, 'dim': d, 'is_dangling_end': True, 'side_original': 'out', 'side_space_id': 0, 'tensor_name_origonal': 'm'}\n",
      "<->\n",
      "{'tensor_name': 'e', 'tensor_id': 0, 'tensor_nickname': 'e_0', 'space_id': 1, 'dim': d, 'is_dangling_end': False, 'side_original': 'in', 'side_space_id': 0}\n",
      "\n",
      "\n",
      "Weight:\n"
     ]
    },
    {
     "data": {
      "text/latex": [
       "$\\displaystyle \\frac{2}{d \\left(d - 2\\right) \\left(d - 1\\right) \\left(d + 1\\right) \\left(d + 2\\right)}$"
      ],
      "text/plain": [
       "2/(d*(d - 2)*(d - 1)*(d + 1)*(d + 2))"
      ]
     },
     "metadata": {},
     "output_type": "display_data"
    },
    {
     "name": "stdout",
     "output_type": "stream",
     "text": [
      "\n",
      "Edges:\n",
      "{'tensor_name': 'a', 'tensor_id': 0, 'tensor_nickname': 'a_0', 'space_id': 0, 'dim': d, 'is_dangling_end': False, 'side_original': 'out', 'side_space_id': 0}\n",
      "<->\n",
      "{'tensor_name': 'f', 'tensor_id': 0, 'tensor_nickname': 'f_0', 'space_id': 1, 'dim': d, 'is_dangling_end': False, 'side_original': 'in', 'side_space_id': 0}\n",
      "\n",
      "{'tensor_name': 'a', 'tensor_id': 0, 'tensor_nickname': 'a_0', 'space_id': 1, 'dim': d, 'is_dangling_end': False, 'side_original': 'in', 'side_space_id': 0}\n",
      "<->\n",
      "{'tensor_name': 'c', 'tensor_id': 0, 'tensor_nickname': 'c_0', 'space_id': 0, 'dim': d, 'is_dangling_end': False, 'side_original': 'out', 'side_space_id': 0}\n",
      "\n",
      "{'tensor_name': 'b', 'tensor_id': 0, 'tensor_nickname': 'b_0', 'space_id': 0, 'dim': d, 'is_dangling_end': False, 'side_original': 'out', 'side_space_id': 0}\n",
      "<->\n",
      "{'tensor_name': 'dg_m', 'tensor_id': 0, 'tensor_nickname': 'dg_m_0', 'space_id': 0, 'dim': d, 'is_dangling_end': True, 'side_original': 'out', 'side_space_id': 0, 'tensor_name_origonal': 'm'}\n",
      "\n",
      "{'tensor_name': 'b', 'tensor_id': 0, 'tensor_nickname': 'b_0', 'space_id': 1, 'dim': d, 'is_dangling_end': False, 'side_original': 'in', 'side_space_id': 0}\n",
      "<->\n",
      "{'tensor_name': 'e', 'tensor_id': 0, 'tensor_nickname': 'e_0', 'space_id': 0, 'dim': d, 'is_dangling_end': False, 'side_original': 'out', 'side_space_id': 0}\n",
      "\n",
      "{'tensor_name': 'c', 'tensor_id': 0, 'tensor_nickname': 'c_0', 'space_id': 1, 'dim': d, 'is_dangling_end': False, 'side_original': 'in', 'side_space_id': 0}\n",
      "<->\n",
      "{'tensor_name': 'f', 'tensor_id': 0, 'tensor_nickname': 'f_0', 'space_id': 0, 'dim': d, 'is_dangling_end': False, 'side_original': 'out', 'side_space_id': 0}\n",
      "\n",
      "{'tensor_name': 'dg_m', 'tensor_id': 5, 'tensor_nickname': 'dg_m_5', 'space_id': 0, 'dim': d, 'is_dangling_end': True, 'side_original': 'out', 'side_space_id': 0, 'tensor_name_origonal': 'm'}\n",
      "<->\n",
      "{'tensor_name': 'e', 'tensor_id': 0, 'tensor_nickname': 'e_0', 'space_id': 1, 'dim': d, 'is_dangling_end': False, 'side_original': 'in', 'side_space_id': 0}\n",
      "\n",
      "\n",
      "Weight:\n"
     ]
    },
    {
     "data": {
      "text/latex": [
       "$\\displaystyle - \\frac{1}{\\left(d - 2\\right) \\left(d - 1\\right) \\left(d + 1\\right) \\left(d + 2\\right)}$"
      ],
      "text/plain": [
       "-1/((d - 2)*(d - 1)*(d + 1)*(d + 2))"
      ]
     },
     "metadata": {},
     "output_type": "display_data"
    },
    {
     "name": "stdout",
     "output_type": "stream",
     "text": [
      "\n",
      "Edges:\n",
      "{'tensor_name': 'a', 'tensor_id': 0, 'tensor_nickname': 'a_0', 'space_id': 0, 'dim': d, 'is_dangling_end': False, 'side_original': 'out', 'side_space_id': 0}\n",
      "<->\n",
      "{'tensor_name': 'f', 'tensor_id': 0, 'tensor_nickname': 'f_0', 'space_id': 1, 'dim': d, 'is_dangling_end': False, 'side_original': 'in', 'side_space_id': 0}\n",
      "\n",
      "{'tensor_name': 'a', 'tensor_id': 0, 'tensor_nickname': 'a_0', 'space_id': 1, 'dim': d, 'is_dangling_end': False, 'side_original': 'in', 'side_space_id': 0}\n",
      "<->\n",
      "{'tensor_name': 'f', 'tensor_id': 0, 'tensor_nickname': 'f_0', 'space_id': 0, 'dim': d, 'is_dangling_end': False, 'side_original': 'out', 'side_space_id': 0}\n",
      "\n",
      "{'tensor_name': 'b', 'tensor_id': 0, 'tensor_nickname': 'b_0', 'space_id': 0, 'dim': d, 'is_dangling_end': False, 'side_original': 'out', 'side_space_id': 0}\n",
      "<->\n",
      "{'tensor_name': 'dg_m', 'tensor_id': 0, 'tensor_nickname': 'dg_m_0', 'space_id': 0, 'dim': d, 'is_dangling_end': True, 'side_original': 'out', 'side_space_id': 0, 'tensor_name_origonal': 'm'}\n",
      "\n",
      "{'tensor_name': 'b', 'tensor_id': 0, 'tensor_nickname': 'b_0', 'space_id': 1, 'dim': d, 'is_dangling_end': False, 'side_original': 'in', 'side_space_id': 0}\n",
      "<->\n",
      "{'tensor_name': 'e', 'tensor_id': 0, 'tensor_nickname': 'e_0', 'space_id': 0, 'dim': d, 'is_dangling_end': False, 'side_original': 'out', 'side_space_id': 0}\n",
      "\n",
      "{'tensor_name': 'c', 'tensor_id': 0, 'tensor_nickname': 'c_0', 'space_id': 0, 'dim': d, 'is_dangling_end': False, 'side_original': 'out', 'side_space_id': 0}\n",
      "<->\n",
      "{'tensor_name': 'c', 'tensor_id': 0, 'tensor_nickname': 'c_0', 'space_id': 1, 'dim': d, 'is_dangling_end': False, 'side_original': 'in', 'side_space_id': 0}\n",
      "\n",
      "{'tensor_name': 'dg_m', 'tensor_id': 5, 'tensor_nickname': 'dg_m_5', 'space_id': 0, 'dim': d, 'is_dangling_end': True, 'side_original': 'out', 'side_space_id': 0, 'tensor_name_origonal': 'm'}\n",
      "<->\n",
      "{'tensor_name': 'e', 'tensor_id': 0, 'tensor_nickname': 'e_0', 'space_id': 1, 'dim': d, 'is_dangling_end': False, 'side_original': 'in', 'side_space_id': 0}\n",
      "\n",
      "\n",
      "Weight:\n"
     ]
    },
    {
     "data": {
      "text/latex": [
       "$\\displaystyle - \\frac{1}{\\left(d - 2\\right) \\left(d - 1\\right) \\left(d + 1\\right) \\left(d + 2\\right)}$"
      ],
      "text/plain": [
       "-1/((d - 2)*(d - 1)*(d + 1)*(d + 2))"
      ]
     },
     "metadata": {},
     "output_type": "display_data"
    },
    {
     "name": "stdout",
     "output_type": "stream",
     "text": [
      "\n",
      "Edges:\n",
      "{'tensor_name': 'a', 'tensor_id': 0, 'tensor_nickname': 'a_0', 'space_id': 0, 'dim': d, 'is_dangling_end': False, 'side_original': 'out', 'side_space_id': 0}\n",
      "<->\n",
      "{'tensor_name': 'a', 'tensor_id': 0, 'tensor_nickname': 'a_0', 'space_id': 1, 'dim': d, 'is_dangling_end': False, 'side_original': 'in', 'side_space_id': 0}\n",
      "\n",
      "{'tensor_name': 'b', 'tensor_id': 0, 'tensor_nickname': 'b_0', 'space_id': 0, 'dim': d, 'is_dangling_end': False, 'side_original': 'out', 'side_space_id': 0}\n",
      "<->\n",
      "{'tensor_name': 'dg_m', 'tensor_id': 0, 'tensor_nickname': 'dg_m_0', 'space_id': 0, 'dim': d, 'is_dangling_end': True, 'side_original': 'out', 'side_space_id': 0, 'tensor_name_origonal': 'm'}\n",
      "\n",
      "{'tensor_name': 'b', 'tensor_id': 0, 'tensor_nickname': 'b_0', 'space_id': 1, 'dim': d, 'is_dangling_end': False, 'side_original': 'in', 'side_space_id': 0}\n",
      "<->\n",
      "{'tensor_name': 'dg_m', 'tensor_id': 5, 'tensor_nickname': 'dg_m_5', 'space_id': 0, 'dim': d, 'is_dangling_end': True, 'side_original': 'out', 'side_space_id': 0, 'tensor_name_origonal': 'm'}\n",
      "\n",
      "{'tensor_name': 'c', 'tensor_id': 0, 'tensor_nickname': 'c_0', 'space_id': 0, 'dim': d, 'is_dangling_end': False, 'side_original': 'out', 'side_space_id': 0}\n",
      "<->\n",
      "{'tensor_name': 'c', 'tensor_id': 0, 'tensor_nickname': 'c_0', 'space_id': 1, 'dim': d, 'is_dangling_end': False, 'side_original': 'in', 'side_space_id': 0}\n",
      "\n",
      "{'tensor_name': 'e', 'tensor_id': 0, 'tensor_nickname': 'e_0', 'space_id': 0, 'dim': d, 'is_dangling_end': False, 'side_original': 'out', 'side_space_id': 0}\n",
      "<->\n",
      "{'tensor_name': 'e', 'tensor_id': 0, 'tensor_nickname': 'e_0', 'space_id': 1, 'dim': d, 'is_dangling_end': False, 'side_original': 'in', 'side_space_id': 0}\n",
      "\n",
      "{'tensor_name': 'f', 'tensor_id': 0, 'tensor_nickname': 'f_0', 'space_id': 0, 'dim': d, 'is_dangling_end': False, 'side_original': 'out', 'side_space_id': 0}\n",
      "<->\n",
      "{'tensor_name': 'f', 'tensor_id': 0, 'tensor_nickname': 'f_0', 'space_id': 1, 'dim': d, 'is_dangling_end': False, 'side_original': 'in', 'side_space_id': 0}\n",
      "\n",
      "\n",
      "Weight:\n"
     ]
    },
    {
     "data": {
      "text/latex": [
       "$\\displaystyle \\frac{d^{2} - 2}{d \\left(d - 2\\right) \\left(d - 1\\right) \\left(d + 1\\right) \\left(d + 2\\right)}$"
      ],
      "text/plain": [
       "(d**2 - 2)/(d*(d - 2)*(d - 1)*(d + 1)*(d + 2))"
      ]
     },
     "metadata": {},
     "output_type": "display_data"
    },
    {
     "name": "stdout",
     "output_type": "stream",
     "text": [
      "\n",
      "Edges:\n",
      "{'tensor_name': 'a', 'tensor_id': 0, 'tensor_nickname': 'a_0', 'space_id': 0, 'dim': d, 'is_dangling_end': False, 'side_original': 'out', 'side_space_id': 0}\n",
      "<->\n",
      "{'tensor_name': 'a', 'tensor_id': 0, 'tensor_nickname': 'a_0', 'space_id': 1, 'dim': d, 'is_dangling_end': False, 'side_original': 'in', 'side_space_id': 0}\n",
      "\n",
      "{'tensor_name': 'b', 'tensor_id': 0, 'tensor_nickname': 'b_0', 'space_id': 0, 'dim': d, 'is_dangling_end': False, 'side_original': 'out', 'side_space_id': 0}\n",
      "<->\n",
      "{'tensor_name': 'dg_m', 'tensor_id': 0, 'tensor_nickname': 'dg_m_0', 'space_id': 0, 'dim': d, 'is_dangling_end': True, 'side_original': 'out', 'side_space_id': 0, 'tensor_name_origonal': 'm'}\n",
      "\n",
      "{'tensor_name': 'b', 'tensor_id': 0, 'tensor_nickname': 'b_0', 'space_id': 1, 'dim': d, 'is_dangling_end': False, 'side_original': 'in', 'side_space_id': 0}\n",
      "<->\n",
      "{'tensor_name': 'dg_m', 'tensor_id': 5, 'tensor_nickname': 'dg_m_5', 'space_id': 0, 'dim': d, 'is_dangling_end': True, 'side_original': 'out', 'side_space_id': 0, 'tensor_name_origonal': 'm'}\n",
      "\n",
      "{'tensor_name': 'c', 'tensor_id': 0, 'tensor_nickname': 'c_0', 'space_id': 0, 'dim': d, 'is_dangling_end': False, 'side_original': 'out', 'side_space_id': 0}\n",
      "<->\n",
      "{'tensor_name': 'f', 'tensor_id': 0, 'tensor_nickname': 'f_0', 'space_id': 1, 'dim': d, 'is_dangling_end': False, 'side_original': 'in', 'side_space_id': 0}\n",
      "\n",
      "{'tensor_name': 'c', 'tensor_id': 0, 'tensor_nickname': 'c_0', 'space_id': 1, 'dim': d, 'is_dangling_end': False, 'side_original': 'in', 'side_space_id': 0}\n",
      "<->\n",
      "{'tensor_name': 'f', 'tensor_id': 0, 'tensor_nickname': 'f_0', 'space_id': 0, 'dim': d, 'is_dangling_end': False, 'side_original': 'out', 'side_space_id': 0}\n",
      "\n",
      "{'tensor_name': 'e', 'tensor_id': 0, 'tensor_nickname': 'e_0', 'space_id': 0, 'dim': d, 'is_dangling_end': False, 'side_original': 'out', 'side_space_id': 0}\n",
      "<->\n",
      "{'tensor_name': 'e', 'tensor_id': 0, 'tensor_nickname': 'e_0', 'space_id': 1, 'dim': d, 'is_dangling_end': False, 'side_original': 'in', 'side_space_id': 0}\n",
      "\n",
      "\n",
      "Weight:\n"
     ]
    },
    {
     "data": {
      "text/latex": [
       "$\\displaystyle \\frac{2}{d \\left(d - 2\\right) \\left(d - 1\\right) \\left(d + 1\\right) \\left(d + 2\\right)}$"
      ],
      "text/plain": [
       "2/(d*(d - 2)*(d - 1)*(d + 1)*(d + 2))"
      ]
     },
     "metadata": {},
     "output_type": "display_data"
    },
    {
     "name": "stdout",
     "output_type": "stream",
     "text": [
      "\n",
      "Edges:\n",
      "{'tensor_name': 'a', 'tensor_id': 0, 'tensor_nickname': 'a_0', 'space_id': 0, 'dim': d, 'is_dangling_end': False, 'side_original': 'out', 'side_space_id': 0}\n",
      "<->\n",
      "{'tensor_name': 'c', 'tensor_id': 0, 'tensor_nickname': 'c_0', 'space_id': 1, 'dim': d, 'is_dangling_end': False, 'side_original': 'in', 'side_space_id': 0}\n",
      "\n",
      "{'tensor_name': 'a', 'tensor_id': 0, 'tensor_nickname': 'a_0', 'space_id': 1, 'dim': d, 'is_dangling_end': False, 'side_original': 'in', 'side_space_id': 0}\n",
      "<->\n",
      "{'tensor_name': 'c', 'tensor_id': 0, 'tensor_nickname': 'c_0', 'space_id': 0, 'dim': d, 'is_dangling_end': False, 'side_original': 'out', 'side_space_id': 0}\n",
      "\n",
      "{'tensor_name': 'b', 'tensor_id': 0, 'tensor_nickname': 'b_0', 'space_id': 0, 'dim': d, 'is_dangling_end': False, 'side_original': 'out', 'side_space_id': 0}\n",
      "<->\n",
      "{'tensor_name': 'dg_m', 'tensor_id': 0, 'tensor_nickname': 'dg_m_0', 'space_id': 0, 'dim': d, 'is_dangling_end': True, 'side_original': 'out', 'side_space_id': 0, 'tensor_name_origonal': 'm'}\n",
      "\n",
      "{'tensor_name': 'b', 'tensor_id': 0, 'tensor_nickname': 'b_0', 'space_id': 1, 'dim': d, 'is_dangling_end': False, 'side_original': 'in', 'side_space_id': 0}\n",
      "<->\n",
      "{'tensor_name': 'dg_m', 'tensor_id': 5, 'tensor_nickname': 'dg_m_5', 'space_id': 0, 'dim': d, 'is_dangling_end': True, 'side_original': 'out', 'side_space_id': 0, 'tensor_name_origonal': 'm'}\n",
      "\n",
      "{'tensor_name': 'e', 'tensor_id': 0, 'tensor_nickname': 'e_0', 'space_id': 0, 'dim': d, 'is_dangling_end': False, 'side_original': 'out', 'side_space_id': 0}\n",
      "<->\n",
      "{'tensor_name': 'e', 'tensor_id': 0, 'tensor_nickname': 'e_0', 'space_id': 1, 'dim': d, 'is_dangling_end': False, 'side_original': 'in', 'side_space_id': 0}\n",
      "\n",
      "{'tensor_name': 'f', 'tensor_id': 0, 'tensor_nickname': 'f_0', 'space_id': 0, 'dim': d, 'is_dangling_end': False, 'side_original': 'out', 'side_space_id': 0}\n",
      "<->\n",
      "{'tensor_name': 'f', 'tensor_id': 0, 'tensor_nickname': 'f_0', 'space_id': 1, 'dim': d, 'is_dangling_end': False, 'side_original': 'in', 'side_space_id': 0}\n",
      "\n",
      "\n",
      "Weight:\n"
     ]
    },
    {
     "data": {
      "text/latex": [
       "$\\displaystyle - \\frac{1}{\\left(d - 2\\right) \\left(d - 1\\right) \\left(d + 1\\right) \\left(d + 2\\right)}$"
      ],
      "text/plain": [
       "-1/((d - 2)*(d - 1)*(d + 1)*(d + 2))"
      ]
     },
     "metadata": {},
     "output_type": "display_data"
    },
    {
     "name": "stdout",
     "output_type": "stream",
     "text": [
      "\n",
      "Edges:\n",
      "{'tensor_name': 'a', 'tensor_id': 0, 'tensor_nickname': 'a_0', 'space_id': 0, 'dim': d, 'is_dangling_end': False, 'side_original': 'out', 'side_space_id': 0}\n",
      "<->\n",
      "{'tensor_name': 'c', 'tensor_id': 0, 'tensor_nickname': 'c_0', 'space_id': 1, 'dim': d, 'is_dangling_end': False, 'side_original': 'in', 'side_space_id': 0}\n",
      "\n",
      "{'tensor_name': 'a', 'tensor_id': 0, 'tensor_nickname': 'a_0', 'space_id': 1, 'dim': d, 'is_dangling_end': False, 'side_original': 'in', 'side_space_id': 0}\n",
      "<->\n",
      "{'tensor_name': 'f', 'tensor_id': 0, 'tensor_nickname': 'f_0', 'space_id': 0, 'dim': d, 'is_dangling_end': False, 'side_original': 'out', 'side_space_id': 0}\n",
      "\n",
      "{'tensor_name': 'b', 'tensor_id': 0, 'tensor_nickname': 'b_0', 'space_id': 0, 'dim': d, 'is_dangling_end': False, 'side_original': 'out', 'side_space_id': 0}\n",
      "<->\n",
      "{'tensor_name': 'dg_m', 'tensor_id': 0, 'tensor_nickname': 'dg_m_0', 'space_id': 0, 'dim': d, 'is_dangling_end': True, 'side_original': 'out', 'side_space_id': 0, 'tensor_name_origonal': 'm'}\n",
      "\n",
      "{'tensor_name': 'b', 'tensor_id': 0, 'tensor_nickname': 'b_0', 'space_id': 1, 'dim': d, 'is_dangling_end': False, 'side_original': 'in', 'side_space_id': 0}\n",
      "<->\n",
      "{'tensor_name': 'dg_m', 'tensor_id': 5, 'tensor_nickname': 'dg_m_5', 'space_id': 0, 'dim': d, 'is_dangling_end': True, 'side_original': 'out', 'side_space_id': 0, 'tensor_name_origonal': 'm'}\n",
      "\n",
      "{'tensor_name': 'c', 'tensor_id': 0, 'tensor_nickname': 'c_0', 'space_id': 0, 'dim': d, 'is_dangling_end': False, 'side_original': 'out', 'side_space_id': 0}\n",
      "<->\n",
      "{'tensor_name': 'f', 'tensor_id': 0, 'tensor_nickname': 'f_0', 'space_id': 1, 'dim': d, 'is_dangling_end': False, 'side_original': 'in', 'side_space_id': 0}\n",
      "\n",
      "{'tensor_name': 'e', 'tensor_id': 0, 'tensor_nickname': 'e_0', 'space_id': 0, 'dim': d, 'is_dangling_end': False, 'side_original': 'out', 'side_space_id': 0}\n",
      "<->\n",
      "{'tensor_name': 'e', 'tensor_id': 0, 'tensor_nickname': 'e_0', 'space_id': 1, 'dim': d, 'is_dangling_end': False, 'side_original': 'in', 'side_space_id': 0}\n",
      "\n",
      "\n",
      "Weight:\n"
     ]
    },
    {
     "data": {
      "text/latex": [
       "$\\displaystyle - \\frac{1}{\\left(d - 2\\right) \\left(d - 1\\right) \\left(d + 1\\right) \\left(d + 2\\right)}$"
      ],
      "text/plain": [
       "-1/((d - 2)*(d - 1)*(d + 1)*(d + 2))"
      ]
     },
     "metadata": {},
     "output_type": "display_data"
    },
    {
     "name": "stdout",
     "output_type": "stream",
     "text": [
      "\n",
      "Edges:\n",
      "{'tensor_name': 'a', 'tensor_id': 0, 'tensor_nickname': 'a_0', 'space_id': 0, 'dim': d, 'is_dangling_end': False, 'side_original': 'out', 'side_space_id': 0}\n",
      "<->\n",
      "{'tensor_name': 'f', 'tensor_id': 0, 'tensor_nickname': 'f_0', 'space_id': 1, 'dim': d, 'is_dangling_end': False, 'side_original': 'in', 'side_space_id': 0}\n",
      "\n",
      "{'tensor_name': 'a', 'tensor_id': 0, 'tensor_nickname': 'a_0', 'space_id': 1, 'dim': d, 'is_dangling_end': False, 'side_original': 'in', 'side_space_id': 0}\n",
      "<->\n",
      "{'tensor_name': 'c', 'tensor_id': 0, 'tensor_nickname': 'c_0', 'space_id': 0, 'dim': d, 'is_dangling_end': False, 'side_original': 'out', 'side_space_id': 0}\n",
      "\n",
      "{'tensor_name': 'b', 'tensor_id': 0, 'tensor_nickname': 'b_0', 'space_id': 0, 'dim': d, 'is_dangling_end': False, 'side_original': 'out', 'side_space_id': 0}\n",
      "<->\n",
      "{'tensor_name': 'dg_m', 'tensor_id': 0, 'tensor_nickname': 'dg_m_0', 'space_id': 0, 'dim': d, 'is_dangling_end': True, 'side_original': 'out', 'side_space_id': 0, 'tensor_name_origonal': 'm'}\n",
      "\n",
      "{'tensor_name': 'b', 'tensor_id': 0, 'tensor_nickname': 'b_0', 'space_id': 1, 'dim': d, 'is_dangling_end': False, 'side_original': 'in', 'side_space_id': 0}\n",
      "<->\n",
      "{'tensor_name': 'dg_m', 'tensor_id': 5, 'tensor_nickname': 'dg_m_5', 'space_id': 0, 'dim': d, 'is_dangling_end': True, 'side_original': 'out', 'side_space_id': 0, 'tensor_name_origonal': 'm'}\n",
      "\n",
      "{'tensor_name': 'c', 'tensor_id': 0, 'tensor_nickname': 'c_0', 'space_id': 1, 'dim': d, 'is_dangling_end': False, 'side_original': 'in', 'side_space_id': 0}\n",
      "<->\n",
      "{'tensor_name': 'f', 'tensor_id': 0, 'tensor_nickname': 'f_0', 'space_id': 0, 'dim': d, 'is_dangling_end': False, 'side_original': 'out', 'side_space_id': 0}\n",
      "\n",
      "{'tensor_name': 'e', 'tensor_id': 0, 'tensor_nickname': 'e_0', 'space_id': 0, 'dim': d, 'is_dangling_end': False, 'side_original': 'out', 'side_space_id': 0}\n",
      "<->\n",
      "{'tensor_name': 'e', 'tensor_id': 0, 'tensor_nickname': 'e_0', 'space_id': 1, 'dim': d, 'is_dangling_end': False, 'side_original': 'in', 'side_space_id': 0}\n",
      "\n",
      "\n",
      "Weight:\n"
     ]
    },
    {
     "data": {
      "text/latex": [
       "$\\displaystyle \\frac{2}{d \\left(d - 2\\right) \\left(d - 1\\right) \\left(d + 1\\right) \\left(d + 2\\right)}$"
      ],
      "text/plain": [
       "2/(d*(d - 2)*(d - 1)*(d + 1)*(d + 2))"
      ]
     },
     "metadata": {},
     "output_type": "display_data"
    },
    {
     "name": "stdout",
     "output_type": "stream",
     "text": [
      "\n",
      "Edges:\n",
      "{'tensor_name': 'a', 'tensor_id': 0, 'tensor_nickname': 'a_0', 'space_id': 0, 'dim': d, 'is_dangling_end': False, 'side_original': 'out', 'side_space_id': 0}\n",
      "<->\n",
      "{'tensor_name': 'f', 'tensor_id': 0, 'tensor_nickname': 'f_0', 'space_id': 1, 'dim': d, 'is_dangling_end': False, 'side_original': 'in', 'side_space_id': 0}\n",
      "\n",
      "{'tensor_name': 'a', 'tensor_id': 0, 'tensor_nickname': 'a_0', 'space_id': 1, 'dim': d, 'is_dangling_end': False, 'side_original': 'in', 'side_space_id': 0}\n",
      "<->\n",
      "{'tensor_name': 'f', 'tensor_id': 0, 'tensor_nickname': 'f_0', 'space_id': 0, 'dim': d, 'is_dangling_end': False, 'side_original': 'out', 'side_space_id': 0}\n",
      "\n",
      "{'tensor_name': 'b', 'tensor_id': 0, 'tensor_nickname': 'b_0', 'space_id': 0, 'dim': d, 'is_dangling_end': False, 'side_original': 'out', 'side_space_id': 0}\n",
      "<->\n",
      "{'tensor_name': 'dg_m', 'tensor_id': 0, 'tensor_nickname': 'dg_m_0', 'space_id': 0, 'dim': d, 'is_dangling_end': True, 'side_original': 'out', 'side_space_id': 0, 'tensor_name_origonal': 'm'}\n",
      "\n",
      "{'tensor_name': 'b', 'tensor_id': 0, 'tensor_nickname': 'b_0', 'space_id': 1, 'dim': d, 'is_dangling_end': False, 'side_original': 'in', 'side_space_id': 0}\n",
      "<->\n",
      "{'tensor_name': 'dg_m', 'tensor_id': 5, 'tensor_nickname': 'dg_m_5', 'space_id': 0, 'dim': d, 'is_dangling_end': True, 'side_original': 'out', 'side_space_id': 0, 'tensor_name_origonal': 'm'}\n",
      "\n",
      "{'tensor_name': 'c', 'tensor_id': 0, 'tensor_nickname': 'c_0', 'space_id': 0, 'dim': d, 'is_dangling_end': False, 'side_original': 'out', 'side_space_id': 0}\n",
      "<->\n",
      "{'tensor_name': 'c', 'tensor_id': 0, 'tensor_nickname': 'c_0', 'space_id': 1, 'dim': d, 'is_dangling_end': False, 'side_original': 'in', 'side_space_id': 0}\n",
      "\n",
      "{'tensor_name': 'e', 'tensor_id': 0, 'tensor_nickname': 'e_0', 'space_id': 0, 'dim': d, 'is_dangling_end': False, 'side_original': 'out', 'side_space_id': 0}\n",
      "<->\n",
      "{'tensor_name': 'e', 'tensor_id': 0, 'tensor_nickname': 'e_0', 'space_id': 1, 'dim': d, 'is_dangling_end': False, 'side_original': 'in', 'side_space_id': 0}\n",
      "\n",
      "\n",
      "Weight:\n"
     ]
    },
    {
     "data": {
      "text/latex": [
       "$\\displaystyle - \\frac{1}{\\left(d - 2\\right) \\left(d - 1\\right) \\left(d + 1\\right) \\left(d + 2\\right)}$"
      ],
      "text/plain": [
       "-1/((d - 2)*(d - 1)*(d + 1)*(d + 2))"
      ]
     },
     "metadata": {},
     "output_type": "display_data"
    },
    {
     "name": "stdout",
     "output_type": "stream",
     "text": [
      "\n",
      "Edges:\n",
      "{'tensor_name': 'a', 'tensor_id': 0, 'tensor_nickname': 'a_0', 'space_id': 0, 'dim': d, 'is_dangling_end': False, 'side_original': 'out', 'side_space_id': 0}\n",
      "<->\n",
      "{'tensor_name': 'a', 'tensor_id': 0, 'tensor_nickname': 'a_0', 'space_id': 1, 'dim': d, 'is_dangling_end': False, 'side_original': 'in', 'side_space_id': 0}\n",
      "\n",
      "{'tensor_name': 'b', 'tensor_id': 0, 'tensor_nickname': 'b_0', 'space_id': 0, 'dim': d, 'is_dangling_end': False, 'side_original': 'out', 'side_space_id': 0}\n",
      "<->\n",
      "{'tensor_name': 'b', 'tensor_id': 0, 'tensor_nickname': 'b_0', 'space_id': 1, 'dim': d, 'is_dangling_end': False, 'side_original': 'in', 'side_space_id': 0}\n",
      "\n",
      "{'tensor_name': 'c', 'tensor_id': 0, 'tensor_nickname': 'c_0', 'space_id': 0, 'dim': d, 'is_dangling_end': False, 'side_original': 'out', 'side_space_id': 0}\n",
      "<->\n",
      "{'tensor_name': 'c', 'tensor_id': 0, 'tensor_nickname': 'c_0', 'space_id': 1, 'dim': d, 'is_dangling_end': False, 'side_original': 'in', 'side_space_id': 0}\n",
      "\n",
      "{'tensor_name': 'dg_m', 'tensor_id': 0, 'tensor_nickname': 'dg_m_0', 'space_id': 0, 'dim': d, 'is_dangling_end': True, 'side_original': 'out', 'side_space_id': 0, 'tensor_name_origonal': 'm'}\n",
      "<->\n",
      "{'tensor_name': 'e', 'tensor_id': 0, 'tensor_nickname': 'e_0', 'space_id': 0, 'dim': d, 'is_dangling_end': False, 'side_original': 'out', 'side_space_id': 0}\n",
      "\n",
      "{'tensor_name': 'dg_m', 'tensor_id': 5, 'tensor_nickname': 'dg_m_5', 'space_id': 0, 'dim': d, 'is_dangling_end': True, 'side_original': 'out', 'side_space_id': 0, 'tensor_name_origonal': 'm'}\n",
      "<->\n",
      "{'tensor_name': 'e', 'tensor_id': 0, 'tensor_nickname': 'e_0', 'space_id': 1, 'dim': d, 'is_dangling_end': False, 'side_original': 'in', 'side_space_id': 0}\n",
      "\n",
      "{'tensor_name': 'f', 'tensor_id': 0, 'tensor_nickname': 'f_0', 'space_id': 0, 'dim': d, 'is_dangling_end': False, 'side_original': 'out', 'side_space_id': 0}\n",
      "<->\n",
      "{'tensor_name': 'f', 'tensor_id': 0, 'tensor_nickname': 'f_0', 'space_id': 1, 'dim': d, 'is_dangling_end': False, 'side_original': 'in', 'side_space_id': 0}\n",
      "\n",
      "\n",
      "Weight:\n"
     ]
    },
    {
     "data": {
      "text/latex": [
       "$\\displaystyle \\frac{2}{d \\left(d - 2\\right) \\left(d - 1\\right) \\left(d + 1\\right) \\left(d + 2\\right)}$"
      ],
      "text/plain": [
       "2/(d*(d - 2)*(d - 1)*(d + 1)*(d + 2))"
      ]
     },
     "metadata": {},
     "output_type": "display_data"
    },
    {
     "name": "stdout",
     "output_type": "stream",
     "text": [
      "\n",
      "Edges:\n",
      "{'tensor_name': 'a', 'tensor_id': 0, 'tensor_nickname': 'a_0', 'space_id': 0, 'dim': d, 'is_dangling_end': False, 'side_original': 'out', 'side_space_id': 0}\n",
      "<->\n",
      "{'tensor_name': 'a', 'tensor_id': 0, 'tensor_nickname': 'a_0', 'space_id': 1, 'dim': d, 'is_dangling_end': False, 'side_original': 'in', 'side_space_id': 0}\n",
      "\n",
      "{'tensor_name': 'b', 'tensor_id': 0, 'tensor_nickname': 'b_0', 'space_id': 0, 'dim': d, 'is_dangling_end': False, 'side_original': 'out', 'side_space_id': 0}\n",
      "<->\n",
      "{'tensor_name': 'b', 'tensor_id': 0, 'tensor_nickname': 'b_0', 'space_id': 1, 'dim': d, 'is_dangling_end': False, 'side_original': 'in', 'side_space_id': 0}\n",
      "\n",
      "{'tensor_name': 'c', 'tensor_id': 0, 'tensor_nickname': 'c_0', 'space_id': 0, 'dim': d, 'is_dangling_end': False, 'side_original': 'out', 'side_space_id': 0}\n",
      "<->\n",
      "{'tensor_name': 'f', 'tensor_id': 0, 'tensor_nickname': 'f_0', 'space_id': 1, 'dim': d, 'is_dangling_end': False, 'side_original': 'in', 'side_space_id': 0}\n",
      "\n",
      "{'tensor_name': 'c', 'tensor_id': 0, 'tensor_nickname': 'c_0', 'space_id': 1, 'dim': d, 'is_dangling_end': False, 'side_original': 'in', 'side_space_id': 0}\n",
      "<->\n",
      "{'tensor_name': 'f', 'tensor_id': 0, 'tensor_nickname': 'f_0', 'space_id': 0, 'dim': d, 'is_dangling_end': False, 'side_original': 'out', 'side_space_id': 0}\n",
      "\n",
      "{'tensor_name': 'dg_m', 'tensor_id': 0, 'tensor_nickname': 'dg_m_0', 'space_id': 0, 'dim': d, 'is_dangling_end': True, 'side_original': 'out', 'side_space_id': 0, 'tensor_name_origonal': 'm'}\n",
      "<->\n",
      "{'tensor_name': 'e', 'tensor_id': 0, 'tensor_nickname': 'e_0', 'space_id': 0, 'dim': d, 'is_dangling_end': False, 'side_original': 'out', 'side_space_id': 0}\n",
      "\n",
      "{'tensor_name': 'dg_m', 'tensor_id': 5, 'tensor_nickname': 'dg_m_5', 'space_id': 0, 'dim': d, 'is_dangling_end': True, 'side_original': 'out', 'side_space_id': 0, 'tensor_name_origonal': 'm'}\n",
      "<->\n",
      "{'tensor_name': 'e', 'tensor_id': 0, 'tensor_nickname': 'e_0', 'space_id': 1, 'dim': d, 'is_dangling_end': False, 'side_original': 'in', 'side_space_id': 0}\n",
      "\n",
      "\n",
      "Weight:\n"
     ]
    },
    {
     "data": {
      "text/latex": [
       "$\\displaystyle \\frac{d^{2} - 2}{d \\left(d - 2\\right) \\left(d - 1\\right) \\left(d + 1\\right) \\left(d + 2\\right)}$"
      ],
      "text/plain": [
       "(d**2 - 2)/(d*(d - 2)*(d - 1)*(d + 1)*(d + 2))"
      ]
     },
     "metadata": {},
     "output_type": "display_data"
    },
    {
     "name": "stdout",
     "output_type": "stream",
     "text": [
      "\n",
      "Edges:\n",
      "{'tensor_name': 'a', 'tensor_id': 0, 'tensor_nickname': 'a_0', 'space_id': 0, 'dim': d, 'is_dangling_end': False, 'side_original': 'out', 'side_space_id': 0}\n",
      "<->\n",
      "{'tensor_name': 'c', 'tensor_id': 0, 'tensor_nickname': 'c_0', 'space_id': 1, 'dim': d, 'is_dangling_end': False, 'side_original': 'in', 'side_space_id': 0}\n",
      "\n",
      "{'tensor_name': 'a', 'tensor_id': 0, 'tensor_nickname': 'a_0', 'space_id': 1, 'dim': d, 'is_dangling_end': False, 'side_original': 'in', 'side_space_id': 0}\n",
      "<->\n",
      "{'tensor_name': 'c', 'tensor_id': 0, 'tensor_nickname': 'c_0', 'space_id': 0, 'dim': d, 'is_dangling_end': False, 'side_original': 'out', 'side_space_id': 0}\n",
      "\n",
      "{'tensor_name': 'b', 'tensor_id': 0, 'tensor_nickname': 'b_0', 'space_id': 0, 'dim': d, 'is_dangling_end': False, 'side_original': 'out', 'side_space_id': 0}\n",
      "<->\n",
      "{'tensor_name': 'b', 'tensor_id': 0, 'tensor_nickname': 'b_0', 'space_id': 1, 'dim': d, 'is_dangling_end': False, 'side_original': 'in', 'side_space_id': 0}\n",
      "\n",
      "{'tensor_name': 'dg_m', 'tensor_id': 0, 'tensor_nickname': 'dg_m_0', 'space_id': 0, 'dim': d, 'is_dangling_end': True, 'side_original': 'out', 'side_space_id': 0, 'tensor_name_origonal': 'm'}\n",
      "<->\n",
      "{'tensor_name': 'e', 'tensor_id': 0, 'tensor_nickname': 'e_0', 'space_id': 0, 'dim': d, 'is_dangling_end': False, 'side_original': 'out', 'side_space_id': 0}\n",
      "\n",
      "{'tensor_name': 'dg_m', 'tensor_id': 5, 'tensor_nickname': 'dg_m_5', 'space_id': 0, 'dim': d, 'is_dangling_end': True, 'side_original': 'out', 'side_space_id': 0, 'tensor_name_origonal': 'm'}\n",
      "<->\n",
      "{'tensor_name': 'e', 'tensor_id': 0, 'tensor_nickname': 'e_0', 'space_id': 1, 'dim': d, 'is_dangling_end': False, 'side_original': 'in', 'side_space_id': 0}\n",
      "\n",
      "{'tensor_name': 'f', 'tensor_id': 0, 'tensor_nickname': 'f_0', 'space_id': 0, 'dim': d, 'is_dangling_end': False, 'side_original': 'out', 'side_space_id': 0}\n",
      "<->\n",
      "{'tensor_name': 'f', 'tensor_id': 0, 'tensor_nickname': 'f_0', 'space_id': 1, 'dim': d, 'is_dangling_end': False, 'side_original': 'in', 'side_space_id': 0}\n",
      "\n",
      "\n",
      "Weight:\n"
     ]
    },
    {
     "data": {
      "text/latex": [
       "$\\displaystyle - \\frac{1}{\\left(d - 2\\right) \\left(d - 1\\right) \\left(d + 1\\right) \\left(d + 2\\right)}$"
      ],
      "text/plain": [
       "-1/((d - 2)*(d - 1)*(d + 1)*(d + 2))"
      ]
     },
     "metadata": {},
     "output_type": "display_data"
    },
    {
     "name": "stdout",
     "output_type": "stream",
     "text": [
      "\n",
      "Edges:\n",
      "{'tensor_name': 'a', 'tensor_id': 0, 'tensor_nickname': 'a_0', 'space_id': 0, 'dim': d, 'is_dangling_end': False, 'side_original': 'out', 'side_space_id': 0}\n",
      "<->\n",
      "{'tensor_name': 'c', 'tensor_id': 0, 'tensor_nickname': 'c_0', 'space_id': 1, 'dim': d, 'is_dangling_end': False, 'side_original': 'in', 'side_space_id': 0}\n",
      "\n",
      "{'tensor_name': 'a', 'tensor_id': 0, 'tensor_nickname': 'a_0', 'space_id': 1, 'dim': d, 'is_dangling_end': False, 'side_original': 'in', 'side_space_id': 0}\n",
      "<->\n",
      "{'tensor_name': 'f', 'tensor_id': 0, 'tensor_nickname': 'f_0', 'space_id': 0, 'dim': d, 'is_dangling_end': False, 'side_original': 'out', 'side_space_id': 0}\n",
      "\n",
      "{'tensor_name': 'b', 'tensor_id': 0, 'tensor_nickname': 'b_0', 'space_id': 0, 'dim': d, 'is_dangling_end': False, 'side_original': 'out', 'side_space_id': 0}\n",
      "<->\n",
      "{'tensor_name': 'b', 'tensor_id': 0, 'tensor_nickname': 'b_0', 'space_id': 1, 'dim': d, 'is_dangling_end': False, 'side_original': 'in', 'side_space_id': 0}\n",
      "\n",
      "{'tensor_name': 'c', 'tensor_id': 0, 'tensor_nickname': 'c_0', 'space_id': 0, 'dim': d, 'is_dangling_end': False, 'side_original': 'out', 'side_space_id': 0}\n",
      "<->\n",
      "{'tensor_name': 'f', 'tensor_id': 0, 'tensor_nickname': 'f_0', 'space_id': 1, 'dim': d, 'is_dangling_end': False, 'side_original': 'in', 'side_space_id': 0}\n",
      "\n",
      "{'tensor_name': 'dg_m', 'tensor_id': 0, 'tensor_nickname': 'dg_m_0', 'space_id': 0, 'dim': d, 'is_dangling_end': True, 'side_original': 'out', 'side_space_id': 0, 'tensor_name_origonal': 'm'}\n",
      "<->\n",
      "{'tensor_name': 'e', 'tensor_id': 0, 'tensor_nickname': 'e_0', 'space_id': 0, 'dim': d, 'is_dangling_end': False, 'side_original': 'out', 'side_space_id': 0}\n",
      "\n",
      "{'tensor_name': 'dg_m', 'tensor_id': 5, 'tensor_nickname': 'dg_m_5', 'space_id': 0, 'dim': d, 'is_dangling_end': True, 'side_original': 'out', 'side_space_id': 0, 'tensor_name_origonal': 'm'}\n",
      "<->\n",
      "{'tensor_name': 'e', 'tensor_id': 0, 'tensor_nickname': 'e_0', 'space_id': 1, 'dim': d, 'is_dangling_end': False, 'side_original': 'in', 'side_space_id': 0}\n",
      "\n",
      "\n",
      "Weight:\n"
     ]
    },
    {
     "data": {
      "text/latex": [
       "$\\displaystyle - \\frac{1}{\\left(d - 2\\right) \\left(d - 1\\right) \\left(d + 1\\right) \\left(d + 2\\right)}$"
      ],
      "text/plain": [
       "-1/((d - 2)*(d - 1)*(d + 1)*(d + 2))"
      ]
     },
     "metadata": {},
     "output_type": "display_data"
    },
    {
     "name": "stdout",
     "output_type": "stream",
     "text": [
      "\n",
      "Edges:\n",
      "{'tensor_name': 'a', 'tensor_id': 0, 'tensor_nickname': 'a_0', 'space_id': 0, 'dim': d, 'is_dangling_end': False, 'side_original': 'out', 'side_space_id': 0}\n",
      "<->\n",
      "{'tensor_name': 'f', 'tensor_id': 0, 'tensor_nickname': 'f_0', 'space_id': 1, 'dim': d, 'is_dangling_end': False, 'side_original': 'in', 'side_space_id': 0}\n",
      "\n",
      "{'tensor_name': 'a', 'tensor_id': 0, 'tensor_nickname': 'a_0', 'space_id': 1, 'dim': d, 'is_dangling_end': False, 'side_original': 'in', 'side_space_id': 0}\n",
      "<->\n",
      "{'tensor_name': 'c', 'tensor_id': 0, 'tensor_nickname': 'c_0', 'space_id': 0, 'dim': d, 'is_dangling_end': False, 'side_original': 'out', 'side_space_id': 0}\n",
      "\n",
      "{'tensor_name': 'b', 'tensor_id': 0, 'tensor_nickname': 'b_0', 'space_id': 0, 'dim': d, 'is_dangling_end': False, 'side_original': 'out', 'side_space_id': 0}\n",
      "<->\n",
      "{'tensor_name': 'b', 'tensor_id': 0, 'tensor_nickname': 'b_0', 'space_id': 1, 'dim': d, 'is_dangling_end': False, 'side_original': 'in', 'side_space_id': 0}\n",
      "\n",
      "{'tensor_name': 'c', 'tensor_id': 0, 'tensor_nickname': 'c_0', 'space_id': 1, 'dim': d, 'is_dangling_end': False, 'side_original': 'in', 'side_space_id': 0}\n",
      "<->\n",
      "{'tensor_name': 'f', 'tensor_id': 0, 'tensor_nickname': 'f_0', 'space_id': 0, 'dim': d, 'is_dangling_end': False, 'side_original': 'out', 'side_space_id': 0}\n",
      "\n",
      "{'tensor_name': 'dg_m', 'tensor_id': 0, 'tensor_nickname': 'dg_m_0', 'space_id': 0, 'dim': d, 'is_dangling_end': True, 'side_original': 'out', 'side_space_id': 0, 'tensor_name_origonal': 'm'}\n",
      "<->\n",
      "{'tensor_name': 'e', 'tensor_id': 0, 'tensor_nickname': 'e_0', 'space_id': 0, 'dim': d, 'is_dangling_end': False, 'side_original': 'out', 'side_space_id': 0}\n",
      "\n",
      "{'tensor_name': 'dg_m', 'tensor_id': 5, 'tensor_nickname': 'dg_m_5', 'space_id': 0, 'dim': d, 'is_dangling_end': True, 'side_original': 'out', 'side_space_id': 0, 'tensor_name_origonal': 'm'}\n",
      "<->\n",
      "{'tensor_name': 'e', 'tensor_id': 0, 'tensor_nickname': 'e_0', 'space_id': 1, 'dim': d, 'is_dangling_end': False, 'side_original': 'in', 'side_space_id': 0}\n",
      "\n",
      "\n",
      "Weight:\n"
     ]
    },
    {
     "data": {
      "text/latex": [
       "$\\displaystyle \\frac{2}{d \\left(d - 2\\right) \\left(d - 1\\right) \\left(d + 1\\right) \\left(d + 2\\right)}$"
      ],
      "text/plain": [
       "2/(d*(d - 2)*(d - 1)*(d + 1)*(d + 2))"
      ]
     },
     "metadata": {},
     "output_type": "display_data"
    },
    {
     "name": "stdout",
     "output_type": "stream",
     "text": [
      "\n",
      "Edges:\n",
      "{'tensor_name': 'a', 'tensor_id': 0, 'tensor_nickname': 'a_0', 'space_id': 0, 'dim': d, 'is_dangling_end': False, 'side_original': 'out', 'side_space_id': 0}\n",
      "<->\n",
      "{'tensor_name': 'f', 'tensor_id': 0, 'tensor_nickname': 'f_0', 'space_id': 1, 'dim': d, 'is_dangling_end': False, 'side_original': 'in', 'side_space_id': 0}\n",
      "\n",
      "{'tensor_name': 'a', 'tensor_id': 0, 'tensor_nickname': 'a_0', 'space_id': 1, 'dim': d, 'is_dangling_end': False, 'side_original': 'in', 'side_space_id': 0}\n",
      "<->\n",
      "{'tensor_name': 'f', 'tensor_id': 0, 'tensor_nickname': 'f_0', 'space_id': 0, 'dim': d, 'is_dangling_end': False, 'side_original': 'out', 'side_space_id': 0}\n",
      "\n",
      "{'tensor_name': 'b', 'tensor_id': 0, 'tensor_nickname': 'b_0', 'space_id': 0, 'dim': d, 'is_dangling_end': False, 'side_original': 'out', 'side_space_id': 0}\n",
      "<->\n",
      "{'tensor_name': 'b', 'tensor_id': 0, 'tensor_nickname': 'b_0', 'space_id': 1, 'dim': d, 'is_dangling_end': False, 'side_original': 'in', 'side_space_id': 0}\n",
      "\n",
      "{'tensor_name': 'c', 'tensor_id': 0, 'tensor_nickname': 'c_0', 'space_id': 0, 'dim': d, 'is_dangling_end': False, 'side_original': 'out', 'side_space_id': 0}\n",
      "<->\n",
      "{'tensor_name': 'c', 'tensor_id': 0, 'tensor_nickname': 'c_0', 'space_id': 1, 'dim': d, 'is_dangling_end': False, 'side_original': 'in', 'side_space_id': 0}\n",
      "\n",
      "{'tensor_name': 'dg_m', 'tensor_id': 0, 'tensor_nickname': 'dg_m_0', 'space_id': 0, 'dim': d, 'is_dangling_end': True, 'side_original': 'out', 'side_space_id': 0, 'tensor_name_origonal': 'm'}\n",
      "<->\n",
      "{'tensor_name': 'e', 'tensor_id': 0, 'tensor_nickname': 'e_0', 'space_id': 0, 'dim': d, 'is_dangling_end': False, 'side_original': 'out', 'side_space_id': 0}\n",
      "\n",
      "{'tensor_name': 'dg_m', 'tensor_id': 5, 'tensor_nickname': 'dg_m_5', 'space_id': 0, 'dim': d, 'is_dangling_end': True, 'side_original': 'out', 'side_space_id': 0, 'tensor_name_origonal': 'm'}\n",
      "<->\n",
      "{'tensor_name': 'e', 'tensor_id': 0, 'tensor_nickname': 'e_0', 'space_id': 1, 'dim': d, 'is_dangling_end': False, 'side_original': 'in', 'side_space_id': 0}\n",
      "\n",
      "\n",
      "Weight:\n"
     ]
    },
    {
     "data": {
      "text/latex": [
       "$\\displaystyle \\frac{2}{d \\left(d - 2\\right) \\left(d - 1\\right) \\left(d + 1\\right) \\left(d + 2\\right)}$"
      ],
      "text/plain": [
       "2/(d*(d - 2)*(d - 1)*(d + 1)*(d + 2))"
      ]
     },
     "metadata": {},
     "output_type": "display_data"
    },
    {
     "name": "stdout",
     "output_type": "stream",
     "text": [
      "\n",
      "Edges:\n",
      "{'tensor_name': 'a', 'tensor_id': 0, 'tensor_nickname': 'a_0', 'space_id': 0, 'dim': d, 'is_dangling_end': False, 'side_original': 'out', 'side_space_id': 0}\n",
      "<->\n",
      "{'tensor_name': 'a', 'tensor_id': 0, 'tensor_nickname': 'a_0', 'space_id': 1, 'dim': d, 'is_dangling_end': False, 'side_original': 'in', 'side_space_id': 0}\n",
      "\n",
      "{'tensor_name': 'b', 'tensor_id': 0, 'tensor_nickname': 'b_0', 'space_id': 0, 'dim': d, 'is_dangling_end': False, 'side_original': 'out', 'side_space_id': 0}\n",
      "<->\n",
      "{'tensor_name': 'e', 'tensor_id': 0, 'tensor_nickname': 'e_0', 'space_id': 1, 'dim': d, 'is_dangling_end': False, 'side_original': 'in', 'side_space_id': 0}\n",
      "\n",
      "{'tensor_name': 'b', 'tensor_id': 0, 'tensor_nickname': 'b_0', 'space_id': 1, 'dim': d, 'is_dangling_end': False, 'side_original': 'in', 'side_space_id': 0}\n",
      "<->\n",
      "{'tensor_name': 'dg_m', 'tensor_id': 5, 'tensor_nickname': 'dg_m_5', 'space_id': 0, 'dim': d, 'is_dangling_end': True, 'side_original': 'out', 'side_space_id': 0, 'tensor_name_origonal': 'm'}\n",
      "\n",
      "{'tensor_name': 'c', 'tensor_id': 0, 'tensor_nickname': 'c_0', 'space_id': 0, 'dim': d, 'is_dangling_end': False, 'side_original': 'out', 'side_space_id': 0}\n",
      "<->\n",
      "{'tensor_name': 'c', 'tensor_id': 0, 'tensor_nickname': 'c_0', 'space_id': 1, 'dim': d, 'is_dangling_end': False, 'side_original': 'in', 'side_space_id': 0}\n",
      "\n",
      "{'tensor_name': 'dg_m', 'tensor_id': 0, 'tensor_nickname': 'dg_m_0', 'space_id': 0, 'dim': d, 'is_dangling_end': True, 'side_original': 'out', 'side_space_id': 0, 'tensor_name_origonal': 'm'}\n",
      "<->\n",
      "{'tensor_name': 'e', 'tensor_id': 0, 'tensor_nickname': 'e_0', 'space_id': 0, 'dim': d, 'is_dangling_end': False, 'side_original': 'out', 'side_space_id': 0}\n",
      "\n",
      "{'tensor_name': 'f', 'tensor_id': 0, 'tensor_nickname': 'f_0', 'space_id': 0, 'dim': d, 'is_dangling_end': False, 'side_original': 'out', 'side_space_id': 0}\n",
      "<->\n",
      "{'tensor_name': 'f', 'tensor_id': 0, 'tensor_nickname': 'f_0', 'space_id': 1, 'dim': d, 'is_dangling_end': False, 'side_original': 'in', 'side_space_id': 0}\n",
      "\n",
      "\n",
      "Weight:\n"
     ]
    },
    {
     "data": {
      "text/latex": [
       "$\\displaystyle - \\frac{1}{\\left(d - 2\\right) \\left(d - 1\\right) \\left(d + 1\\right) \\left(d + 2\\right)}$"
      ],
      "text/plain": [
       "-1/((d - 2)*(d - 1)*(d + 1)*(d + 2))"
      ]
     },
     "metadata": {},
     "output_type": "display_data"
    },
    {
     "name": "stdout",
     "output_type": "stream",
     "text": [
      "\n",
      "Edges:\n",
      "{'tensor_name': 'a', 'tensor_id': 0, 'tensor_nickname': 'a_0', 'space_id': 0, 'dim': d, 'is_dangling_end': False, 'side_original': 'out', 'side_space_id': 0}\n",
      "<->\n",
      "{'tensor_name': 'a', 'tensor_id': 0, 'tensor_nickname': 'a_0', 'space_id': 1, 'dim': d, 'is_dangling_end': False, 'side_original': 'in', 'side_space_id': 0}\n",
      "\n",
      "{'tensor_name': 'b', 'tensor_id': 0, 'tensor_nickname': 'b_0', 'space_id': 0, 'dim': d, 'is_dangling_end': False, 'side_original': 'out', 'side_space_id': 0}\n",
      "<->\n",
      "{'tensor_name': 'e', 'tensor_id': 0, 'tensor_nickname': 'e_0', 'space_id': 1, 'dim': d, 'is_dangling_end': False, 'side_original': 'in', 'side_space_id': 0}\n",
      "\n",
      "{'tensor_name': 'b', 'tensor_id': 0, 'tensor_nickname': 'b_0', 'space_id': 1, 'dim': d, 'is_dangling_end': False, 'side_original': 'in', 'side_space_id': 0}\n",
      "<->\n",
      "{'tensor_name': 'dg_m', 'tensor_id': 5, 'tensor_nickname': 'dg_m_5', 'space_id': 0, 'dim': d, 'is_dangling_end': True, 'side_original': 'out', 'side_space_id': 0, 'tensor_name_origonal': 'm'}\n",
      "\n",
      "{'tensor_name': 'c', 'tensor_id': 0, 'tensor_nickname': 'c_0', 'space_id': 0, 'dim': d, 'is_dangling_end': False, 'side_original': 'out', 'side_space_id': 0}\n",
      "<->\n",
      "{'tensor_name': 'f', 'tensor_id': 0, 'tensor_nickname': 'f_0', 'space_id': 1, 'dim': d, 'is_dangling_end': False, 'side_original': 'in', 'side_space_id': 0}\n",
      "\n",
      "{'tensor_name': 'c', 'tensor_id': 0, 'tensor_nickname': 'c_0', 'space_id': 1, 'dim': d, 'is_dangling_end': False, 'side_original': 'in', 'side_space_id': 0}\n",
      "<->\n",
      "{'tensor_name': 'f', 'tensor_id': 0, 'tensor_nickname': 'f_0', 'space_id': 0, 'dim': d, 'is_dangling_end': False, 'side_original': 'out', 'side_space_id': 0}\n",
      "\n",
      "{'tensor_name': 'dg_m', 'tensor_id': 0, 'tensor_nickname': 'dg_m_0', 'space_id': 0, 'dim': d, 'is_dangling_end': True, 'side_original': 'out', 'side_space_id': 0, 'tensor_name_origonal': 'm'}\n",
      "<->\n",
      "{'tensor_name': 'e', 'tensor_id': 0, 'tensor_nickname': 'e_0', 'space_id': 0, 'dim': d, 'is_dangling_end': False, 'side_original': 'out', 'side_space_id': 0}\n",
      "\n",
      "\n",
      "Weight:\n"
     ]
    },
    {
     "data": {
      "text/latex": [
       "$\\displaystyle - \\frac{1}{\\left(d - 2\\right) \\left(d - 1\\right) \\left(d + 1\\right) \\left(d + 2\\right)}$"
      ],
      "text/plain": [
       "-1/((d - 2)*(d - 1)*(d + 1)*(d + 2))"
      ]
     },
     "metadata": {},
     "output_type": "display_data"
    },
    {
     "name": "stdout",
     "output_type": "stream",
     "text": [
      "\n",
      "Edges:\n",
      "{'tensor_name': 'a', 'tensor_id': 0, 'tensor_nickname': 'a_0', 'space_id': 0, 'dim': d, 'is_dangling_end': False, 'side_original': 'out', 'side_space_id': 0}\n",
      "<->\n",
      "{'tensor_name': 'c', 'tensor_id': 0, 'tensor_nickname': 'c_0', 'space_id': 1, 'dim': d, 'is_dangling_end': False, 'side_original': 'in', 'side_space_id': 0}\n",
      "\n",
      "{'tensor_name': 'a', 'tensor_id': 0, 'tensor_nickname': 'a_0', 'space_id': 1, 'dim': d, 'is_dangling_end': False, 'side_original': 'in', 'side_space_id': 0}\n",
      "<->\n",
      "{'tensor_name': 'c', 'tensor_id': 0, 'tensor_nickname': 'c_0', 'space_id': 0, 'dim': d, 'is_dangling_end': False, 'side_original': 'out', 'side_space_id': 0}\n",
      "\n",
      "{'tensor_name': 'b', 'tensor_id': 0, 'tensor_nickname': 'b_0', 'space_id': 0, 'dim': d, 'is_dangling_end': False, 'side_original': 'out', 'side_space_id': 0}\n",
      "<->\n",
      "{'tensor_name': 'e', 'tensor_id': 0, 'tensor_nickname': 'e_0', 'space_id': 1, 'dim': d, 'is_dangling_end': False, 'side_original': 'in', 'side_space_id': 0}\n",
      "\n",
      "{'tensor_name': 'b', 'tensor_id': 0, 'tensor_nickname': 'b_0', 'space_id': 1, 'dim': d, 'is_dangling_end': False, 'side_original': 'in', 'side_space_id': 0}\n",
      "<->\n",
      "{'tensor_name': 'dg_m', 'tensor_id': 5, 'tensor_nickname': 'dg_m_5', 'space_id': 0, 'dim': d, 'is_dangling_end': True, 'side_original': 'out', 'side_space_id': 0, 'tensor_name_origonal': 'm'}\n",
      "\n",
      "{'tensor_name': 'dg_m', 'tensor_id': 0, 'tensor_nickname': 'dg_m_0', 'space_id': 0, 'dim': d, 'is_dangling_end': True, 'side_original': 'out', 'side_space_id': 0, 'tensor_name_origonal': 'm'}\n",
      "<->\n",
      "{'tensor_name': 'e', 'tensor_id': 0, 'tensor_nickname': 'e_0', 'space_id': 0, 'dim': d, 'is_dangling_end': False, 'side_original': 'out', 'side_space_id': 0}\n",
      "\n",
      "{'tensor_name': 'f', 'tensor_id': 0, 'tensor_nickname': 'f_0', 'space_id': 0, 'dim': d, 'is_dangling_end': False, 'side_original': 'out', 'side_space_id': 0}\n",
      "<->\n",
      "{'tensor_name': 'f', 'tensor_id': 0, 'tensor_nickname': 'f_0', 'space_id': 1, 'dim': d, 'is_dangling_end': False, 'side_original': 'in', 'side_space_id': 0}\n",
      "\n",
      "\n",
      "Weight:\n"
     ]
    },
    {
     "data": {
      "text/latex": [
       "$\\displaystyle \\frac{d^{2} - 2}{d \\left(d - 2\\right) \\left(d - 1\\right) \\left(d + 1\\right) \\left(d + 2\\right)}$"
      ],
      "text/plain": [
       "(d**2 - 2)/(d*(d - 2)*(d - 1)*(d + 1)*(d + 2))"
      ]
     },
     "metadata": {},
     "output_type": "display_data"
    },
    {
     "name": "stdout",
     "output_type": "stream",
     "text": [
      "\n",
      "Edges:\n",
      "{'tensor_name': 'a', 'tensor_id': 0, 'tensor_nickname': 'a_0', 'space_id': 0, 'dim': d, 'is_dangling_end': False, 'side_original': 'out', 'side_space_id': 0}\n",
      "<->\n",
      "{'tensor_name': 'c', 'tensor_id': 0, 'tensor_nickname': 'c_0', 'space_id': 1, 'dim': d, 'is_dangling_end': False, 'side_original': 'in', 'side_space_id': 0}\n",
      "\n",
      "{'tensor_name': 'a', 'tensor_id': 0, 'tensor_nickname': 'a_0', 'space_id': 1, 'dim': d, 'is_dangling_end': False, 'side_original': 'in', 'side_space_id': 0}\n",
      "<->\n",
      "{'tensor_name': 'f', 'tensor_id': 0, 'tensor_nickname': 'f_0', 'space_id': 0, 'dim': d, 'is_dangling_end': False, 'side_original': 'out', 'side_space_id': 0}\n",
      "\n",
      "{'tensor_name': 'b', 'tensor_id': 0, 'tensor_nickname': 'b_0', 'space_id': 0, 'dim': d, 'is_dangling_end': False, 'side_original': 'out', 'side_space_id': 0}\n",
      "<->\n",
      "{'tensor_name': 'e', 'tensor_id': 0, 'tensor_nickname': 'e_0', 'space_id': 1, 'dim': d, 'is_dangling_end': False, 'side_original': 'in', 'side_space_id': 0}\n",
      "\n",
      "{'tensor_name': 'b', 'tensor_id': 0, 'tensor_nickname': 'b_0', 'space_id': 1, 'dim': d, 'is_dangling_end': False, 'side_original': 'in', 'side_space_id': 0}\n",
      "<->\n",
      "{'tensor_name': 'dg_m', 'tensor_id': 5, 'tensor_nickname': 'dg_m_5', 'space_id': 0, 'dim': d, 'is_dangling_end': True, 'side_original': 'out', 'side_space_id': 0, 'tensor_name_origonal': 'm'}\n",
      "\n",
      "{'tensor_name': 'c', 'tensor_id': 0, 'tensor_nickname': 'c_0', 'space_id': 0, 'dim': d, 'is_dangling_end': False, 'side_original': 'out', 'side_space_id': 0}\n",
      "<->\n",
      "{'tensor_name': 'f', 'tensor_id': 0, 'tensor_nickname': 'f_0', 'space_id': 1, 'dim': d, 'is_dangling_end': False, 'side_original': 'in', 'side_space_id': 0}\n",
      "\n",
      "{'tensor_name': 'dg_m', 'tensor_id': 0, 'tensor_nickname': 'dg_m_0', 'space_id': 0, 'dim': d, 'is_dangling_end': True, 'side_original': 'out', 'side_space_id': 0, 'tensor_name_origonal': 'm'}\n",
      "<->\n",
      "{'tensor_name': 'e', 'tensor_id': 0, 'tensor_nickname': 'e_0', 'space_id': 0, 'dim': d, 'is_dangling_end': False, 'side_original': 'out', 'side_space_id': 0}\n",
      "\n",
      "\n",
      "Weight:\n"
     ]
    },
    {
     "data": {
      "text/latex": [
       "$\\displaystyle \\frac{2}{d \\left(d - 2\\right) \\left(d - 1\\right) \\left(d + 1\\right) \\left(d + 2\\right)}$"
      ],
      "text/plain": [
       "2/(d*(d - 2)*(d - 1)*(d + 1)*(d + 2))"
      ]
     },
     "metadata": {},
     "output_type": "display_data"
    },
    {
     "name": "stdout",
     "output_type": "stream",
     "text": [
      "\n",
      "Edges:\n",
      "{'tensor_name': 'a', 'tensor_id': 0, 'tensor_nickname': 'a_0', 'space_id': 0, 'dim': d, 'is_dangling_end': False, 'side_original': 'out', 'side_space_id': 0}\n",
      "<->\n",
      "{'tensor_name': 'f', 'tensor_id': 0, 'tensor_nickname': 'f_0', 'space_id': 1, 'dim': d, 'is_dangling_end': False, 'side_original': 'in', 'side_space_id': 0}\n",
      "\n",
      "{'tensor_name': 'a', 'tensor_id': 0, 'tensor_nickname': 'a_0', 'space_id': 1, 'dim': d, 'is_dangling_end': False, 'side_original': 'in', 'side_space_id': 0}\n",
      "<->\n",
      "{'tensor_name': 'c', 'tensor_id': 0, 'tensor_nickname': 'c_0', 'space_id': 0, 'dim': d, 'is_dangling_end': False, 'side_original': 'out', 'side_space_id': 0}\n",
      "\n",
      "{'tensor_name': 'b', 'tensor_id': 0, 'tensor_nickname': 'b_0', 'space_id': 0, 'dim': d, 'is_dangling_end': False, 'side_original': 'out', 'side_space_id': 0}\n",
      "<->\n",
      "{'tensor_name': 'e', 'tensor_id': 0, 'tensor_nickname': 'e_0', 'space_id': 1, 'dim': d, 'is_dangling_end': False, 'side_original': 'in', 'side_space_id': 0}\n",
      "\n",
      "{'tensor_name': 'b', 'tensor_id': 0, 'tensor_nickname': 'b_0', 'space_id': 1, 'dim': d, 'is_dangling_end': False, 'side_original': 'in', 'side_space_id': 0}\n",
      "<->\n",
      "{'tensor_name': 'dg_m', 'tensor_id': 5, 'tensor_nickname': 'dg_m_5', 'space_id': 0, 'dim': d, 'is_dangling_end': True, 'side_original': 'out', 'side_space_id': 0, 'tensor_name_origonal': 'm'}\n",
      "\n",
      "{'tensor_name': 'c', 'tensor_id': 0, 'tensor_nickname': 'c_0', 'space_id': 1, 'dim': d, 'is_dangling_end': False, 'side_original': 'in', 'side_space_id': 0}\n",
      "<->\n",
      "{'tensor_name': 'f', 'tensor_id': 0, 'tensor_nickname': 'f_0', 'space_id': 0, 'dim': d, 'is_dangling_end': False, 'side_original': 'out', 'side_space_id': 0}\n",
      "\n",
      "{'tensor_name': 'dg_m', 'tensor_id': 0, 'tensor_nickname': 'dg_m_0', 'space_id': 0, 'dim': d, 'is_dangling_end': True, 'side_original': 'out', 'side_space_id': 0, 'tensor_name_origonal': 'm'}\n",
      "<->\n",
      "{'tensor_name': 'e', 'tensor_id': 0, 'tensor_nickname': 'e_0', 'space_id': 0, 'dim': d, 'is_dangling_end': False, 'side_original': 'out', 'side_space_id': 0}\n",
      "\n",
      "\n",
      "Weight:\n"
     ]
    },
    {
     "data": {
      "text/latex": [
       "$\\displaystyle - \\frac{1}{\\left(d - 2\\right) \\left(d - 1\\right) \\left(d + 1\\right) \\left(d + 2\\right)}$"
      ],
      "text/plain": [
       "-1/((d - 2)*(d - 1)*(d + 1)*(d + 2))"
      ]
     },
     "metadata": {},
     "output_type": "display_data"
    },
    {
     "name": "stdout",
     "output_type": "stream",
     "text": [
      "\n",
      "Edges:\n",
      "{'tensor_name': 'a', 'tensor_id': 0, 'tensor_nickname': 'a_0', 'space_id': 0, 'dim': d, 'is_dangling_end': False, 'side_original': 'out', 'side_space_id': 0}\n",
      "<->\n",
      "{'tensor_name': 'f', 'tensor_id': 0, 'tensor_nickname': 'f_0', 'space_id': 1, 'dim': d, 'is_dangling_end': False, 'side_original': 'in', 'side_space_id': 0}\n",
      "\n",
      "{'tensor_name': 'a', 'tensor_id': 0, 'tensor_nickname': 'a_0', 'space_id': 1, 'dim': d, 'is_dangling_end': False, 'side_original': 'in', 'side_space_id': 0}\n",
      "<->\n",
      "{'tensor_name': 'f', 'tensor_id': 0, 'tensor_nickname': 'f_0', 'space_id': 0, 'dim': d, 'is_dangling_end': False, 'side_original': 'out', 'side_space_id': 0}\n",
      "\n",
      "{'tensor_name': 'b', 'tensor_id': 0, 'tensor_nickname': 'b_0', 'space_id': 0, 'dim': d, 'is_dangling_end': False, 'side_original': 'out', 'side_space_id': 0}\n",
      "<->\n",
      "{'tensor_name': 'e', 'tensor_id': 0, 'tensor_nickname': 'e_0', 'space_id': 1, 'dim': d, 'is_dangling_end': False, 'side_original': 'in', 'side_space_id': 0}\n",
      "\n",
      "{'tensor_name': 'b', 'tensor_id': 0, 'tensor_nickname': 'b_0', 'space_id': 1, 'dim': d, 'is_dangling_end': False, 'side_original': 'in', 'side_space_id': 0}\n",
      "<->\n",
      "{'tensor_name': 'dg_m', 'tensor_id': 5, 'tensor_nickname': 'dg_m_5', 'space_id': 0, 'dim': d, 'is_dangling_end': True, 'side_original': 'out', 'side_space_id': 0, 'tensor_name_origonal': 'm'}\n",
      "\n",
      "{'tensor_name': 'c', 'tensor_id': 0, 'tensor_nickname': 'c_0', 'space_id': 0, 'dim': d, 'is_dangling_end': False, 'side_original': 'out', 'side_space_id': 0}\n",
      "<->\n",
      "{'tensor_name': 'c', 'tensor_id': 0, 'tensor_nickname': 'c_0', 'space_id': 1, 'dim': d, 'is_dangling_end': False, 'side_original': 'in', 'side_space_id': 0}\n",
      "\n",
      "{'tensor_name': 'dg_m', 'tensor_id': 0, 'tensor_nickname': 'dg_m_0', 'space_id': 0, 'dim': d, 'is_dangling_end': True, 'side_original': 'out', 'side_space_id': 0, 'tensor_name_origonal': 'm'}\n",
      "<->\n",
      "{'tensor_name': 'e', 'tensor_id': 0, 'tensor_nickname': 'e_0', 'space_id': 0, 'dim': d, 'is_dangling_end': False, 'side_original': 'out', 'side_space_id': 0}\n",
      "\n",
      "\n",
      "Weight:\n"
     ]
    },
    {
     "data": {
      "text/latex": [
       "$\\displaystyle \\frac{2}{d \\left(d - 2\\right) \\left(d - 1\\right) \\left(d + 1\\right) \\left(d + 2\\right)}$"
      ],
      "text/plain": [
       "2/(d*(d - 2)*(d - 1)*(d + 1)*(d + 2))"
      ]
     },
     "metadata": {},
     "output_type": "display_data"
    },
    {
     "name": "stdout",
     "output_type": "stream",
     "text": [
      "\n",
      "Edges:\n",
      "{'tensor_name': 'a', 'tensor_id': 0, 'tensor_nickname': 'a_0', 'space_id': 0, 'dim': d, 'is_dangling_end': False, 'side_original': 'out', 'side_space_id': 0}\n",
      "<->\n",
      "{'tensor_name': 'a', 'tensor_id': 0, 'tensor_nickname': 'a_0', 'space_id': 1, 'dim': d, 'is_dangling_end': False, 'side_original': 'in', 'side_space_id': 0}\n",
      "\n",
      "{'tensor_name': 'b', 'tensor_id': 0, 'tensor_nickname': 'b_0', 'space_id': 0, 'dim': d, 'is_dangling_end': False, 'side_original': 'out', 'side_space_id': 0}\n",
      "<->\n",
      "{'tensor_name': 'b', 'tensor_id': 0, 'tensor_nickname': 'b_0', 'space_id': 1, 'dim': d, 'is_dangling_end': False, 'side_original': 'in', 'side_space_id': 0}\n",
      "\n",
      "{'tensor_name': 'c', 'tensor_id': 0, 'tensor_nickname': 'c_0', 'space_id': 0, 'dim': d, 'is_dangling_end': False, 'side_original': 'out', 'side_space_id': 0}\n",
      "<->\n",
      "{'tensor_name': 'c', 'tensor_id': 0, 'tensor_nickname': 'c_0', 'space_id': 1, 'dim': d, 'is_dangling_end': False, 'side_original': 'in', 'side_space_id': 0}\n",
      "\n",
      "{'tensor_name': 'e', 'tensor_id': 0, 'tensor_nickname': 'e_0', 'space_id': 0, 'dim': d, 'is_dangling_end': False, 'side_original': 'out', 'side_space_id': 0}\n",
      "<->\n",
      "{'tensor_name': 'e', 'tensor_id': 0, 'tensor_nickname': 'e_0', 'space_id': 1, 'dim': d, 'is_dangling_end': False, 'side_original': 'in', 'side_space_id': 0}\n",
      "\n",
      "{'tensor_name': 'f', 'tensor_id': 0, 'tensor_nickname': 'f_0', 'space_id': 0, 'dim': d, 'is_dangling_end': False, 'side_original': 'out', 'side_space_id': 0}\n",
      "<->\n",
      "{'tensor_name': 'f', 'tensor_id': 0, 'tensor_nickname': 'f_0', 'space_id': 1, 'dim': d, 'is_dangling_end': False, 'side_original': 'in', 'side_space_id': 0}\n",
      "\n",
      "{'tensor_name': 'dg_m', 'tensor_id': 0, 'tensor_nickname': 'dg_m_0', 'space_id': 0, 'dim': d, 'is_dangling_end': True, 'side_original': 'out', 'side_space_id': 0, 'tensor_name_origonal': 'm'}\n",
      "<->\n",
      "{'tensor_name': 'dg_m', 'tensor_id': 5, 'tensor_nickname': 'dg_m_5', 'space_id': 0, 'dim': d, 'is_dangling_end': True, 'side_original': 'out', 'side_space_id': 0, 'tensor_name_origonal': 'm'}\n",
      "\n",
      "\n",
      "Weight:\n"
     ]
    },
    {
     "data": {
      "text/latex": [
       "$\\displaystyle - \\frac{1}{\\left(d - 2\\right) \\left(d - 1\\right) \\left(d + 1\\right) \\left(d + 2\\right)}$"
      ],
      "text/plain": [
       "-1/((d - 2)*(d - 1)*(d + 1)*(d + 2))"
      ]
     },
     "metadata": {},
     "output_type": "display_data"
    },
    {
     "name": "stdout",
     "output_type": "stream",
     "text": [
      "\n",
      "Edges:\n",
      "{'tensor_name': 'a', 'tensor_id': 0, 'tensor_nickname': 'a_0', 'space_id': 0, 'dim': d, 'is_dangling_end': False, 'side_original': 'out', 'side_space_id': 0}\n",
      "<->\n",
      "{'tensor_name': 'a', 'tensor_id': 0, 'tensor_nickname': 'a_0', 'space_id': 1, 'dim': d, 'is_dangling_end': False, 'side_original': 'in', 'side_space_id': 0}\n",
      "\n",
      "{'tensor_name': 'b', 'tensor_id': 0, 'tensor_nickname': 'b_0', 'space_id': 0, 'dim': d, 'is_dangling_end': False, 'side_original': 'out', 'side_space_id': 0}\n",
      "<->\n",
      "{'tensor_name': 'b', 'tensor_id': 0, 'tensor_nickname': 'b_0', 'space_id': 1, 'dim': d, 'is_dangling_end': False, 'side_original': 'in', 'side_space_id': 0}\n",
      "\n",
      "{'tensor_name': 'c', 'tensor_id': 0, 'tensor_nickname': 'c_0', 'space_id': 0, 'dim': d, 'is_dangling_end': False, 'side_original': 'out', 'side_space_id': 0}\n",
      "<->\n",
      "{'tensor_name': 'f', 'tensor_id': 0, 'tensor_nickname': 'f_0', 'space_id': 1, 'dim': d, 'is_dangling_end': False, 'side_original': 'in', 'side_space_id': 0}\n",
      "\n",
      "{'tensor_name': 'c', 'tensor_id': 0, 'tensor_nickname': 'c_0', 'space_id': 1, 'dim': d, 'is_dangling_end': False, 'side_original': 'in', 'side_space_id': 0}\n",
      "<->\n",
      "{'tensor_name': 'f', 'tensor_id': 0, 'tensor_nickname': 'f_0', 'space_id': 0, 'dim': d, 'is_dangling_end': False, 'side_original': 'out', 'side_space_id': 0}\n",
      "\n",
      "{'tensor_name': 'e', 'tensor_id': 0, 'tensor_nickname': 'e_0', 'space_id': 0, 'dim': d, 'is_dangling_end': False, 'side_original': 'out', 'side_space_id': 0}\n",
      "<->\n",
      "{'tensor_name': 'e', 'tensor_id': 0, 'tensor_nickname': 'e_0', 'space_id': 1, 'dim': d, 'is_dangling_end': False, 'side_original': 'in', 'side_space_id': 0}\n",
      "\n",
      "{'tensor_name': 'dg_m', 'tensor_id': 0, 'tensor_nickname': 'dg_m_0', 'space_id': 0, 'dim': d, 'is_dangling_end': True, 'side_original': 'out', 'side_space_id': 0, 'tensor_name_origonal': 'm'}\n",
      "<->\n",
      "{'tensor_name': 'dg_m', 'tensor_id': 5, 'tensor_nickname': 'dg_m_5', 'space_id': 0, 'dim': d, 'is_dangling_end': True, 'side_original': 'out', 'side_space_id': 0, 'tensor_name_origonal': 'm'}\n",
      "\n",
      "\n",
      "Weight:\n"
     ]
    },
    {
     "data": {
      "text/latex": [
       "$\\displaystyle - \\frac{1}{\\left(d - 2\\right) \\left(d - 1\\right) \\left(d + 1\\right) \\left(d + 2\\right)}$"
      ],
      "text/plain": [
       "-1/((d - 2)*(d - 1)*(d + 1)*(d + 2))"
      ]
     },
     "metadata": {},
     "output_type": "display_data"
    },
    {
     "name": "stdout",
     "output_type": "stream",
     "text": [
      "\n",
      "Edges:\n",
      "{'tensor_name': 'a', 'tensor_id': 0, 'tensor_nickname': 'a_0', 'space_id': 0, 'dim': d, 'is_dangling_end': False, 'side_original': 'out', 'side_space_id': 0}\n",
      "<->\n",
      "{'tensor_name': 'c', 'tensor_id': 0, 'tensor_nickname': 'c_0', 'space_id': 1, 'dim': d, 'is_dangling_end': False, 'side_original': 'in', 'side_space_id': 0}\n",
      "\n",
      "{'tensor_name': 'a', 'tensor_id': 0, 'tensor_nickname': 'a_0', 'space_id': 1, 'dim': d, 'is_dangling_end': False, 'side_original': 'in', 'side_space_id': 0}\n",
      "<->\n",
      "{'tensor_name': 'c', 'tensor_id': 0, 'tensor_nickname': 'c_0', 'space_id': 0, 'dim': d, 'is_dangling_end': False, 'side_original': 'out', 'side_space_id': 0}\n",
      "\n",
      "{'tensor_name': 'b', 'tensor_id': 0, 'tensor_nickname': 'b_0', 'space_id': 0, 'dim': d, 'is_dangling_end': False, 'side_original': 'out', 'side_space_id': 0}\n",
      "<->\n",
      "{'tensor_name': 'b', 'tensor_id': 0, 'tensor_nickname': 'b_0', 'space_id': 1, 'dim': d, 'is_dangling_end': False, 'side_original': 'in', 'side_space_id': 0}\n",
      "\n",
      "{'tensor_name': 'e', 'tensor_id': 0, 'tensor_nickname': 'e_0', 'space_id': 0, 'dim': d, 'is_dangling_end': False, 'side_original': 'out', 'side_space_id': 0}\n",
      "<->\n",
      "{'tensor_name': 'e', 'tensor_id': 0, 'tensor_nickname': 'e_0', 'space_id': 1, 'dim': d, 'is_dangling_end': False, 'side_original': 'in', 'side_space_id': 0}\n",
      "\n",
      "{'tensor_name': 'f', 'tensor_id': 0, 'tensor_nickname': 'f_0', 'space_id': 0, 'dim': d, 'is_dangling_end': False, 'side_original': 'out', 'side_space_id': 0}\n",
      "<->\n",
      "{'tensor_name': 'f', 'tensor_id': 0, 'tensor_nickname': 'f_0', 'space_id': 1, 'dim': d, 'is_dangling_end': False, 'side_original': 'in', 'side_space_id': 0}\n",
      "\n",
      "{'tensor_name': 'dg_m', 'tensor_id': 0, 'tensor_nickname': 'dg_m_0', 'space_id': 0, 'dim': d, 'is_dangling_end': True, 'side_original': 'out', 'side_space_id': 0, 'tensor_name_origonal': 'm'}\n",
      "<->\n",
      "{'tensor_name': 'dg_m', 'tensor_id': 5, 'tensor_nickname': 'dg_m_5', 'space_id': 0, 'dim': d, 'is_dangling_end': True, 'side_original': 'out', 'side_space_id': 0, 'tensor_name_origonal': 'm'}\n",
      "\n",
      "\n",
      "Weight:\n"
     ]
    },
    {
     "data": {
      "text/latex": [
       "$\\displaystyle \\frac{2}{d \\left(d - 2\\right) \\left(d - 1\\right) \\left(d + 1\\right) \\left(d + 2\\right)}$"
      ],
      "text/plain": [
       "2/(d*(d - 2)*(d - 1)*(d + 1)*(d + 2))"
      ]
     },
     "metadata": {},
     "output_type": "display_data"
    },
    {
     "name": "stdout",
     "output_type": "stream",
     "text": [
      "\n",
      "Edges:\n",
      "{'tensor_name': 'a', 'tensor_id': 0, 'tensor_nickname': 'a_0', 'space_id': 0, 'dim': d, 'is_dangling_end': False, 'side_original': 'out', 'side_space_id': 0}\n",
      "<->\n",
      "{'tensor_name': 'c', 'tensor_id': 0, 'tensor_nickname': 'c_0', 'space_id': 1, 'dim': d, 'is_dangling_end': False, 'side_original': 'in', 'side_space_id': 0}\n",
      "\n",
      "{'tensor_name': 'a', 'tensor_id': 0, 'tensor_nickname': 'a_0', 'space_id': 1, 'dim': d, 'is_dangling_end': False, 'side_original': 'in', 'side_space_id': 0}\n",
      "<->\n",
      "{'tensor_name': 'f', 'tensor_id': 0, 'tensor_nickname': 'f_0', 'space_id': 0, 'dim': d, 'is_dangling_end': False, 'side_original': 'out', 'side_space_id': 0}\n",
      "\n",
      "{'tensor_name': 'b', 'tensor_id': 0, 'tensor_nickname': 'b_0', 'space_id': 0, 'dim': d, 'is_dangling_end': False, 'side_original': 'out', 'side_space_id': 0}\n",
      "<->\n",
      "{'tensor_name': 'b', 'tensor_id': 0, 'tensor_nickname': 'b_0', 'space_id': 1, 'dim': d, 'is_dangling_end': False, 'side_original': 'in', 'side_space_id': 0}\n",
      "\n",
      "{'tensor_name': 'c', 'tensor_id': 0, 'tensor_nickname': 'c_0', 'space_id': 0, 'dim': d, 'is_dangling_end': False, 'side_original': 'out', 'side_space_id': 0}\n",
      "<->\n",
      "{'tensor_name': 'f', 'tensor_id': 0, 'tensor_nickname': 'f_0', 'space_id': 1, 'dim': d, 'is_dangling_end': False, 'side_original': 'in', 'side_space_id': 0}\n",
      "\n",
      "{'tensor_name': 'e', 'tensor_id': 0, 'tensor_nickname': 'e_0', 'space_id': 0, 'dim': d, 'is_dangling_end': False, 'side_original': 'out', 'side_space_id': 0}\n",
      "<->\n",
      "{'tensor_name': 'e', 'tensor_id': 0, 'tensor_nickname': 'e_0', 'space_id': 1, 'dim': d, 'is_dangling_end': False, 'side_original': 'in', 'side_space_id': 0}\n",
      "\n",
      "{'tensor_name': 'dg_m', 'tensor_id': 0, 'tensor_nickname': 'dg_m_0', 'space_id': 0, 'dim': d, 'is_dangling_end': True, 'side_original': 'out', 'side_space_id': 0, 'tensor_name_origonal': 'm'}\n",
      "<->\n",
      "{'tensor_name': 'dg_m', 'tensor_id': 5, 'tensor_nickname': 'dg_m_5', 'space_id': 0, 'dim': d, 'is_dangling_end': True, 'side_original': 'out', 'side_space_id': 0, 'tensor_name_origonal': 'm'}\n",
      "\n",
      "\n",
      "Weight:\n"
     ]
    },
    {
     "data": {
      "text/latex": [
       "$\\displaystyle \\frac{d^{2} - 2}{d \\left(d - 2\\right) \\left(d - 1\\right) \\left(d + 1\\right) \\left(d + 2\\right)}$"
      ],
      "text/plain": [
       "(d**2 - 2)/(d*(d - 2)*(d - 1)*(d + 1)*(d + 2))"
      ]
     },
     "metadata": {},
     "output_type": "display_data"
    },
    {
     "name": "stdout",
     "output_type": "stream",
     "text": [
      "\n",
      "Edges:\n",
      "{'tensor_name': 'a', 'tensor_id': 0, 'tensor_nickname': 'a_0', 'space_id': 0, 'dim': d, 'is_dangling_end': False, 'side_original': 'out', 'side_space_id': 0}\n",
      "<->\n",
      "{'tensor_name': 'f', 'tensor_id': 0, 'tensor_nickname': 'f_0', 'space_id': 1, 'dim': d, 'is_dangling_end': False, 'side_original': 'in', 'side_space_id': 0}\n",
      "\n",
      "{'tensor_name': 'a', 'tensor_id': 0, 'tensor_nickname': 'a_0', 'space_id': 1, 'dim': d, 'is_dangling_end': False, 'side_original': 'in', 'side_space_id': 0}\n",
      "<->\n",
      "{'tensor_name': 'c', 'tensor_id': 0, 'tensor_nickname': 'c_0', 'space_id': 0, 'dim': d, 'is_dangling_end': False, 'side_original': 'out', 'side_space_id': 0}\n",
      "\n",
      "{'tensor_name': 'b', 'tensor_id': 0, 'tensor_nickname': 'b_0', 'space_id': 0, 'dim': d, 'is_dangling_end': False, 'side_original': 'out', 'side_space_id': 0}\n",
      "<->\n",
      "{'tensor_name': 'b', 'tensor_id': 0, 'tensor_nickname': 'b_0', 'space_id': 1, 'dim': d, 'is_dangling_end': False, 'side_original': 'in', 'side_space_id': 0}\n",
      "\n",
      "{'tensor_name': 'c', 'tensor_id': 0, 'tensor_nickname': 'c_0', 'space_id': 1, 'dim': d, 'is_dangling_end': False, 'side_original': 'in', 'side_space_id': 0}\n",
      "<->\n",
      "{'tensor_name': 'f', 'tensor_id': 0, 'tensor_nickname': 'f_0', 'space_id': 0, 'dim': d, 'is_dangling_end': False, 'side_original': 'out', 'side_space_id': 0}\n",
      "\n",
      "{'tensor_name': 'e', 'tensor_id': 0, 'tensor_nickname': 'e_0', 'space_id': 0, 'dim': d, 'is_dangling_end': False, 'side_original': 'out', 'side_space_id': 0}\n",
      "<->\n",
      "{'tensor_name': 'e', 'tensor_id': 0, 'tensor_nickname': 'e_0', 'space_id': 1, 'dim': d, 'is_dangling_end': False, 'side_original': 'in', 'side_space_id': 0}\n",
      "\n",
      "{'tensor_name': 'dg_m', 'tensor_id': 0, 'tensor_nickname': 'dg_m_0', 'space_id': 0, 'dim': d, 'is_dangling_end': True, 'side_original': 'out', 'side_space_id': 0, 'tensor_name_origonal': 'm'}\n",
      "<->\n",
      "{'tensor_name': 'dg_m', 'tensor_id': 5, 'tensor_nickname': 'dg_m_5', 'space_id': 0, 'dim': d, 'is_dangling_end': True, 'side_original': 'out', 'side_space_id': 0, 'tensor_name_origonal': 'm'}\n",
      "\n",
      "\n",
      "Weight:\n"
     ]
    },
    {
     "data": {
      "text/latex": [
       "$\\displaystyle - \\frac{1}{\\left(d - 2\\right) \\left(d - 1\\right) \\left(d + 1\\right) \\left(d + 2\\right)}$"
      ],
      "text/plain": [
       "-1/((d - 2)*(d - 1)*(d + 1)*(d + 2))"
      ]
     },
     "metadata": {},
     "output_type": "display_data"
    },
    {
     "name": "stdout",
     "output_type": "stream",
     "text": [
      "\n",
      "Edges:\n",
      "{'tensor_name': 'a', 'tensor_id': 0, 'tensor_nickname': 'a_0', 'space_id': 0, 'dim': d, 'is_dangling_end': False, 'side_original': 'out', 'side_space_id': 0}\n",
      "<->\n",
      "{'tensor_name': 'f', 'tensor_id': 0, 'tensor_nickname': 'f_0', 'space_id': 1, 'dim': d, 'is_dangling_end': False, 'side_original': 'in', 'side_space_id': 0}\n",
      "\n",
      "{'tensor_name': 'a', 'tensor_id': 0, 'tensor_nickname': 'a_0', 'space_id': 1, 'dim': d, 'is_dangling_end': False, 'side_original': 'in', 'side_space_id': 0}\n",
      "<->\n",
      "{'tensor_name': 'f', 'tensor_id': 0, 'tensor_nickname': 'f_0', 'space_id': 0, 'dim': d, 'is_dangling_end': False, 'side_original': 'out', 'side_space_id': 0}\n",
      "\n",
      "{'tensor_name': 'b', 'tensor_id': 0, 'tensor_nickname': 'b_0', 'space_id': 0, 'dim': d, 'is_dangling_end': False, 'side_original': 'out', 'side_space_id': 0}\n",
      "<->\n",
      "{'tensor_name': 'b', 'tensor_id': 0, 'tensor_nickname': 'b_0', 'space_id': 1, 'dim': d, 'is_dangling_end': False, 'side_original': 'in', 'side_space_id': 0}\n",
      "\n",
      "{'tensor_name': 'c', 'tensor_id': 0, 'tensor_nickname': 'c_0', 'space_id': 0, 'dim': d, 'is_dangling_end': False, 'side_original': 'out', 'side_space_id': 0}\n",
      "<->\n",
      "{'tensor_name': 'c', 'tensor_id': 0, 'tensor_nickname': 'c_0', 'space_id': 1, 'dim': d, 'is_dangling_end': False, 'side_original': 'in', 'side_space_id': 0}\n",
      "\n",
      "{'tensor_name': 'e', 'tensor_id': 0, 'tensor_nickname': 'e_0', 'space_id': 0, 'dim': d, 'is_dangling_end': False, 'side_original': 'out', 'side_space_id': 0}\n",
      "<->\n",
      "{'tensor_name': 'e', 'tensor_id': 0, 'tensor_nickname': 'e_0', 'space_id': 1, 'dim': d, 'is_dangling_end': False, 'side_original': 'in', 'side_space_id': 0}\n",
      "\n",
      "{'tensor_name': 'dg_m', 'tensor_id': 0, 'tensor_nickname': 'dg_m_0', 'space_id': 0, 'dim': d, 'is_dangling_end': True, 'side_original': 'out', 'side_space_id': 0, 'tensor_name_origonal': 'm'}\n",
      "<->\n",
      "{'tensor_name': 'dg_m', 'tensor_id': 5, 'tensor_nickname': 'dg_m_5', 'space_id': 0, 'dim': d, 'is_dangling_end': True, 'side_original': 'out', 'side_space_id': 0, 'tensor_name_origonal': 'm'}\n",
      "\n",
      "\n",
      "Weight:\n"
     ]
    },
    {
     "data": {
      "text/latex": [
       "$\\displaystyle - \\frac{1}{\\left(d - 2\\right) \\left(d - 1\\right) \\left(d + 1\\right) \\left(d + 2\\right)}$"
      ],
      "text/plain": [
       "-1/((d - 2)*(d - 1)*(d + 1)*(d + 2))"
      ]
     },
     "metadata": {},
     "output_type": "display_data"
    },
    {
     "name": "stdout",
     "output_type": "stream",
     "text": [
      "\n",
      "Edges:\n",
      "{'tensor_name': 'a', 'tensor_id': 0, 'tensor_nickname': 'a_0', 'space_id': 0, 'dim': d, 'is_dangling_end': False, 'side_original': 'out', 'side_space_id': 0}\n",
      "<->\n",
      "{'tensor_name': 'a', 'tensor_id': 0, 'tensor_nickname': 'a_0', 'space_id': 1, 'dim': d, 'is_dangling_end': False, 'side_original': 'in', 'side_space_id': 0}\n",
      "\n",
      "{'tensor_name': 'b', 'tensor_id': 0, 'tensor_nickname': 'b_0', 'space_id': 0, 'dim': d, 'is_dangling_end': False, 'side_original': 'out', 'side_space_id': 0}\n",
      "<->\n",
      "{'tensor_name': 'e', 'tensor_id': 0, 'tensor_nickname': 'e_0', 'space_id': 1, 'dim': d, 'is_dangling_end': False, 'side_original': 'in', 'side_space_id': 0}\n",
      "\n",
      "{'tensor_name': 'b', 'tensor_id': 0, 'tensor_nickname': 'b_0', 'space_id': 1, 'dim': d, 'is_dangling_end': False, 'side_original': 'in', 'side_space_id': 0}\n",
      "<->\n",
      "{'tensor_name': 'e', 'tensor_id': 0, 'tensor_nickname': 'e_0', 'space_id': 0, 'dim': d, 'is_dangling_end': False, 'side_original': 'out', 'side_space_id': 0}\n",
      "\n",
      "{'tensor_name': 'c', 'tensor_id': 0, 'tensor_nickname': 'c_0', 'space_id': 0, 'dim': d, 'is_dangling_end': False, 'side_original': 'out', 'side_space_id': 0}\n",
      "<->\n",
      "{'tensor_name': 'c', 'tensor_id': 0, 'tensor_nickname': 'c_0', 'space_id': 1, 'dim': d, 'is_dangling_end': False, 'side_original': 'in', 'side_space_id': 0}\n",
      "\n",
      "{'tensor_name': 'f', 'tensor_id': 0, 'tensor_nickname': 'f_0', 'space_id': 0, 'dim': d, 'is_dangling_end': False, 'side_original': 'out', 'side_space_id': 0}\n",
      "<->\n",
      "{'tensor_name': 'f', 'tensor_id': 0, 'tensor_nickname': 'f_0', 'space_id': 1, 'dim': d, 'is_dangling_end': False, 'side_original': 'in', 'side_space_id': 0}\n",
      "\n",
      "{'tensor_name': 'dg_m', 'tensor_id': 0, 'tensor_nickname': 'dg_m_0', 'space_id': 0, 'dim': d, 'is_dangling_end': True, 'side_original': 'out', 'side_space_id': 0, 'tensor_name_origonal': 'm'}\n",
      "<->\n",
      "{'tensor_name': 'dg_m', 'tensor_id': 5, 'tensor_nickname': 'dg_m_5', 'space_id': 0, 'dim': d, 'is_dangling_end': True, 'side_original': 'out', 'side_space_id': 0, 'tensor_name_origonal': 'm'}\n",
      "\n",
      "\n",
      "Weight:\n"
     ]
    },
    {
     "data": {
      "text/latex": [
       "$\\displaystyle \\frac{2}{d \\left(d - 2\\right) \\left(d - 1\\right) \\left(d + 1\\right) \\left(d + 2\\right)}$"
      ],
      "text/plain": [
       "2/(d*(d - 2)*(d - 1)*(d + 1)*(d + 2))"
      ]
     },
     "metadata": {},
     "output_type": "display_data"
    },
    {
     "name": "stdout",
     "output_type": "stream",
     "text": [
      "\n",
      "Edges:\n",
      "{'tensor_name': 'a', 'tensor_id': 0, 'tensor_nickname': 'a_0', 'space_id': 0, 'dim': d, 'is_dangling_end': False, 'side_original': 'out', 'side_space_id': 0}\n",
      "<->\n",
      "{'tensor_name': 'a', 'tensor_id': 0, 'tensor_nickname': 'a_0', 'space_id': 1, 'dim': d, 'is_dangling_end': False, 'side_original': 'in', 'side_space_id': 0}\n",
      "\n",
      "{'tensor_name': 'b', 'tensor_id': 0, 'tensor_nickname': 'b_0', 'space_id': 0, 'dim': d, 'is_dangling_end': False, 'side_original': 'out', 'side_space_id': 0}\n",
      "<->\n",
      "{'tensor_name': 'e', 'tensor_id': 0, 'tensor_nickname': 'e_0', 'space_id': 1, 'dim': d, 'is_dangling_end': False, 'side_original': 'in', 'side_space_id': 0}\n",
      "\n",
      "{'tensor_name': 'b', 'tensor_id': 0, 'tensor_nickname': 'b_0', 'space_id': 1, 'dim': d, 'is_dangling_end': False, 'side_original': 'in', 'side_space_id': 0}\n",
      "<->\n",
      "{'tensor_name': 'e', 'tensor_id': 0, 'tensor_nickname': 'e_0', 'space_id': 0, 'dim': d, 'is_dangling_end': False, 'side_original': 'out', 'side_space_id': 0}\n",
      "\n",
      "{'tensor_name': 'c', 'tensor_id': 0, 'tensor_nickname': 'c_0', 'space_id': 0, 'dim': d, 'is_dangling_end': False, 'side_original': 'out', 'side_space_id': 0}\n",
      "<->\n",
      "{'tensor_name': 'f', 'tensor_id': 0, 'tensor_nickname': 'f_0', 'space_id': 1, 'dim': d, 'is_dangling_end': False, 'side_original': 'in', 'side_space_id': 0}\n",
      "\n",
      "{'tensor_name': 'c', 'tensor_id': 0, 'tensor_nickname': 'c_0', 'space_id': 1, 'dim': d, 'is_dangling_end': False, 'side_original': 'in', 'side_space_id': 0}\n",
      "<->\n",
      "{'tensor_name': 'f', 'tensor_id': 0, 'tensor_nickname': 'f_0', 'space_id': 0, 'dim': d, 'is_dangling_end': False, 'side_original': 'out', 'side_space_id': 0}\n",
      "\n",
      "{'tensor_name': 'dg_m', 'tensor_id': 0, 'tensor_nickname': 'dg_m_0', 'space_id': 0, 'dim': d, 'is_dangling_end': True, 'side_original': 'out', 'side_space_id': 0, 'tensor_name_origonal': 'm'}\n",
      "<->\n",
      "{'tensor_name': 'dg_m', 'tensor_id': 5, 'tensor_nickname': 'dg_m_5', 'space_id': 0, 'dim': d, 'is_dangling_end': True, 'side_original': 'out', 'side_space_id': 0, 'tensor_name_origonal': 'm'}\n",
      "\n",
      "\n",
      "Weight:\n"
     ]
    },
    {
     "data": {
      "text/latex": [
       "$\\displaystyle \\frac{2}{d \\left(d - 2\\right) \\left(d - 1\\right) \\left(d + 1\\right) \\left(d + 2\\right)}$"
      ],
      "text/plain": [
       "2/(d*(d - 2)*(d - 1)*(d + 1)*(d + 2))"
      ]
     },
     "metadata": {},
     "output_type": "display_data"
    },
    {
     "name": "stdout",
     "output_type": "stream",
     "text": [
      "\n",
      "Edges:\n",
      "{'tensor_name': 'a', 'tensor_id': 0, 'tensor_nickname': 'a_0', 'space_id': 0, 'dim': d, 'is_dangling_end': False, 'side_original': 'out', 'side_space_id': 0}\n",
      "<->\n",
      "{'tensor_name': 'c', 'tensor_id': 0, 'tensor_nickname': 'c_0', 'space_id': 1, 'dim': d, 'is_dangling_end': False, 'side_original': 'in', 'side_space_id': 0}\n",
      "\n",
      "{'tensor_name': 'a', 'tensor_id': 0, 'tensor_nickname': 'a_0', 'space_id': 1, 'dim': d, 'is_dangling_end': False, 'side_original': 'in', 'side_space_id': 0}\n",
      "<->\n",
      "{'tensor_name': 'c', 'tensor_id': 0, 'tensor_nickname': 'c_0', 'space_id': 0, 'dim': d, 'is_dangling_end': False, 'side_original': 'out', 'side_space_id': 0}\n",
      "\n",
      "{'tensor_name': 'b', 'tensor_id': 0, 'tensor_nickname': 'b_0', 'space_id': 0, 'dim': d, 'is_dangling_end': False, 'side_original': 'out', 'side_space_id': 0}\n",
      "<->\n",
      "{'tensor_name': 'e', 'tensor_id': 0, 'tensor_nickname': 'e_0', 'space_id': 1, 'dim': d, 'is_dangling_end': False, 'side_original': 'in', 'side_space_id': 0}\n",
      "\n",
      "{'tensor_name': 'b', 'tensor_id': 0, 'tensor_nickname': 'b_0', 'space_id': 1, 'dim': d, 'is_dangling_end': False, 'side_original': 'in', 'side_space_id': 0}\n",
      "<->\n",
      "{'tensor_name': 'e', 'tensor_id': 0, 'tensor_nickname': 'e_0', 'space_id': 0, 'dim': d, 'is_dangling_end': False, 'side_original': 'out', 'side_space_id': 0}\n",
      "\n",
      "{'tensor_name': 'f', 'tensor_id': 0, 'tensor_nickname': 'f_0', 'space_id': 0, 'dim': d, 'is_dangling_end': False, 'side_original': 'out', 'side_space_id': 0}\n",
      "<->\n",
      "{'tensor_name': 'f', 'tensor_id': 0, 'tensor_nickname': 'f_0', 'space_id': 1, 'dim': d, 'is_dangling_end': False, 'side_original': 'in', 'side_space_id': 0}\n",
      "\n",
      "{'tensor_name': 'dg_m', 'tensor_id': 0, 'tensor_nickname': 'dg_m_0', 'space_id': 0, 'dim': d, 'is_dangling_end': True, 'side_original': 'out', 'side_space_id': 0, 'tensor_name_origonal': 'm'}\n",
      "<->\n",
      "{'tensor_name': 'dg_m', 'tensor_id': 5, 'tensor_nickname': 'dg_m_5', 'space_id': 0, 'dim': d, 'is_dangling_end': True, 'side_original': 'out', 'side_space_id': 0, 'tensor_name_origonal': 'm'}\n",
      "\n",
      "\n",
      "Weight:\n"
     ]
    },
    {
     "data": {
      "text/latex": [
       "$\\displaystyle - \\frac{1}{\\left(d - 2\\right) \\left(d - 1\\right) \\left(d + 1\\right) \\left(d + 2\\right)}$"
      ],
      "text/plain": [
       "-1/((d - 2)*(d - 1)*(d + 1)*(d + 2))"
      ]
     },
     "metadata": {},
     "output_type": "display_data"
    },
    {
     "name": "stdout",
     "output_type": "stream",
     "text": [
      "\n",
      "Edges:\n",
      "{'tensor_name': 'a', 'tensor_id': 0, 'tensor_nickname': 'a_0', 'space_id': 0, 'dim': d, 'is_dangling_end': False, 'side_original': 'out', 'side_space_id': 0}\n",
      "<->\n",
      "{'tensor_name': 'c', 'tensor_id': 0, 'tensor_nickname': 'c_0', 'space_id': 1, 'dim': d, 'is_dangling_end': False, 'side_original': 'in', 'side_space_id': 0}\n",
      "\n",
      "{'tensor_name': 'a', 'tensor_id': 0, 'tensor_nickname': 'a_0', 'space_id': 1, 'dim': d, 'is_dangling_end': False, 'side_original': 'in', 'side_space_id': 0}\n",
      "<->\n",
      "{'tensor_name': 'f', 'tensor_id': 0, 'tensor_nickname': 'f_0', 'space_id': 0, 'dim': d, 'is_dangling_end': False, 'side_original': 'out', 'side_space_id': 0}\n",
      "\n",
      "{'tensor_name': 'b', 'tensor_id': 0, 'tensor_nickname': 'b_0', 'space_id': 0, 'dim': d, 'is_dangling_end': False, 'side_original': 'out', 'side_space_id': 0}\n",
      "<->\n",
      "{'tensor_name': 'e', 'tensor_id': 0, 'tensor_nickname': 'e_0', 'space_id': 1, 'dim': d, 'is_dangling_end': False, 'side_original': 'in', 'side_space_id': 0}\n",
      "\n",
      "{'tensor_name': 'b', 'tensor_id': 0, 'tensor_nickname': 'b_0', 'space_id': 1, 'dim': d, 'is_dangling_end': False, 'side_original': 'in', 'side_space_id': 0}\n",
      "<->\n",
      "{'tensor_name': 'e', 'tensor_id': 0, 'tensor_nickname': 'e_0', 'space_id': 0, 'dim': d, 'is_dangling_end': False, 'side_original': 'out', 'side_space_id': 0}\n",
      "\n",
      "{'tensor_name': 'c', 'tensor_id': 0, 'tensor_nickname': 'c_0', 'space_id': 0, 'dim': d, 'is_dangling_end': False, 'side_original': 'out', 'side_space_id': 0}\n",
      "<->\n",
      "{'tensor_name': 'f', 'tensor_id': 0, 'tensor_nickname': 'f_0', 'space_id': 1, 'dim': d, 'is_dangling_end': False, 'side_original': 'in', 'side_space_id': 0}\n",
      "\n",
      "{'tensor_name': 'dg_m', 'tensor_id': 0, 'tensor_nickname': 'dg_m_0', 'space_id': 0, 'dim': d, 'is_dangling_end': True, 'side_original': 'out', 'side_space_id': 0, 'tensor_name_origonal': 'm'}\n",
      "<->\n",
      "{'tensor_name': 'dg_m', 'tensor_id': 5, 'tensor_nickname': 'dg_m_5', 'space_id': 0, 'dim': d, 'is_dangling_end': True, 'side_original': 'out', 'side_space_id': 0, 'tensor_name_origonal': 'm'}\n",
      "\n",
      "\n",
      "Weight:\n"
     ]
    },
    {
     "data": {
      "text/latex": [
       "$\\displaystyle - \\frac{1}{\\left(d - 2\\right) \\left(d - 1\\right) \\left(d + 1\\right) \\left(d + 2\\right)}$"
      ],
      "text/plain": [
       "-1/((d - 2)*(d - 1)*(d + 1)*(d + 2))"
      ]
     },
     "metadata": {},
     "output_type": "display_data"
    },
    {
     "name": "stdout",
     "output_type": "stream",
     "text": [
      "\n",
      "Edges:\n",
      "{'tensor_name': 'a', 'tensor_id': 0, 'tensor_nickname': 'a_0', 'space_id': 0, 'dim': d, 'is_dangling_end': False, 'side_original': 'out', 'side_space_id': 0}\n",
      "<->\n",
      "{'tensor_name': 'f', 'tensor_id': 0, 'tensor_nickname': 'f_0', 'space_id': 1, 'dim': d, 'is_dangling_end': False, 'side_original': 'in', 'side_space_id': 0}\n",
      "\n",
      "{'tensor_name': 'a', 'tensor_id': 0, 'tensor_nickname': 'a_0', 'space_id': 1, 'dim': d, 'is_dangling_end': False, 'side_original': 'in', 'side_space_id': 0}\n",
      "<->\n",
      "{'tensor_name': 'c', 'tensor_id': 0, 'tensor_nickname': 'c_0', 'space_id': 0, 'dim': d, 'is_dangling_end': False, 'side_original': 'out', 'side_space_id': 0}\n",
      "\n",
      "{'tensor_name': 'b', 'tensor_id': 0, 'tensor_nickname': 'b_0', 'space_id': 0, 'dim': d, 'is_dangling_end': False, 'side_original': 'out', 'side_space_id': 0}\n",
      "<->\n",
      "{'tensor_name': 'e', 'tensor_id': 0, 'tensor_nickname': 'e_0', 'space_id': 1, 'dim': d, 'is_dangling_end': False, 'side_original': 'in', 'side_space_id': 0}\n",
      "\n",
      "{'tensor_name': 'b', 'tensor_id': 0, 'tensor_nickname': 'b_0', 'space_id': 1, 'dim': d, 'is_dangling_end': False, 'side_original': 'in', 'side_space_id': 0}\n",
      "<->\n",
      "{'tensor_name': 'e', 'tensor_id': 0, 'tensor_nickname': 'e_0', 'space_id': 0, 'dim': d, 'is_dangling_end': False, 'side_original': 'out', 'side_space_id': 0}\n",
      "\n",
      "{'tensor_name': 'c', 'tensor_id': 0, 'tensor_nickname': 'c_0', 'space_id': 1, 'dim': d, 'is_dangling_end': False, 'side_original': 'in', 'side_space_id': 0}\n",
      "<->\n",
      "{'tensor_name': 'f', 'tensor_id': 0, 'tensor_nickname': 'f_0', 'space_id': 0, 'dim': d, 'is_dangling_end': False, 'side_original': 'out', 'side_space_id': 0}\n",
      "\n",
      "{'tensor_name': 'dg_m', 'tensor_id': 0, 'tensor_nickname': 'dg_m_0', 'space_id': 0, 'dim': d, 'is_dangling_end': True, 'side_original': 'out', 'side_space_id': 0, 'tensor_name_origonal': 'm'}\n",
      "<->\n",
      "{'tensor_name': 'dg_m', 'tensor_id': 5, 'tensor_nickname': 'dg_m_5', 'space_id': 0, 'dim': d, 'is_dangling_end': True, 'side_original': 'out', 'side_space_id': 0, 'tensor_name_origonal': 'm'}\n",
      "\n",
      "\n",
      "Weight:\n"
     ]
    },
    {
     "data": {
      "text/latex": [
       "$\\displaystyle \\frac{d^{2} - 2}{d \\left(d - 2\\right) \\left(d - 1\\right) \\left(d + 1\\right) \\left(d + 2\\right)}$"
      ],
      "text/plain": [
       "(d**2 - 2)/(d*(d - 2)*(d - 1)*(d + 1)*(d + 2))"
      ]
     },
     "metadata": {},
     "output_type": "display_data"
    },
    {
     "name": "stdout",
     "output_type": "stream",
     "text": [
      "\n",
      "Edges:\n",
      "{'tensor_name': 'a', 'tensor_id': 0, 'tensor_nickname': 'a_0', 'space_id': 0, 'dim': d, 'is_dangling_end': False, 'side_original': 'out', 'side_space_id': 0}\n",
      "<->\n",
      "{'tensor_name': 'f', 'tensor_id': 0, 'tensor_nickname': 'f_0', 'space_id': 1, 'dim': d, 'is_dangling_end': False, 'side_original': 'in', 'side_space_id': 0}\n",
      "\n",
      "{'tensor_name': 'a', 'tensor_id': 0, 'tensor_nickname': 'a_0', 'space_id': 1, 'dim': d, 'is_dangling_end': False, 'side_original': 'in', 'side_space_id': 0}\n",
      "<->\n",
      "{'tensor_name': 'f', 'tensor_id': 0, 'tensor_nickname': 'f_0', 'space_id': 0, 'dim': d, 'is_dangling_end': False, 'side_original': 'out', 'side_space_id': 0}\n",
      "\n",
      "{'tensor_name': 'b', 'tensor_id': 0, 'tensor_nickname': 'b_0', 'space_id': 0, 'dim': d, 'is_dangling_end': False, 'side_original': 'out', 'side_space_id': 0}\n",
      "<->\n",
      "{'tensor_name': 'e', 'tensor_id': 0, 'tensor_nickname': 'e_0', 'space_id': 1, 'dim': d, 'is_dangling_end': False, 'side_original': 'in', 'side_space_id': 0}\n",
      "\n",
      "{'tensor_name': 'b', 'tensor_id': 0, 'tensor_nickname': 'b_0', 'space_id': 1, 'dim': d, 'is_dangling_end': False, 'side_original': 'in', 'side_space_id': 0}\n",
      "<->\n",
      "{'tensor_name': 'e', 'tensor_id': 0, 'tensor_nickname': 'e_0', 'space_id': 0, 'dim': d, 'is_dangling_end': False, 'side_original': 'out', 'side_space_id': 0}\n",
      "\n",
      "{'tensor_name': 'c', 'tensor_id': 0, 'tensor_nickname': 'c_0', 'space_id': 0, 'dim': d, 'is_dangling_end': False, 'side_original': 'out', 'side_space_id': 0}\n",
      "<->\n",
      "{'tensor_name': 'c', 'tensor_id': 0, 'tensor_nickname': 'c_0', 'space_id': 1, 'dim': d, 'is_dangling_end': False, 'side_original': 'in', 'side_space_id': 0}\n",
      "\n",
      "{'tensor_name': 'dg_m', 'tensor_id': 0, 'tensor_nickname': 'dg_m_0', 'space_id': 0, 'dim': d, 'is_dangling_end': True, 'side_original': 'out', 'side_space_id': 0, 'tensor_name_origonal': 'm'}\n",
      "<->\n",
      "{'tensor_name': 'dg_m', 'tensor_id': 5, 'tensor_nickname': 'dg_m_5', 'space_id': 0, 'dim': d, 'is_dangling_end': True, 'side_original': 'out', 'side_space_id': 0, 'tensor_name_origonal': 'm'}\n",
      "\n",
      "\n"
     ]
    }
   ],
   "source": [
    "tensor_networks.integrate('m', 'unitary')\n",
    "tensor_networks.show()"
   ]
  },
  {
   "cell_type": "markdown",
   "id": "17de180d",
   "metadata": {},
   "source": [
    "Remark.\n",
    "- If one just replaces <code>d</code> by 1 or 2, the weights which appeared in the above calculations will explode.\n",
    "- The following functionality of RNI2 is a solution to the problem. "
   ]
  },
  {
   "cell_type": "markdown",
   "id": "2cc12e5c",
   "metadata": {},
   "source": [
    "## Set  𝑑𝑖𝑚=1,2,3,…, and check that how the weight of each tensor network changes.\n",
    "Using a dictionary, one can make the dimensions concrete. "
   ]
  },
  {
   "cell_type": "code",
   "execution_count": 9,
   "id": "6fe639e4",
   "metadata": {},
   "outputs": [
    {
     "name": "stdout",
     "output_type": "stream",
     "text": [
      "Weight:\n"
     ]
    },
    {
     "data": {
      "text/latex": [
       "$\\displaystyle \\frac{17}{144}$"
      ],
      "text/plain": [
       "17/144"
      ]
     },
     "metadata": {},
     "output_type": "display_data"
    },
    {
     "name": "stdout",
     "output_type": "stream",
     "text": [
      "\n",
      "Edges:\n",
      "{'tensor_name': 'a', 'tensor_id': 0, 'tensor_nickname': 'a_0', 'space_id': 0, 'dim': d, 'is_dangling_end': False, 'side_original': 'out', 'side_space_id': 0}\n",
      "<->\n",
      "{'tensor_name': 'a', 'tensor_id': 0, 'tensor_nickname': 'a_0', 'space_id': 1, 'dim': d, 'is_dangling_end': False, 'side_original': 'in', 'side_space_id': 0}\n",
      "\n",
      "{'tensor_name': 'b', 'tensor_id': 0, 'tensor_nickname': 'b_0', 'space_id': 0, 'dim': d, 'is_dangling_end': False, 'side_original': 'out', 'side_space_id': 0}\n",
      "<->\n",
      "{'tensor_name': 'dg_m', 'tensor_id': 0, 'tensor_nickname': 'dg_m_0', 'space_id': 0, 'dim': d, 'is_dangling_end': True, 'side_original': 'out', 'side_space_id': 0, 'tensor_name_origonal': 'm'}\n",
      "\n",
      "{'tensor_name': 'b', 'tensor_id': 0, 'tensor_nickname': 'b_0', 'space_id': 1, 'dim': d, 'is_dangling_end': False, 'side_original': 'in', 'side_space_id': 0}\n",
      "<->\n",
      "{'tensor_name': 'e', 'tensor_id': 0, 'tensor_nickname': 'e_0', 'space_id': 0, 'dim': d, 'is_dangling_end': False, 'side_original': 'out', 'side_space_id': 0}\n",
      "\n",
      "{'tensor_name': 'c', 'tensor_id': 0, 'tensor_nickname': 'c_0', 'space_id': 0, 'dim': d, 'is_dangling_end': False, 'side_original': 'out', 'side_space_id': 0}\n",
      "<->\n",
      "{'tensor_name': 'c', 'tensor_id': 0, 'tensor_nickname': 'c_0', 'space_id': 1, 'dim': d, 'is_dangling_end': False, 'side_original': 'in', 'side_space_id': 0}\n",
      "\n",
      "{'tensor_name': 'dg_m', 'tensor_id': 5, 'tensor_nickname': 'dg_m_5', 'space_id': 0, 'dim': d, 'is_dangling_end': True, 'side_original': 'out', 'side_space_id': 0, 'tensor_name_origonal': 'm'}\n",
      "<->\n",
      "{'tensor_name': 'e', 'tensor_id': 0, 'tensor_nickname': 'e_0', 'space_id': 1, 'dim': d, 'is_dangling_end': False, 'side_original': 'in', 'side_space_id': 0}\n",
      "\n",
      "{'tensor_name': 'f', 'tensor_id': 0, 'tensor_nickname': 'f_0', 'space_id': 0, 'dim': d, 'is_dangling_end': False, 'side_original': 'out', 'side_space_id': 0}\n",
      "<->\n",
      "{'tensor_name': 'f', 'tensor_id': 0, 'tensor_nickname': 'f_0', 'space_id': 1, 'dim': d, 'is_dangling_end': False, 'side_original': 'in', 'side_space_id': 0}\n",
      "\n",
      "\n",
      "Weight:\n"
     ]
    },
    {
     "data": {
      "text/latex": [
       "$\\displaystyle \\frac{1}{144}$"
      ],
      "text/plain": [
       "1/144"
      ]
     },
     "metadata": {},
     "output_type": "display_data"
    },
    {
     "name": "stdout",
     "output_type": "stream",
     "text": [
      "\n",
      "Edges:\n",
      "{'tensor_name': 'a', 'tensor_id': 0, 'tensor_nickname': 'a_0', 'space_id': 0, 'dim': d, 'is_dangling_end': False, 'side_original': 'out', 'side_space_id': 0}\n",
      "<->\n",
      "{'tensor_name': 'a', 'tensor_id': 0, 'tensor_nickname': 'a_0', 'space_id': 1, 'dim': d, 'is_dangling_end': False, 'side_original': 'in', 'side_space_id': 0}\n",
      "\n",
      "{'tensor_name': 'b', 'tensor_id': 0, 'tensor_nickname': 'b_0', 'space_id': 0, 'dim': d, 'is_dangling_end': False, 'side_original': 'out', 'side_space_id': 0}\n",
      "<->\n",
      "{'tensor_name': 'dg_m', 'tensor_id': 0, 'tensor_nickname': 'dg_m_0', 'space_id': 0, 'dim': d, 'is_dangling_end': True, 'side_original': 'out', 'side_space_id': 0, 'tensor_name_origonal': 'm'}\n",
      "\n",
      "{'tensor_name': 'b', 'tensor_id': 0, 'tensor_nickname': 'b_0', 'space_id': 1, 'dim': d, 'is_dangling_end': False, 'side_original': 'in', 'side_space_id': 0}\n",
      "<->\n",
      "{'tensor_name': 'e', 'tensor_id': 0, 'tensor_nickname': 'e_0', 'space_id': 0, 'dim': d, 'is_dangling_end': False, 'side_original': 'out', 'side_space_id': 0}\n",
      "\n",
      "{'tensor_name': 'c', 'tensor_id': 0, 'tensor_nickname': 'c_0', 'space_id': 0, 'dim': d, 'is_dangling_end': False, 'side_original': 'out', 'side_space_id': 0}\n",
      "<->\n",
      "{'tensor_name': 'f', 'tensor_id': 0, 'tensor_nickname': 'f_0', 'space_id': 1, 'dim': d, 'is_dangling_end': False, 'side_original': 'in', 'side_space_id': 0}\n",
      "\n",
      "{'tensor_name': 'c', 'tensor_id': 0, 'tensor_nickname': 'c_0', 'space_id': 1, 'dim': d, 'is_dangling_end': False, 'side_original': 'in', 'side_space_id': 0}\n",
      "<->\n",
      "{'tensor_name': 'f', 'tensor_id': 0, 'tensor_nickname': 'f_0', 'space_id': 0, 'dim': d, 'is_dangling_end': False, 'side_original': 'out', 'side_space_id': 0}\n",
      "\n",
      "{'tensor_name': 'dg_m', 'tensor_id': 5, 'tensor_nickname': 'dg_m_5', 'space_id': 0, 'dim': d, 'is_dangling_end': True, 'side_original': 'out', 'side_space_id': 0, 'tensor_name_origonal': 'm'}\n",
      "<->\n",
      "{'tensor_name': 'e', 'tensor_id': 0, 'tensor_nickname': 'e_0', 'space_id': 1, 'dim': d, 'is_dangling_end': False, 'side_original': 'in', 'side_space_id': 0}\n",
      "\n",
      "\n",
      "Weight:\n"
     ]
    },
    {
     "data": {
      "text/latex": [
       "$\\displaystyle \\frac{1}{144}$"
      ],
      "text/plain": [
       "1/144"
      ]
     },
     "metadata": {},
     "output_type": "display_data"
    },
    {
     "name": "stdout",
     "output_type": "stream",
     "text": [
      "\n",
      "Edges:\n",
      "{'tensor_name': 'a', 'tensor_id': 0, 'tensor_nickname': 'a_0', 'space_id': 0, 'dim': d, 'is_dangling_end': False, 'side_original': 'out', 'side_space_id': 0}\n",
      "<->\n",
      "{'tensor_name': 'c', 'tensor_id': 0, 'tensor_nickname': 'c_0', 'space_id': 1, 'dim': d, 'is_dangling_end': False, 'side_original': 'in', 'side_space_id': 0}\n",
      "\n",
      "{'tensor_name': 'a', 'tensor_id': 0, 'tensor_nickname': 'a_0', 'space_id': 1, 'dim': d, 'is_dangling_end': False, 'side_original': 'in', 'side_space_id': 0}\n",
      "<->\n",
      "{'tensor_name': 'c', 'tensor_id': 0, 'tensor_nickname': 'c_0', 'space_id': 0, 'dim': d, 'is_dangling_end': False, 'side_original': 'out', 'side_space_id': 0}\n",
      "\n",
      "{'tensor_name': 'b', 'tensor_id': 0, 'tensor_nickname': 'b_0', 'space_id': 0, 'dim': d, 'is_dangling_end': False, 'side_original': 'out', 'side_space_id': 0}\n",
      "<->\n",
      "{'tensor_name': 'dg_m', 'tensor_id': 0, 'tensor_nickname': 'dg_m_0', 'space_id': 0, 'dim': d, 'is_dangling_end': True, 'side_original': 'out', 'side_space_id': 0, 'tensor_name_origonal': 'm'}\n",
      "\n",
      "{'tensor_name': 'b', 'tensor_id': 0, 'tensor_nickname': 'b_0', 'space_id': 1, 'dim': d, 'is_dangling_end': False, 'side_original': 'in', 'side_space_id': 0}\n",
      "<->\n",
      "{'tensor_name': 'e', 'tensor_id': 0, 'tensor_nickname': 'e_0', 'space_id': 0, 'dim': d, 'is_dangling_end': False, 'side_original': 'out', 'side_space_id': 0}\n",
      "\n",
      "{'tensor_name': 'dg_m', 'tensor_id': 5, 'tensor_nickname': 'dg_m_5', 'space_id': 0, 'dim': d, 'is_dangling_end': True, 'side_original': 'out', 'side_space_id': 0, 'tensor_name_origonal': 'm'}\n",
      "<->\n",
      "{'tensor_name': 'e', 'tensor_id': 0, 'tensor_nickname': 'e_0', 'space_id': 1, 'dim': d, 'is_dangling_end': False, 'side_original': 'in', 'side_space_id': 0}\n",
      "\n",
      "{'tensor_name': 'f', 'tensor_id': 0, 'tensor_nickname': 'f_0', 'space_id': 0, 'dim': d, 'is_dangling_end': False, 'side_original': 'out', 'side_space_id': 0}\n",
      "<->\n",
      "{'tensor_name': 'f', 'tensor_id': 0, 'tensor_nickname': 'f_0', 'space_id': 1, 'dim': d, 'is_dangling_end': False, 'side_original': 'in', 'side_space_id': 0}\n",
      "\n",
      "\n",
      "Weight:\n"
     ]
    },
    {
     "data": {
      "text/latex": [
       "$\\displaystyle - \\frac{7}{144}$"
      ],
      "text/plain": [
       "-7/144"
      ]
     },
     "metadata": {},
     "output_type": "display_data"
    },
    {
     "name": "stdout",
     "output_type": "stream",
     "text": [
      "\n",
      "Edges:\n",
      "{'tensor_name': 'a', 'tensor_id': 0, 'tensor_nickname': 'a_0', 'space_id': 0, 'dim': d, 'is_dangling_end': False, 'side_original': 'out', 'side_space_id': 0}\n",
      "<->\n",
      "{'tensor_name': 'c', 'tensor_id': 0, 'tensor_nickname': 'c_0', 'space_id': 1, 'dim': d, 'is_dangling_end': False, 'side_original': 'in', 'side_space_id': 0}\n",
      "\n",
      "{'tensor_name': 'a', 'tensor_id': 0, 'tensor_nickname': 'a_0', 'space_id': 1, 'dim': d, 'is_dangling_end': False, 'side_original': 'in', 'side_space_id': 0}\n",
      "<->\n",
      "{'tensor_name': 'f', 'tensor_id': 0, 'tensor_nickname': 'f_0', 'space_id': 0, 'dim': d, 'is_dangling_end': False, 'side_original': 'out', 'side_space_id': 0}\n",
      "\n",
      "{'tensor_name': 'b', 'tensor_id': 0, 'tensor_nickname': 'b_0', 'space_id': 0, 'dim': d, 'is_dangling_end': False, 'side_original': 'out', 'side_space_id': 0}\n",
      "<->\n",
      "{'tensor_name': 'dg_m', 'tensor_id': 0, 'tensor_nickname': 'dg_m_0', 'space_id': 0, 'dim': d, 'is_dangling_end': True, 'side_original': 'out', 'side_space_id': 0, 'tensor_name_origonal': 'm'}\n",
      "\n",
      "{'tensor_name': 'b', 'tensor_id': 0, 'tensor_nickname': 'b_0', 'space_id': 1, 'dim': d, 'is_dangling_end': False, 'side_original': 'in', 'side_space_id': 0}\n",
      "<->\n",
      "{'tensor_name': 'e', 'tensor_id': 0, 'tensor_nickname': 'e_0', 'space_id': 0, 'dim': d, 'is_dangling_end': False, 'side_original': 'out', 'side_space_id': 0}\n",
      "\n",
      "{'tensor_name': 'c', 'tensor_id': 0, 'tensor_nickname': 'c_0', 'space_id': 0, 'dim': d, 'is_dangling_end': False, 'side_original': 'out', 'side_space_id': 0}\n",
      "<->\n",
      "{'tensor_name': 'f', 'tensor_id': 0, 'tensor_nickname': 'f_0', 'space_id': 1, 'dim': d, 'is_dangling_end': False, 'side_original': 'in', 'side_space_id': 0}\n",
      "\n",
      "{'tensor_name': 'dg_m', 'tensor_id': 5, 'tensor_nickname': 'dg_m_5', 'space_id': 0, 'dim': d, 'is_dangling_end': True, 'side_original': 'out', 'side_space_id': 0, 'tensor_name_origonal': 'm'}\n",
      "<->\n",
      "{'tensor_name': 'e', 'tensor_id': 0, 'tensor_nickname': 'e_0', 'space_id': 1, 'dim': d, 'is_dangling_end': False, 'side_original': 'in', 'side_space_id': 0}\n",
      "\n",
      "\n",
      "Weight:\n"
     ]
    },
    {
     "data": {
      "text/latex": [
       "$\\displaystyle - \\frac{7}{144}$"
      ],
      "text/plain": [
       "-7/144"
      ]
     },
     "metadata": {},
     "output_type": "display_data"
    },
    {
     "name": "stdout",
     "output_type": "stream",
     "text": [
      "\n",
      "Edges:\n",
      "{'tensor_name': 'a', 'tensor_id': 0, 'tensor_nickname': 'a_0', 'space_id': 0, 'dim': d, 'is_dangling_end': False, 'side_original': 'out', 'side_space_id': 0}\n",
      "<->\n",
      "{'tensor_name': 'f', 'tensor_id': 0, 'tensor_nickname': 'f_0', 'space_id': 1, 'dim': d, 'is_dangling_end': False, 'side_original': 'in', 'side_space_id': 0}\n",
      "\n",
      "{'tensor_name': 'a', 'tensor_id': 0, 'tensor_nickname': 'a_0', 'space_id': 1, 'dim': d, 'is_dangling_end': False, 'side_original': 'in', 'side_space_id': 0}\n",
      "<->\n",
      "{'tensor_name': 'c', 'tensor_id': 0, 'tensor_nickname': 'c_0', 'space_id': 0, 'dim': d, 'is_dangling_end': False, 'side_original': 'out', 'side_space_id': 0}\n",
      "\n",
      "{'tensor_name': 'b', 'tensor_id': 0, 'tensor_nickname': 'b_0', 'space_id': 0, 'dim': d, 'is_dangling_end': False, 'side_original': 'out', 'side_space_id': 0}\n",
      "<->\n",
      "{'tensor_name': 'dg_m', 'tensor_id': 0, 'tensor_nickname': 'dg_m_0', 'space_id': 0, 'dim': d, 'is_dangling_end': True, 'side_original': 'out', 'side_space_id': 0, 'tensor_name_origonal': 'm'}\n",
      "\n",
      "{'tensor_name': 'b', 'tensor_id': 0, 'tensor_nickname': 'b_0', 'space_id': 1, 'dim': d, 'is_dangling_end': False, 'side_original': 'in', 'side_space_id': 0}\n",
      "<->\n",
      "{'tensor_name': 'e', 'tensor_id': 0, 'tensor_nickname': 'e_0', 'space_id': 0, 'dim': d, 'is_dangling_end': False, 'side_original': 'out', 'side_space_id': 0}\n",
      "\n",
      "{'tensor_name': 'c', 'tensor_id': 0, 'tensor_nickname': 'c_0', 'space_id': 1, 'dim': d, 'is_dangling_end': False, 'side_original': 'in', 'side_space_id': 0}\n",
      "<->\n",
      "{'tensor_name': 'f', 'tensor_id': 0, 'tensor_nickname': 'f_0', 'space_id': 0, 'dim': d, 'is_dangling_end': False, 'side_original': 'out', 'side_space_id': 0}\n",
      "\n",
      "{'tensor_name': 'dg_m', 'tensor_id': 5, 'tensor_nickname': 'dg_m_5', 'space_id': 0, 'dim': d, 'is_dangling_end': True, 'side_original': 'out', 'side_space_id': 0, 'tensor_name_origonal': 'm'}\n",
      "<->\n",
      "{'tensor_name': 'e', 'tensor_id': 0, 'tensor_nickname': 'e_0', 'space_id': 1, 'dim': d, 'is_dangling_end': False, 'side_original': 'in', 'side_space_id': 0}\n",
      "\n",
      "\n",
      "Weight:\n"
     ]
    },
    {
     "data": {
      "text/latex": [
       "$\\displaystyle \\frac{1}{144}$"
      ],
      "text/plain": [
       "1/144"
      ]
     },
     "metadata": {},
     "output_type": "display_data"
    },
    {
     "name": "stdout",
     "output_type": "stream",
     "text": [
      "\n",
      "Edges:\n",
      "{'tensor_name': 'a', 'tensor_id': 0, 'tensor_nickname': 'a_0', 'space_id': 0, 'dim': d, 'is_dangling_end': False, 'side_original': 'out', 'side_space_id': 0}\n",
      "<->\n",
      "{'tensor_name': 'f', 'tensor_id': 0, 'tensor_nickname': 'f_0', 'space_id': 1, 'dim': d, 'is_dangling_end': False, 'side_original': 'in', 'side_space_id': 0}\n",
      "\n",
      "{'tensor_name': 'a', 'tensor_id': 0, 'tensor_nickname': 'a_0', 'space_id': 1, 'dim': d, 'is_dangling_end': False, 'side_original': 'in', 'side_space_id': 0}\n",
      "<->\n",
      "{'tensor_name': 'f', 'tensor_id': 0, 'tensor_nickname': 'f_0', 'space_id': 0, 'dim': d, 'is_dangling_end': False, 'side_original': 'out', 'side_space_id': 0}\n",
      "\n",
      "{'tensor_name': 'b', 'tensor_id': 0, 'tensor_nickname': 'b_0', 'space_id': 0, 'dim': d, 'is_dangling_end': False, 'side_original': 'out', 'side_space_id': 0}\n",
      "<->\n",
      "{'tensor_name': 'dg_m', 'tensor_id': 0, 'tensor_nickname': 'dg_m_0', 'space_id': 0, 'dim': d, 'is_dangling_end': True, 'side_original': 'out', 'side_space_id': 0, 'tensor_name_origonal': 'm'}\n",
      "\n",
      "{'tensor_name': 'b', 'tensor_id': 0, 'tensor_nickname': 'b_0', 'space_id': 1, 'dim': d, 'is_dangling_end': False, 'side_original': 'in', 'side_space_id': 0}\n",
      "<->\n",
      "{'tensor_name': 'e', 'tensor_id': 0, 'tensor_nickname': 'e_0', 'space_id': 0, 'dim': d, 'is_dangling_end': False, 'side_original': 'out', 'side_space_id': 0}\n",
      "\n",
      "{'tensor_name': 'c', 'tensor_id': 0, 'tensor_nickname': 'c_0', 'space_id': 0, 'dim': d, 'is_dangling_end': False, 'side_original': 'out', 'side_space_id': 0}\n",
      "<->\n",
      "{'tensor_name': 'c', 'tensor_id': 0, 'tensor_nickname': 'c_0', 'space_id': 1, 'dim': d, 'is_dangling_end': False, 'side_original': 'in', 'side_space_id': 0}\n",
      "\n",
      "{'tensor_name': 'dg_m', 'tensor_id': 5, 'tensor_nickname': 'dg_m_5', 'space_id': 0, 'dim': d, 'is_dangling_end': True, 'side_original': 'out', 'side_space_id': 0, 'tensor_name_origonal': 'm'}\n",
      "<->\n",
      "{'tensor_name': 'e', 'tensor_id': 0, 'tensor_nickname': 'e_0', 'space_id': 1, 'dim': d, 'is_dangling_end': False, 'side_original': 'in', 'side_space_id': 0}\n",
      "\n",
      "\n",
      "Weight:\n"
     ]
    },
    {
     "data": {
      "text/latex": [
       "$\\displaystyle \\frac{1}{144}$"
      ],
      "text/plain": [
       "1/144"
      ]
     },
     "metadata": {},
     "output_type": "display_data"
    },
    {
     "name": "stdout",
     "output_type": "stream",
     "text": [
      "\n",
      "Edges:\n",
      "{'tensor_name': 'a', 'tensor_id': 0, 'tensor_nickname': 'a_0', 'space_id': 0, 'dim': d, 'is_dangling_end': False, 'side_original': 'out', 'side_space_id': 0}\n",
      "<->\n",
      "{'tensor_name': 'a', 'tensor_id': 0, 'tensor_nickname': 'a_0', 'space_id': 1, 'dim': d, 'is_dangling_end': False, 'side_original': 'in', 'side_space_id': 0}\n",
      "\n",
      "{'tensor_name': 'b', 'tensor_id': 0, 'tensor_nickname': 'b_0', 'space_id': 0, 'dim': d, 'is_dangling_end': False, 'side_original': 'out', 'side_space_id': 0}\n",
      "<->\n",
      "{'tensor_name': 'dg_m', 'tensor_id': 0, 'tensor_nickname': 'dg_m_0', 'space_id': 0, 'dim': d, 'is_dangling_end': True, 'side_original': 'out', 'side_space_id': 0, 'tensor_name_origonal': 'm'}\n",
      "\n",
      "{'tensor_name': 'b', 'tensor_id': 0, 'tensor_nickname': 'b_0', 'space_id': 1, 'dim': d, 'is_dangling_end': False, 'side_original': 'in', 'side_space_id': 0}\n",
      "<->\n",
      "{'tensor_name': 'dg_m', 'tensor_id': 5, 'tensor_nickname': 'dg_m_5', 'space_id': 0, 'dim': d, 'is_dangling_end': True, 'side_original': 'out', 'side_space_id': 0, 'tensor_name_origonal': 'm'}\n",
      "\n",
      "{'tensor_name': 'c', 'tensor_id': 0, 'tensor_nickname': 'c_0', 'space_id': 0, 'dim': d, 'is_dangling_end': False, 'side_original': 'out', 'side_space_id': 0}\n",
      "<->\n",
      "{'tensor_name': 'c', 'tensor_id': 0, 'tensor_nickname': 'c_0', 'space_id': 1, 'dim': d, 'is_dangling_end': False, 'side_original': 'in', 'side_space_id': 0}\n",
      "\n",
      "{'tensor_name': 'e', 'tensor_id': 0, 'tensor_nickname': 'e_0', 'space_id': 0, 'dim': d, 'is_dangling_end': False, 'side_original': 'out', 'side_space_id': 0}\n",
      "<->\n",
      "{'tensor_name': 'e', 'tensor_id': 0, 'tensor_nickname': 'e_0', 'space_id': 1, 'dim': d, 'is_dangling_end': False, 'side_original': 'in', 'side_space_id': 0}\n",
      "\n",
      "{'tensor_name': 'f', 'tensor_id': 0, 'tensor_nickname': 'f_0', 'space_id': 0, 'dim': d, 'is_dangling_end': False, 'side_original': 'out', 'side_space_id': 0}\n",
      "<->\n",
      "{'tensor_name': 'f', 'tensor_id': 0, 'tensor_nickname': 'f_0', 'space_id': 1, 'dim': d, 'is_dangling_end': False, 'side_original': 'in', 'side_space_id': 0}\n",
      "\n",
      "\n",
      "Weight:\n"
     ]
    },
    {
     "data": {
      "text/latex": [
       "$\\displaystyle \\frac{17}{144}$"
      ],
      "text/plain": [
       "17/144"
      ]
     },
     "metadata": {},
     "output_type": "display_data"
    },
    {
     "name": "stdout",
     "output_type": "stream",
     "text": [
      "\n",
      "Edges:\n",
      "{'tensor_name': 'a', 'tensor_id': 0, 'tensor_nickname': 'a_0', 'space_id': 0, 'dim': d, 'is_dangling_end': False, 'side_original': 'out', 'side_space_id': 0}\n",
      "<->\n",
      "{'tensor_name': 'a', 'tensor_id': 0, 'tensor_nickname': 'a_0', 'space_id': 1, 'dim': d, 'is_dangling_end': False, 'side_original': 'in', 'side_space_id': 0}\n",
      "\n",
      "{'tensor_name': 'b', 'tensor_id': 0, 'tensor_nickname': 'b_0', 'space_id': 0, 'dim': d, 'is_dangling_end': False, 'side_original': 'out', 'side_space_id': 0}\n",
      "<->\n",
      "{'tensor_name': 'dg_m', 'tensor_id': 0, 'tensor_nickname': 'dg_m_0', 'space_id': 0, 'dim': d, 'is_dangling_end': True, 'side_original': 'out', 'side_space_id': 0, 'tensor_name_origonal': 'm'}\n",
      "\n",
      "{'tensor_name': 'b', 'tensor_id': 0, 'tensor_nickname': 'b_0', 'space_id': 1, 'dim': d, 'is_dangling_end': False, 'side_original': 'in', 'side_space_id': 0}\n",
      "<->\n",
      "{'tensor_name': 'dg_m', 'tensor_id': 5, 'tensor_nickname': 'dg_m_5', 'space_id': 0, 'dim': d, 'is_dangling_end': True, 'side_original': 'out', 'side_space_id': 0, 'tensor_name_origonal': 'm'}\n",
      "\n",
      "{'tensor_name': 'c', 'tensor_id': 0, 'tensor_nickname': 'c_0', 'space_id': 0, 'dim': d, 'is_dangling_end': False, 'side_original': 'out', 'side_space_id': 0}\n",
      "<->\n",
      "{'tensor_name': 'f', 'tensor_id': 0, 'tensor_nickname': 'f_0', 'space_id': 1, 'dim': d, 'is_dangling_end': False, 'side_original': 'in', 'side_space_id': 0}\n",
      "\n",
      "{'tensor_name': 'c', 'tensor_id': 0, 'tensor_nickname': 'c_0', 'space_id': 1, 'dim': d, 'is_dangling_end': False, 'side_original': 'in', 'side_space_id': 0}\n",
      "<->\n",
      "{'tensor_name': 'f', 'tensor_id': 0, 'tensor_nickname': 'f_0', 'space_id': 0, 'dim': d, 'is_dangling_end': False, 'side_original': 'out', 'side_space_id': 0}\n",
      "\n",
      "{'tensor_name': 'e', 'tensor_id': 0, 'tensor_nickname': 'e_0', 'space_id': 0, 'dim': d, 'is_dangling_end': False, 'side_original': 'out', 'side_space_id': 0}\n",
      "<->\n",
      "{'tensor_name': 'e', 'tensor_id': 0, 'tensor_nickname': 'e_0', 'space_id': 1, 'dim': d, 'is_dangling_end': False, 'side_original': 'in', 'side_space_id': 0}\n",
      "\n",
      "\n",
      "Weight:\n"
     ]
    },
    {
     "data": {
      "text/latex": [
       "$\\displaystyle - \\frac{7}{144}$"
      ],
      "text/plain": [
       "-7/144"
      ]
     },
     "metadata": {},
     "output_type": "display_data"
    },
    {
     "name": "stdout",
     "output_type": "stream",
     "text": [
      "\n",
      "Edges:\n",
      "{'tensor_name': 'a', 'tensor_id': 0, 'tensor_nickname': 'a_0', 'space_id': 0, 'dim': d, 'is_dangling_end': False, 'side_original': 'out', 'side_space_id': 0}\n",
      "<->\n",
      "{'tensor_name': 'c', 'tensor_id': 0, 'tensor_nickname': 'c_0', 'space_id': 1, 'dim': d, 'is_dangling_end': False, 'side_original': 'in', 'side_space_id': 0}\n",
      "\n",
      "{'tensor_name': 'a', 'tensor_id': 0, 'tensor_nickname': 'a_0', 'space_id': 1, 'dim': d, 'is_dangling_end': False, 'side_original': 'in', 'side_space_id': 0}\n",
      "<->\n",
      "{'tensor_name': 'c', 'tensor_id': 0, 'tensor_nickname': 'c_0', 'space_id': 0, 'dim': d, 'is_dangling_end': False, 'side_original': 'out', 'side_space_id': 0}\n",
      "\n",
      "{'tensor_name': 'b', 'tensor_id': 0, 'tensor_nickname': 'b_0', 'space_id': 0, 'dim': d, 'is_dangling_end': False, 'side_original': 'out', 'side_space_id': 0}\n",
      "<->\n",
      "{'tensor_name': 'dg_m', 'tensor_id': 0, 'tensor_nickname': 'dg_m_0', 'space_id': 0, 'dim': d, 'is_dangling_end': True, 'side_original': 'out', 'side_space_id': 0, 'tensor_name_origonal': 'm'}\n",
      "\n",
      "{'tensor_name': 'b', 'tensor_id': 0, 'tensor_nickname': 'b_0', 'space_id': 1, 'dim': d, 'is_dangling_end': False, 'side_original': 'in', 'side_space_id': 0}\n",
      "<->\n",
      "{'tensor_name': 'dg_m', 'tensor_id': 5, 'tensor_nickname': 'dg_m_5', 'space_id': 0, 'dim': d, 'is_dangling_end': True, 'side_original': 'out', 'side_space_id': 0, 'tensor_name_origonal': 'm'}\n",
      "\n",
      "{'tensor_name': 'e', 'tensor_id': 0, 'tensor_nickname': 'e_0', 'space_id': 0, 'dim': d, 'is_dangling_end': False, 'side_original': 'out', 'side_space_id': 0}\n",
      "<->\n",
      "{'tensor_name': 'e', 'tensor_id': 0, 'tensor_nickname': 'e_0', 'space_id': 1, 'dim': d, 'is_dangling_end': False, 'side_original': 'in', 'side_space_id': 0}\n",
      "\n",
      "{'tensor_name': 'f', 'tensor_id': 0, 'tensor_nickname': 'f_0', 'space_id': 0, 'dim': d, 'is_dangling_end': False, 'side_original': 'out', 'side_space_id': 0}\n",
      "<->\n",
      "{'tensor_name': 'f', 'tensor_id': 0, 'tensor_nickname': 'f_0', 'space_id': 1, 'dim': d, 'is_dangling_end': False, 'side_original': 'in', 'side_space_id': 0}\n",
      "\n",
      "\n",
      "Weight:\n"
     ]
    },
    {
     "data": {
      "text/latex": [
       "$\\displaystyle \\frac{1}{144}$"
      ],
      "text/plain": [
       "1/144"
      ]
     },
     "metadata": {},
     "output_type": "display_data"
    },
    {
     "name": "stdout",
     "output_type": "stream",
     "text": [
      "\n",
      "Edges:\n",
      "{'tensor_name': 'a', 'tensor_id': 0, 'tensor_nickname': 'a_0', 'space_id': 0, 'dim': d, 'is_dangling_end': False, 'side_original': 'out', 'side_space_id': 0}\n",
      "<->\n",
      "{'tensor_name': 'c', 'tensor_id': 0, 'tensor_nickname': 'c_0', 'space_id': 1, 'dim': d, 'is_dangling_end': False, 'side_original': 'in', 'side_space_id': 0}\n",
      "\n",
      "{'tensor_name': 'a', 'tensor_id': 0, 'tensor_nickname': 'a_0', 'space_id': 1, 'dim': d, 'is_dangling_end': False, 'side_original': 'in', 'side_space_id': 0}\n",
      "<->\n",
      "{'tensor_name': 'f', 'tensor_id': 0, 'tensor_nickname': 'f_0', 'space_id': 0, 'dim': d, 'is_dangling_end': False, 'side_original': 'out', 'side_space_id': 0}\n",
      "\n",
      "{'tensor_name': 'b', 'tensor_id': 0, 'tensor_nickname': 'b_0', 'space_id': 0, 'dim': d, 'is_dangling_end': False, 'side_original': 'out', 'side_space_id': 0}\n",
      "<->\n",
      "{'tensor_name': 'dg_m', 'tensor_id': 0, 'tensor_nickname': 'dg_m_0', 'space_id': 0, 'dim': d, 'is_dangling_end': True, 'side_original': 'out', 'side_space_id': 0, 'tensor_name_origonal': 'm'}\n",
      "\n",
      "{'tensor_name': 'b', 'tensor_id': 0, 'tensor_nickname': 'b_0', 'space_id': 1, 'dim': d, 'is_dangling_end': False, 'side_original': 'in', 'side_space_id': 0}\n",
      "<->\n",
      "{'tensor_name': 'dg_m', 'tensor_id': 5, 'tensor_nickname': 'dg_m_5', 'space_id': 0, 'dim': d, 'is_dangling_end': True, 'side_original': 'out', 'side_space_id': 0, 'tensor_name_origonal': 'm'}\n",
      "\n",
      "{'tensor_name': 'c', 'tensor_id': 0, 'tensor_nickname': 'c_0', 'space_id': 0, 'dim': d, 'is_dangling_end': False, 'side_original': 'out', 'side_space_id': 0}\n",
      "<->\n",
      "{'tensor_name': 'f', 'tensor_id': 0, 'tensor_nickname': 'f_0', 'space_id': 1, 'dim': d, 'is_dangling_end': False, 'side_original': 'in', 'side_space_id': 0}\n",
      "\n",
      "{'tensor_name': 'e', 'tensor_id': 0, 'tensor_nickname': 'e_0', 'space_id': 0, 'dim': d, 'is_dangling_end': False, 'side_original': 'out', 'side_space_id': 0}\n",
      "<->\n",
      "{'tensor_name': 'e', 'tensor_id': 0, 'tensor_nickname': 'e_0', 'space_id': 1, 'dim': d, 'is_dangling_end': False, 'side_original': 'in', 'side_space_id': 0}\n",
      "\n",
      "\n",
      "Weight:\n"
     ]
    },
    {
     "data": {
      "text/latex": [
       "$\\displaystyle \\frac{1}{144}$"
      ],
      "text/plain": [
       "1/144"
      ]
     },
     "metadata": {},
     "output_type": "display_data"
    },
    {
     "name": "stdout",
     "output_type": "stream",
     "text": [
      "\n",
      "Edges:\n",
      "{'tensor_name': 'a', 'tensor_id': 0, 'tensor_nickname': 'a_0', 'space_id': 0, 'dim': d, 'is_dangling_end': False, 'side_original': 'out', 'side_space_id': 0}\n",
      "<->\n",
      "{'tensor_name': 'f', 'tensor_id': 0, 'tensor_nickname': 'f_0', 'space_id': 1, 'dim': d, 'is_dangling_end': False, 'side_original': 'in', 'side_space_id': 0}\n",
      "\n",
      "{'tensor_name': 'a', 'tensor_id': 0, 'tensor_nickname': 'a_0', 'space_id': 1, 'dim': d, 'is_dangling_end': False, 'side_original': 'in', 'side_space_id': 0}\n",
      "<->\n",
      "{'tensor_name': 'c', 'tensor_id': 0, 'tensor_nickname': 'c_0', 'space_id': 0, 'dim': d, 'is_dangling_end': False, 'side_original': 'out', 'side_space_id': 0}\n",
      "\n",
      "{'tensor_name': 'b', 'tensor_id': 0, 'tensor_nickname': 'b_0', 'space_id': 0, 'dim': d, 'is_dangling_end': False, 'side_original': 'out', 'side_space_id': 0}\n",
      "<->\n",
      "{'tensor_name': 'dg_m', 'tensor_id': 0, 'tensor_nickname': 'dg_m_0', 'space_id': 0, 'dim': d, 'is_dangling_end': True, 'side_original': 'out', 'side_space_id': 0, 'tensor_name_origonal': 'm'}\n",
      "\n",
      "{'tensor_name': 'b', 'tensor_id': 0, 'tensor_nickname': 'b_0', 'space_id': 1, 'dim': d, 'is_dangling_end': False, 'side_original': 'in', 'side_space_id': 0}\n",
      "<->\n",
      "{'tensor_name': 'dg_m', 'tensor_id': 5, 'tensor_nickname': 'dg_m_5', 'space_id': 0, 'dim': d, 'is_dangling_end': True, 'side_original': 'out', 'side_space_id': 0, 'tensor_name_origonal': 'm'}\n",
      "\n",
      "{'tensor_name': 'c', 'tensor_id': 0, 'tensor_nickname': 'c_0', 'space_id': 1, 'dim': d, 'is_dangling_end': False, 'side_original': 'in', 'side_space_id': 0}\n",
      "<->\n",
      "{'tensor_name': 'f', 'tensor_id': 0, 'tensor_nickname': 'f_0', 'space_id': 0, 'dim': d, 'is_dangling_end': False, 'side_original': 'out', 'side_space_id': 0}\n",
      "\n",
      "{'tensor_name': 'e', 'tensor_id': 0, 'tensor_nickname': 'e_0', 'space_id': 0, 'dim': d, 'is_dangling_end': False, 'side_original': 'out', 'side_space_id': 0}\n",
      "<->\n",
      "{'tensor_name': 'e', 'tensor_id': 0, 'tensor_nickname': 'e_0', 'space_id': 1, 'dim': d, 'is_dangling_end': False, 'side_original': 'in', 'side_space_id': 0}\n",
      "\n",
      "\n",
      "Weight:\n"
     ]
    },
    {
     "data": {
      "text/latex": [
       "$\\displaystyle - \\frac{7}{144}$"
      ],
      "text/plain": [
       "-7/144"
      ]
     },
     "metadata": {},
     "output_type": "display_data"
    },
    {
     "name": "stdout",
     "output_type": "stream",
     "text": [
      "\n",
      "Edges:\n",
      "{'tensor_name': 'a', 'tensor_id': 0, 'tensor_nickname': 'a_0', 'space_id': 0, 'dim': d, 'is_dangling_end': False, 'side_original': 'out', 'side_space_id': 0}\n",
      "<->\n",
      "{'tensor_name': 'f', 'tensor_id': 0, 'tensor_nickname': 'f_0', 'space_id': 1, 'dim': d, 'is_dangling_end': False, 'side_original': 'in', 'side_space_id': 0}\n",
      "\n",
      "{'tensor_name': 'a', 'tensor_id': 0, 'tensor_nickname': 'a_0', 'space_id': 1, 'dim': d, 'is_dangling_end': False, 'side_original': 'in', 'side_space_id': 0}\n",
      "<->\n",
      "{'tensor_name': 'f', 'tensor_id': 0, 'tensor_nickname': 'f_0', 'space_id': 0, 'dim': d, 'is_dangling_end': False, 'side_original': 'out', 'side_space_id': 0}\n",
      "\n",
      "{'tensor_name': 'b', 'tensor_id': 0, 'tensor_nickname': 'b_0', 'space_id': 0, 'dim': d, 'is_dangling_end': False, 'side_original': 'out', 'side_space_id': 0}\n",
      "<->\n",
      "{'tensor_name': 'dg_m', 'tensor_id': 0, 'tensor_nickname': 'dg_m_0', 'space_id': 0, 'dim': d, 'is_dangling_end': True, 'side_original': 'out', 'side_space_id': 0, 'tensor_name_origonal': 'm'}\n",
      "\n",
      "{'tensor_name': 'b', 'tensor_id': 0, 'tensor_nickname': 'b_0', 'space_id': 1, 'dim': d, 'is_dangling_end': False, 'side_original': 'in', 'side_space_id': 0}\n",
      "<->\n",
      "{'tensor_name': 'dg_m', 'tensor_id': 5, 'tensor_nickname': 'dg_m_5', 'space_id': 0, 'dim': d, 'is_dangling_end': True, 'side_original': 'out', 'side_space_id': 0, 'tensor_name_origonal': 'm'}\n",
      "\n",
      "{'tensor_name': 'c', 'tensor_id': 0, 'tensor_nickname': 'c_0', 'space_id': 0, 'dim': d, 'is_dangling_end': False, 'side_original': 'out', 'side_space_id': 0}\n",
      "<->\n",
      "{'tensor_name': 'c', 'tensor_id': 0, 'tensor_nickname': 'c_0', 'space_id': 1, 'dim': d, 'is_dangling_end': False, 'side_original': 'in', 'side_space_id': 0}\n",
      "\n",
      "{'tensor_name': 'e', 'tensor_id': 0, 'tensor_nickname': 'e_0', 'space_id': 0, 'dim': d, 'is_dangling_end': False, 'side_original': 'out', 'side_space_id': 0}\n",
      "<->\n",
      "{'tensor_name': 'e', 'tensor_id': 0, 'tensor_nickname': 'e_0', 'space_id': 1, 'dim': d, 'is_dangling_end': False, 'side_original': 'in', 'side_space_id': 0}\n",
      "\n",
      "\n",
      "Weight:\n"
     ]
    },
    {
     "data": {
      "text/latex": [
       "$\\displaystyle \\frac{1}{144}$"
      ],
      "text/plain": [
       "1/144"
      ]
     },
     "metadata": {},
     "output_type": "display_data"
    },
    {
     "name": "stdout",
     "output_type": "stream",
     "text": [
      "\n",
      "Edges:\n",
      "{'tensor_name': 'a', 'tensor_id': 0, 'tensor_nickname': 'a_0', 'space_id': 0, 'dim': d, 'is_dangling_end': False, 'side_original': 'out', 'side_space_id': 0}\n",
      "<->\n",
      "{'tensor_name': 'a', 'tensor_id': 0, 'tensor_nickname': 'a_0', 'space_id': 1, 'dim': d, 'is_dangling_end': False, 'side_original': 'in', 'side_space_id': 0}\n",
      "\n",
      "{'tensor_name': 'b', 'tensor_id': 0, 'tensor_nickname': 'b_0', 'space_id': 0, 'dim': d, 'is_dangling_end': False, 'side_original': 'out', 'side_space_id': 0}\n",
      "<->\n",
      "{'tensor_name': 'b', 'tensor_id': 0, 'tensor_nickname': 'b_0', 'space_id': 1, 'dim': d, 'is_dangling_end': False, 'side_original': 'in', 'side_space_id': 0}\n",
      "\n",
      "{'tensor_name': 'c', 'tensor_id': 0, 'tensor_nickname': 'c_0', 'space_id': 0, 'dim': d, 'is_dangling_end': False, 'side_original': 'out', 'side_space_id': 0}\n",
      "<->\n",
      "{'tensor_name': 'c', 'tensor_id': 0, 'tensor_nickname': 'c_0', 'space_id': 1, 'dim': d, 'is_dangling_end': False, 'side_original': 'in', 'side_space_id': 0}\n",
      "\n",
      "{'tensor_name': 'dg_m', 'tensor_id': 0, 'tensor_nickname': 'dg_m_0', 'space_id': 0, 'dim': d, 'is_dangling_end': True, 'side_original': 'out', 'side_space_id': 0, 'tensor_name_origonal': 'm'}\n",
      "<->\n",
      "{'tensor_name': 'e', 'tensor_id': 0, 'tensor_nickname': 'e_0', 'space_id': 0, 'dim': d, 'is_dangling_end': False, 'side_original': 'out', 'side_space_id': 0}\n",
      "\n",
      "{'tensor_name': 'dg_m', 'tensor_id': 5, 'tensor_nickname': 'dg_m_5', 'space_id': 0, 'dim': d, 'is_dangling_end': True, 'side_original': 'out', 'side_space_id': 0, 'tensor_name_origonal': 'm'}\n",
      "<->\n",
      "{'tensor_name': 'e', 'tensor_id': 0, 'tensor_nickname': 'e_0', 'space_id': 1, 'dim': d, 'is_dangling_end': False, 'side_original': 'in', 'side_space_id': 0}\n",
      "\n",
      "{'tensor_name': 'f', 'tensor_id': 0, 'tensor_nickname': 'f_0', 'space_id': 0, 'dim': d, 'is_dangling_end': False, 'side_original': 'out', 'side_space_id': 0}\n",
      "<->\n",
      "{'tensor_name': 'f', 'tensor_id': 0, 'tensor_nickname': 'f_0', 'space_id': 1, 'dim': d, 'is_dangling_end': False, 'side_original': 'in', 'side_space_id': 0}\n",
      "\n",
      "\n",
      "Weight:\n"
     ]
    },
    {
     "data": {
      "text/latex": [
       "$\\displaystyle - \\frac{7}{144}$"
      ],
      "text/plain": [
       "-7/144"
      ]
     },
     "metadata": {},
     "output_type": "display_data"
    },
    {
     "name": "stdout",
     "output_type": "stream",
     "text": [
      "\n",
      "Edges:\n",
      "{'tensor_name': 'a', 'tensor_id': 0, 'tensor_nickname': 'a_0', 'space_id': 0, 'dim': d, 'is_dangling_end': False, 'side_original': 'out', 'side_space_id': 0}\n",
      "<->\n",
      "{'tensor_name': 'a', 'tensor_id': 0, 'tensor_nickname': 'a_0', 'space_id': 1, 'dim': d, 'is_dangling_end': False, 'side_original': 'in', 'side_space_id': 0}\n",
      "\n",
      "{'tensor_name': 'b', 'tensor_id': 0, 'tensor_nickname': 'b_0', 'space_id': 0, 'dim': d, 'is_dangling_end': False, 'side_original': 'out', 'side_space_id': 0}\n",
      "<->\n",
      "{'tensor_name': 'b', 'tensor_id': 0, 'tensor_nickname': 'b_0', 'space_id': 1, 'dim': d, 'is_dangling_end': False, 'side_original': 'in', 'side_space_id': 0}\n",
      "\n",
      "{'tensor_name': 'c', 'tensor_id': 0, 'tensor_nickname': 'c_0', 'space_id': 0, 'dim': d, 'is_dangling_end': False, 'side_original': 'out', 'side_space_id': 0}\n",
      "<->\n",
      "{'tensor_name': 'f', 'tensor_id': 0, 'tensor_nickname': 'f_0', 'space_id': 1, 'dim': d, 'is_dangling_end': False, 'side_original': 'in', 'side_space_id': 0}\n",
      "\n",
      "{'tensor_name': 'c', 'tensor_id': 0, 'tensor_nickname': 'c_0', 'space_id': 1, 'dim': d, 'is_dangling_end': False, 'side_original': 'in', 'side_space_id': 0}\n",
      "<->\n",
      "{'tensor_name': 'f', 'tensor_id': 0, 'tensor_nickname': 'f_0', 'space_id': 0, 'dim': d, 'is_dangling_end': False, 'side_original': 'out', 'side_space_id': 0}\n",
      "\n",
      "{'tensor_name': 'dg_m', 'tensor_id': 0, 'tensor_nickname': 'dg_m_0', 'space_id': 0, 'dim': d, 'is_dangling_end': True, 'side_original': 'out', 'side_space_id': 0, 'tensor_name_origonal': 'm'}\n",
      "<->\n",
      "{'tensor_name': 'e', 'tensor_id': 0, 'tensor_nickname': 'e_0', 'space_id': 0, 'dim': d, 'is_dangling_end': False, 'side_original': 'out', 'side_space_id': 0}\n",
      "\n",
      "{'tensor_name': 'dg_m', 'tensor_id': 5, 'tensor_nickname': 'dg_m_5', 'space_id': 0, 'dim': d, 'is_dangling_end': True, 'side_original': 'out', 'side_space_id': 0, 'tensor_name_origonal': 'm'}\n",
      "<->\n",
      "{'tensor_name': 'e', 'tensor_id': 0, 'tensor_nickname': 'e_0', 'space_id': 1, 'dim': d, 'is_dangling_end': False, 'side_original': 'in', 'side_space_id': 0}\n",
      "\n",
      "\n",
      "Weight:\n"
     ]
    },
    {
     "data": {
      "text/latex": [
       "$\\displaystyle \\frac{17}{144}$"
      ],
      "text/plain": [
       "17/144"
      ]
     },
     "metadata": {},
     "output_type": "display_data"
    },
    {
     "name": "stdout",
     "output_type": "stream",
     "text": [
      "\n",
      "Edges:\n",
      "{'tensor_name': 'a', 'tensor_id': 0, 'tensor_nickname': 'a_0', 'space_id': 0, 'dim': d, 'is_dangling_end': False, 'side_original': 'out', 'side_space_id': 0}\n",
      "<->\n",
      "{'tensor_name': 'c', 'tensor_id': 0, 'tensor_nickname': 'c_0', 'space_id': 1, 'dim': d, 'is_dangling_end': False, 'side_original': 'in', 'side_space_id': 0}\n",
      "\n",
      "{'tensor_name': 'a', 'tensor_id': 0, 'tensor_nickname': 'a_0', 'space_id': 1, 'dim': d, 'is_dangling_end': False, 'side_original': 'in', 'side_space_id': 0}\n",
      "<->\n",
      "{'tensor_name': 'c', 'tensor_id': 0, 'tensor_nickname': 'c_0', 'space_id': 0, 'dim': d, 'is_dangling_end': False, 'side_original': 'out', 'side_space_id': 0}\n",
      "\n",
      "{'tensor_name': 'b', 'tensor_id': 0, 'tensor_nickname': 'b_0', 'space_id': 0, 'dim': d, 'is_dangling_end': False, 'side_original': 'out', 'side_space_id': 0}\n",
      "<->\n",
      "{'tensor_name': 'b', 'tensor_id': 0, 'tensor_nickname': 'b_0', 'space_id': 1, 'dim': d, 'is_dangling_end': False, 'side_original': 'in', 'side_space_id': 0}\n",
      "\n",
      "{'tensor_name': 'dg_m', 'tensor_id': 0, 'tensor_nickname': 'dg_m_0', 'space_id': 0, 'dim': d, 'is_dangling_end': True, 'side_original': 'out', 'side_space_id': 0, 'tensor_name_origonal': 'm'}\n",
      "<->\n",
      "{'tensor_name': 'e', 'tensor_id': 0, 'tensor_nickname': 'e_0', 'space_id': 0, 'dim': d, 'is_dangling_end': False, 'side_original': 'out', 'side_space_id': 0}\n",
      "\n",
      "{'tensor_name': 'dg_m', 'tensor_id': 5, 'tensor_nickname': 'dg_m_5', 'space_id': 0, 'dim': d, 'is_dangling_end': True, 'side_original': 'out', 'side_space_id': 0, 'tensor_name_origonal': 'm'}\n",
      "<->\n",
      "{'tensor_name': 'e', 'tensor_id': 0, 'tensor_nickname': 'e_0', 'space_id': 1, 'dim': d, 'is_dangling_end': False, 'side_original': 'in', 'side_space_id': 0}\n",
      "\n",
      "{'tensor_name': 'f', 'tensor_id': 0, 'tensor_nickname': 'f_0', 'space_id': 0, 'dim': d, 'is_dangling_end': False, 'side_original': 'out', 'side_space_id': 0}\n",
      "<->\n",
      "{'tensor_name': 'f', 'tensor_id': 0, 'tensor_nickname': 'f_0', 'space_id': 1, 'dim': d, 'is_dangling_end': False, 'side_original': 'in', 'side_space_id': 0}\n",
      "\n",
      "\n",
      "Weight:\n"
     ]
    },
    {
     "data": {
      "text/latex": [
       "$\\displaystyle \\frac{1}{144}$"
      ],
      "text/plain": [
       "1/144"
      ]
     },
     "metadata": {},
     "output_type": "display_data"
    },
    {
     "name": "stdout",
     "output_type": "stream",
     "text": [
      "\n",
      "Edges:\n",
      "{'tensor_name': 'a', 'tensor_id': 0, 'tensor_nickname': 'a_0', 'space_id': 0, 'dim': d, 'is_dangling_end': False, 'side_original': 'out', 'side_space_id': 0}\n",
      "<->\n",
      "{'tensor_name': 'c', 'tensor_id': 0, 'tensor_nickname': 'c_0', 'space_id': 1, 'dim': d, 'is_dangling_end': False, 'side_original': 'in', 'side_space_id': 0}\n",
      "\n",
      "{'tensor_name': 'a', 'tensor_id': 0, 'tensor_nickname': 'a_0', 'space_id': 1, 'dim': d, 'is_dangling_end': False, 'side_original': 'in', 'side_space_id': 0}\n",
      "<->\n",
      "{'tensor_name': 'f', 'tensor_id': 0, 'tensor_nickname': 'f_0', 'space_id': 0, 'dim': d, 'is_dangling_end': False, 'side_original': 'out', 'side_space_id': 0}\n",
      "\n",
      "{'tensor_name': 'b', 'tensor_id': 0, 'tensor_nickname': 'b_0', 'space_id': 0, 'dim': d, 'is_dangling_end': False, 'side_original': 'out', 'side_space_id': 0}\n",
      "<->\n",
      "{'tensor_name': 'b', 'tensor_id': 0, 'tensor_nickname': 'b_0', 'space_id': 1, 'dim': d, 'is_dangling_end': False, 'side_original': 'in', 'side_space_id': 0}\n",
      "\n",
      "{'tensor_name': 'c', 'tensor_id': 0, 'tensor_nickname': 'c_0', 'space_id': 0, 'dim': d, 'is_dangling_end': False, 'side_original': 'out', 'side_space_id': 0}\n",
      "<->\n",
      "{'tensor_name': 'f', 'tensor_id': 0, 'tensor_nickname': 'f_0', 'space_id': 1, 'dim': d, 'is_dangling_end': False, 'side_original': 'in', 'side_space_id': 0}\n",
      "\n",
      "{'tensor_name': 'dg_m', 'tensor_id': 0, 'tensor_nickname': 'dg_m_0', 'space_id': 0, 'dim': d, 'is_dangling_end': True, 'side_original': 'out', 'side_space_id': 0, 'tensor_name_origonal': 'm'}\n",
      "<->\n",
      "{'tensor_name': 'e', 'tensor_id': 0, 'tensor_nickname': 'e_0', 'space_id': 0, 'dim': d, 'is_dangling_end': False, 'side_original': 'out', 'side_space_id': 0}\n",
      "\n",
      "{'tensor_name': 'dg_m', 'tensor_id': 5, 'tensor_nickname': 'dg_m_5', 'space_id': 0, 'dim': d, 'is_dangling_end': True, 'side_original': 'out', 'side_space_id': 0, 'tensor_name_origonal': 'm'}\n",
      "<->\n",
      "{'tensor_name': 'e', 'tensor_id': 0, 'tensor_nickname': 'e_0', 'space_id': 1, 'dim': d, 'is_dangling_end': False, 'side_original': 'in', 'side_space_id': 0}\n",
      "\n",
      "\n",
      "Weight:\n"
     ]
    },
    {
     "data": {
      "text/latex": [
       "$\\displaystyle \\frac{1}{144}$"
      ],
      "text/plain": [
       "1/144"
      ]
     },
     "metadata": {},
     "output_type": "display_data"
    },
    {
     "name": "stdout",
     "output_type": "stream",
     "text": [
      "\n",
      "Edges:\n",
      "{'tensor_name': 'a', 'tensor_id': 0, 'tensor_nickname': 'a_0', 'space_id': 0, 'dim': d, 'is_dangling_end': False, 'side_original': 'out', 'side_space_id': 0}\n",
      "<->\n",
      "{'tensor_name': 'f', 'tensor_id': 0, 'tensor_nickname': 'f_0', 'space_id': 1, 'dim': d, 'is_dangling_end': False, 'side_original': 'in', 'side_space_id': 0}\n",
      "\n",
      "{'tensor_name': 'a', 'tensor_id': 0, 'tensor_nickname': 'a_0', 'space_id': 1, 'dim': d, 'is_dangling_end': False, 'side_original': 'in', 'side_space_id': 0}\n",
      "<->\n",
      "{'tensor_name': 'c', 'tensor_id': 0, 'tensor_nickname': 'c_0', 'space_id': 0, 'dim': d, 'is_dangling_end': False, 'side_original': 'out', 'side_space_id': 0}\n",
      "\n",
      "{'tensor_name': 'b', 'tensor_id': 0, 'tensor_nickname': 'b_0', 'space_id': 0, 'dim': d, 'is_dangling_end': False, 'side_original': 'out', 'side_space_id': 0}\n",
      "<->\n",
      "{'tensor_name': 'b', 'tensor_id': 0, 'tensor_nickname': 'b_0', 'space_id': 1, 'dim': d, 'is_dangling_end': False, 'side_original': 'in', 'side_space_id': 0}\n",
      "\n",
      "{'tensor_name': 'c', 'tensor_id': 0, 'tensor_nickname': 'c_0', 'space_id': 1, 'dim': d, 'is_dangling_end': False, 'side_original': 'in', 'side_space_id': 0}\n",
      "<->\n",
      "{'tensor_name': 'f', 'tensor_id': 0, 'tensor_nickname': 'f_0', 'space_id': 0, 'dim': d, 'is_dangling_end': False, 'side_original': 'out', 'side_space_id': 0}\n",
      "\n",
      "{'tensor_name': 'dg_m', 'tensor_id': 0, 'tensor_nickname': 'dg_m_0', 'space_id': 0, 'dim': d, 'is_dangling_end': True, 'side_original': 'out', 'side_space_id': 0, 'tensor_name_origonal': 'm'}\n",
      "<->\n",
      "{'tensor_name': 'e', 'tensor_id': 0, 'tensor_nickname': 'e_0', 'space_id': 0, 'dim': d, 'is_dangling_end': False, 'side_original': 'out', 'side_space_id': 0}\n",
      "\n",
      "{'tensor_name': 'dg_m', 'tensor_id': 5, 'tensor_nickname': 'dg_m_5', 'space_id': 0, 'dim': d, 'is_dangling_end': True, 'side_original': 'out', 'side_space_id': 0, 'tensor_name_origonal': 'm'}\n",
      "<->\n",
      "{'tensor_name': 'e', 'tensor_id': 0, 'tensor_nickname': 'e_0', 'space_id': 1, 'dim': d, 'is_dangling_end': False, 'side_original': 'in', 'side_space_id': 0}\n",
      "\n",
      "\n",
      "Weight:\n"
     ]
    },
    {
     "data": {
      "text/latex": [
       "$\\displaystyle - \\frac{7}{144}$"
      ],
      "text/plain": [
       "-7/144"
      ]
     },
     "metadata": {},
     "output_type": "display_data"
    },
    {
     "name": "stdout",
     "output_type": "stream",
     "text": [
      "\n",
      "Edges:\n",
      "{'tensor_name': 'a', 'tensor_id': 0, 'tensor_nickname': 'a_0', 'space_id': 0, 'dim': d, 'is_dangling_end': False, 'side_original': 'out', 'side_space_id': 0}\n",
      "<->\n",
      "{'tensor_name': 'f', 'tensor_id': 0, 'tensor_nickname': 'f_0', 'space_id': 1, 'dim': d, 'is_dangling_end': False, 'side_original': 'in', 'side_space_id': 0}\n",
      "\n",
      "{'tensor_name': 'a', 'tensor_id': 0, 'tensor_nickname': 'a_0', 'space_id': 1, 'dim': d, 'is_dangling_end': False, 'side_original': 'in', 'side_space_id': 0}\n",
      "<->\n",
      "{'tensor_name': 'f', 'tensor_id': 0, 'tensor_nickname': 'f_0', 'space_id': 0, 'dim': d, 'is_dangling_end': False, 'side_original': 'out', 'side_space_id': 0}\n",
      "\n",
      "{'tensor_name': 'b', 'tensor_id': 0, 'tensor_nickname': 'b_0', 'space_id': 0, 'dim': d, 'is_dangling_end': False, 'side_original': 'out', 'side_space_id': 0}\n",
      "<->\n",
      "{'tensor_name': 'b', 'tensor_id': 0, 'tensor_nickname': 'b_0', 'space_id': 1, 'dim': d, 'is_dangling_end': False, 'side_original': 'in', 'side_space_id': 0}\n",
      "\n",
      "{'tensor_name': 'c', 'tensor_id': 0, 'tensor_nickname': 'c_0', 'space_id': 0, 'dim': d, 'is_dangling_end': False, 'side_original': 'out', 'side_space_id': 0}\n",
      "<->\n",
      "{'tensor_name': 'c', 'tensor_id': 0, 'tensor_nickname': 'c_0', 'space_id': 1, 'dim': d, 'is_dangling_end': False, 'side_original': 'in', 'side_space_id': 0}\n",
      "\n",
      "{'tensor_name': 'dg_m', 'tensor_id': 0, 'tensor_nickname': 'dg_m_0', 'space_id': 0, 'dim': d, 'is_dangling_end': True, 'side_original': 'out', 'side_space_id': 0, 'tensor_name_origonal': 'm'}\n",
      "<->\n",
      "{'tensor_name': 'e', 'tensor_id': 0, 'tensor_nickname': 'e_0', 'space_id': 0, 'dim': d, 'is_dangling_end': False, 'side_original': 'out', 'side_space_id': 0}\n",
      "\n",
      "{'tensor_name': 'dg_m', 'tensor_id': 5, 'tensor_nickname': 'dg_m_5', 'space_id': 0, 'dim': d, 'is_dangling_end': True, 'side_original': 'out', 'side_space_id': 0, 'tensor_name_origonal': 'm'}\n",
      "<->\n",
      "{'tensor_name': 'e', 'tensor_id': 0, 'tensor_nickname': 'e_0', 'space_id': 1, 'dim': d, 'is_dangling_end': False, 'side_original': 'in', 'side_space_id': 0}\n",
      "\n",
      "\n",
      "Weight:\n"
     ]
    },
    {
     "data": {
      "text/latex": [
       "$\\displaystyle - \\frac{7}{144}$"
      ],
      "text/plain": [
       "-7/144"
      ]
     },
     "metadata": {},
     "output_type": "display_data"
    },
    {
     "name": "stdout",
     "output_type": "stream",
     "text": [
      "\n",
      "Edges:\n",
      "{'tensor_name': 'a', 'tensor_id': 0, 'tensor_nickname': 'a_0', 'space_id': 0, 'dim': d, 'is_dangling_end': False, 'side_original': 'out', 'side_space_id': 0}\n",
      "<->\n",
      "{'tensor_name': 'a', 'tensor_id': 0, 'tensor_nickname': 'a_0', 'space_id': 1, 'dim': d, 'is_dangling_end': False, 'side_original': 'in', 'side_space_id': 0}\n",
      "\n",
      "{'tensor_name': 'b', 'tensor_id': 0, 'tensor_nickname': 'b_0', 'space_id': 0, 'dim': d, 'is_dangling_end': False, 'side_original': 'out', 'side_space_id': 0}\n",
      "<->\n",
      "{'tensor_name': 'e', 'tensor_id': 0, 'tensor_nickname': 'e_0', 'space_id': 1, 'dim': d, 'is_dangling_end': False, 'side_original': 'in', 'side_space_id': 0}\n",
      "\n",
      "{'tensor_name': 'b', 'tensor_id': 0, 'tensor_nickname': 'b_0', 'space_id': 1, 'dim': d, 'is_dangling_end': False, 'side_original': 'in', 'side_space_id': 0}\n",
      "<->\n",
      "{'tensor_name': 'dg_m', 'tensor_id': 5, 'tensor_nickname': 'dg_m_5', 'space_id': 0, 'dim': d, 'is_dangling_end': True, 'side_original': 'out', 'side_space_id': 0, 'tensor_name_origonal': 'm'}\n",
      "\n",
      "{'tensor_name': 'c', 'tensor_id': 0, 'tensor_nickname': 'c_0', 'space_id': 0, 'dim': d, 'is_dangling_end': False, 'side_original': 'out', 'side_space_id': 0}\n",
      "<->\n",
      "{'tensor_name': 'c', 'tensor_id': 0, 'tensor_nickname': 'c_0', 'space_id': 1, 'dim': d, 'is_dangling_end': False, 'side_original': 'in', 'side_space_id': 0}\n",
      "\n",
      "{'tensor_name': 'dg_m', 'tensor_id': 0, 'tensor_nickname': 'dg_m_0', 'space_id': 0, 'dim': d, 'is_dangling_end': True, 'side_original': 'out', 'side_space_id': 0, 'tensor_name_origonal': 'm'}\n",
      "<->\n",
      "{'tensor_name': 'e', 'tensor_id': 0, 'tensor_nickname': 'e_0', 'space_id': 0, 'dim': d, 'is_dangling_end': False, 'side_original': 'out', 'side_space_id': 0}\n",
      "\n",
      "{'tensor_name': 'f', 'tensor_id': 0, 'tensor_nickname': 'f_0', 'space_id': 0, 'dim': d, 'is_dangling_end': False, 'side_original': 'out', 'side_space_id': 0}\n",
      "<->\n",
      "{'tensor_name': 'f', 'tensor_id': 0, 'tensor_nickname': 'f_0', 'space_id': 1, 'dim': d, 'is_dangling_end': False, 'side_original': 'in', 'side_space_id': 0}\n",
      "\n",
      "\n",
      "Weight:\n"
     ]
    },
    {
     "data": {
      "text/latex": [
       "$\\displaystyle \\frac{1}{144}$"
      ],
      "text/plain": [
       "1/144"
      ]
     },
     "metadata": {},
     "output_type": "display_data"
    },
    {
     "name": "stdout",
     "output_type": "stream",
     "text": [
      "\n",
      "Edges:\n",
      "{'tensor_name': 'a', 'tensor_id': 0, 'tensor_nickname': 'a_0', 'space_id': 0, 'dim': d, 'is_dangling_end': False, 'side_original': 'out', 'side_space_id': 0}\n",
      "<->\n",
      "{'tensor_name': 'a', 'tensor_id': 0, 'tensor_nickname': 'a_0', 'space_id': 1, 'dim': d, 'is_dangling_end': False, 'side_original': 'in', 'side_space_id': 0}\n",
      "\n",
      "{'tensor_name': 'b', 'tensor_id': 0, 'tensor_nickname': 'b_0', 'space_id': 0, 'dim': d, 'is_dangling_end': False, 'side_original': 'out', 'side_space_id': 0}\n",
      "<->\n",
      "{'tensor_name': 'e', 'tensor_id': 0, 'tensor_nickname': 'e_0', 'space_id': 1, 'dim': d, 'is_dangling_end': False, 'side_original': 'in', 'side_space_id': 0}\n",
      "\n",
      "{'tensor_name': 'b', 'tensor_id': 0, 'tensor_nickname': 'b_0', 'space_id': 1, 'dim': d, 'is_dangling_end': False, 'side_original': 'in', 'side_space_id': 0}\n",
      "<->\n",
      "{'tensor_name': 'dg_m', 'tensor_id': 5, 'tensor_nickname': 'dg_m_5', 'space_id': 0, 'dim': d, 'is_dangling_end': True, 'side_original': 'out', 'side_space_id': 0, 'tensor_name_origonal': 'm'}\n",
      "\n",
      "{'tensor_name': 'c', 'tensor_id': 0, 'tensor_nickname': 'c_0', 'space_id': 0, 'dim': d, 'is_dangling_end': False, 'side_original': 'out', 'side_space_id': 0}\n",
      "<->\n",
      "{'tensor_name': 'f', 'tensor_id': 0, 'tensor_nickname': 'f_0', 'space_id': 1, 'dim': d, 'is_dangling_end': False, 'side_original': 'in', 'side_space_id': 0}\n",
      "\n",
      "{'tensor_name': 'c', 'tensor_id': 0, 'tensor_nickname': 'c_0', 'space_id': 1, 'dim': d, 'is_dangling_end': False, 'side_original': 'in', 'side_space_id': 0}\n",
      "<->\n",
      "{'tensor_name': 'f', 'tensor_id': 0, 'tensor_nickname': 'f_0', 'space_id': 0, 'dim': d, 'is_dangling_end': False, 'side_original': 'out', 'side_space_id': 0}\n",
      "\n",
      "{'tensor_name': 'dg_m', 'tensor_id': 0, 'tensor_nickname': 'dg_m_0', 'space_id': 0, 'dim': d, 'is_dangling_end': True, 'side_original': 'out', 'side_space_id': 0, 'tensor_name_origonal': 'm'}\n",
      "<->\n",
      "{'tensor_name': 'e', 'tensor_id': 0, 'tensor_nickname': 'e_0', 'space_id': 0, 'dim': d, 'is_dangling_end': False, 'side_original': 'out', 'side_space_id': 0}\n",
      "\n",
      "\n",
      "Weight:\n"
     ]
    },
    {
     "data": {
      "text/latex": [
       "$\\displaystyle \\frac{1}{144}$"
      ],
      "text/plain": [
       "1/144"
      ]
     },
     "metadata": {},
     "output_type": "display_data"
    },
    {
     "name": "stdout",
     "output_type": "stream",
     "text": [
      "\n",
      "Edges:\n",
      "{'tensor_name': 'a', 'tensor_id': 0, 'tensor_nickname': 'a_0', 'space_id': 0, 'dim': d, 'is_dangling_end': False, 'side_original': 'out', 'side_space_id': 0}\n",
      "<->\n",
      "{'tensor_name': 'c', 'tensor_id': 0, 'tensor_nickname': 'c_0', 'space_id': 1, 'dim': d, 'is_dangling_end': False, 'side_original': 'in', 'side_space_id': 0}\n",
      "\n",
      "{'tensor_name': 'a', 'tensor_id': 0, 'tensor_nickname': 'a_0', 'space_id': 1, 'dim': d, 'is_dangling_end': False, 'side_original': 'in', 'side_space_id': 0}\n",
      "<->\n",
      "{'tensor_name': 'c', 'tensor_id': 0, 'tensor_nickname': 'c_0', 'space_id': 0, 'dim': d, 'is_dangling_end': False, 'side_original': 'out', 'side_space_id': 0}\n",
      "\n",
      "{'tensor_name': 'b', 'tensor_id': 0, 'tensor_nickname': 'b_0', 'space_id': 0, 'dim': d, 'is_dangling_end': False, 'side_original': 'out', 'side_space_id': 0}\n",
      "<->\n",
      "{'tensor_name': 'e', 'tensor_id': 0, 'tensor_nickname': 'e_0', 'space_id': 1, 'dim': d, 'is_dangling_end': False, 'side_original': 'in', 'side_space_id': 0}\n",
      "\n",
      "{'tensor_name': 'b', 'tensor_id': 0, 'tensor_nickname': 'b_0', 'space_id': 1, 'dim': d, 'is_dangling_end': False, 'side_original': 'in', 'side_space_id': 0}\n",
      "<->\n",
      "{'tensor_name': 'dg_m', 'tensor_id': 5, 'tensor_nickname': 'dg_m_5', 'space_id': 0, 'dim': d, 'is_dangling_end': True, 'side_original': 'out', 'side_space_id': 0, 'tensor_name_origonal': 'm'}\n",
      "\n",
      "{'tensor_name': 'dg_m', 'tensor_id': 0, 'tensor_nickname': 'dg_m_0', 'space_id': 0, 'dim': d, 'is_dangling_end': True, 'side_original': 'out', 'side_space_id': 0, 'tensor_name_origonal': 'm'}\n",
      "<->\n",
      "{'tensor_name': 'e', 'tensor_id': 0, 'tensor_nickname': 'e_0', 'space_id': 0, 'dim': d, 'is_dangling_end': False, 'side_original': 'out', 'side_space_id': 0}\n",
      "\n",
      "{'tensor_name': 'f', 'tensor_id': 0, 'tensor_nickname': 'f_0', 'space_id': 0, 'dim': d, 'is_dangling_end': False, 'side_original': 'out', 'side_space_id': 0}\n",
      "<->\n",
      "{'tensor_name': 'f', 'tensor_id': 0, 'tensor_nickname': 'f_0', 'space_id': 1, 'dim': d, 'is_dangling_end': False, 'side_original': 'in', 'side_space_id': 0}\n",
      "\n",
      "\n",
      "Weight:\n"
     ]
    },
    {
     "data": {
      "text/latex": [
       "$\\displaystyle \\frac{17}{144}$"
      ],
      "text/plain": [
       "17/144"
      ]
     },
     "metadata": {},
     "output_type": "display_data"
    },
    {
     "name": "stdout",
     "output_type": "stream",
     "text": [
      "\n",
      "Edges:\n",
      "{'tensor_name': 'a', 'tensor_id': 0, 'tensor_nickname': 'a_0', 'space_id': 0, 'dim': d, 'is_dangling_end': False, 'side_original': 'out', 'side_space_id': 0}\n",
      "<->\n",
      "{'tensor_name': 'c', 'tensor_id': 0, 'tensor_nickname': 'c_0', 'space_id': 1, 'dim': d, 'is_dangling_end': False, 'side_original': 'in', 'side_space_id': 0}\n",
      "\n",
      "{'tensor_name': 'a', 'tensor_id': 0, 'tensor_nickname': 'a_0', 'space_id': 1, 'dim': d, 'is_dangling_end': False, 'side_original': 'in', 'side_space_id': 0}\n",
      "<->\n",
      "{'tensor_name': 'f', 'tensor_id': 0, 'tensor_nickname': 'f_0', 'space_id': 0, 'dim': d, 'is_dangling_end': False, 'side_original': 'out', 'side_space_id': 0}\n",
      "\n",
      "{'tensor_name': 'b', 'tensor_id': 0, 'tensor_nickname': 'b_0', 'space_id': 0, 'dim': d, 'is_dangling_end': False, 'side_original': 'out', 'side_space_id': 0}\n",
      "<->\n",
      "{'tensor_name': 'e', 'tensor_id': 0, 'tensor_nickname': 'e_0', 'space_id': 1, 'dim': d, 'is_dangling_end': False, 'side_original': 'in', 'side_space_id': 0}\n",
      "\n",
      "{'tensor_name': 'b', 'tensor_id': 0, 'tensor_nickname': 'b_0', 'space_id': 1, 'dim': d, 'is_dangling_end': False, 'side_original': 'in', 'side_space_id': 0}\n",
      "<->\n",
      "{'tensor_name': 'dg_m', 'tensor_id': 5, 'tensor_nickname': 'dg_m_5', 'space_id': 0, 'dim': d, 'is_dangling_end': True, 'side_original': 'out', 'side_space_id': 0, 'tensor_name_origonal': 'm'}\n",
      "\n",
      "{'tensor_name': 'c', 'tensor_id': 0, 'tensor_nickname': 'c_0', 'space_id': 0, 'dim': d, 'is_dangling_end': False, 'side_original': 'out', 'side_space_id': 0}\n",
      "<->\n",
      "{'tensor_name': 'f', 'tensor_id': 0, 'tensor_nickname': 'f_0', 'space_id': 1, 'dim': d, 'is_dangling_end': False, 'side_original': 'in', 'side_space_id': 0}\n",
      "\n",
      "{'tensor_name': 'dg_m', 'tensor_id': 0, 'tensor_nickname': 'dg_m_0', 'space_id': 0, 'dim': d, 'is_dangling_end': True, 'side_original': 'out', 'side_space_id': 0, 'tensor_name_origonal': 'm'}\n",
      "<->\n",
      "{'tensor_name': 'e', 'tensor_id': 0, 'tensor_nickname': 'e_0', 'space_id': 0, 'dim': d, 'is_dangling_end': False, 'side_original': 'out', 'side_space_id': 0}\n",
      "\n",
      "\n",
      "Weight:\n"
     ]
    },
    {
     "data": {
      "text/latex": [
       "$\\displaystyle - \\frac{7}{144}$"
      ],
      "text/plain": [
       "-7/144"
      ]
     },
     "metadata": {},
     "output_type": "display_data"
    },
    {
     "name": "stdout",
     "output_type": "stream",
     "text": [
      "\n",
      "Edges:\n",
      "{'tensor_name': 'a', 'tensor_id': 0, 'tensor_nickname': 'a_0', 'space_id': 0, 'dim': d, 'is_dangling_end': False, 'side_original': 'out', 'side_space_id': 0}\n",
      "<->\n",
      "{'tensor_name': 'f', 'tensor_id': 0, 'tensor_nickname': 'f_0', 'space_id': 1, 'dim': d, 'is_dangling_end': False, 'side_original': 'in', 'side_space_id': 0}\n",
      "\n",
      "{'tensor_name': 'a', 'tensor_id': 0, 'tensor_nickname': 'a_0', 'space_id': 1, 'dim': d, 'is_dangling_end': False, 'side_original': 'in', 'side_space_id': 0}\n",
      "<->\n",
      "{'tensor_name': 'c', 'tensor_id': 0, 'tensor_nickname': 'c_0', 'space_id': 0, 'dim': d, 'is_dangling_end': False, 'side_original': 'out', 'side_space_id': 0}\n",
      "\n",
      "{'tensor_name': 'b', 'tensor_id': 0, 'tensor_nickname': 'b_0', 'space_id': 0, 'dim': d, 'is_dangling_end': False, 'side_original': 'out', 'side_space_id': 0}\n",
      "<->\n",
      "{'tensor_name': 'e', 'tensor_id': 0, 'tensor_nickname': 'e_0', 'space_id': 1, 'dim': d, 'is_dangling_end': False, 'side_original': 'in', 'side_space_id': 0}\n",
      "\n",
      "{'tensor_name': 'b', 'tensor_id': 0, 'tensor_nickname': 'b_0', 'space_id': 1, 'dim': d, 'is_dangling_end': False, 'side_original': 'in', 'side_space_id': 0}\n",
      "<->\n",
      "{'tensor_name': 'dg_m', 'tensor_id': 5, 'tensor_nickname': 'dg_m_5', 'space_id': 0, 'dim': d, 'is_dangling_end': True, 'side_original': 'out', 'side_space_id': 0, 'tensor_name_origonal': 'm'}\n",
      "\n",
      "{'tensor_name': 'c', 'tensor_id': 0, 'tensor_nickname': 'c_0', 'space_id': 1, 'dim': d, 'is_dangling_end': False, 'side_original': 'in', 'side_space_id': 0}\n",
      "<->\n",
      "{'tensor_name': 'f', 'tensor_id': 0, 'tensor_nickname': 'f_0', 'space_id': 0, 'dim': d, 'is_dangling_end': False, 'side_original': 'out', 'side_space_id': 0}\n",
      "\n",
      "{'tensor_name': 'dg_m', 'tensor_id': 0, 'tensor_nickname': 'dg_m_0', 'space_id': 0, 'dim': d, 'is_dangling_end': True, 'side_original': 'out', 'side_space_id': 0, 'tensor_name_origonal': 'm'}\n",
      "<->\n",
      "{'tensor_name': 'e', 'tensor_id': 0, 'tensor_nickname': 'e_0', 'space_id': 0, 'dim': d, 'is_dangling_end': False, 'side_original': 'out', 'side_space_id': 0}\n",
      "\n",
      "\n",
      "Weight:\n"
     ]
    },
    {
     "data": {
      "text/latex": [
       "$\\displaystyle \\frac{1}{144}$"
      ],
      "text/plain": [
       "1/144"
      ]
     },
     "metadata": {},
     "output_type": "display_data"
    },
    {
     "name": "stdout",
     "output_type": "stream",
     "text": [
      "\n",
      "Edges:\n",
      "{'tensor_name': 'a', 'tensor_id': 0, 'tensor_nickname': 'a_0', 'space_id': 0, 'dim': d, 'is_dangling_end': False, 'side_original': 'out', 'side_space_id': 0}\n",
      "<->\n",
      "{'tensor_name': 'f', 'tensor_id': 0, 'tensor_nickname': 'f_0', 'space_id': 1, 'dim': d, 'is_dangling_end': False, 'side_original': 'in', 'side_space_id': 0}\n",
      "\n",
      "{'tensor_name': 'a', 'tensor_id': 0, 'tensor_nickname': 'a_0', 'space_id': 1, 'dim': d, 'is_dangling_end': False, 'side_original': 'in', 'side_space_id': 0}\n",
      "<->\n",
      "{'tensor_name': 'f', 'tensor_id': 0, 'tensor_nickname': 'f_0', 'space_id': 0, 'dim': d, 'is_dangling_end': False, 'side_original': 'out', 'side_space_id': 0}\n",
      "\n",
      "{'tensor_name': 'b', 'tensor_id': 0, 'tensor_nickname': 'b_0', 'space_id': 0, 'dim': d, 'is_dangling_end': False, 'side_original': 'out', 'side_space_id': 0}\n",
      "<->\n",
      "{'tensor_name': 'e', 'tensor_id': 0, 'tensor_nickname': 'e_0', 'space_id': 1, 'dim': d, 'is_dangling_end': False, 'side_original': 'in', 'side_space_id': 0}\n",
      "\n",
      "{'tensor_name': 'b', 'tensor_id': 0, 'tensor_nickname': 'b_0', 'space_id': 1, 'dim': d, 'is_dangling_end': False, 'side_original': 'in', 'side_space_id': 0}\n",
      "<->\n",
      "{'tensor_name': 'dg_m', 'tensor_id': 5, 'tensor_nickname': 'dg_m_5', 'space_id': 0, 'dim': d, 'is_dangling_end': True, 'side_original': 'out', 'side_space_id': 0, 'tensor_name_origonal': 'm'}\n",
      "\n",
      "{'tensor_name': 'c', 'tensor_id': 0, 'tensor_nickname': 'c_0', 'space_id': 0, 'dim': d, 'is_dangling_end': False, 'side_original': 'out', 'side_space_id': 0}\n",
      "<->\n",
      "{'tensor_name': 'c', 'tensor_id': 0, 'tensor_nickname': 'c_0', 'space_id': 1, 'dim': d, 'is_dangling_end': False, 'side_original': 'in', 'side_space_id': 0}\n",
      "\n",
      "{'tensor_name': 'dg_m', 'tensor_id': 0, 'tensor_nickname': 'dg_m_0', 'space_id': 0, 'dim': d, 'is_dangling_end': True, 'side_original': 'out', 'side_space_id': 0, 'tensor_name_origonal': 'm'}\n",
      "<->\n",
      "{'tensor_name': 'e', 'tensor_id': 0, 'tensor_nickname': 'e_0', 'space_id': 0, 'dim': d, 'is_dangling_end': False, 'side_original': 'out', 'side_space_id': 0}\n",
      "\n",
      "\n",
      "Weight:\n"
     ]
    },
    {
     "data": {
      "text/latex": [
       "$\\displaystyle - \\frac{7}{144}$"
      ],
      "text/plain": [
       "-7/144"
      ]
     },
     "metadata": {},
     "output_type": "display_data"
    },
    {
     "name": "stdout",
     "output_type": "stream",
     "text": [
      "\n",
      "Edges:\n",
      "{'tensor_name': 'a', 'tensor_id': 0, 'tensor_nickname': 'a_0', 'space_id': 0, 'dim': d, 'is_dangling_end': False, 'side_original': 'out', 'side_space_id': 0}\n",
      "<->\n",
      "{'tensor_name': 'a', 'tensor_id': 0, 'tensor_nickname': 'a_0', 'space_id': 1, 'dim': d, 'is_dangling_end': False, 'side_original': 'in', 'side_space_id': 0}\n",
      "\n",
      "{'tensor_name': 'b', 'tensor_id': 0, 'tensor_nickname': 'b_0', 'space_id': 0, 'dim': d, 'is_dangling_end': False, 'side_original': 'out', 'side_space_id': 0}\n",
      "<->\n",
      "{'tensor_name': 'b', 'tensor_id': 0, 'tensor_nickname': 'b_0', 'space_id': 1, 'dim': d, 'is_dangling_end': False, 'side_original': 'in', 'side_space_id': 0}\n",
      "\n",
      "{'tensor_name': 'c', 'tensor_id': 0, 'tensor_nickname': 'c_0', 'space_id': 0, 'dim': d, 'is_dangling_end': False, 'side_original': 'out', 'side_space_id': 0}\n",
      "<->\n",
      "{'tensor_name': 'c', 'tensor_id': 0, 'tensor_nickname': 'c_0', 'space_id': 1, 'dim': d, 'is_dangling_end': False, 'side_original': 'in', 'side_space_id': 0}\n",
      "\n",
      "{'tensor_name': 'e', 'tensor_id': 0, 'tensor_nickname': 'e_0', 'space_id': 0, 'dim': d, 'is_dangling_end': False, 'side_original': 'out', 'side_space_id': 0}\n",
      "<->\n",
      "{'tensor_name': 'e', 'tensor_id': 0, 'tensor_nickname': 'e_0', 'space_id': 1, 'dim': d, 'is_dangling_end': False, 'side_original': 'in', 'side_space_id': 0}\n",
      "\n",
      "{'tensor_name': 'f', 'tensor_id': 0, 'tensor_nickname': 'f_0', 'space_id': 0, 'dim': d, 'is_dangling_end': False, 'side_original': 'out', 'side_space_id': 0}\n",
      "<->\n",
      "{'tensor_name': 'f', 'tensor_id': 0, 'tensor_nickname': 'f_0', 'space_id': 1, 'dim': d, 'is_dangling_end': False, 'side_original': 'in', 'side_space_id': 0}\n",
      "\n",
      "{'tensor_name': 'dg_m', 'tensor_id': 0, 'tensor_nickname': 'dg_m_0', 'space_id': 0, 'dim': d, 'is_dangling_end': True, 'side_original': 'out', 'side_space_id': 0, 'tensor_name_origonal': 'm'}\n",
      "<->\n",
      "{'tensor_name': 'dg_m', 'tensor_id': 5, 'tensor_nickname': 'dg_m_5', 'space_id': 0, 'dim': d, 'is_dangling_end': True, 'side_original': 'out', 'side_space_id': 0, 'tensor_name_origonal': 'm'}\n",
      "\n",
      "\n",
      "Weight:\n"
     ]
    },
    {
     "data": {
      "text/latex": [
       "$\\displaystyle \\frac{1}{144}$"
      ],
      "text/plain": [
       "1/144"
      ]
     },
     "metadata": {},
     "output_type": "display_data"
    },
    {
     "name": "stdout",
     "output_type": "stream",
     "text": [
      "\n",
      "Edges:\n",
      "{'tensor_name': 'a', 'tensor_id': 0, 'tensor_nickname': 'a_0', 'space_id': 0, 'dim': d, 'is_dangling_end': False, 'side_original': 'out', 'side_space_id': 0}\n",
      "<->\n",
      "{'tensor_name': 'a', 'tensor_id': 0, 'tensor_nickname': 'a_0', 'space_id': 1, 'dim': d, 'is_dangling_end': False, 'side_original': 'in', 'side_space_id': 0}\n",
      "\n",
      "{'tensor_name': 'b', 'tensor_id': 0, 'tensor_nickname': 'b_0', 'space_id': 0, 'dim': d, 'is_dangling_end': False, 'side_original': 'out', 'side_space_id': 0}\n",
      "<->\n",
      "{'tensor_name': 'b', 'tensor_id': 0, 'tensor_nickname': 'b_0', 'space_id': 1, 'dim': d, 'is_dangling_end': False, 'side_original': 'in', 'side_space_id': 0}\n",
      "\n",
      "{'tensor_name': 'c', 'tensor_id': 0, 'tensor_nickname': 'c_0', 'space_id': 0, 'dim': d, 'is_dangling_end': False, 'side_original': 'out', 'side_space_id': 0}\n",
      "<->\n",
      "{'tensor_name': 'f', 'tensor_id': 0, 'tensor_nickname': 'f_0', 'space_id': 1, 'dim': d, 'is_dangling_end': False, 'side_original': 'in', 'side_space_id': 0}\n",
      "\n",
      "{'tensor_name': 'c', 'tensor_id': 0, 'tensor_nickname': 'c_0', 'space_id': 1, 'dim': d, 'is_dangling_end': False, 'side_original': 'in', 'side_space_id': 0}\n",
      "<->\n",
      "{'tensor_name': 'f', 'tensor_id': 0, 'tensor_nickname': 'f_0', 'space_id': 0, 'dim': d, 'is_dangling_end': False, 'side_original': 'out', 'side_space_id': 0}\n",
      "\n",
      "{'tensor_name': 'e', 'tensor_id': 0, 'tensor_nickname': 'e_0', 'space_id': 0, 'dim': d, 'is_dangling_end': False, 'side_original': 'out', 'side_space_id': 0}\n",
      "<->\n",
      "{'tensor_name': 'e', 'tensor_id': 0, 'tensor_nickname': 'e_0', 'space_id': 1, 'dim': d, 'is_dangling_end': False, 'side_original': 'in', 'side_space_id': 0}\n",
      "\n",
      "{'tensor_name': 'dg_m', 'tensor_id': 0, 'tensor_nickname': 'dg_m_0', 'space_id': 0, 'dim': d, 'is_dangling_end': True, 'side_original': 'out', 'side_space_id': 0, 'tensor_name_origonal': 'm'}\n",
      "<->\n",
      "{'tensor_name': 'dg_m', 'tensor_id': 5, 'tensor_nickname': 'dg_m_5', 'space_id': 0, 'dim': d, 'is_dangling_end': True, 'side_original': 'out', 'side_space_id': 0, 'tensor_name_origonal': 'm'}\n",
      "\n",
      "\n",
      "Weight:\n"
     ]
    },
    {
     "data": {
      "text/latex": [
       "$\\displaystyle \\frac{1}{144}$"
      ],
      "text/plain": [
       "1/144"
      ]
     },
     "metadata": {},
     "output_type": "display_data"
    },
    {
     "name": "stdout",
     "output_type": "stream",
     "text": [
      "\n",
      "Edges:\n",
      "{'tensor_name': 'a', 'tensor_id': 0, 'tensor_nickname': 'a_0', 'space_id': 0, 'dim': d, 'is_dangling_end': False, 'side_original': 'out', 'side_space_id': 0}\n",
      "<->\n",
      "{'tensor_name': 'c', 'tensor_id': 0, 'tensor_nickname': 'c_0', 'space_id': 1, 'dim': d, 'is_dangling_end': False, 'side_original': 'in', 'side_space_id': 0}\n",
      "\n",
      "{'tensor_name': 'a', 'tensor_id': 0, 'tensor_nickname': 'a_0', 'space_id': 1, 'dim': d, 'is_dangling_end': False, 'side_original': 'in', 'side_space_id': 0}\n",
      "<->\n",
      "{'tensor_name': 'c', 'tensor_id': 0, 'tensor_nickname': 'c_0', 'space_id': 0, 'dim': d, 'is_dangling_end': False, 'side_original': 'out', 'side_space_id': 0}\n",
      "\n",
      "{'tensor_name': 'b', 'tensor_id': 0, 'tensor_nickname': 'b_0', 'space_id': 0, 'dim': d, 'is_dangling_end': False, 'side_original': 'out', 'side_space_id': 0}\n",
      "<->\n",
      "{'tensor_name': 'b', 'tensor_id': 0, 'tensor_nickname': 'b_0', 'space_id': 1, 'dim': d, 'is_dangling_end': False, 'side_original': 'in', 'side_space_id': 0}\n",
      "\n",
      "{'tensor_name': 'e', 'tensor_id': 0, 'tensor_nickname': 'e_0', 'space_id': 0, 'dim': d, 'is_dangling_end': False, 'side_original': 'out', 'side_space_id': 0}\n",
      "<->\n",
      "{'tensor_name': 'e', 'tensor_id': 0, 'tensor_nickname': 'e_0', 'space_id': 1, 'dim': d, 'is_dangling_end': False, 'side_original': 'in', 'side_space_id': 0}\n",
      "\n",
      "{'tensor_name': 'f', 'tensor_id': 0, 'tensor_nickname': 'f_0', 'space_id': 0, 'dim': d, 'is_dangling_end': False, 'side_original': 'out', 'side_space_id': 0}\n",
      "<->\n",
      "{'tensor_name': 'f', 'tensor_id': 0, 'tensor_nickname': 'f_0', 'space_id': 1, 'dim': d, 'is_dangling_end': False, 'side_original': 'in', 'side_space_id': 0}\n",
      "\n",
      "{'tensor_name': 'dg_m', 'tensor_id': 0, 'tensor_nickname': 'dg_m_0', 'space_id': 0, 'dim': d, 'is_dangling_end': True, 'side_original': 'out', 'side_space_id': 0, 'tensor_name_origonal': 'm'}\n",
      "<->\n",
      "{'tensor_name': 'dg_m', 'tensor_id': 5, 'tensor_nickname': 'dg_m_5', 'space_id': 0, 'dim': d, 'is_dangling_end': True, 'side_original': 'out', 'side_space_id': 0, 'tensor_name_origonal': 'm'}\n",
      "\n",
      "\n",
      "Weight:\n"
     ]
    },
    {
     "data": {
      "text/latex": [
       "$\\displaystyle - \\frac{7}{144}$"
      ],
      "text/plain": [
       "-7/144"
      ]
     },
     "metadata": {},
     "output_type": "display_data"
    },
    {
     "name": "stdout",
     "output_type": "stream",
     "text": [
      "\n",
      "Edges:\n",
      "{'tensor_name': 'a', 'tensor_id': 0, 'tensor_nickname': 'a_0', 'space_id': 0, 'dim': d, 'is_dangling_end': False, 'side_original': 'out', 'side_space_id': 0}\n",
      "<->\n",
      "{'tensor_name': 'c', 'tensor_id': 0, 'tensor_nickname': 'c_0', 'space_id': 1, 'dim': d, 'is_dangling_end': False, 'side_original': 'in', 'side_space_id': 0}\n",
      "\n",
      "{'tensor_name': 'a', 'tensor_id': 0, 'tensor_nickname': 'a_0', 'space_id': 1, 'dim': d, 'is_dangling_end': False, 'side_original': 'in', 'side_space_id': 0}\n",
      "<->\n",
      "{'tensor_name': 'f', 'tensor_id': 0, 'tensor_nickname': 'f_0', 'space_id': 0, 'dim': d, 'is_dangling_end': False, 'side_original': 'out', 'side_space_id': 0}\n",
      "\n",
      "{'tensor_name': 'b', 'tensor_id': 0, 'tensor_nickname': 'b_0', 'space_id': 0, 'dim': d, 'is_dangling_end': False, 'side_original': 'out', 'side_space_id': 0}\n",
      "<->\n",
      "{'tensor_name': 'b', 'tensor_id': 0, 'tensor_nickname': 'b_0', 'space_id': 1, 'dim': d, 'is_dangling_end': False, 'side_original': 'in', 'side_space_id': 0}\n",
      "\n",
      "{'tensor_name': 'c', 'tensor_id': 0, 'tensor_nickname': 'c_0', 'space_id': 0, 'dim': d, 'is_dangling_end': False, 'side_original': 'out', 'side_space_id': 0}\n",
      "<->\n",
      "{'tensor_name': 'f', 'tensor_id': 0, 'tensor_nickname': 'f_0', 'space_id': 1, 'dim': d, 'is_dangling_end': False, 'side_original': 'in', 'side_space_id': 0}\n",
      "\n",
      "{'tensor_name': 'e', 'tensor_id': 0, 'tensor_nickname': 'e_0', 'space_id': 0, 'dim': d, 'is_dangling_end': False, 'side_original': 'out', 'side_space_id': 0}\n",
      "<->\n",
      "{'tensor_name': 'e', 'tensor_id': 0, 'tensor_nickname': 'e_0', 'space_id': 1, 'dim': d, 'is_dangling_end': False, 'side_original': 'in', 'side_space_id': 0}\n",
      "\n",
      "{'tensor_name': 'dg_m', 'tensor_id': 0, 'tensor_nickname': 'dg_m_0', 'space_id': 0, 'dim': d, 'is_dangling_end': True, 'side_original': 'out', 'side_space_id': 0, 'tensor_name_origonal': 'm'}\n",
      "<->\n",
      "{'tensor_name': 'dg_m', 'tensor_id': 5, 'tensor_nickname': 'dg_m_5', 'space_id': 0, 'dim': d, 'is_dangling_end': True, 'side_original': 'out', 'side_space_id': 0, 'tensor_name_origonal': 'm'}\n",
      "\n",
      "\n",
      "Weight:\n"
     ]
    },
    {
     "data": {
      "text/latex": [
       "$\\displaystyle \\frac{17}{144}$"
      ],
      "text/plain": [
       "17/144"
      ]
     },
     "metadata": {},
     "output_type": "display_data"
    },
    {
     "name": "stdout",
     "output_type": "stream",
     "text": [
      "\n",
      "Edges:\n",
      "{'tensor_name': 'a', 'tensor_id': 0, 'tensor_nickname': 'a_0', 'space_id': 0, 'dim': d, 'is_dangling_end': False, 'side_original': 'out', 'side_space_id': 0}\n",
      "<->\n",
      "{'tensor_name': 'f', 'tensor_id': 0, 'tensor_nickname': 'f_0', 'space_id': 1, 'dim': d, 'is_dangling_end': False, 'side_original': 'in', 'side_space_id': 0}\n",
      "\n",
      "{'tensor_name': 'a', 'tensor_id': 0, 'tensor_nickname': 'a_0', 'space_id': 1, 'dim': d, 'is_dangling_end': False, 'side_original': 'in', 'side_space_id': 0}\n",
      "<->\n",
      "{'tensor_name': 'c', 'tensor_id': 0, 'tensor_nickname': 'c_0', 'space_id': 0, 'dim': d, 'is_dangling_end': False, 'side_original': 'out', 'side_space_id': 0}\n",
      "\n",
      "{'tensor_name': 'b', 'tensor_id': 0, 'tensor_nickname': 'b_0', 'space_id': 0, 'dim': d, 'is_dangling_end': False, 'side_original': 'out', 'side_space_id': 0}\n",
      "<->\n",
      "{'tensor_name': 'b', 'tensor_id': 0, 'tensor_nickname': 'b_0', 'space_id': 1, 'dim': d, 'is_dangling_end': False, 'side_original': 'in', 'side_space_id': 0}\n",
      "\n",
      "{'tensor_name': 'c', 'tensor_id': 0, 'tensor_nickname': 'c_0', 'space_id': 1, 'dim': d, 'is_dangling_end': False, 'side_original': 'in', 'side_space_id': 0}\n",
      "<->\n",
      "{'tensor_name': 'f', 'tensor_id': 0, 'tensor_nickname': 'f_0', 'space_id': 0, 'dim': d, 'is_dangling_end': False, 'side_original': 'out', 'side_space_id': 0}\n",
      "\n",
      "{'tensor_name': 'e', 'tensor_id': 0, 'tensor_nickname': 'e_0', 'space_id': 0, 'dim': d, 'is_dangling_end': False, 'side_original': 'out', 'side_space_id': 0}\n",
      "<->\n",
      "{'tensor_name': 'e', 'tensor_id': 0, 'tensor_nickname': 'e_0', 'space_id': 1, 'dim': d, 'is_dangling_end': False, 'side_original': 'in', 'side_space_id': 0}\n",
      "\n",
      "{'tensor_name': 'dg_m', 'tensor_id': 0, 'tensor_nickname': 'dg_m_0', 'space_id': 0, 'dim': d, 'is_dangling_end': True, 'side_original': 'out', 'side_space_id': 0, 'tensor_name_origonal': 'm'}\n",
      "<->\n",
      "{'tensor_name': 'dg_m', 'tensor_id': 5, 'tensor_nickname': 'dg_m_5', 'space_id': 0, 'dim': d, 'is_dangling_end': True, 'side_original': 'out', 'side_space_id': 0, 'tensor_name_origonal': 'm'}\n",
      "\n",
      "\n",
      "Weight:\n"
     ]
    },
    {
     "data": {
      "text/latex": [
       "$\\displaystyle \\frac{1}{144}$"
      ],
      "text/plain": [
       "1/144"
      ]
     },
     "metadata": {},
     "output_type": "display_data"
    },
    {
     "name": "stdout",
     "output_type": "stream",
     "text": [
      "\n",
      "Edges:\n",
      "{'tensor_name': 'a', 'tensor_id': 0, 'tensor_nickname': 'a_0', 'space_id': 0, 'dim': d, 'is_dangling_end': False, 'side_original': 'out', 'side_space_id': 0}\n",
      "<->\n",
      "{'tensor_name': 'f', 'tensor_id': 0, 'tensor_nickname': 'f_0', 'space_id': 1, 'dim': d, 'is_dangling_end': False, 'side_original': 'in', 'side_space_id': 0}\n",
      "\n",
      "{'tensor_name': 'a', 'tensor_id': 0, 'tensor_nickname': 'a_0', 'space_id': 1, 'dim': d, 'is_dangling_end': False, 'side_original': 'in', 'side_space_id': 0}\n",
      "<->\n",
      "{'tensor_name': 'f', 'tensor_id': 0, 'tensor_nickname': 'f_0', 'space_id': 0, 'dim': d, 'is_dangling_end': False, 'side_original': 'out', 'side_space_id': 0}\n",
      "\n",
      "{'tensor_name': 'b', 'tensor_id': 0, 'tensor_nickname': 'b_0', 'space_id': 0, 'dim': d, 'is_dangling_end': False, 'side_original': 'out', 'side_space_id': 0}\n",
      "<->\n",
      "{'tensor_name': 'b', 'tensor_id': 0, 'tensor_nickname': 'b_0', 'space_id': 1, 'dim': d, 'is_dangling_end': False, 'side_original': 'in', 'side_space_id': 0}\n",
      "\n",
      "{'tensor_name': 'c', 'tensor_id': 0, 'tensor_nickname': 'c_0', 'space_id': 0, 'dim': d, 'is_dangling_end': False, 'side_original': 'out', 'side_space_id': 0}\n",
      "<->\n",
      "{'tensor_name': 'c', 'tensor_id': 0, 'tensor_nickname': 'c_0', 'space_id': 1, 'dim': d, 'is_dangling_end': False, 'side_original': 'in', 'side_space_id': 0}\n",
      "\n",
      "{'tensor_name': 'e', 'tensor_id': 0, 'tensor_nickname': 'e_0', 'space_id': 0, 'dim': d, 'is_dangling_end': False, 'side_original': 'out', 'side_space_id': 0}\n",
      "<->\n",
      "{'tensor_name': 'e', 'tensor_id': 0, 'tensor_nickname': 'e_0', 'space_id': 1, 'dim': d, 'is_dangling_end': False, 'side_original': 'in', 'side_space_id': 0}\n",
      "\n",
      "{'tensor_name': 'dg_m', 'tensor_id': 0, 'tensor_nickname': 'dg_m_0', 'space_id': 0, 'dim': d, 'is_dangling_end': True, 'side_original': 'out', 'side_space_id': 0, 'tensor_name_origonal': 'm'}\n",
      "<->\n",
      "{'tensor_name': 'dg_m', 'tensor_id': 5, 'tensor_nickname': 'dg_m_5', 'space_id': 0, 'dim': d, 'is_dangling_end': True, 'side_original': 'out', 'side_space_id': 0, 'tensor_name_origonal': 'm'}\n",
      "\n",
      "\n",
      "Weight:\n"
     ]
    },
    {
     "data": {
      "text/latex": [
       "$\\displaystyle \\frac{1}{144}$"
      ],
      "text/plain": [
       "1/144"
      ]
     },
     "metadata": {},
     "output_type": "display_data"
    },
    {
     "name": "stdout",
     "output_type": "stream",
     "text": [
      "\n",
      "Edges:\n",
      "{'tensor_name': 'a', 'tensor_id': 0, 'tensor_nickname': 'a_0', 'space_id': 0, 'dim': d, 'is_dangling_end': False, 'side_original': 'out', 'side_space_id': 0}\n",
      "<->\n",
      "{'tensor_name': 'a', 'tensor_id': 0, 'tensor_nickname': 'a_0', 'space_id': 1, 'dim': d, 'is_dangling_end': False, 'side_original': 'in', 'side_space_id': 0}\n",
      "\n",
      "{'tensor_name': 'b', 'tensor_id': 0, 'tensor_nickname': 'b_0', 'space_id': 0, 'dim': d, 'is_dangling_end': False, 'side_original': 'out', 'side_space_id': 0}\n",
      "<->\n",
      "{'tensor_name': 'e', 'tensor_id': 0, 'tensor_nickname': 'e_0', 'space_id': 1, 'dim': d, 'is_dangling_end': False, 'side_original': 'in', 'side_space_id': 0}\n",
      "\n",
      "{'tensor_name': 'b', 'tensor_id': 0, 'tensor_nickname': 'b_0', 'space_id': 1, 'dim': d, 'is_dangling_end': False, 'side_original': 'in', 'side_space_id': 0}\n",
      "<->\n",
      "{'tensor_name': 'e', 'tensor_id': 0, 'tensor_nickname': 'e_0', 'space_id': 0, 'dim': d, 'is_dangling_end': False, 'side_original': 'out', 'side_space_id': 0}\n",
      "\n",
      "{'tensor_name': 'c', 'tensor_id': 0, 'tensor_nickname': 'c_0', 'space_id': 0, 'dim': d, 'is_dangling_end': False, 'side_original': 'out', 'side_space_id': 0}\n",
      "<->\n",
      "{'tensor_name': 'c', 'tensor_id': 0, 'tensor_nickname': 'c_0', 'space_id': 1, 'dim': d, 'is_dangling_end': False, 'side_original': 'in', 'side_space_id': 0}\n",
      "\n",
      "{'tensor_name': 'f', 'tensor_id': 0, 'tensor_nickname': 'f_0', 'space_id': 0, 'dim': d, 'is_dangling_end': False, 'side_original': 'out', 'side_space_id': 0}\n",
      "<->\n",
      "{'tensor_name': 'f', 'tensor_id': 0, 'tensor_nickname': 'f_0', 'space_id': 1, 'dim': d, 'is_dangling_end': False, 'side_original': 'in', 'side_space_id': 0}\n",
      "\n",
      "{'tensor_name': 'dg_m', 'tensor_id': 0, 'tensor_nickname': 'dg_m_0', 'space_id': 0, 'dim': d, 'is_dangling_end': True, 'side_original': 'out', 'side_space_id': 0, 'tensor_name_origonal': 'm'}\n",
      "<->\n",
      "{'tensor_name': 'dg_m', 'tensor_id': 5, 'tensor_nickname': 'dg_m_5', 'space_id': 0, 'dim': d, 'is_dangling_end': True, 'side_original': 'out', 'side_space_id': 0, 'tensor_name_origonal': 'm'}\n",
      "\n",
      "\n",
      "Weight:\n"
     ]
    },
    {
     "data": {
      "text/latex": [
       "$\\displaystyle - \\frac{7}{144}$"
      ],
      "text/plain": [
       "-7/144"
      ]
     },
     "metadata": {},
     "output_type": "display_data"
    },
    {
     "name": "stdout",
     "output_type": "stream",
     "text": [
      "\n",
      "Edges:\n",
      "{'tensor_name': 'a', 'tensor_id': 0, 'tensor_nickname': 'a_0', 'space_id': 0, 'dim': d, 'is_dangling_end': False, 'side_original': 'out', 'side_space_id': 0}\n",
      "<->\n",
      "{'tensor_name': 'a', 'tensor_id': 0, 'tensor_nickname': 'a_0', 'space_id': 1, 'dim': d, 'is_dangling_end': False, 'side_original': 'in', 'side_space_id': 0}\n",
      "\n",
      "{'tensor_name': 'b', 'tensor_id': 0, 'tensor_nickname': 'b_0', 'space_id': 0, 'dim': d, 'is_dangling_end': False, 'side_original': 'out', 'side_space_id': 0}\n",
      "<->\n",
      "{'tensor_name': 'e', 'tensor_id': 0, 'tensor_nickname': 'e_0', 'space_id': 1, 'dim': d, 'is_dangling_end': False, 'side_original': 'in', 'side_space_id': 0}\n",
      "\n",
      "{'tensor_name': 'b', 'tensor_id': 0, 'tensor_nickname': 'b_0', 'space_id': 1, 'dim': d, 'is_dangling_end': False, 'side_original': 'in', 'side_space_id': 0}\n",
      "<->\n",
      "{'tensor_name': 'e', 'tensor_id': 0, 'tensor_nickname': 'e_0', 'space_id': 0, 'dim': d, 'is_dangling_end': False, 'side_original': 'out', 'side_space_id': 0}\n",
      "\n",
      "{'tensor_name': 'c', 'tensor_id': 0, 'tensor_nickname': 'c_0', 'space_id': 0, 'dim': d, 'is_dangling_end': False, 'side_original': 'out', 'side_space_id': 0}\n",
      "<->\n",
      "{'tensor_name': 'f', 'tensor_id': 0, 'tensor_nickname': 'f_0', 'space_id': 1, 'dim': d, 'is_dangling_end': False, 'side_original': 'in', 'side_space_id': 0}\n",
      "\n",
      "{'tensor_name': 'c', 'tensor_id': 0, 'tensor_nickname': 'c_0', 'space_id': 1, 'dim': d, 'is_dangling_end': False, 'side_original': 'in', 'side_space_id': 0}\n",
      "<->\n",
      "{'tensor_name': 'f', 'tensor_id': 0, 'tensor_nickname': 'f_0', 'space_id': 0, 'dim': d, 'is_dangling_end': False, 'side_original': 'out', 'side_space_id': 0}\n",
      "\n",
      "{'tensor_name': 'dg_m', 'tensor_id': 0, 'tensor_nickname': 'dg_m_0', 'space_id': 0, 'dim': d, 'is_dangling_end': True, 'side_original': 'out', 'side_space_id': 0, 'tensor_name_origonal': 'm'}\n",
      "<->\n",
      "{'tensor_name': 'dg_m', 'tensor_id': 5, 'tensor_nickname': 'dg_m_5', 'space_id': 0, 'dim': d, 'is_dangling_end': True, 'side_original': 'out', 'side_space_id': 0, 'tensor_name_origonal': 'm'}\n",
      "\n",
      "\n",
      "Weight:\n"
     ]
    },
    {
     "data": {
      "text/latex": [
       "$\\displaystyle - \\frac{7}{144}$"
      ],
      "text/plain": [
       "-7/144"
      ]
     },
     "metadata": {},
     "output_type": "display_data"
    },
    {
     "name": "stdout",
     "output_type": "stream",
     "text": [
      "\n",
      "Edges:\n",
      "{'tensor_name': 'a', 'tensor_id': 0, 'tensor_nickname': 'a_0', 'space_id': 0, 'dim': d, 'is_dangling_end': False, 'side_original': 'out', 'side_space_id': 0}\n",
      "<->\n",
      "{'tensor_name': 'c', 'tensor_id': 0, 'tensor_nickname': 'c_0', 'space_id': 1, 'dim': d, 'is_dangling_end': False, 'side_original': 'in', 'side_space_id': 0}\n",
      "\n",
      "{'tensor_name': 'a', 'tensor_id': 0, 'tensor_nickname': 'a_0', 'space_id': 1, 'dim': d, 'is_dangling_end': False, 'side_original': 'in', 'side_space_id': 0}\n",
      "<->\n",
      "{'tensor_name': 'c', 'tensor_id': 0, 'tensor_nickname': 'c_0', 'space_id': 0, 'dim': d, 'is_dangling_end': False, 'side_original': 'out', 'side_space_id': 0}\n",
      "\n",
      "{'tensor_name': 'b', 'tensor_id': 0, 'tensor_nickname': 'b_0', 'space_id': 0, 'dim': d, 'is_dangling_end': False, 'side_original': 'out', 'side_space_id': 0}\n",
      "<->\n",
      "{'tensor_name': 'e', 'tensor_id': 0, 'tensor_nickname': 'e_0', 'space_id': 1, 'dim': d, 'is_dangling_end': False, 'side_original': 'in', 'side_space_id': 0}\n",
      "\n",
      "{'tensor_name': 'b', 'tensor_id': 0, 'tensor_nickname': 'b_0', 'space_id': 1, 'dim': d, 'is_dangling_end': False, 'side_original': 'in', 'side_space_id': 0}\n",
      "<->\n",
      "{'tensor_name': 'e', 'tensor_id': 0, 'tensor_nickname': 'e_0', 'space_id': 0, 'dim': d, 'is_dangling_end': False, 'side_original': 'out', 'side_space_id': 0}\n",
      "\n",
      "{'tensor_name': 'f', 'tensor_id': 0, 'tensor_nickname': 'f_0', 'space_id': 0, 'dim': d, 'is_dangling_end': False, 'side_original': 'out', 'side_space_id': 0}\n",
      "<->\n",
      "{'tensor_name': 'f', 'tensor_id': 0, 'tensor_nickname': 'f_0', 'space_id': 1, 'dim': d, 'is_dangling_end': False, 'side_original': 'in', 'side_space_id': 0}\n",
      "\n",
      "{'tensor_name': 'dg_m', 'tensor_id': 0, 'tensor_nickname': 'dg_m_0', 'space_id': 0, 'dim': d, 'is_dangling_end': True, 'side_original': 'out', 'side_space_id': 0, 'tensor_name_origonal': 'm'}\n",
      "<->\n",
      "{'tensor_name': 'dg_m', 'tensor_id': 5, 'tensor_nickname': 'dg_m_5', 'space_id': 0, 'dim': d, 'is_dangling_end': True, 'side_original': 'out', 'side_space_id': 0, 'tensor_name_origonal': 'm'}\n",
      "\n",
      "\n",
      "Weight:\n"
     ]
    },
    {
     "data": {
      "text/latex": [
       "$\\displaystyle \\frac{1}{144}$"
      ],
      "text/plain": [
       "1/144"
      ]
     },
     "metadata": {},
     "output_type": "display_data"
    },
    {
     "name": "stdout",
     "output_type": "stream",
     "text": [
      "\n",
      "Edges:\n",
      "{'tensor_name': 'a', 'tensor_id': 0, 'tensor_nickname': 'a_0', 'space_id': 0, 'dim': d, 'is_dangling_end': False, 'side_original': 'out', 'side_space_id': 0}\n",
      "<->\n",
      "{'tensor_name': 'c', 'tensor_id': 0, 'tensor_nickname': 'c_0', 'space_id': 1, 'dim': d, 'is_dangling_end': False, 'side_original': 'in', 'side_space_id': 0}\n",
      "\n",
      "{'tensor_name': 'a', 'tensor_id': 0, 'tensor_nickname': 'a_0', 'space_id': 1, 'dim': d, 'is_dangling_end': False, 'side_original': 'in', 'side_space_id': 0}\n",
      "<->\n",
      "{'tensor_name': 'f', 'tensor_id': 0, 'tensor_nickname': 'f_0', 'space_id': 0, 'dim': d, 'is_dangling_end': False, 'side_original': 'out', 'side_space_id': 0}\n",
      "\n",
      "{'tensor_name': 'b', 'tensor_id': 0, 'tensor_nickname': 'b_0', 'space_id': 0, 'dim': d, 'is_dangling_end': False, 'side_original': 'out', 'side_space_id': 0}\n",
      "<->\n",
      "{'tensor_name': 'e', 'tensor_id': 0, 'tensor_nickname': 'e_0', 'space_id': 1, 'dim': d, 'is_dangling_end': False, 'side_original': 'in', 'side_space_id': 0}\n",
      "\n",
      "{'tensor_name': 'b', 'tensor_id': 0, 'tensor_nickname': 'b_0', 'space_id': 1, 'dim': d, 'is_dangling_end': False, 'side_original': 'in', 'side_space_id': 0}\n",
      "<->\n",
      "{'tensor_name': 'e', 'tensor_id': 0, 'tensor_nickname': 'e_0', 'space_id': 0, 'dim': d, 'is_dangling_end': False, 'side_original': 'out', 'side_space_id': 0}\n",
      "\n",
      "{'tensor_name': 'c', 'tensor_id': 0, 'tensor_nickname': 'c_0', 'space_id': 0, 'dim': d, 'is_dangling_end': False, 'side_original': 'out', 'side_space_id': 0}\n",
      "<->\n",
      "{'tensor_name': 'f', 'tensor_id': 0, 'tensor_nickname': 'f_0', 'space_id': 1, 'dim': d, 'is_dangling_end': False, 'side_original': 'in', 'side_space_id': 0}\n",
      "\n",
      "{'tensor_name': 'dg_m', 'tensor_id': 0, 'tensor_nickname': 'dg_m_0', 'space_id': 0, 'dim': d, 'is_dangling_end': True, 'side_original': 'out', 'side_space_id': 0, 'tensor_name_origonal': 'm'}\n",
      "<->\n",
      "{'tensor_name': 'dg_m', 'tensor_id': 5, 'tensor_nickname': 'dg_m_5', 'space_id': 0, 'dim': d, 'is_dangling_end': True, 'side_original': 'out', 'side_space_id': 0, 'tensor_name_origonal': 'm'}\n",
      "\n",
      "\n",
      "Weight:\n"
     ]
    },
    {
     "data": {
      "text/latex": [
       "$\\displaystyle \\frac{1}{144}$"
      ],
      "text/plain": [
       "1/144"
      ]
     },
     "metadata": {},
     "output_type": "display_data"
    },
    {
     "name": "stdout",
     "output_type": "stream",
     "text": [
      "\n",
      "Edges:\n",
      "{'tensor_name': 'a', 'tensor_id': 0, 'tensor_nickname': 'a_0', 'space_id': 0, 'dim': d, 'is_dangling_end': False, 'side_original': 'out', 'side_space_id': 0}\n",
      "<->\n",
      "{'tensor_name': 'f', 'tensor_id': 0, 'tensor_nickname': 'f_0', 'space_id': 1, 'dim': d, 'is_dangling_end': False, 'side_original': 'in', 'side_space_id': 0}\n",
      "\n",
      "{'tensor_name': 'a', 'tensor_id': 0, 'tensor_nickname': 'a_0', 'space_id': 1, 'dim': d, 'is_dangling_end': False, 'side_original': 'in', 'side_space_id': 0}\n",
      "<->\n",
      "{'tensor_name': 'c', 'tensor_id': 0, 'tensor_nickname': 'c_0', 'space_id': 0, 'dim': d, 'is_dangling_end': False, 'side_original': 'out', 'side_space_id': 0}\n",
      "\n",
      "{'tensor_name': 'b', 'tensor_id': 0, 'tensor_nickname': 'b_0', 'space_id': 0, 'dim': d, 'is_dangling_end': False, 'side_original': 'out', 'side_space_id': 0}\n",
      "<->\n",
      "{'tensor_name': 'e', 'tensor_id': 0, 'tensor_nickname': 'e_0', 'space_id': 1, 'dim': d, 'is_dangling_end': False, 'side_original': 'in', 'side_space_id': 0}\n",
      "\n",
      "{'tensor_name': 'b', 'tensor_id': 0, 'tensor_nickname': 'b_0', 'space_id': 1, 'dim': d, 'is_dangling_end': False, 'side_original': 'in', 'side_space_id': 0}\n",
      "<->\n",
      "{'tensor_name': 'e', 'tensor_id': 0, 'tensor_nickname': 'e_0', 'space_id': 0, 'dim': d, 'is_dangling_end': False, 'side_original': 'out', 'side_space_id': 0}\n",
      "\n",
      "{'tensor_name': 'c', 'tensor_id': 0, 'tensor_nickname': 'c_0', 'space_id': 1, 'dim': d, 'is_dangling_end': False, 'side_original': 'in', 'side_space_id': 0}\n",
      "<->\n",
      "{'tensor_name': 'f', 'tensor_id': 0, 'tensor_nickname': 'f_0', 'space_id': 0, 'dim': d, 'is_dangling_end': False, 'side_original': 'out', 'side_space_id': 0}\n",
      "\n",
      "{'tensor_name': 'dg_m', 'tensor_id': 0, 'tensor_nickname': 'dg_m_0', 'space_id': 0, 'dim': d, 'is_dangling_end': True, 'side_original': 'out', 'side_space_id': 0, 'tensor_name_origonal': 'm'}\n",
      "<->\n",
      "{'tensor_name': 'dg_m', 'tensor_id': 5, 'tensor_nickname': 'dg_m_5', 'space_id': 0, 'dim': d, 'is_dangling_end': True, 'side_original': 'out', 'side_space_id': 0, 'tensor_name_origonal': 'm'}\n",
      "\n",
      "\n",
      "Weight:\n"
     ]
    },
    {
     "data": {
      "text/latex": [
       "$\\displaystyle \\frac{17}{144}$"
      ],
      "text/plain": [
       "17/144"
      ]
     },
     "metadata": {},
     "output_type": "display_data"
    },
    {
     "name": "stdout",
     "output_type": "stream",
     "text": [
      "\n",
      "Edges:\n",
      "{'tensor_name': 'a', 'tensor_id': 0, 'tensor_nickname': 'a_0', 'space_id': 0, 'dim': d, 'is_dangling_end': False, 'side_original': 'out', 'side_space_id': 0}\n",
      "<->\n",
      "{'tensor_name': 'f', 'tensor_id': 0, 'tensor_nickname': 'f_0', 'space_id': 1, 'dim': d, 'is_dangling_end': False, 'side_original': 'in', 'side_space_id': 0}\n",
      "\n",
      "{'tensor_name': 'a', 'tensor_id': 0, 'tensor_nickname': 'a_0', 'space_id': 1, 'dim': d, 'is_dangling_end': False, 'side_original': 'in', 'side_space_id': 0}\n",
      "<->\n",
      "{'tensor_name': 'f', 'tensor_id': 0, 'tensor_nickname': 'f_0', 'space_id': 0, 'dim': d, 'is_dangling_end': False, 'side_original': 'out', 'side_space_id': 0}\n",
      "\n",
      "{'tensor_name': 'b', 'tensor_id': 0, 'tensor_nickname': 'b_0', 'space_id': 0, 'dim': d, 'is_dangling_end': False, 'side_original': 'out', 'side_space_id': 0}\n",
      "<->\n",
      "{'tensor_name': 'e', 'tensor_id': 0, 'tensor_nickname': 'e_0', 'space_id': 1, 'dim': d, 'is_dangling_end': False, 'side_original': 'in', 'side_space_id': 0}\n",
      "\n",
      "{'tensor_name': 'b', 'tensor_id': 0, 'tensor_nickname': 'b_0', 'space_id': 1, 'dim': d, 'is_dangling_end': False, 'side_original': 'in', 'side_space_id': 0}\n",
      "<->\n",
      "{'tensor_name': 'e', 'tensor_id': 0, 'tensor_nickname': 'e_0', 'space_id': 0, 'dim': d, 'is_dangling_end': False, 'side_original': 'out', 'side_space_id': 0}\n",
      "\n",
      "{'tensor_name': 'c', 'tensor_id': 0, 'tensor_nickname': 'c_0', 'space_id': 0, 'dim': d, 'is_dangling_end': False, 'side_original': 'out', 'side_space_id': 0}\n",
      "<->\n",
      "{'tensor_name': 'c', 'tensor_id': 0, 'tensor_nickname': 'c_0', 'space_id': 1, 'dim': d, 'is_dangling_end': False, 'side_original': 'in', 'side_space_id': 0}\n",
      "\n",
      "{'tensor_name': 'dg_m', 'tensor_id': 0, 'tensor_nickname': 'dg_m_0', 'space_id': 0, 'dim': d, 'is_dangling_end': True, 'side_original': 'out', 'side_space_id': 0, 'tensor_name_origonal': 'm'}\n",
      "<->\n",
      "{'tensor_name': 'dg_m', 'tensor_id': 5, 'tensor_nickname': 'dg_m_5', 'space_id': 0, 'dim': d, 'is_dangling_end': True, 'side_original': 'out', 'side_space_id': 0, 'tensor_name_origonal': 'm'}\n",
      "\n",
      "\n"
     ]
    }
   ],
   "source": [
    "# Set  dim=1,2,3,... and see how the weight of each tensor network changes.\n",
    "dim = 2\n",
    "\n",
    "# A dictionary is used to make the symbolic dimenstions concrete.\n",
    "tensor_networks.show(dim_symbols_dict={d:dim})"
   ]
  },
  {
   "cell_type": "code",
   "execution_count": null,
   "id": "a9c0be26",
   "metadata": {},
   "outputs": [],
   "source": []
  }
 ],
 "metadata": {
  "kernelspec": {
   "display_name": "Python 3 (ipykernel)",
   "language": "python",
   "name": "python3"
  },
  "language_info": {
   "codemirror_mode": {
    "name": "ipython",
    "version": 3
   },
   "file_extension": ".py",
   "mimetype": "text/x-python",
   "name": "python",
   "nbconvert_exporter": "python",
   "pygments_lexer": "ipython3",
   "version": "3.11.5"
  }
 },
 "nbformat": 4,
 "nbformat_minor": 5
}
