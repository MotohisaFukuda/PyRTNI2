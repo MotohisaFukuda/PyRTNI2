{
 "cells": [
  {
   "cell_type": "markdown",
   "id": "b23d9634",
   "metadata": {},
   "source": [
    "# Moments of real and complex Wishart matrices. \n",
    "We construct $k \\times k$ Wishart matrices where the contracting dimensio is $m$, and calculate the moments."
   ]
  },
  {
   "cell_type": "code",
   "execution_count": 1,
   "id": "2dcbe276",
   "metadata": {},
   "outputs": [],
   "source": [
    "import rtni2 as rtni\n",
    "from sympy import symbols, latex"
   ]
  },
  {
   "cell_type": "code",
   "execution_count": 2,
   "id": "434559d6",
   "metadata": {},
   "outputs": [],
   "source": [
    "# This function will add all of the individual weights of tensornetworks, and show the sum and return it as LaTeX codes.\n",
    "# Note that after the integration, only loops will be left, only contributing to weights. \n",
    "def sum_all(tensornetworks):\n",
    "    poly = 0\n",
    "    for i in range(len(tensornetworks)):\n",
    "        t = tensornetworks_copy[i]\n",
    "        poly += t.weight()\n",
    "    display(poly)\n",
    "    return latex(poly)"
   ]
  },
  {
   "cell_type": "code",
   "execution_count": 3,
   "id": "3d5e21a1",
   "metadata": {},
   "outputs": [],
   "source": [
    "k, m = symbols(['k', 'm'])"
   ]
  },
  {
   "cell_type": "markdown",
   "id": "4abf1875",
   "metadata": {},
   "source": [
    "## k=1"
   ]
  },
  {
   "cell_type": "code",
   "execution_count": 4,
   "id": "6dbcc511",
   "metadata": {},
   "outputs": [],
   "source": [
    "g0 =  rtni.matrix(name='g', dims=[[k],[m]])\n",
    "g1 = g0.clone()\n",
    "g1.adjoint()"
   ]
  },
  {
   "cell_type": "code",
   "execution_count": 5,
   "id": "3a38b98b",
   "metadata": {},
   "outputs": [
    {
     "name": "stdout",
     "output_type": "stream",
     "text": [
      "Connected.\n",
      "Connected.\n"
     ]
    }
   ],
   "source": [
    "g0.inn(0) * g1.out(0) ; g1.inn(0) * g0.out(0)"
   ]
  },
  {
   "cell_type": "code",
   "execution_count": 6,
   "id": "9167258b",
   "metadata": {},
   "outputs": [
    {
     "name": "stdout",
     "output_type": "stream",
     "text": [
      "tensor g clone 0 has been added.\n",
      "tensor g clone 1 has been added.\n"
     ]
    }
   ],
   "source": [
    "tensornetworks = rtni.tensornetworks([g0, g1])"
   ]
  },
  {
   "cell_type": "code",
   "execution_count": 7,
   "id": "2eaaddf2",
   "metadata": {},
   "outputs": [
    {
     "name": "stdout",
     "output_type": "stream",
     "text": [
      "Integrated. We now have 1 tensor networks.\n",
      "\n"
     ]
    },
    {
     "data": {
      "text/latex": [
       "$\\displaystyle k m$"
      ],
      "text/plain": [
       "k*m"
      ]
     },
     "metadata": {},
     "output_type": "display_data"
    },
    {
     "name": "stdout",
     "output_type": "stream",
     "text": [
      "k m\n"
     ]
    }
   ],
   "source": [
    "# A real Wishart matrix from real Gaussian matrix. \n",
    "tensornetworks_copy = tensornetworks.copy()\n",
    "tensornetworks_copy.integrate('g', 'real_gaussian')\n",
    "tex = sum_all(tensornetworks_copy)\n",
    "print(tex)"
   ]
  },
  {
   "cell_type": "code",
   "execution_count": 8,
   "id": "b556c1c7",
   "metadata": {},
   "outputs": [
    {
     "name": "stdout",
     "output_type": "stream",
     "text": [
      "Integrated. We now have 1 tensor networks.\n",
      "\n"
     ]
    },
    {
     "data": {
      "text/latex": [
       "$\\displaystyle k m$"
      ],
      "text/plain": [
       "k*m"
      ]
     },
     "metadata": {},
     "output_type": "display_data"
    },
    {
     "name": "stdout",
     "output_type": "stream",
     "text": [
      "k m\n"
     ]
    }
   ],
   "source": [
    "# A complex Wishart matrix from complex Gaussian matrix. \n",
    "tensornetworks_copy = tensornetworks.copy()\n",
    "tensornetworks_copy.integrate('g', 'complex_gaussian')\n",
    "tex = sum_all(tensornetworks_copy)\n",
    "print(tex)"
   ]
  },
  {
   "cell_type": "code",
   "execution_count": null,
   "id": "1de74190",
   "metadata": {},
   "outputs": [],
   "source": []
  },
  {
   "cell_type": "markdown",
   "id": "14079442",
   "metadata": {},
   "source": [
    "## k=2"
   ]
  },
  {
   "cell_type": "code",
   "execution_count": 9,
   "id": "9cd3781d",
   "metadata": {},
   "outputs": [],
   "source": [
    "g0 =  rtni.matrix(name='g', dims=[[k],[m]])\n",
    "g1 = g0.clone()\n",
    "g1.adjoint()\n",
    "g2 = g0.clone()\n",
    "g3 = g0.clone()\n",
    "g3.adjoint()"
   ]
  },
  {
   "cell_type": "code",
   "execution_count": 10,
   "id": "896a0969",
   "metadata": {},
   "outputs": [
    {
     "name": "stdout",
     "output_type": "stream",
     "text": [
      "Connected.\n",
      "Connected.\n",
      "Connected.\n",
      "Connected.\n"
     ]
    }
   ],
   "source": [
    "g0.inn(0) * g1.out(0) ; g1.inn(0) * g2.out(0) ; g2.inn(0) * g3.out(0) ; g3.inn(0) * g0.out(0)"
   ]
  },
  {
   "cell_type": "code",
   "execution_count": 11,
   "id": "655e82bc",
   "metadata": {},
   "outputs": [
    {
     "name": "stdout",
     "output_type": "stream",
     "text": [
      "tensor g clone 0 has been added.\n",
      "tensor g clone 1 has been added.\n",
      "tensor g clone 2 has been added.\n",
      "tensor g clone 3 has been added.\n"
     ]
    }
   ],
   "source": [
    "tensornetworks = rtni.tensornetworks([g0, g1, g2, g3])"
   ]
  },
  {
   "cell_type": "code",
   "execution_count": 12,
   "id": "92d6a6c0",
   "metadata": {},
   "outputs": [
    {
     "name": "stdout",
     "output_type": "stream",
     "text": [
      "Integrated. We now have 3 tensor networks.\n",
      "\n"
     ]
    },
    {
     "data": {
      "text/latex": [
       "$\\displaystyle k^{2} m + k m^{2} + k m$"
      ],
      "text/plain": [
       "k**2*m + k*m**2 + k*m"
      ]
     },
     "metadata": {},
     "output_type": "display_data"
    },
    {
     "name": "stdout",
     "output_type": "stream",
     "text": [
      "k^{2} m + k m^{2} + k m\n"
     ]
    }
   ],
   "source": [
    "tensornetworks_copy = tensornetworks.copy()\n",
    "tensornetworks_copy.integrate('g', 'real_gaussian')\n",
    "tex = sum_all(tensornetworks_copy)\n",
    "print(tex)"
   ]
  },
  {
   "cell_type": "code",
   "execution_count": 13,
   "id": "a7ad6321",
   "metadata": {},
   "outputs": [
    {
     "name": "stdout",
     "output_type": "stream",
     "text": [
      "Integrated. We now have 2 tensor networks.\n",
      "\n"
     ]
    },
    {
     "data": {
      "text/latex": [
       "$\\displaystyle k^{2} m + k m^{2}$"
      ],
      "text/plain": [
       "k**2*m + k*m**2"
      ]
     },
     "metadata": {},
     "output_type": "display_data"
    },
    {
     "name": "stdout",
     "output_type": "stream",
     "text": [
      "k^{2} m + k m^{2}\n"
     ]
    }
   ],
   "source": [
    "tensornetworks_copy = tensornetworks.copy()\n",
    "tensornetworks_copy.integrate('g', 'complex_gaussian')\n",
    "tex = sum_all(tensornetworks_copy)\n",
    "print(tex)"
   ]
  },
  {
   "cell_type": "code",
   "execution_count": null,
   "id": "cc7beef9",
   "metadata": {},
   "outputs": [],
   "source": []
  },
  {
   "cell_type": "markdown",
   "id": "834176f3",
   "metadata": {},
   "source": [
    "## K=3"
   ]
  },
  {
   "cell_type": "code",
   "execution_count": 14,
   "id": "b4a249c1",
   "metadata": {},
   "outputs": [],
   "source": [
    "g0 =  rtni.matrix(name='g', dims=[[k],[m]])\n",
    "g1 = g0.clone()\n",
    "g1.adjoint()\n",
    "g2 = g0.clone()\n",
    "g3 = g0.clone()\n",
    "g3.adjoint()\n",
    "g4 = g0.clone()\n",
    "g5 = g0.clone()\n",
    "g5.adjoint()"
   ]
  },
  {
   "cell_type": "code",
   "execution_count": 15,
   "id": "b8e4036c",
   "metadata": {},
   "outputs": [
    {
     "name": "stdout",
     "output_type": "stream",
     "text": [
      "Connected.\n",
      "Connected.\n",
      "Connected.\n",
      "Connected.\n",
      "Connected.\n",
      "Connected.\n"
     ]
    }
   ],
   "source": [
    "g0.inn(0) * g1.out(0) ; g1.inn(0) * g2.out(0) ; g2.inn(0) * g3.out(0) ; g3.inn(0) * g4.out(0); g4.inn(0) * g5.out(0) ; g5.inn(0) * g0.out(0)"
   ]
  },
  {
   "cell_type": "code",
   "execution_count": 16,
   "id": "fb5c1ae1",
   "metadata": {},
   "outputs": [
    {
     "name": "stdout",
     "output_type": "stream",
     "text": [
      "tensor g clone 0 has been added.\n",
      "tensor g clone 1 has been added.\n",
      "tensor g clone 2 has been added.\n",
      "tensor g clone 3 has been added.\n",
      "tensor g clone 4 has been added.\n",
      "tensor g clone 5 has been added.\n"
     ]
    }
   ],
   "source": [
    "tensornetworks = rtni.tensornetworks([g0, g1, g2, g3, g4, g5])"
   ]
  },
  {
   "cell_type": "code",
   "execution_count": 17,
   "id": "dafd9a70",
   "metadata": {},
   "outputs": [
    {
     "name": "stdout",
     "output_type": "stream",
     "text": [
      "Integrated. We now have 15 tensor networks.\n",
      "\n"
     ]
    },
    {
     "data": {
      "text/latex": [
       "$\\displaystyle k^{3} m + 3 k^{2} m^{2} + 3 k^{2} m + k m^{3} + 3 k m^{2} + 4 k m$"
      ],
      "text/plain": [
       "k**3*m + 3*k**2*m**2 + 3*k**2*m + k*m**3 + 3*k*m**2 + 4*k*m"
      ]
     },
     "metadata": {},
     "output_type": "display_data"
    },
    {
     "name": "stdout",
     "output_type": "stream",
     "text": [
      "k^{3} m + 3 k^{2} m^{2} + 3 k^{2} m + k m^{3} + 3 k m^{2} + 4 k m\n"
     ]
    }
   ],
   "source": [
    "tensornetworks_copy = tensornetworks.copy()\n",
    "tensornetworks_copy.integrate('g', 'real_gaussian')\n",
    "tex = sum_all(tensornetworks_copy)\n",
    "print(tex)"
   ]
  },
  {
   "cell_type": "code",
   "execution_count": 18,
   "id": "2a2c2924",
   "metadata": {},
   "outputs": [
    {
     "name": "stdout",
     "output_type": "stream",
     "text": [
      "Integrated. We now have 6 tensor networks.\n",
      "\n"
     ]
    },
    {
     "data": {
      "text/latex": [
       "$\\displaystyle k^{3} m + 3 k^{2} m^{2} + k m^{3} + k m$"
      ],
      "text/plain": [
       "k**3*m + 3*k**2*m**2 + k*m**3 + k*m"
      ]
     },
     "metadata": {},
     "output_type": "display_data"
    },
    {
     "name": "stdout",
     "output_type": "stream",
     "text": [
      "k^{3} m + 3 k^{2} m^{2} + k m^{3} + k m\n"
     ]
    }
   ],
   "source": [
    "tensornetworks_copy = tensornetworks.copy()\n",
    "tensornetworks_copy.integrate('g', 'complex_gaussian')\n",
    "tex = sum_all(tensornetworks_copy)\n",
    "print(tex)"
   ]
  },
  {
   "cell_type": "code",
   "execution_count": null,
   "id": "0c56578c",
   "metadata": {},
   "outputs": [],
   "source": []
  },
  {
   "cell_type": "markdown",
   "id": "27ad0d64",
   "metadata": {},
   "source": [
    "## k=4"
   ]
  },
  {
   "cell_type": "code",
   "execution_count": 19,
   "id": "a43810f9",
   "metadata": {},
   "outputs": [],
   "source": [
    "g0 =  rtni.matrix(name='g', dims=[[k],[m]])\n",
    "g1 = g0.clone()\n",
    "g1.adjoint()\n",
    "g2 = g0.clone()\n",
    "g3 = g0.clone()\n",
    "g3.adjoint()\n",
    "g4 = g0.clone()\n",
    "g5 = g0.clone()\n",
    "g5.adjoint()\n",
    "g6 = g0.clone()\n",
    "g7 = g0.clone()\n",
    "g7.adjoint()"
   ]
  },
  {
   "cell_type": "code",
   "execution_count": 20,
   "id": "b337f19a",
   "metadata": {},
   "outputs": [
    {
     "name": "stdout",
     "output_type": "stream",
     "text": [
      "Connected.\n",
      "Connected.\n",
      "Connected.\n",
      "Connected.\n",
      "Connected.\n",
      "Connected.\n",
      "Connected.\n",
      "Connected.\n"
     ]
    }
   ],
   "source": [
    "g0.inn(0) * g1.out(0) ; g1.inn(0) * g2.out(0) ; g2.inn(0) * g3.out(0) ; g3.inn(0) * g4.out(0); g4.inn(0) * g5.out(0) ; g5.inn(0) * g6.out(0)\n",
    "g6.inn(0) * g7.out(0) ; g7.inn(0) * g0.out(0)"
   ]
  },
  {
   "cell_type": "code",
   "execution_count": 21,
   "id": "a3663e35",
   "metadata": {},
   "outputs": [
    {
     "name": "stdout",
     "output_type": "stream",
     "text": [
      "tensor g clone 0 has been added.\n",
      "tensor g clone 1 has been added.\n",
      "tensor g clone 2 has been added.\n",
      "tensor g clone 3 has been added.\n",
      "tensor g clone 4 has been added.\n",
      "tensor g clone 5 has been added.\n",
      "tensor g clone 6 has been added.\n",
      "tensor g clone 7 has been added.\n"
     ]
    }
   ],
   "source": [
    "tensornetworks = rtni.tensornetworks([g0, g1, g2, g3, g4, g5, g6, g7])"
   ]
  },
  {
   "cell_type": "code",
   "execution_count": 22,
   "id": "8564ea44",
   "metadata": {},
   "outputs": [
    {
     "name": "stdout",
     "output_type": "stream",
     "text": [
      "Integrated. We now have 105 tensor networks.\n",
      "\n"
     ]
    },
    {
     "data": {
      "text/latex": [
       "$\\displaystyle k^{4} m + 6 k^{3} m^{2} + 6 k^{3} m + 6 k^{2} m^{3} + 17 k^{2} m^{2} + 21 k^{2} m + k m^{4} + 6 k m^{3} + 21 k m^{2} + 20 k m$"
      ],
      "text/plain": [
       "k**4*m + 6*k**3*m**2 + 6*k**3*m + 6*k**2*m**3 + 17*k**2*m**2 + 21*k**2*m + k*m**4 + 6*k*m**3 + 21*k*m**2 + 20*k*m"
      ]
     },
     "metadata": {},
     "output_type": "display_data"
    },
    {
     "name": "stdout",
     "output_type": "stream",
     "text": [
      "k^{4} m + 6 k^{3} m^{2} + 6 k^{3} m + 6 k^{2} m^{3} + 17 k^{2} m^{2} + 21 k^{2} m + k m^{4} + 6 k m^{3} + 21 k m^{2} + 20 k m\n"
     ]
    }
   ],
   "source": [
    "tensornetworks_copy = tensornetworks.copy()\n",
    "tensornetworks_copy.integrate('g', 'real_gaussian')\n",
    "tex = sum_all(tensornetworks_copy)\n",
    "print(tex)"
   ]
  },
  {
   "cell_type": "code",
   "execution_count": 23,
   "id": "028106b6",
   "metadata": {},
   "outputs": [
    {
     "name": "stdout",
     "output_type": "stream",
     "text": [
      "Integrated. We now have 24 tensor networks.\n",
      "\n"
     ]
    },
    {
     "data": {
      "text/latex": [
       "$\\displaystyle k^{4} m + 6 k^{3} m^{2} + 6 k^{2} m^{3} + 5 k^{2} m + k m^{4} + 5 k m^{2}$"
      ],
      "text/plain": [
       "k**4*m + 6*k**3*m**2 + 6*k**2*m**3 + 5*k**2*m + k*m**4 + 5*k*m**2"
      ]
     },
     "metadata": {},
     "output_type": "display_data"
    },
    {
     "name": "stdout",
     "output_type": "stream",
     "text": [
      "k^{4} m + 6 k^{3} m^{2} + 6 k^{2} m^{3} + 5 k^{2} m + k m^{4} + 5 k m^{2}\n"
     ]
    }
   ],
   "source": [
    "tensornetworks_copy = tensornetworks.copy()\n",
    "tensornetworks_copy.integrate('g', 'complex_gaussian')\n",
    "tex = sum_all(tensornetworks_copy)\n",
    "print(tex)"
   ]
  },
  {
   "cell_type": "code",
   "execution_count": null,
   "id": "58b2f5bd",
   "metadata": {},
   "outputs": [],
   "source": []
  },
  {
   "cell_type": "markdown",
   "id": "28035c57",
   "metadata": {},
   "source": [
    "## k=5"
   ]
  },
  {
   "cell_type": "code",
   "execution_count": 24,
   "id": "983a2fbc",
   "metadata": {},
   "outputs": [],
   "source": [
    "g0 =  rtni.matrix(name='g', dims=[[k],[m]])\n",
    "g1 = g0.clone()\n",
    "g1.adjoint()\n",
    "g2 = g0.clone()\n",
    "g3 = g0.clone()\n",
    "g3.adjoint()\n",
    "g4 = g0.clone()\n",
    "g5 = g0.clone()\n",
    "g5.adjoint()\n",
    "g6 = g0.clone()\n",
    "g7 = g0.clone()\n",
    "g7.adjoint()\n",
    "g8 = g0.clone()\n",
    "g9 = g0.clone()\n",
    "g9.adjoint()"
   ]
  },
  {
   "cell_type": "code",
   "execution_count": 25,
   "id": "0b6b2eb1",
   "metadata": {},
   "outputs": [
    {
     "name": "stdout",
     "output_type": "stream",
     "text": [
      "Connected.\n",
      "Connected.\n",
      "Connected.\n",
      "Connected.\n",
      "Connected.\n",
      "Connected.\n",
      "Connected.\n",
      "Connected.\n",
      "Connected.\n",
      "Connected.\n"
     ]
    }
   ],
   "source": [
    "g0.inn(0) * g1.out(0) ; g1.inn(0) * g2.out(0) ; g2.inn(0) * g3.out(0) ; g3.inn(0) * g4.out(0); g4.inn(0) * g5.out(0) ; g5.inn(0) * g6.out(0)\n",
    "g6.inn(0) * g7.out(0) ; g7.inn(0) * g8.out(0); g8.inn(0) * g9.out(0) ; g9.inn(0) * g0.out(0)"
   ]
  },
  {
   "cell_type": "code",
   "execution_count": 26,
   "id": "32489102",
   "metadata": {},
   "outputs": [
    {
     "name": "stdout",
     "output_type": "stream",
     "text": [
      "tensor g clone 0 has been added.\n",
      "tensor g clone 1 has been added.\n",
      "tensor g clone 2 has been added.\n",
      "tensor g clone 3 has been added.\n",
      "tensor g clone 4 has been added.\n",
      "tensor g clone 5 has been added.\n",
      "tensor g clone 6 has been added.\n",
      "tensor g clone 7 has been added.\n",
      "tensor g clone 8 has been added.\n",
      "tensor g clone 9 has been added.\n"
     ]
    }
   ],
   "source": [
    "tensornetworks = rtni.tensornetworks([g0, g1, g2, g3, g4, g5, g6, g7, g8, g9])"
   ]
  },
  {
   "cell_type": "code",
   "execution_count": 27,
   "id": "8da25617",
   "metadata": {},
   "outputs": [
    {
     "name": "stdout",
     "output_type": "stream",
     "text": [
      "Integrated. We now have 945 tensor networks.\n",
      "\n"
     ]
    },
    {
     "data": {
      "text/latex": [
       "$\\displaystyle k^{5} m + 10 k^{4} m^{2} + 10 k^{4} m + 20 k^{3} m^{3} + 55 k^{3} m^{2} + 65 k^{3} m + 10 k^{2} m^{4} + 55 k^{2} m^{3} + 175 k^{2} m^{2} + 160 k^{2} m + k m^{5} + 10 k m^{4} + 65 k m^{3} + 160 k m^{2} + 148 k m$"
      ],
      "text/plain": [
       "k**5*m + 10*k**4*m**2 + 10*k**4*m + 20*k**3*m**3 + 55*k**3*m**2 + 65*k**3*m + 10*k**2*m**4 + 55*k**2*m**3 + 175*k**2*m**2 + 160*k**2*m + k*m**5 + 10*k*m**4 + 65*k*m**3 + 160*k*m**2 + 148*k*m"
      ]
     },
     "metadata": {},
     "output_type": "display_data"
    },
    {
     "name": "stdout",
     "output_type": "stream",
     "text": [
      "k^{5} m + 10 k^{4} m^{2} + 10 k^{4} m + 20 k^{3} m^{3} + 55 k^{3} m^{2} + 65 k^{3} m + 10 k^{2} m^{4} + 55 k^{2} m^{3} + 175 k^{2} m^{2} + 160 k^{2} m + k m^{5} + 10 k m^{4} + 65 k m^{3} + 160 k m^{2} + 148 k m\n"
     ]
    }
   ],
   "source": [
    "tensornetworks_copy = tensornetworks.copy()\n",
    "tensornetworks_copy.integrate('g', 'real_gaussian')\n",
    "tex = sum_all(tensornetworks_copy)\n",
    "print(tex)"
   ]
  },
  {
   "cell_type": "code",
   "execution_count": 28,
   "id": "f92cf404",
   "metadata": {},
   "outputs": [
    {
     "name": "stdout",
     "output_type": "stream",
     "text": [
      "Integrated. We now have 120 tensor networks.\n",
      "\n"
     ]
    },
    {
     "data": {
      "text/latex": [
       "$\\displaystyle k^{5} m + 10 k^{4} m^{2} + 20 k^{3} m^{3} + 15 k^{3} m + 10 k^{2} m^{4} + 40 k^{2} m^{2} + k m^{5} + 15 k m^{3} + 8 k m$"
      ],
      "text/plain": [
       "k**5*m + 10*k**4*m**2 + 20*k**3*m**3 + 15*k**3*m + 10*k**2*m**4 + 40*k**2*m**2 + k*m**5 + 15*k*m**3 + 8*k*m"
      ]
     },
     "metadata": {},
     "output_type": "display_data"
    },
    {
     "name": "stdout",
     "output_type": "stream",
     "text": [
      "k^{5} m + 10 k^{4} m^{2} + 20 k^{3} m^{3} + 15 k^{3} m + 10 k^{2} m^{4} + 40 k^{2} m^{2} + k m^{5} + 15 k m^{3} + 8 k m\n"
     ]
    }
   ],
   "source": [
    "tensornetworks_copy = tensornetworks.copy()\n",
    "tensornetworks_copy.integrate('g', 'complex_gaussian')\n",
    "tex = sum_all(tensornetworks_copy)\n",
    "print(tex)"
   ]
  },
  {
   "cell_type": "code",
   "execution_count": null,
   "id": "19fbdb83",
   "metadata": {},
   "outputs": [],
   "source": []
  }
 ],
 "metadata": {
  "kernelspec": {
   "display_name": "Python 3 (ipykernel)",
   "language": "python",
   "name": "python3"
  },
  "language_info": {
   "codemirror_mode": {
    "name": "ipython",
    "version": 3
   },
   "file_extension": ".py",
   "mimetype": "text/x-python",
   "name": "python",
   "nbconvert_exporter": "python",
   "pygments_lexer": "ipython3",
   "version": "3.11.5"
  }
 },
 "nbformat": 4,
 "nbformat_minor": 5
}
